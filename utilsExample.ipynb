{
 "cells": [
  {
   "cell_type": "code",
   "execution_count": 3,
   "metadata": {},
   "outputs": [],
   "source": [
    "%load_ext autoreload\n",
    "%autoreload 2\n",
    "\n",
    "from utils import BraketTaskScanner, DeviceUtils\n",
    "\n",
    "# AWS imports: Import Braket SDK modules\n",
    "from braket.circuits import Circuit, Gate, Instruction, circuit, Observable\n",
    "from braket.devices import LocalSimulator\n",
    "from braket.aws import AwsDevice ,AwsQuantumTask\n",
    "import numpy as np"
   ]
  },
  {
   "cell_type": "code",
   "execution_count": 6,
   "metadata": {},
   "outputs": [
    {
     "name": "stdout",
     "output_type": "stream",
     "text": [
      "RIGETTI\n",
      "COMPLETED\n"
     ]
    },
    {
     "data": {
      "text/plain": [
       "['rx', 'rz', 'cz', 'cphaseshift', 'xy']"
      ]
     },
     "execution_count": 6,
     "metadata": {},
     "output_type": "execute_result"
    }
   ],
   "source": [
    "lucy_task_id = \"arn:aws:braket:eu-west-2:058017682654:quantum-task/a2b43a8e-3e5e-4776-bfc4-39ae0cb9a986\" \n",
    "rigetti_task_id = \"arn:aws:braket:us-west-1:058017682654:quantum-task/dc85f6e1-e1f7-48e6-9c65-7627f3b203c2\"\n",
    "task = AwsQuantumTask(arn = lucy_task_id)\n",
    "\n",
    "scanner = BraketTaskScanner(rigetti_task_id)\n",
    "\n",
    "print(scanner.get_task_type())\n",
    "print(scanner.get_status())\n",
    "\n",
    "#print(scanner.get_circuit())\n",
    "#print(scanner.get_compiled_circuit())\n",
    "\n",
    "scanner.get_device_native_gates()"
   ]
  },
  {
   "cell_type": "code",
   "execution_count": 7,
   "metadata": {},
   "outputs": [
    {
     "name": "stdout",
     "output_type": "stream",
     "text": [
      "['GPI', 'GPI2', 'MS']\n",
      "['x', 'y', 'z', 'rx', 'ry', 'rz', 'h', 'cnot', 's', 'si', 't', 'ti', 'v', 'vi', 'xx', 'yy', 'zz', 'swap', 'i']\n"
     ]
    }
   ],
   "source": [
    "from utils import DeviceScanner\n",
    "\n",
    "\n",
    "device = DeviceUtils.get_device(\"ionq\")\n",
    "scanner = DeviceScanner(device=device)\n",
    "\n",
    "print(scanner.get_native_gates() )\n",
    "print(scanner.get_supported_gates() )"
   ]
  },
  {
   "cell_type": "code",
   "execution_count": null,
   "metadata": {},
   "outputs": [],
   "source": []
  }
 ],
 "metadata": {
  "kernelspec": {
   "display_name": "Python 3 (ipykernel)",
   "language": "python",
   "name": "python3"
  },
  "language_info": {
   "codemirror_mode": {
    "name": "ipython",
    "version": 3
   },
   "file_extension": ".py",
   "mimetype": "text/x-python",
   "name": "python",
   "nbconvert_exporter": "python",
   "pygments_lexer": "ipython3",
   "version": "3.10.6"
  },
  "vscode": {
   "interpreter": {
    "hash": "06a09a513f3adf51d034e4cd7b61d73f339a24b03a0e983ba85455000b9be146"
   }
  }
 },
 "nbformat": 4,
 "nbformat_minor": 2
}
