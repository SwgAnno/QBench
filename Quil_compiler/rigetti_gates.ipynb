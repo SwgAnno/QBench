{
 "cells": [
  {
   "cell_type": "code",
   "execution_count": 15,
   "metadata": {},
   "outputs": [
    {
     "name": "stdout",
     "output_type": "stream",
     "text": [
      "The autoreload extension is already loaded. To reload it, use:\n",
      "  %reload_ext autoreload\n",
      "The autoreload extension is already loaded. To reload it, use:\n",
      "  %reload_ext autoreload\n"
     ]
    },
    {
     "ename": "ModuleNotFoundError",
     "evalue": "No module named 'quil_utils'",
     "output_type": "error",
     "traceback": [
      "\u001b[0;31m---------------------------------------------------------------------------\u001b[0m",
      "\u001b[0;31mModuleNotFoundError\u001b[0m                       Traceback (most recent call last)",
      "\u001b[0;32m<ipython-input-15-4f7e1aed9938>\u001b[0m in \u001b[0;36m<module>\u001b[0;34m\u001b[0m\n\u001b[1;32m     22\u001b[0m \u001b[0;32mfrom\u001b[0m \u001b[0mutils_qft\u001b[0m \u001b[0;32mimport\u001b[0m \u001b[0;34m*\u001b[0m\u001b[0;34m\u001b[0m\u001b[0;34m\u001b[0m\u001b[0m\n\u001b[1;32m     23\u001b[0m \u001b[0;34m\u001b[0m\u001b[0m\n\u001b[0;32m---> 24\u001b[0;31m \u001b[0;32mfrom\u001b[0m \u001b[0mquil_utils\u001b[0m \u001b[0;32mimport\u001b[0m \u001b[0mprint_db\u001b[0m\u001b[0;34m,\u001b[0m\u001b[0mtranspile_quil_to_braket\u001b[0m\u001b[0;34m\u001b[0m\u001b[0;34m\u001b[0m\u001b[0m\n\u001b[0m\u001b[1;32m     25\u001b[0m \u001b[0;32mfrom\u001b[0m \u001b[0mpyquil\u001b[0m\u001b[0;34m.\u001b[0m\u001b[0mquil\u001b[0m \u001b[0;32mimport\u001b[0m \u001b[0mPragma\u001b[0m\u001b[0;34m,\u001b[0m \u001b[0mProgram\u001b[0m\u001b[0;34m\u001b[0m\u001b[0;34m\u001b[0m\u001b[0m\n\u001b[1;32m     26\u001b[0m \u001b[0;32mfrom\u001b[0m \u001b[0mpyquil\u001b[0m\u001b[0;34m.\u001b[0m\u001b[0mapi\u001b[0m \u001b[0;32mimport\u001b[0m \u001b[0mget_qc\u001b[0m\u001b[0;34m\u001b[0m\u001b[0;34m\u001b[0m\u001b[0m\n",
      "\u001b[0;31mModuleNotFoundError\u001b[0m: No module named 'quil_utils'"
     ]
    }
   ],
   "source": [
    "#Compilation of triangle pattern\n",
    "\n",
    "%load_ext autoreload\n",
    "%autoreload 2\n",
    "\n",
    "# general imports\n",
    "import numpy as np\n",
    "import math\n",
    "import matplotlib.pyplot as plt\n",
    "# magic word for producing visualizations in notebook\n",
    "%matplotlib inline\n",
    "\n",
    "# AWS imports: Import Braket SDK modules\n",
    "from braket.circuits import Circuit, Gate, Instruction, circuit, Observable\n",
    "from braket.devices import LocalSimulator\n",
    "from braket.aws import AwsDevice\n",
    "from braket.device_schema.device_action_properties import DeviceActionType\n",
    "import numpy as np\n",
    "\n",
    "%load_ext autoreload\n",
    "from utils import Plotter, DeviceUtils, BraketTaskScanner, DeviceScanner\n",
    "from utils_qft import *\n",
    "\n"
   ]
  },
  {
   "cell_type": "code",
   "execution_count": 4,
   "metadata": {},
   "outputs": [
    {
     "name": "stdout",
     "output_type": "stream",
     "text": [
      "T  : |0|1|2|\n",
      "            \n",
      "q0 : -C---X-\n",
      "      |   | \n",
      "q1 : -X-C-|-\n",
      "        | | \n",
      "q2 : ---X-C-\n",
      "\n",
      "T  : |0|1|2|\n"
     ]
    }
   ],
   "source": [
    "tri = Circuit()\n",
    "\n",
    "tri.cnot(0,1).cnot(1,2).cnot(2,0)\n",
    "\n",
    "print(tri)"
   ]
  },
  {
   "cell_type": "markdown",
   "metadata": {},
   "source": [
    "#Circuit computes a strange function\n",
    "\n",
    "f(i,j,k) = (j+k, i+j, i+j+k)"
   ]
  },
  {
   "cell_type": "code",
   "execution_count": 5,
   "metadata": {},
   "outputs": [
    {
     "ename": "AttributeError",
     "evalue": "'Circuit' object has no attribute 'integer_input'",
     "output_type": "error",
     "traceback": [
      "\u001b[0;31m---------------------------------------------------------------------------\u001b[0m",
      "\u001b[0;31mAttributeError\u001b[0m                            Traceback (most recent call last)",
      "\u001b[0;32m<ipython-input-5-5f16cd3450ef>\u001b[0m in \u001b[0;36m<module>\u001b[0;34m\u001b[0m\n\u001b[1;32m      4\u001b[0m \u001b[0;32mfor\u001b[0m \u001b[0mi\u001b[0m \u001b[0;32min\u001b[0m \u001b[0mrange\u001b[0m\u001b[0;34m(\u001b[0m\u001b[0;36m2\u001b[0m\u001b[0;34m**\u001b[0m\u001b[0mn_qubits\u001b[0m\u001b[0;34m)\u001b[0m\u001b[0;34m:\u001b[0m\u001b[0;34m\u001b[0m\u001b[0;34m\u001b[0m\u001b[0m\n\u001b[1;32m      5\u001b[0m     \u001b[0mtest_circ\u001b[0m \u001b[0;34m=\u001b[0m \u001b[0mCircuit\u001b[0m\u001b[0;34m(\u001b[0m\u001b[0;34m)\u001b[0m\u001b[0;34m\u001b[0m\u001b[0;34m\u001b[0m\u001b[0m\n\u001b[0;32m----> 6\u001b[0;31m     \u001b[0mtest_circ\u001b[0m\u001b[0;34m.\u001b[0m\u001b[0minteger_input\u001b[0m\u001b[0;34m(\u001b[0m\u001b[0mrange\u001b[0m\u001b[0;34m(\u001b[0m\u001b[0mn_qubits\u001b[0m\u001b[0;34m)\u001b[0m\u001b[0;34m,\u001b[0m\u001b[0mi\u001b[0m\u001b[0;34m)\u001b[0m\u001b[0;34m.\u001b[0m\u001b[0madd\u001b[0m\u001b[0;34m(\u001b[0m\u001b[0mtri\u001b[0m\u001b[0;34m)\u001b[0m\u001b[0;34m\u001b[0m\u001b[0;34m\u001b[0m\u001b[0m\n\u001b[0m\u001b[1;32m      7\u001b[0m \u001b[0;34m\u001b[0m\u001b[0m\n\u001b[1;32m      8\u001b[0m     \u001b[0;31m#print(test_circ)\u001b[0m\u001b[0;34m\u001b[0m\u001b[0;34m\u001b[0m\u001b[0;34m\u001b[0m\u001b[0m\n",
      "\u001b[0;31mAttributeError\u001b[0m: 'Circuit' object has no attribute 'integer_input'"
     ]
    }
   ],
   "source": [
    "device = LocalSimulator()\n",
    "n_qubits = 3\n",
    "\n",
    "for i in range(2**n_qubits):\n",
    "    test_circ = Circuit()\n",
    "    test_circ.integer_input(range(n_qubits),i).add(tri)\n",
    "\n",
    "    #print(test_circ)\n",
    "\n",
    "    results = device.run(test_circ, shots = 1000).result()\n",
    "\n",
    "    print(format(i, \"0\"+ str(n_qubits) +\"b\"), results.measurement_counts)"
   ]
  },
  {
   "cell_type": "code",
   "execution_count": 28,
   "metadata": {},
   "outputs": [
    {
     "name": "stdout",
     "output_type": "stream",
     "text": [
      "T  : |0|1|2|3|\n",
      "              \n",
      "q0 : -X-C---X-\n",
      "        |   | \n",
      "q1 : ---X-C-|-\n",
      "          | | \n",
      "q2 : -----X-C-\n",
      "\n",
      "T  : |0|1|2|3|\n",
      "arn:aws:braket:us-west-1:058017682654:quantum-task/03e0c450-de0a-426f-b75b-ffdc0a399f84\n"
     ]
    }
   ],
   "source": [
    "test_circ = Circuit().integer_input(range(n_qubits), 4).add(tri)\n",
    "print(test_circ)\n",
    "\n",
    "#device = DeviceUtils.get_device(\"rigetti\")\n",
    "\n",
    "qtask = device.run(test_circ, shots = 100)\n",
    "\n",
    "print(qtask._arn)"
   ]
  },
  {
   "cell_type": "code",
   "execution_count": 1,
   "metadata": {},
   "outputs": [
    {
     "ename": "NameError",
     "evalue": "name 'test_circ' is not defined",
     "output_type": "error",
     "traceback": [
      "\u001b[0;31m---------------------------------------------------------------------------\u001b[0m",
      "\u001b[0;31mNameError\u001b[0m                                 Traceback (most recent call last)",
      "Cell \u001b[0;32mIn [1], line 1\u001b[0m\n\u001b[0;32m----> 1\u001b[0m \u001b[43mtest_circ\u001b[49m\u001b[38;5;241m.\u001b[39mas_unitary()\n",
      "\u001b[0;31mNameError\u001b[0m: name 'test_circ' is not defined"
     ]
    }
   ],
   "source": [
    "test_circ.as_unitary()"
   ]
  },
  {
   "cell_type": "code",
   "execution_count": 6,
   "metadata": {},
   "outputs": [
    {
     "name": "stdout",
     "output_type": "stream",
     "text": [
      "COMPLETED\n",
      "0.3350000000\n"
     ]
    }
   ],
   "source": [
    "tri_task = \"arn:aws:braket:us-west-1:058017682654:quantum-task/f9ea5908-23da-4231-92da-c5ba2ff159fe\"\n",
    "\n",
    "scanner = BraketTaskScanner(task_arn = tri_task)\n",
    "\n",
    "print(scanner.get_status())\n",
    "print(scanner.cost_extimate())"
   ]
  },
  {
   "cell_type": "code",
   "execution_count": 8,
   "metadata": {},
   "outputs": [
    {
     "name": "stdout",
     "output_type": "stream",
     "text": [
      "OPENQASM 3.0;\n",
      "bit[3] b;\n",
      "qubit[3] q;\n",
      "x q[0];\n",
      "cnot q[0], q[1];\n",
      "cnot q[1], q[2];\n",
      "cnot q[2], q[0];\n",
      "b[0] = measure q[0];\n",
      "b[1] = measure q[1];\n",
      "b[2] = measure q[2];\n",
      "####################\n",
      "DECLARE ro BIT[3]\n",
      "PRAGMA INITIAL_REWIRING \"PARTIAL\"\n",
      "RESET\n",
      "RZ(-0.8876671289692497) 121\n",
      "RX(pi/2) 121\n",
      "RZ(pi) 121\n",
      "RX(-pi/2) 121\n",
      "RZ(3.824721851415454) 121\n",
      "RZ(-pi/2) 122\n",
      "RX(pi/2) 122\n",
      "RZ(pi/2) 122\n",
      "CZ 121 122\n",
      "RZ(-3*pi/2) 122\n",
      "RX(pi/2) 122\n",
      "RZ(4.499986097998033) 122\n",
      "RZ(-3*pi/2) 135\n",
      "RX(pi/2) 135\n",
      "RZ(1.7831992091815552) 135\n",
      "XY(pi) 122 135\n",
      "RZ(-pi) 121\n",
      "RX(pi/2) 121\n",
      "RZ(0.4228621372751338) 121\n",
      "RZ(-3.353995535976452) 122\n",
      "RX(pi/2) 122\n",
      "RZ(5.8603231699044525) 122\n",
      "CZ 121 122\n",
      "RZ(-0.42286213727513333) 121\n",
      "RX(pi/2) 121\n",
      "RZ(pi/2) 121\n",
      "RZ(0.23141367370929844) 122\n",
      "RX(pi/2) 122\n",
      "RZ(pi) 122\n",
      "RX(-pi/2) 122\n",
      "RZ(1.3793478632290612) 122\n",
      "RZ(-1.358393444408237) 135\n",
      "MEASURE 122 ro[2]\n",
      "MEASURE 135 ro[1]\n",
      "MEASURE 121 ro[0]\n",
      "\n"
     ]
    }
   ],
   "source": [
    "device_s = DeviceScanner(device = scanner.get_device())\n",
    "\n",
    "#device_s.plot_topology()\n",
    "\n",
    "print(scanner.get_circuit())\n",
    "print(\"####################\")\n",
    "print(scanner.get_compiled_circuit())"
   ]
  },
  {
   "cell_type": "code",
   "execution_count": 11,
   "metadata": {},
   "outputs": [
    {
     "name": "stdout",
     "output_type": "stream",
     "text": [
      "T  : |0|1|2|3|\n",
      "              \n",
      "q0 : -X-C---X-\n",
      "        |   | \n",
      "q1 : ---X-C-|-\n",
      "          | | \n",
      "q2 : -----X-C-\n",
      "\n",
      "T  : |0|1|2|3|\n"
     ]
    }
   ],
   "source": [
    "test_circ = Circuit().x(0).add(tri)\n",
    "print(test_circ)"
   ]
  },
  {
   "cell_type": "code",
   "execution_count": 14,
   "metadata": {},
   "outputs": [
    {
     "name": "stdout",
     "output_type": "stream",
     "text": [
      "array([[0.+0.j, 1.+0.j, 0.+0.j, 0.+0.j, 0.+0.j, 0.+0.j, 0.+0.j, 0.+0.j],\n",
      "       [0.+0.j, 0.+0.j, 1.+0.j, 0.+0.j, 0.+0.j, 0.+0.j, 0.+0.j, 0.+0.j],\n",
      "       [0.+0.j, 0.+0.j, 0.+0.j, 0.+0.j, 0.+0.j, 0.+0.j, 0.+0.j, 1.+0.j],\n",
      "       [0.+0.j, 0.+0.j, 0.+0.j, 0.+0.j, 1.+0.j, 0.+0.j, 0.+0.j, 0.+0.j],\n",
      "       [0.+0.j, 0.+0.j, 0.+0.j, 0.+0.j, 0.+0.j, 0.+0.j, 1.+0.j, 0.+0.j],\n",
      "       [0.+0.j, 0.+0.j, 0.+0.j, 0.+0.j, 0.+0.j, 1.+0.j, 0.+0.j, 0.+0.j],\n",
      "       [1.+0.j, 0.+0.j, 0.+0.j, 0.+0.j, 0.+0.j, 0.+0.j, 0.+0.j, 0.+0.j],\n",
      "       [0.+0.j, 0.+0.j, 0.+0.j, 1.+0.j, 0.+0.j, 0.+0.j, 0.+0.j, 0.+0.j]])\n"
     ]
    }
   ],
   "source": [
    "import pprint\n",
    "pprint.pprint(test_circ.as_unitary())"
   ]
  }
 ],
 "metadata": {
  "kernelspec": {
   "display_name": "Qbench_kernel",
   "language": "python",
   "name": "qbench_kernel"
  },
  "language_info": {
   "codemirror_mode": {
    "name": "ipython",
    "version": 3
   },
   "file_extension": ".py",
   "mimetype": "text/x-python",
   "name": "python",
   "nbconvert_exporter": "python",
   "pygments_lexer": "ipython3",
   "version": "3.7.12"
  },
  "vscode": {
   "interpreter": {
    "hash": "06a09a513f3adf51d034e4cd7b61d73f339a24b03a0e983ba85455000b9be146"
   }
  }
 },
 "nbformat": 4,
 "nbformat_minor": 2
}
