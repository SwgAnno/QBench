{
 "cells": [
  {
   "cell_type": "code",
   "execution_count": 2,
   "id": "806de044",
   "metadata": {},
   "outputs": [],
   "source": [
    "%reload_ext autoreload\n",
    "\n",
    "# general imports\n",
    "import numpy as np\n",
    "import math\n",
    "import matplotlib.pyplot as plt\n",
    "# magic word for producing visualizations in notebook\n",
    "%matplotlib inline\n",
    "\n",
    "# AWS imports: Import Braket SDK modules\n",
    "from braket.circuits import Circuit, Gate, Instruction, circuit, Observable\n",
    "from braket.devices import LocalSimulator\n",
    "from braket.aws import AwsDevice\n",
    "from braket.device_schema.device_action_properties import DeviceActionType\n",
    "import numpy as np\n",
    "\n",
    "\n",
    "# from qiskit.visualization.timeline import draw\n"
   ]
  },
  {
   "cell_type": "code",
   "execution_count": 46,
   "id": "19b50f5e",
   "metadata": {},
   "outputs": [],
   "source": [
    "circ=Circuit()"
   ]
  },
  {
   "cell_type": "code",
   "execution_count": 47,
   "id": "39725494",
   "metadata": {},
   "outputs": [
    {
     "data": {
      "text/plain": [
       "-140.152423234383"
      ]
     },
     "execution_count": 47,
     "metadata": {},
     "output_type": "execute_result"
    }
   ],
   "source": [
    "(-2.446121240088584/np.pi)*180"
   ]
  },
  {
   "cell_type": "code",
   "execution_count": 48,
   "id": "8dd22624",
   "metadata": {},
   "outputs": [
    {
     "data": {
      "text/plain": [
       "Circuit('instructions': [Instruction('operator': Rz('angle': -2.446121240088584, 'qubit_count': 1), 'target': QubitSet([Qubit(0)])), Instruction('operator': Rx('angle': 1.5707963267948966, 'qubit_count': 1), 'target': QubitSet([Qubit(0)])), Instruction('operator': Rz('angle': 3.141592653589793, 'qubit_count': 1), 'target': QubitSet([Qubit(0)])), Instruction('operator': Rx('angle': -1.5707963267948966, 'qubit_count': 1), 'target': QubitSet([Qubit(0)])), Instruction('operator': Rz('angle': -2.446121240088584, 'qubit_count': 1), 'target': QubitSet([Qubit(0)]))])"
      ]
     },
     "execution_count": 48,
     "metadata": {},
     "output_type": "execute_result"
    }
   ],
   "source": [
    "circ.rz(0,-2.446121240088584).rx(0,np.pi/2).rz(0,np.pi).rx(0,-np.pi/2).rz(0,-2.446121240088584)"
   ]
  },
  {
   "cell_type": "code",
   "execution_count": 49,
   "id": "c04c2851",
   "metadata": {},
   "outputs": [
    {
     "data": {
      "text/plain": [
       "array([[ 0.+0.j, -1.+0.j],\n",
       "       [ 1.+0.j,  0.-0.j]])"
      ]
     },
     "execution_count": 49,
     "metadata": {},
     "output_type": "execute_result"
    }
   ],
   "source": [
    "np.round(circ.as_unitary(),1)"
   ]
  },
  {
   "cell_type": "code",
   "execution_count": null,
   "id": "bc20116d",
   "metadata": {},
   "outputs": [],
   "source": []
  }
 ],
 "metadata": {
  "kernelspec": {
   "display_name": "Qbench_kernel",
   "language": "python",
   "name": "qbench_kernel"
  },
  "language_info": {
   "codemirror_mode": {
    "name": "ipython",
    "version": 3
   },
   "file_extension": ".py",
   "mimetype": "text/x-python",
   "name": "python",
   "nbconvert_exporter": "python",
   "pygments_lexer": "ipython3",
   "version": "3.7.12"
  }
 },
 "nbformat": 4,
 "nbformat_minor": 5
}
