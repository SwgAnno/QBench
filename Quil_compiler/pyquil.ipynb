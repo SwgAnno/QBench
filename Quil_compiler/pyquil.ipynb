{
 "cells": [
  {
   "cell_type": "markdown",
   "metadata": {},
   "source": [
    "# Examlpe from Pyquil documentation page"
   ]
  },
  {
   "cell_type": "code",
   "execution_count": 15,
   "metadata": {},
   "outputs": [
    {
     "name": "stdout",
     "output_type": "stream",
     "text": [
      "aaaaa\n",
      "RZ(pi) 0\n",
      "RX(pi/2) 0\n",
      "RZ(pi/2) 0\n",
      "RX(-pi/2) 0\n",
      "RX(pi/2) 1\n",
      "RZ(pi/2) 1\n",
      "RX(-pi/2) 1\n",
      "CZ 1 0\n",
      "RZ(pi) 1\n",
      "RX(pi/2) 1\n",
      "RZ(pi/2) 1\n",
      "RX(-pi/2) 1\n",
      "RZ(-pi) 1\n",
      "RX(pi/2) 2\n",
      "RZ(pi/2) 2\n",
      "RX(-pi/2) 2\n",
      "CZ 2 1\n",
      "RZ(pi) 0\n",
      "RZ(pi) 1\n",
      "RZ(pi) 2\n",
      "RX(pi/2) 2\n",
      "RZ(pi/2) 2\n",
      "RX(-pi/2) 2\n",
      "RZ(-pi) 2\n",
      "HALT\n",
      "\n"
     ]
    }
   ],
   "source": [
    "from pyquil.quil import Pragma, Program\n",
    "from pyquil.api import get_qc\n",
    "from pyquil.gates import CNOT, H\n",
    "\n",
    "qc = get_qc(\"6q-qvm\")\n",
    "ep = qc.compile(Program(H(0), CNOT(0,1), CNOT(1,2)))\n",
    "print(ep)"
   ]
  },
  {
   "cell_type": "code",
   "execution_count": null,
   "metadata": {},
   "outputs": [],
   "source": []
  }
 ],
 "metadata": {
  "kernelspec": {
   "display_name": "Python 3 (ipykernel)",
   "language": "python",
   "name": "python3"
  },
  "language_info": {
   "codemirror_mode": {
    "name": "ipython",
    "version": 3
   },
   "file_extension": ".py",
   "mimetype": "text/x-python",
   "name": "python",
   "nbconvert_exporter": "python",
   "pygments_lexer": "ipython3",
   "version": "3.10.6"
  },
  "vscode": {
   "interpreter": {
    "hash": "06a09a513f3adf51d034e4cd7b61d73f339a24b03a0e983ba85455000b9be146"
   }
  }
 },
 "nbformat": 4,
 "nbformat_minor": 2
}
