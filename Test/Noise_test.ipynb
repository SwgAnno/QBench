{
 "cells": [
  {
   "cell_type": "code",
   "execution_count": 1,
   "id": "a4c2ff3e",
   "metadata": {},
   "outputs": [],
   "source": [
    "%reload_ext autoreload\n",
    "import sys\n",
    "sys.path.append(\"../utils/\")\n",
    "\n",
    "# general imports\n",
    "import matplotlib.pyplot as plt\n",
    "%matplotlib inline\n",
    "\n",
    "# AWS imports: Import Braket SDK modules\n",
    "\n",
    "from braket.circuits import Circuit, Gate, Instruction, circuit, Observable,Qubit,QubitSet\n",
    "from braket.devices import LocalSimulator\n",
    "from braket.aws import AwsDevice\n",
    "import numpy as np\n",
    "\n",
    "import functools\n",
    "import time\n",
    "\n",
    "from utils import DeviceUtils,DeviceScanner,BraketTaskScanner,Plotter\n",
    "from hadamard_bench import *\n",
    "from pyquil import get_qc\n",
    "from quil_utils import *\n",
    "\n",
    "import json\n",
    "import pandas as pd\n",
    "import seaborn as sns\n",
    "\n",
    "from Noise_siumulator_Aspen_M2 import *"
   ]
  },
  {
   "cell_type": "code",
   "execution_count": 2,
   "id": "f68baca6",
   "metadata": {},
   "outputs": [],
   "source": [
    "%matplotlib inline\n",
    "import matplotlib as mpl\n",
    "mpl.rcParams['axes.titlesize'] = 16\n",
    "mpl.rcParams['axes.labelsize'] = 14\n",
    "mpl.rcParams['legend.fontsize'] = 12\n",
    "mpl.rcParams['xtick.labelsize'] = 12\n",
    "mpl.rcParams['ytick.labelsize'] = 12\n",
    "mpl.rcParams['axes.spines.right'] = False\n",
    "mpl.rcParams['axes.spines.top'] = False"
   ]
  },
  {
   "cell_type": "code",
   "execution_count": 3,
   "id": "bea66612",
   "metadata": {},
   "outputs": [],
   "source": [
    "circ = Circuit().H_line(2,2,'Rigetti')\n",
    "#circ = Circuit().add_verbatim_box(circ)"
   ]
  },
  {
   "cell_type": "code",
   "execution_count": 6,
   "id": "3251764e",
   "metadata": {
    "collapsed": true
   },
   "outputs": [
    {
     "name": "stdout",
     "output_type": "stream",
     "text": [
      "[Instruction('operator': Rz('angle': 1.5707963267948966, 'qubit_count': 1), 'target': QubitSet([Qubit(31)])), Instruction('operator': AmplitudeDamping(0.0005073871774623484), 'target': QubitSet([Qubit(31)])), Instruction('operator': PhaseDamping(0.000719402447616535), 'target': QubitSet([Qubit(31)])), Instruction('operator': Depolarizing(0.0007571980103950882), 'target': QubitSet([Qubit(31)])), Instruction('operator': Rx('angle': 1.5707963267948966, 'qubit_count': 1), 'target': QubitSet([Qubit(31)])), Instruction('operator': AmplitudeDamping(0.0005073871774623484), 'target': QubitSet([Qubit(31)])), Instruction('operator': PhaseDamping(0.000719402447616535), 'target': QubitSet([Qubit(31)])), Instruction('operator': Depolarizing(0.0007571980103950882), 'target': QubitSet([Qubit(31)])), Instruction('operator': Rz('angle': 1.5707963267948966, 'qubit_count': 1), 'target': QubitSet([Qubit(31)])), Instruction('operator': AmplitudeDamping(0.0005073871774623484), 'target': QubitSet([Qubit(31)])), Instruction('operator': PhaseDamping(0.000719402447616535), 'target': QubitSet([Qubit(31)])), Instruction('operator': Depolarizing(0.0007571980103950882), 'target': QubitSet([Qubit(31)])), Instruction('operator': Rz('angle': 3.141592653589793, 'qubit_count': 1), 'target': QubitSet([Qubit(34)])), Instruction('operator': AmplitudeDamping(0.0010231888983877058), 'target': QubitSet([Qubit(34)])), Instruction('operator': PhaseDamping(0.0030576203966656834), 'target': QubitSet([Qubit(34)])), Instruction('operator': Depolarizing(0.0), 'target': QubitSet([Qubit(34)])), Instruction('operator': Rx('angle': 1.5707963267948966, 'qubit_count': 1), 'target': QubitSet([Qubit(34)])), Instruction('operator': AmplitudeDamping(0.0010231888983877058), 'target': QubitSet([Qubit(34)])), Instruction('operator': PhaseDamping(0.0030576203966656834), 'target': QubitSet([Qubit(34)])), Instruction('operator': Depolarizing(0.0), 'target': QubitSet([Qubit(34)])), Instruction('operator': Rz('angle': 1.5707963267948966, 'qubit_count': 1), 'target': QubitSet([Qubit(34)])), Instruction('operator': AmplitudeDamping(0.0010231888983877058), 'target': QubitSet([Qubit(34)])), Instruction('operator': PhaseDamping(0.0030576203966656834), 'target': QubitSet([Qubit(34)])), Instruction('operator': Depolarizing(0.0), 'target': QubitSet([Qubit(34)])), Instruction('operator': Rx('angle': -1.5707963267948966, 'qubit_count': 1), 'target': QubitSet([Qubit(34)])), Instruction('operator': AmplitudeDamping(0.0010231888983877058), 'target': QubitSet([Qubit(34)])), Instruction('operator': PhaseDamping(0.0030576203966656834), 'target': QubitSet([Qubit(34)])), Instruction('operator': Depolarizing(0.0), 'target': QubitSet([Qubit(34)])), Instruction('operator': Rz('angle': 1.5707963267948966, 'qubit_count': 1), 'target': QubitSet([Qubit(31)])), Instruction('operator': AmplitudeDamping(0.0005073871774623484), 'target': QubitSet([Qubit(31)])), Instruction('operator': PhaseDamping(0.000719402447616535), 'target': QubitSet([Qubit(31)])), Instruction('operator': Depolarizing(0.0007571980103950882), 'target': QubitSet([Qubit(31)])), Instruction('operator': Rx('angle': 1.5707963267948966, 'qubit_count': 1), 'target': QubitSet([Qubit(31)])), Instruction('operator': AmplitudeDamping(0.0005073871774623484), 'target': QubitSet([Qubit(31)])), Instruction('operator': PhaseDamping(0.000719402447616535), 'target': QubitSet([Qubit(31)])), Instruction('operator': Depolarizing(0.0007571980103950882), 'target': QubitSet([Qubit(31)])), Instruction('operator': Rz('angle': 1.5707963267948966, 'qubit_count': 1), 'target': QubitSet([Qubit(31)])), Instruction('operator': AmplitudeDamping(0.0005073871774623484), 'target': QubitSet([Qubit(31)])), Instruction('operator': PhaseDamping(0.000719402447616535), 'target': QubitSet([Qubit(31)])), Instruction('operator': Depolarizing(0.0007571980103950882), 'target': QubitSet([Qubit(31)])), Instruction('operator': Rz('angle': 3.141592653589793, 'qubit_count': 1), 'target': QubitSet([Qubit(34)])), Instruction('operator': AmplitudeDamping(0.0010231888983877058), 'target': QubitSet([Qubit(34)])), Instruction('operator': PhaseDamping(0.0030576203966656834), 'target': QubitSet([Qubit(34)])), Instruction('operator': Depolarizing(0.0), 'target': QubitSet([Qubit(34)])), Instruction('operator': Rx('angle': 1.5707963267948966, 'qubit_count': 1), 'target': QubitSet([Qubit(34)])), Instruction('operator': AmplitudeDamping(0.0010231888983877058), 'target': QubitSet([Qubit(34)])), Instruction('operator': PhaseDamping(0.0030576203966656834), 'target': QubitSet([Qubit(34)])), Instruction('operator': Depolarizing(0.0), 'target': QubitSet([Qubit(34)])), Instruction('operator': Rz('angle': 1.5707963267948966, 'qubit_count': 1), 'target': QubitSet([Qubit(34)])), Instruction('operator': AmplitudeDamping(0.0010231888983877058), 'target': QubitSet([Qubit(34)])), Instruction('operator': PhaseDamping(0.0030576203966656834), 'target': QubitSet([Qubit(34)])), Instruction('operator': Depolarizing(0.0), 'target': QubitSet([Qubit(34)])), Instruction('operator': Rx('angle': -1.5707963267948966, 'qubit_count': 1), 'target': QubitSet([Qubit(34)])), Instruction('operator': AmplitudeDamping(0.0010231888983877058), 'target': QubitSet([Qubit(34)])), Instruction('operator': PhaseDamping(0.0030576203966656834), 'target': QubitSet([Qubit(34)])), Instruction('operator': Depolarizing(0.0), 'target': QubitSet([Qubit(34)]))]\n",
      "Instruction('operator': Rz('angle': 1.5707963267948966, 'qubit_count': 1), 'target': QubitSet([Qubit(31)]))\n",
      "[31]\n",
      "Instruction('operator': AmplitudeDamping(0.0005073871774623484), 'target': QubitSet([Qubit(31)]))\n",
      "[31]\n",
      "Instruction('operator': PhaseDamping(0.000719402447616535), 'target': QubitSet([Qubit(31)]))\n",
      "[31]\n",
      "Instruction('operator': Depolarizing(0.0007571980103950882), 'target': QubitSet([Qubit(31)]))\n",
      "[31]\n",
      "Instruction('operator': Rx('angle': 1.5707963267948966, 'qubit_count': 1), 'target': QubitSet([Qubit(31)]))\n",
      "[31]\n",
      "Instruction('operator': AmplitudeDamping(0.0005073871774623484), 'target': QubitSet([Qubit(31)]))\n",
      "[31]\n",
      "Instruction('operator': PhaseDamping(0.000719402447616535), 'target': QubitSet([Qubit(31)]))\n",
      "[31]\n",
      "Instruction('operator': Depolarizing(0.0007571980103950882), 'target': QubitSet([Qubit(31)]))\n",
      "[31]\n",
      "Instruction('operator': Rz('angle': 1.5707963267948966, 'qubit_count': 1), 'target': QubitSet([Qubit(31)]))\n",
      "[31]\n",
      "Instruction('operator': AmplitudeDamping(0.0005073871774623484), 'target': QubitSet([Qubit(31)]))\n",
      "[31]\n",
      "Instruction('operator': PhaseDamping(0.000719402447616535), 'target': QubitSet([Qubit(31)]))\n",
      "[31]\n",
      "Instruction('operator': Depolarizing(0.0007571980103950882), 'target': QubitSet([Qubit(31)]))\n",
      "[31]\n",
      "Instruction('operator': Rz('angle': 3.141592653589793, 'qubit_count': 1), 'target': QubitSet([Qubit(34)]))\n",
      "[34]\n",
      "Instruction('operator': AmplitudeDamping(0.0010231888983877058), 'target': QubitSet([Qubit(34)]))\n",
      "[34]\n",
      "Instruction('operator': PhaseDamping(0.0030576203966656834), 'target': QubitSet([Qubit(34)]))\n",
      "[34]\n",
      "Instruction('operator': Depolarizing(0.0), 'target': QubitSet([Qubit(34)]))\n",
      "[34]\n",
      "Instruction('operator': Rx('angle': 1.5707963267948966, 'qubit_count': 1), 'target': QubitSet([Qubit(34)]))\n",
      "[34]\n",
      "Instruction('operator': AmplitudeDamping(0.0010231888983877058), 'target': QubitSet([Qubit(34)]))\n",
      "[34]\n",
      "Instruction('operator': PhaseDamping(0.0030576203966656834), 'target': QubitSet([Qubit(34)]))\n",
      "[34]\n",
      "Instruction('operator': Depolarizing(0.0), 'target': QubitSet([Qubit(34)]))\n",
      "[34]\n",
      "Instruction('operator': Rz('angle': 1.5707963267948966, 'qubit_count': 1), 'target': QubitSet([Qubit(34)]))\n",
      "[34]\n",
      "Instruction('operator': AmplitudeDamping(0.0010231888983877058), 'target': QubitSet([Qubit(34)]))\n",
      "[34]\n",
      "Instruction('operator': PhaseDamping(0.0030576203966656834), 'target': QubitSet([Qubit(34)]))\n",
      "[34]\n",
      "Instruction('operator': Depolarizing(0.0), 'target': QubitSet([Qubit(34)]))\n",
      "[34]\n",
      "Instruction('operator': Rx('angle': -1.5707963267948966, 'qubit_count': 1), 'target': QubitSet([Qubit(34)]))\n",
      "[34]\n",
      "Instruction('operator': AmplitudeDamping(0.0010231888983877058), 'target': QubitSet([Qubit(34)]))\n",
      "[34]\n",
      "Instruction('operator': PhaseDamping(0.0030576203966656834), 'target': QubitSet([Qubit(34)]))\n",
      "[34]\n",
      "Instruction('operator': Depolarizing(0.0), 'target': QubitSet([Qubit(34)]))\n",
      "[34]\n",
      "Instruction('operator': Rz('angle': 1.5707963267948966, 'qubit_count': 1), 'target': QubitSet([Qubit(31)]))\n",
      "[31]\n",
      "Instruction('operator': AmplitudeDamping(0.0005073871774623484), 'target': QubitSet([Qubit(31)]))\n",
      "[31]\n",
      "Instruction('operator': PhaseDamping(0.000719402447616535), 'target': QubitSet([Qubit(31)]))\n",
      "[31]\n",
      "Instruction('operator': Depolarizing(0.0007571980103950882), 'target': QubitSet([Qubit(31)]))\n",
      "[31]\n",
      "Instruction('operator': Rx('angle': 1.5707963267948966, 'qubit_count': 1), 'target': QubitSet([Qubit(31)]))\n",
      "[31]\n",
      "Instruction('operator': AmplitudeDamping(0.0005073871774623484), 'target': QubitSet([Qubit(31)]))\n",
      "[31]\n",
      "Instruction('operator': PhaseDamping(0.000719402447616535), 'target': QubitSet([Qubit(31)]))\n",
      "[31]\n",
      "Instruction('operator': Depolarizing(0.0007571980103950882), 'target': QubitSet([Qubit(31)]))\n",
      "[31]\n",
      "Instruction('operator': Rz('angle': 1.5707963267948966, 'qubit_count': 1), 'target': QubitSet([Qubit(31)]))\n",
      "[31]\n",
      "Instruction('operator': AmplitudeDamping(0.0005073871774623484), 'target': QubitSet([Qubit(31)]))\n",
      "[31]\n",
      "Instruction('operator': PhaseDamping(0.000719402447616535), 'target': QubitSet([Qubit(31)]))\n",
      "[31]\n",
      "Instruction('operator': Depolarizing(0.0007571980103950882), 'target': QubitSet([Qubit(31)]))\n",
      "[31]\n",
      "Instruction('operator': Rz('angle': 3.141592653589793, 'qubit_count': 1), 'target': QubitSet([Qubit(34)]))\n",
      "[34]\n",
      "Instruction('operator': AmplitudeDamping(0.0010231888983877058), 'target': QubitSet([Qubit(34)]))\n",
      "[34]\n",
      "Instruction('operator': PhaseDamping(0.0030576203966656834), 'target': QubitSet([Qubit(34)]))\n",
      "[34]\n",
      "Instruction('operator': Depolarizing(0.0), 'target': QubitSet([Qubit(34)]))\n",
      "[34]\n",
      "Instruction('operator': Rx('angle': 1.5707963267948966, 'qubit_count': 1), 'target': QubitSet([Qubit(34)]))\n",
      "[34]\n",
      "Instruction('operator': AmplitudeDamping(0.0010231888983877058), 'target': QubitSet([Qubit(34)]))\n",
      "[34]\n",
      "Instruction('operator': PhaseDamping(0.0030576203966656834), 'target': QubitSet([Qubit(34)]))\n",
      "[34]\n",
      "Instruction('operator': Depolarizing(0.0), 'target': QubitSet([Qubit(34)]))\n",
      "[34]\n",
      "Instruction('operator': Rz('angle': 1.5707963267948966, 'qubit_count': 1), 'target': QubitSet([Qubit(34)]))\n",
      "[34]\n",
      "Instruction('operator': AmplitudeDamping(0.0010231888983877058), 'target': QubitSet([Qubit(34)]))\n",
      "[34]\n",
      "Instruction('operator': PhaseDamping(0.0030576203966656834), 'target': QubitSet([Qubit(34)]))\n",
      "[34]\n",
      "Instruction('operator': Depolarizing(0.0), 'target': QubitSet([Qubit(34)]))\n",
      "[34]\n",
      "Instruction('operator': Rx('angle': -1.5707963267948966, 'qubit_count': 1), 'target': QubitSet([Qubit(34)]))\n",
      "[34]\n",
      "Instruction('operator': AmplitudeDamping(0.0010231888983877058), 'target': QubitSet([Qubit(34)]))\n",
      "[34]\n",
      "Instruction('operator': PhaseDamping(0.0030576203966656834), 'target': QubitSet([Qubit(34)]))\n",
      "[34]\n",
      "Instruction('operator': Depolarizing(0.0), 'target': QubitSet([Qubit(34)]))\n",
      "[34]\n"
     ]
    }
   ],
   "source": [
    "noisy_circ,qubit_mapping = simulate_noise_aspen_m_2(circ)"
   ]
  },
  {
   "cell_type": "code",
   "execution_count": 7,
   "id": "4bd2d3d6",
   "metadata": {
    "collapsed": true
   },
   "outputs": [
    {
     "data": {
      "text/plain": [
       "Circuit('instructions': [Instruction('operator': Rz('angle': 1.5707963267948966, 'qubit_count': 1), 'target': QubitSet([Qubit(0)])), Instruction('operator': AmplitudeDamping(0.0005073871774623484), 'target': QubitSet([Qubit(0)])), Instruction('operator': PhaseDamping(0.000719402447616535), 'target': QubitSet([Qubit(0)])), Instruction('operator': Depolarizing(0.0007571980103950882), 'target': QubitSet([Qubit(0)])), Instruction('operator': Rx('angle': 1.5707963267948966, 'qubit_count': 1), 'target': QubitSet([Qubit(0)])), Instruction('operator': AmplitudeDamping(0.0005073871774623484), 'target': QubitSet([Qubit(0)])), Instruction('operator': PhaseDamping(0.000719402447616535), 'target': QubitSet([Qubit(0)])), Instruction('operator': Depolarizing(0.0007571980103950882), 'target': QubitSet([Qubit(0)])), Instruction('operator': Rz('angle': 1.5707963267948966, 'qubit_count': 1), 'target': QubitSet([Qubit(0)])), Instruction('operator': AmplitudeDamping(0.0005073871774623484), 'target': QubitSet([Qubit(0)])), Instruction('operator': PhaseDamping(0.000719402447616535), 'target': QubitSet([Qubit(0)])), Instruction('operator': Depolarizing(0.0007571980103950882), 'target': QubitSet([Qubit(0)])), Instruction('operator': Rz('angle': 3.141592653589793, 'qubit_count': 1), 'target': QubitSet([Qubit(1)])), Instruction('operator': AmplitudeDamping(0.0010231888983877058), 'target': QubitSet([Qubit(1)])), Instruction('operator': PhaseDamping(0.0030576203966656834), 'target': QubitSet([Qubit(1)])), Instruction('operator': Depolarizing(0.0), 'target': QubitSet([Qubit(1)])), Instruction('operator': Rx('angle': 1.5707963267948966, 'qubit_count': 1), 'target': QubitSet([Qubit(1)])), Instruction('operator': AmplitudeDamping(0.0010231888983877058), 'target': QubitSet([Qubit(1)])), Instruction('operator': PhaseDamping(0.0030576203966656834), 'target': QubitSet([Qubit(1)])), Instruction('operator': Depolarizing(0.0), 'target': QubitSet([Qubit(1)])), Instruction('operator': Rz('angle': 1.5707963267948966, 'qubit_count': 1), 'target': QubitSet([Qubit(1)])), Instruction('operator': AmplitudeDamping(0.0010231888983877058), 'target': QubitSet([Qubit(1)])), Instruction('operator': PhaseDamping(0.0030576203966656834), 'target': QubitSet([Qubit(1)])), Instruction('operator': Depolarizing(0.0), 'target': QubitSet([Qubit(1)])), Instruction('operator': Rx('angle': -1.5707963267948966, 'qubit_count': 1), 'target': QubitSet([Qubit(1)])), Instruction('operator': AmplitudeDamping(0.0010231888983877058), 'target': QubitSet([Qubit(1)])), Instruction('operator': PhaseDamping(0.0030576203966656834), 'target': QubitSet([Qubit(1)])), Instruction('operator': Depolarizing(0.0), 'target': QubitSet([Qubit(1)])), Instruction('operator': Rz('angle': 1.5707963267948966, 'qubit_count': 1), 'target': QubitSet([Qubit(0)])), Instruction('operator': AmplitudeDamping(0.0005073871774623484), 'target': QubitSet([Qubit(0)])), Instruction('operator': PhaseDamping(0.000719402447616535), 'target': QubitSet([Qubit(0)])), Instruction('operator': Depolarizing(0.0007571980103950882), 'target': QubitSet([Qubit(0)])), Instruction('operator': Rx('angle': 1.5707963267948966, 'qubit_count': 1), 'target': QubitSet([Qubit(0)])), Instruction('operator': AmplitudeDamping(0.0005073871774623484), 'target': QubitSet([Qubit(0)])), Instruction('operator': PhaseDamping(0.000719402447616535), 'target': QubitSet([Qubit(0)])), Instruction('operator': Depolarizing(0.0007571980103950882), 'target': QubitSet([Qubit(0)])), Instruction('operator': Rz('angle': 1.5707963267948966, 'qubit_count': 1), 'target': QubitSet([Qubit(0)])), Instruction('operator': AmplitudeDamping(0.0005073871774623484), 'target': QubitSet([Qubit(0)])), Instruction('operator': PhaseDamping(0.000719402447616535), 'target': QubitSet([Qubit(0)])), Instruction('operator': Depolarizing(0.0007571980103950882), 'target': QubitSet([Qubit(0)])), Instruction('operator': Rz('angle': 3.141592653589793, 'qubit_count': 1), 'target': QubitSet([Qubit(1)])), Instruction('operator': AmplitudeDamping(0.0010231888983877058), 'target': QubitSet([Qubit(1)])), Instruction('operator': PhaseDamping(0.0030576203966656834), 'target': QubitSet([Qubit(1)])), Instruction('operator': Depolarizing(0.0), 'target': QubitSet([Qubit(1)])), Instruction('operator': Rx('angle': 1.5707963267948966, 'qubit_count': 1), 'target': QubitSet([Qubit(1)])), Instruction('operator': AmplitudeDamping(0.0010231888983877058), 'target': QubitSet([Qubit(1)])), Instruction('operator': PhaseDamping(0.0030576203966656834), 'target': QubitSet([Qubit(1)])), Instruction('operator': Depolarizing(0.0), 'target': QubitSet([Qubit(1)])), Instruction('operator': Rz('angle': 1.5707963267948966, 'qubit_count': 1), 'target': QubitSet([Qubit(1)])), Instruction('operator': AmplitudeDamping(0.0010231888983877058), 'target': QubitSet([Qubit(1)])), Instruction('operator': PhaseDamping(0.0030576203966656834), 'target': QubitSet([Qubit(1)])), Instruction('operator': Depolarizing(0.0), 'target': QubitSet([Qubit(1)])), Instruction('operator': Rx('angle': -1.5707963267948966, 'qubit_count': 1), 'target': QubitSet([Qubit(1)])), Instruction('operator': AmplitudeDamping(0.0010231888983877058), 'target': QubitSet([Qubit(1)])), Instruction('operator': PhaseDamping(0.0030576203966656834), 'target': QubitSet([Qubit(1)])), Instruction('operator': Depolarizing(0.0), 'target': QubitSet([Qubit(1)]))])"
      ]
     },
     "execution_count": 7,
     "metadata": {},
     "output_type": "execute_result"
    }
   ],
   "source": [
    "noisy_circ"
   ]
  },
  {
   "cell_type": "code",
   "execution_count": 10,
   "id": "2a520865",
   "metadata": {},
   "outputs": [],
   "source": [
    "local_sim = DeviceUtils.get_device('dm1')"
   ]
  },
  {
   "cell_type": "code",
   "execution_count": 12,
   "id": "a66681e9",
   "metadata": {},
   "outputs": [],
   "source": [
    "task = local_sim.run(noisy_circ,shots=1000)"
   ]
  },
  {
   "cell_type": "code",
   "execution_count": 14,
   "id": "840deec8",
   "metadata": {},
   "outputs": [],
   "source": [
    "scanner = BraketTaskScanner(qtask= task)"
   ]
  },
  {
   "cell_type": "code",
   "execution_count": 17,
   "id": "d72e6567",
   "metadata": {},
   "outputs": [],
   "source": [
    "results = scanner.get_results()"
   ]
  },
  {
   "cell_type": "code",
   "execution_count": 19,
   "id": "76eb6ed5",
   "metadata": {},
   "outputs": [
    {
     "data": {
      "text/plain": [
       "Counter({'00': 983, '01': 11, '10': 6})"
      ]
     },
     "execution_count": 19,
     "metadata": {},
     "output_type": "execute_result"
    }
   ],
   "source": [
    "results.measurement_counts"
   ]
  },
  {
   "cell_type": "code",
   "execution_count": 136,
   "id": "511e19ad",
   "metadata": {},
   "outputs": [],
   "source": [
    "qc = get_qc(name='Aspen-M-2',as_qvm=True)"
   ]
  },
  {
   "cell_type": "code",
   "execution_count": 46,
   "id": "d1199b56",
   "metadata": {},
   "outputs": [],
   "source": [
    "quil_circ = scanners[0].get_compiled_circuit()"
   ]
  },
  {
   "cell_type": "code",
   "execution_count": 99,
   "id": "b95ee31b",
   "metadata": {
    "scrolled": true
   },
   "outputs": [
    {
     "ename": "AttributeError",
     "evalue": "'str' object has no attribute 'split_line'",
     "output_type": "error",
     "traceback": [
      "\u001b[0;31m---------------------------------------------------------------------------\u001b[0m",
      "\u001b[0;31mAttributeError\u001b[0m                            Traceback (most recent call last)",
      "\u001b[0;32m<ipython-input-99-180d46b25db0>\u001b[0m in \u001b[0;36m<module>\u001b[0;34m\u001b[0m\n\u001b[0;32m----> 1\u001b[0;31m \u001b[0mquil_circ\u001b[0m\u001b[0;34m.\u001b[0m\u001b[0msplit_line\u001b[0m\u001b[0;34m(\u001b[0m\u001b[0;34m)\u001b[0m\u001b[0;34m\u001b[0m\u001b[0;34m\u001b[0m\u001b[0m\n\u001b[0m",
      "\u001b[0;31mAttributeError\u001b[0m: 'str' object has no attribute 'split_line'"
     ]
    }
   ],
   "source": [
    "quil_circ.splitlines()"
   ]
  },
  {
   "cell_type": "code",
   "execution_count": 22,
   "id": "f9ba08a1",
   "metadata": {},
   "outputs": [],
   "source": [
    "a = noisy_circ.instructions[5].target.item_list[0]"
   ]
  },
  {
   "cell_type": "code",
   "execution_count": 23,
   "id": "ae84c82b",
   "metadata": {},
   "outputs": [
    {
     "data": {
      "text/plain": [
       "braket.circuits.qubit.Qubit"
      ]
     },
     "execution_count": 23,
     "metadata": {},
     "output_type": "execute_result"
    }
   ],
   "source": [
    "type(a)"
   ]
  },
  {
   "cell_type": "code",
   "execution_count": null,
   "id": "0b1763f2",
   "metadata": {},
   "outputs": [],
   "source": [
    "nois"
   ]
  },
  {
   "cell_type": "code",
   "execution_count": 118,
   "id": "5174f8d3",
   "metadata": {
    "scrolled": true
   },
   "outputs": [],
   "source": [
    "quil_prog = Program()\n",
    "preserve_block_not_closed = True\n",
    "for line in quil_circ.splitlines():\n",
    "    if 'MEASURE' in line and preserve_block_not_closed:\n",
    "        quil_prog.inst('PRAGMA PRESERVE_BLOCK')\n",
    "        preserve_block_not_closed = False\n",
    "    quil_prog.inst(line)\n",
    "    if 'RESET' in line:\n",
    "        quil_prog.inst('PRAGMA PRESERVE_BLOCK')"
   ]
  },
  {
   "cell_type": "code",
   "execution_count": 133,
   "id": "2728f365",
   "metadata": {},
   "outputs": [
    {
     "data": {
      "text/plain": [
       "<pyquil.quil.Program at 0x7fd08e4e0e90>"
      ]
     },
     "execution_count": 133,
     "metadata": {},
     "output_type": "execute_result"
    }
   ],
   "source": [
    "Compiled_Circuit(qc,quil_prog).executable"
   ]
  },
  {
   "cell_type": "code",
   "execution_count": 14,
   "id": "017e164d",
   "metadata": {},
   "outputs": [
    {
     "ename": "NameError",
     "evalue": "name 'qc' is not defined",
     "output_type": "error",
     "traceback": [
      "\u001b[0;31m---------------------------------------------------------------------------\u001b[0m",
      "\u001b[0;31mNameError\u001b[0m                                 Traceback (most recent call last)",
      "\u001b[0;32m<ipython-input-14-f6e4e2c7e099>\u001b[0m in \u001b[0;36m<module>\u001b[0;34m\u001b[0m\n\u001b[0;32m----> 1\u001b[0;31m \u001b[0mqc\u001b[0m\u001b[0;34m.\u001b[0m\u001b[0mrun\u001b[0m\u001b[0;34m(\u001b[0m\u001b[0;34m)\u001b[0m\u001b[0;34m\u001b[0m\u001b[0;34m\u001b[0m\u001b[0m\n\u001b[0m",
      "\u001b[0;31mNameError\u001b[0m: name 'qc' is not defined"
     ]
    }
   ],
   "source": [
    "qc.run()"
   ]
  },
  {
   "cell_type": "code",
   "execution_count": null,
   "id": "bb690dc5",
   "metadata": {},
   "outputs": [],
   "source": []
  },
  {
   "cell_type": "code",
   "execution_count": null,
   "id": "033e5e09",
   "metadata": {},
   "outputs": [],
   "source": []
  }
 ],
 "metadata": {
  "kernelspec": {
   "display_name": "Qbench_kernel",
   "language": "python",
   "name": "qbench_kernel"
  },
  "language_info": {
   "codemirror_mode": {
    "name": "ipython",
    "version": 3
   },
   "file_extension": ".py",
   "mimetype": "text/x-python",
   "name": "python",
   "nbconvert_exporter": "python",
   "pygments_lexer": "ipython3",
   "version": "3.7.12"
  }
 },
 "nbformat": 4,
 "nbformat_minor": 5
}
