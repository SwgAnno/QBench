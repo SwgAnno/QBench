{
 "cells": [
  {
   "cell_type": "markdown",
   "id": "9f130daa",
   "metadata": {},
   "source": [
    "# BUILDING DEUTSCH ALG\n"
   ]
  },
  {
   "cell_type": "code",
   "execution_count": 5,
   "id": "ac3318fa",
   "metadata": {},
   "outputs": [],
   "source": [
    "# Use Braket SDK Cost Tracking to estimate the cost to run this example\n",
    "from braket.tracking import Tracker\n",
    "t = Tracker().start()"
   ]
  },
  {
   "cell_type": "code",
   "execution_count": 6,
   "id": "4fde3f17",
   "metadata": {},
   "outputs": [],
   "source": [
    "# general imports\n",
    "import matplotlib.pyplot as plt\n",
    "%matplotlib inline\n",
    "\n",
    "# AWS imports: Import Braket SDK modules\n",
    "from braket.circuits import Circuit, Gate, Instruction, circuit, Observable\n",
    "from braket.devices import LocalSimulator\n",
    "from braket.aws import AwsDevice\n",
    "import numpy as np"
   ]
  },
  {
   "cell_type": "markdown",
   "id": "0829e5d8",
   "metadata": {},
   "source": [
    "# Defining f(x)"
   ]
  },
  {
   "cell_type": "code",
   "execution_count": 7,
   "id": "03f8c0a1",
   "metadata": {},
   "outputs": [
    {
     "name": "stdout",
     "output_type": "stream",
     "text": [
      "[0 0]\n"
     ]
    }
   ],
   "source": [
    "f = np.array([0,0])\n",
    "f[0] = 0\n",
    "f[1] = 0\n",
    "print(f)"
   ]
  },
  {
   "cell_type": "code",
   "execution_count": 8,
   "id": "94b18f75",
   "metadata": {},
   "outputs": [],
   "source": [
    "@circuit.subroutine(register=True)\n",
    "def U_f (f,target):\n",
    "    U_f = np.zeros([4,4])\n",
    "    a = ((0,1,2,3), (f[0],int(not(f[0])) ,(2 + f[1]) , (2+int(not(f[1])))))\n",
    "    U_f[a] = 1\n",
    "    circ = Circuit()\n",
    "    circ.unitary(matrix = U_f, targets = target)\n",
    "    return circ"
   ]
  },
  {
   "cell_type": "code",
   "execution_count": 9,
   "id": "733cf0c0",
   "metadata": {},
   "outputs": [
    {
     "name": "stdout",
     "output_type": "stream",
     "text": [
      "T  : |0|1|2|3|\n",
      "              \n",
      "q0 : -H---U-H-\n",
      "          |   \n",
      "q1 : -X-H-U-H-\n",
      "\n",
      "T  : |0|1|2|3|\n",
      "circ depth is 4\n"
     ]
    },
    {
     "data": {
      "text/plain": [
       "2"
      ]
     },
     "execution_count": 9,
     "metadata": {},
     "output_type": "execute_result"
    }
   ],
   "source": [
    "deutsch = Circuit().x([1]).h(range(2)).U_f(f,range(2)).h(range(2))\n",
    "print(deutsch)\n",
    "print ('circ depth is' ,deutsch.depth)\n",
    "# get qubit number\n",
    "qubit_count = deutsch.qubit_count\n",
    "qubit_count"
   ]
  },
  {
   "cell_type": "markdown",
   "id": "30663ea1",
   "metadata": {},
   "source": [
    "# Simulation"
   ]
  },
  {
   "cell_type": "code",
   "execution_count": 13,
   "id": "c5fb0b2b",
   "metadata": {},
   "outputs": [],
   "source": [
    "#device = LocalSimulator()\n",
    "device = AwsDevice(\"arn:aws:braket:::device/quantum-simulator/amazon/sv1\")"
   ]
  },
  {
   "cell_type": "code",
   "execution_count": 14,
   "id": "e2d144fe",
   "metadata": {},
   "outputs": [
    {
     "name": "stdout",
     "output_type": "stream",
     "text": [
      "Counter({'01': 100})\n"
     ]
    }
   ],
   "source": [
    "# run circuit\n",
    "result = device.run(deutsch, shots=100).result()\n",
    "# get measurement shots\n",
    "counts = result.measurement_counts\n",
    "# print counts\n",
    "print(counts)"
   ]
  },
  {
   "cell_type": "code",
   "execution_count": 15,
   "id": "595a810b",
   "metadata": {},
   "outputs": [
    {
     "data": {
      "text/plain": [
       "Text(0, 0.5, 'counts')"
      ]
     },
     "execution_count": 15,
     "metadata": {},
     "output_type": "execute_result"
    },
    {
     "data": {
      "image/png": "[encoded data removed]",
      "text/plain": [
       "<Figure size 640x480 with 1 Axes>"
      ]
     },
     "metadata": {},
     "output_type": "display_data"
    }
   ],
   "source": [
    "# plot using Counter\n",
    "plt.bar(counts.keys(), counts.values())\n",
    "plt.xlabel('bitstrings')\n",
    "plt.ylabel('counts')"
   ]
  },
  {
   "cell_type": "code",
   "execution_count": 17,
   "id": "3d45c28f",
   "metadata": {},
   "outputs": [
    {
     "name": "stdout",
     "output_type": "stream",
     "text": [
      "{'arn:aws:braket:::device/quantum-simulator/amazon/sv1': {'shots': 100, 'tasks': {'COMPLETED': 1}, 'execution_duration': datetime.timedelta(microseconds=96000), 'billed_execution_duration': datetime.timedelta(seconds=3)}}\n",
      "0\n"
     ]
    }
   ],
   "source": [
    "print(t.quantum_tasks_statistics())\n",
    "print(t.qpu_tasks_cost())\n",
    "print(t.simulator_tasks_cost())"
   ]
  },
  {
   "cell_type": "code",
   "execution_count": null,
   "id": "df5a4da2",
   "metadata": {},
   "outputs": [],
   "source": []
  }
 ],
 "metadata": {
  "kernelspec": {
   "display_name": "Python 3.7.12 ('QBench')",
   "language": "python",
   "name": "python3"
  },
  "language_info": {
   "codemirror_mode": {
    "name": "ipython",
    "version": 3
   },
   "file_extension": ".py",
   "mimetype": "text/x-python",
   "name": "python",
   "nbconvert_exporter": "python",
   "pygments_lexer": "ipython3",
   "version": "3.7.12"
  },
  "vscode": {
   "interpreter": {
    "hash": "06a09a513f3adf51d034e4cd7b61d73f339a24b03a0e983ba85455000b9be146"
   }
  }
 },
 "nbformat": 4,
 "nbformat_minor": 5
}
