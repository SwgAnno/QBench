{
 "cells": [
  {
   "cell_type": "code",
   "execution_count": 1,
   "metadata": {},
   "outputs": [],
   "source": [
    "# general imports\n",
    "import matplotlib.pyplot as plt\n",
    "%matplotlib inline\n",
    "\n",
    "# AWS imports: Import Braket SDK modules\n",
    "from braket.circuits import Circuit, Gate, Instruction, circuit, Observable\n",
    "from braket.devices import LocalSimulator\n",
    "from braket.aws import AwsDevice\n",
    "import numpy as np\n",
    "\n",
    "import functools\n",
    "import time\n",
    "\n",
    "#useful decorator for measuring local execution time\n",
    "#https://realpython.com/primer-on-python-decorators/\n",
    "\n",
    "def timer(func):\n",
    "    \"\"\"Print the runtime of the decorated function\"\"\"\n",
    "    @functools.wraps(func)\n",
    "    def wrapper_timer(*args, **kwargs):\n",
    "        start_time = time.perf_counter()    # 1\n",
    "        value = func(*args, **kwargs)\n",
    "        end_time = time.perf_counter()      # 2\n",
    "        run_time = end_time - start_time    # 3\n",
    "        print(f\"Finished {func.__name__!r} in {run_time:.4f} secs\")\n",
    "        return value\n",
    "    return wrapper_timer"
   ]
  },
  {
   "cell_type": "code",
   "execution_count": 2,
   "metadata": {},
   "outputs": [],
   "source": [
    "def general_bell(dim):\n",
    "\n",
    "    out = Circuit().h([0])\n",
    "\n",
    "    for i in range(dim-1):\n",
    "        out.cnot(0,i+1)\n",
    "\n",
    "    return out\n"
   ]
  },
  {
   "cell_type": "code",
   "execution_count": 9,
   "metadata": {},
   "outputs": [
    {
     "name": "stdout",
     "output_type": "stream",
     "text": [
      "Counter({'000000000000000000000000': 5013, '111111111111111111111111': 4987})\n"
     ]
    }
   ],
   "source": [
    "#25 massimo sulla mia macchina -EA\n",
    "bell = general_bell(24)\n",
    "#print(bell)\n",
    "\n",
    "device = LocalSimulator(backend = \"braket_sv\")\n",
    "\n",
    "#decorate run function with a timer\n",
    "device.run = timer(device.run)\n",
    "\n",
    "task = device.run(bell, shots = 10000)\n",
    "counts = task.result().measurement_counts\n",
    "\n",
    "print(counts)"
   ]
  },
  {
   "cell_type": "code",
   "execution_count": null,
   "metadata": {},
   "outputs": [],
   "source": []
  },
  {
   "cell_type": "code",
   "execution_count": null,
   "metadata": {},
   "outputs": [],
   "source": []
  }
 ],
 "metadata": {
  "kernelspec": {
   "display_name": "Python 3.7.12 ('QBench')",
   "language": "python",
   "name": "python3"
  },
  "language_info": {
   "codemirror_mode": {
    "name": "ipython",
    "version": 3
   },
   "file_extension": ".py",
   "mimetype": "text/x-python",
   "name": "python",
   "nbconvert_exporter": "python",
   "pygments_lexer": "ipython3",
   "version": "3.7.12"
  },
  "orig_nbformat": 4,
  "vscode": {
   "interpreter": {
    "hash": "06a09a513f3adf51d034e4cd7b61d73f339a24b03a0e983ba85455000b9be146"
   }
  }
 },
 "nbformat": 4,
 "nbformat_minor": 2
}
