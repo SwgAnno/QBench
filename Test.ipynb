{
 "cells": [
  {
   "cell_type": "code",
   "execution_count": 1,
   "id": "ad4838c8",
   "metadata": {},
   "outputs": [],
   "source": [
    "# general imports\n",
    "import math\n",
    "import pickle\n",
    "from collections import Counter\n",
    "from datetime import datetime\n",
    "# general imports\n",
    "import numpy as np\n",
    "import math\n",
    "import matplotlib.pyplot as plt\n",
    "# magic word for producing visualizations in notebook\n",
    "\n",
    "import numpy as np\n",
    "\n",
    "# AWS imports: Import Braket SDK modules\n",
    "from braket.circuits import Circuit, circuit\n",
    "\n",
    "# local imports\n",
    "from utils_qft import inverse_qft\n",
    "\n"
   ]
  },
  {
   "cell_type": "code",
   "execution_count": null,
   "id": "e1d37b6a",
   "metadata": {},
   "outputs": [],
   "source": [
    "    \"\"\"\n",
    "    Get QPE phase estimate from measurement_counts for given number of precision qubits\n",
    "\n",
    "    Args:\n",
    "        measurement_counts: measurement results from a device run\n",
    "\n",
    "        precision_qubits: List of qubits corresponding to precision_qubits.\n",
    "                          Currently assumed to be a list of integers corresponding to the indices of the qubits.\n",
    "\n",
    "        items_to_keep: number of items to return (topmost measurement counts for precision register)\n",
    "    \"\"\"\n",
    "\n",
    "# Aggregate the results (i.e., ignore/trace out the query register qubits):\n",
    "\n",
    "# First get bitstrings with corresponding counts for precision qubits only\n",
    "bitstrings_precision_register = [\n",
    "    substring(key, precision_qubits) for key in measurement_counts.keys()\n",
    "]\n",
    "# Then keep only the unique strings\n",
    "bitstrings_precision_register_set = set(bitstrings_precision_register)\n",
    "# Cast as a list for later use\n",
    "bitstrings_precision_register_list = list(bitstrings_precision_register_set)\n",
    "\n",
    "# Now create a new dict to collect measurement results on the precision_qubits.\n",
    "# Keys are given by the measurement count substrings on the register qubits. Initialize the counts to zero.\n",
    "precision_results_dic = {key: 0 for key in bitstrings_precision_register_list}\n",
    "\n",
    "# Loop over all measurement outcomes\n",
    "for key in measurement_counts.keys():\n",
    "    # Save the measurement count for this outcome\n",
    "    counts = measurement_counts[key]\n",
    "    # Generate the corresponding shortened key (supported only on the precision_qubits register)\n",
    "    count_key = substring(key, precision_qubits)\n",
    "    # Add these measurement counts to the corresponding key in our new dict\n",
    "    precision_results_dic[count_key] += counts\n",
    "\n",
    "# Get topmost values only\n",
    "c = Counter(precision_results_dic)\n",
    "topmost = c.most_common(items_to_keep)\n",
    "# get decimal phases from bitstrings for topmost bitstrings\n",
    "phases_decimal = [binaryToDecimal(item[0]) for item in topmost]\n",
    "\n",
    "# Get decimal phases from bitstrings for all bitstrings\n",
    "# number_precision_qubits = len(precision_qubits)\n",
    "# Generate binary decimal expansion\n",
    "# phases_decimal = [int(key, 2)/(2**number_precision_qubits) for key in precision_results_dic]\n",
    "# phases_decimal = [binaryToDecimal(key) for key in precision_results_dic]\n",
    "\n",
    "return phases_decimal, precision_results_dic\n"
   ]
  }
 ],
 "metadata": {
  "kernelspec": {
   "display_name": "Python 3.7.12 ('QBench')",
   "language": "python",
   "name": "python3"
  },
  "language_info": {
   "codemirror_mode": {
    "name": "ipython",
    "version": 3
   },
   "file_extension": ".py",
   "mimetype": "text/x-python",
   "name": "python",
   "nbconvert_exporter": "python",
   "pygments_lexer": "ipython3",
   "version": "3.7.12"
  },
  "vscode": {
   "interpreter": {
    "hash": "06a09a513f3adf51d034e4cd7b61d73f339a24b03a0e983ba85455000b9be146"
   }
  }
 },
 "nbformat": 4,
 "nbformat_minor": 5
}
