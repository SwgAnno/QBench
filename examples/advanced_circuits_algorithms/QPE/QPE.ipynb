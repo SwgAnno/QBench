{
 "cells": [
  {
   "cell_type": "markdown",
   "metadata": {},
   "source": [
    "# QUANTUM PHASE ESTIMATION"
   ]
  },
  {
   "cell_type": "code",
   "execution_count": 1,
   "metadata": {},
   "outputs": [],
   "source": [
    "# Use Braket SDK Cost Tracking to estimate the cost to run this example\n",
    "from braket.tracking import Tracker\n",
    "t = Tracker().start()"
   ]
  },
  {
   "cell_type": "markdown",
   "metadata": {},
   "source": [
    "This tutorial provides a detailed implementation of the Quantum Phase Estimation (QPE) algorithm using the Amazon Braket SDK.\n",
    "The QPE algorithm is designed to estimate the eigenvalues of a unitary operator $U$ [1, 2]; \n",
    "it is a very important subroutine to many quantum algorithms, most famously Shor's algorithm for factoring and the HHL algorithm (named after the physicists Harrow, Hassidim and Lloyd) for solving linear systems of equations on a quantum computer [1, 2]. \n",
    "Moreover, eigenvalue problems can be found across many disciplines and application areas, including (for example) principal component analysis (PCA) as used in machine learning or the solution of differential equations as relevant across mathematics, physics, engineering and chemistry. \n",
    "We first review the basics of the QPE algorithm.\n",
    "We then implement the QPE algorithm in code using the Amazon Braket SDK, and we illustrate the application thereof with simple examples. \n",
    "This notebook also showcases the Amazon Braket `circuit.subroutine` functionality, which allows us to use custom-built gates as if they were any other built-in gates. \n",
    "This tutorial is set up to run either on the local simulator or the on-demand simulators; changing between these devices merely requires changing one line of code as demonstrated as follows in cell [4]. "
   ]
  },
  {
   "cell_type": "markdown",
   "metadata": {},
   "source": [
    "## TECHNICAL BACKGROUND OF QPE "
   ]
  },
  {
   "cell_type": "markdown",
   "metadata": {},
   "source": [
    "__Introduction__: A unitary matrix is a complex, square matrix whose adjoint (or conjugate transpose) is equal to its inverse. Unitary matrices have many nice properties, including the fact that their eigenvalues are always roots of unity (that is, phases). Given a unitary matrix $U$ (satisfying $U^{\\dagger}U=\\mathbb{1}=UU^{\\dagger}$) and an eigenstate $|\\psi \\rangle$ with $U|\\psi \\rangle = e^{2\\pi i\\varphi}|\\psi \\rangle$, the Quantum Phase Estimation (QPE) algorithm provides an estimate $\\tilde{\\varphi} \\approx \\varphi$ for the phase $\\varphi$ (with $\\varphi \\in [0,1]$ since the eigenvalues $\\lambda = \\exp(2\\pi i\\varphi)$ of a unitary have modulus one). \n",
    "The QPE works with high probability within an additive error $\\varepsilon$ using $O(\\log(1/\\varepsilon))$ qubits (without counting the qubits used to encode the eigenstate) and $O(1/\\varepsilon)$ controlled-$U$ operations [1].\n",
    "\n",
    "__Quantum Phase Estimation Algorithm__: \n",
    "The QPE algorithm takes a unitary $U$ as input. For the sake of simplicity (we will generalize the discussion below), suppose that the algorithm also takes as input an eigenstate $|\\psi \\rangle$ fulfilling \n",
    "\n",
    "$$U|\\psi \\rangle = \\lambda |\\psi \\rangle,$$\n",
    "\n",
    "with $\\lambda = \\exp(2\\pi i\\varphi)$. \n",
    "\n",
    "QPE uses two registers of qubits: we refer to the first register as *precision* qubits (as the number of qubits $n$ in the first register sets the achievable precision of our results) and the second register as *query* qubits (as the second register hosts the eigenstate $|\\psi \\rangle$). \n",
    "Suppose we have prepared this second register in $|\\psi \\rangle$.  We then prepare a uniform superposition of all basis vectors in the first register using a series of Hadamard gates. \n",
    "\n",
    "Next, we apply a series of controlled-unitaries $C-U^{2^{k}}$ for different powers of $k=0,1,\\dots, n-1$ (as illustrated in the circuit diagram that follows). \n",
    "For example, for $k=1$ we get\n",
    "\\begin{equation} \n",
    "\\begin{split}\n",
    "(|0 \\rangle + |1 \\rangle) |\\psi \\rangle  & \\rightarrow |0 \\rangle |\\psi \\rangle + |1 \\rangle U|\\psi \\rangle \\\\\n",
    "& = (|0 \\rangle + e^{2\\pi i \\varphi}|1 \\rangle) |\\psi \\rangle.\n",
    "\\end{split}\n",
    "\\end{equation}\n",
    "\n",
    "Note that the second register remains unaffected as it stays in the eigenstate $|\\psi \\rangle$. \n",
    "However, we managed to transfer information about the phase of the eigenvalue of $U$ (that is, $\\varphi$) into the first *precision* register by encoding it as a relative phase in the state of the qubits in the first register. \n",
    "\n",
    "Similarly, for $k=2$ we obtain\n",
    "\\begin{equation} \n",
    "\\begin{split}\n",
    "(|0 \\rangle + |1 \\rangle) |\\psi \\rangle  & \\rightarrow |0 \\rangle |\\psi \\rangle + |1 \\rangle U^{2}|\\psi \\rangle \\\\\n",
    "& = (|0 \\rangle + e^{2\\pi i 2\\varphi}|1 \\rangle) |\\psi \\rangle,\n",
    "\\end{split}\n",
    "\\end{equation}\n",
    "\n",
    "where this time we wrote $2\\varphi$ into the precision register. The process is similar for all $k>2$.\n",
    "\n",
    "Introducing the following notation for binary fractions\n",
    "$$[0. \\varphi_{l}\\varphi_{l+1}\\dots \\varphi_{m}] = \\frac{\\varphi_{l}}{2^{1}} + \\frac{\\varphi_{l+1}}{2^{2}} + \\frac{\\varphi_{m}}{2^{m-l+1}},$$ \n",
    "\n",
    "one can show that the application of a controlled unitary $C-U^{2^{k}}$ leads to the following transformation\n",
    "\n",
    "\\begin{equation} \n",
    "\\begin{split}\n",
    "(|0 \\rangle + |1 \\rangle) |\\psi \\rangle  & \\rightarrow |0 \\rangle |\\psi \\rangle + |1 \\rangle U^{2^{k}}|\\psi \\rangle \\\\\n",
    "& = (|0 \\rangle + e^{2\\pi i 2^{k}\\varphi}|1 \\rangle) |\\psi \\rangle \\\\\n",
    "& = (|0 \\rangle + e^{2\\pi i [0.\\varphi_{k+1}\\dots \\varphi_{n}]}|1 \\rangle) |\\psi \\rangle,\n",
    "\\end{split}\n",
    "\\end{equation}\n",
    "\n",
    "where the first $k$ bits of precision in the binary expansion (that is, those bits to the left of the decimal) can be dropped, because $e^{2\\pi i \\theta} = 1$ for any whole number $\\theta$.\n",
    "\n",
    "The QPE algorithm implements a series of these transformations for $k=0, 1, \\dots, n-1$, using $n$ qubits in the precision register. \n",
    "In its entirety, this sequence of controlled unitaries leads to the transformation\n",
    "\n",
    "$$ |0, \\dots, 0 \\rangle \\otimes |\\psi \\rangle \\longrightarrow \n",
    "(|0 \\rangle + e^{2\\pi i [0.\\varphi_{n}]}|1 \\rangle) \n",
    "\\otimes (|0 \\rangle + e^{2\\pi i [0.\\varphi_{n-1}\\varphi_{n}]}|1 \\rangle)\n",
    "\\otimes \\dots\n",
    "\\otimes (|0 \\rangle + e^{2\\pi i [0.\\varphi_{1}\\dots\\varphi_{n}]}|1 \\rangle) \n",
    "\\otimes |\\psi \\rangle.\n",
    "$$\n",
    "\n",
    "By inspection, one can see that the state of the register qubits above corresponds to a quantum Fourier transform of the state $|\\varphi_1,\\dots,\\varphi_n\\rangle$. Thus, the final step of the QPE algorithm is to run the *inverse* Quantum Fourier Transform (QFT) algorithm on the precision register to extract the phase information from this state. The resulting state is\n",
    "$$|\\varphi_{1}, \\varphi_{2}, \\dots, \\varphi_{n}  \\rangle \\otimes |\\psi\\rangle.$$\n",
    "\n",
    "Measuring the precision qubits in the computational basis then gives the classical bitstring $\\varphi_{1}, \\varphi_{2}, \\dots, \\varphi_{n}$, from which we can readily infer the phase estimate $\\tilde{\\varphi} = 0.\\varphi_{1} \\dots \\varphi_{n}$ with the corresponding eigenvalue $\\tilde{\\lambda} = \\exp(2\\pi i \\tilde{\\varphi})$.\n",
    " \n",
    "__Simple example for illustration__: For concreteness, consider a simple example with the unitary given by the Pauli $X$ gate, $U=X$, for which $|\\Psi \\rangle = |+\\rangle = (|0 \\rangle + |1 \\rangle)/\\sqrt{2}$ is an eigenstate with eigenvalue $\\lambda = 1$, i.e., $\\varphi=0$. \n",
    "This state can be prepared with a Hadamard gate as $|\\Psi \\rangle = H|0 \\rangle$. \n",
    "We take a precision register consisting of just two qubits ($n=2$). \n",
    "\n",
    "Thus, after the first layer of Hadamard gates, the quantum state is\n",
    "$$|0,0,0 \\rangle \\rightarrow |+,+,+\\rangle.$$\n",
    "\n",
    "Next, the applications of the controlled-$U$ gates (equal to $C-X$ operations, or CNOT gates in this example) leave this state untouched, because $|+\\rangle$ is an eigenstate of $X$ with eigenvalue $+1$. \n",
    "Finally, applying the inverse QFT leads to \n",
    "\n",
    "$$\\mathrm{QFT}^{\\dagger}|+++\\rangle=\\mathrm{QFT}^\\dagger\\frac{|00\\rangle + |01\\rangle + |10\\rangle + |11\\rangle}{4}\\otimes |+\\rangle = |00\\rangle \\otimes |+\\rangle,$$\n",
    "\n",
    "from which we deduce $\\varphi = [0.00]=0$ and therefore $\\lambda=1$, as expected. \n",
    "Here, in the last step we have used $|00\\rangle + |01\\rangle + |10\\rangle + |11\\rangle = (|0\\rangle + e^{2\\pi i[0.0]}|1\\rangle)(|0\\rangle + e^{2\\pi i[0.00]}|1\\rangle)$, which makes the effect of the inverse QFT more apparent.  \n",
    "\n",
    "__Initial state of query register__: So far, we have assumed that the query register is prepared in an eigenstate $|\\Psi\\rangle$ of $U$. What happens if this is not the case? Let's reconsider the simple example given previously.\n",
    "\n",
    "Suppose now that the query register is instead prepared in the state $|\\Psi\\rangle = |1\\rangle$. \n",
    "We can always express this state in the eigenbasis of $U$, that is, $|1\\rangle = \\frac{1}{\\sqrt{2}}(|+\\rangle - |-\\rangle)$. \n",
    "By linearity, application of the QPE algorithm then gives (up to normalization)\n",
    "\n",
    "\\begin{equation} \n",
    "\\begin{split}\n",
    "\\mathrm{QPE}(|0,0,\\dots\\rangle \\otimes |1\\rangle) & = \\mathrm{QPE}(|0,0,\\dots\\rangle \\otimes |+\\rangle)\n",
    "- \\mathrm{QPE}(|0,0,\\dots\\rangle \\otimes |-\\rangle) \\\\\n",
    "& =  |\\varphi_{+}\\rangle \\otimes |+\\rangle - |\\varphi_{-}\\rangle \\otimes |-\\rangle. \\\\\n",
    "\\end{split}\n",
    "\\end{equation}\n",
    "\n",
    "When we measure the precision qubits in this state, 50% of the time we will observe the eigenphase $\\varphi_{+}$ and 50% of the time we will measure $\\varphi_{-}$. We illustrate this example numerically as follows.\n",
    "\n",
    "This example motivates the general case: we can pass a state that is not an eigenstate of $U$ to the QPE algorithm, but we may need to repeat our measurements several times in order to obtain an estimate of the desired phase."
   ]
  },
  {
   "cell_type": "markdown",
   "metadata": {},
   "source": [
    "## CIRCUIT IMPLEMENTATION OF QPE"
   ]
  },
  {
   "cell_type": "markdown",
   "metadata": {},
   "source": [
    "The QPE circuit can be implemented using Hadamard gates, controlled-$U$ unitaries, and the inverse QFT (denoted as $\\mathrm{QFT}^{-1}$). \n",
    "The details of the calculation can be found in a number of resources (such as, [1]); we omit them here.\n",
    "Following the previous discussion, the circuit that implements the QPE algorithm reads as below, where m is the size of lower query register and n is the size of upper precision register."
   ]
  },
  {
   "cell_type": "markdown",
   "metadata": {},
   "source": [
    "<div align=\"center\"><img src=\"circuit.png\"/></div>"
   ]
  },
  {
   "cell_type": "markdown",
   "metadata": {},
   "source": [
    "## IMPORTS and SETUP"
   ]
  },
  {
   "cell_type": "code",
   "execution_count": 2,
   "metadata": {},
   "outputs": [],
   "source": [
    "# general imports\n",
    "import numpy as np\n",
    "import math\n",
    "import matplotlib.pyplot as plt\n",
    "# magic word for producing visualizations in notebook\n",
    "%matplotlib inline"
   ]
  },
  {
   "cell_type": "code",
   "execution_count": 3,
   "metadata": {},
   "outputs": [],
   "source": [
    "# AWS imports: Import Amazon Braket SDK modules\n",
    "from braket.circuits import Circuit, circuit\n",
    "from braket.devices import LocalSimulator\n",
    "from braket.aws import AwsDevice"
   ]
  },
  {
   "cell_type": "code",
   "execution_count": 4,
   "metadata": {},
   "outputs": [],
   "source": [
    "# local imports\n",
    "from utils_qpe import qpe, run_qpe\n",
    "\n",
    "%load_ext autoreload\n",
    "%autoreload 2"
   ]
  },
  {
   "cell_type": "code",
   "execution_count": 6,
   "metadata": {},
   "outputs": [],
   "source": [
    "# set up device: local simulator or the on-demand simulator\n",
    "device = LocalSimulator()\n",
    "#device = AwsDevice(\"arn:aws:braket:::device/quantum-simulator/amazon/sv1\")"
   ]
  },
  {
   "cell_type": "markdown",
   "metadata": {},
   "source": [
    "### Pauli Matrices:\n",
    "In some of our examples, we choose the unitary $U$ to be given by the **Pauli Matrices**, which we thus define as follows:"
   ]
  },
  {
   "cell_type": "code",
   "execution_count": 7,
   "metadata": {},
   "outputs": [],
   "source": [
    "# Define Pauli matrices\n",
    "Id = np.eye(2)             # Identity matrix\n",
    "X = np.array([[0., 1.],\n",
    "              [1., 0.]])   # Pauli X\n",
    "Y = np.array([[0., -1.j],\n",
    "              [1.j, 0.]])  # Pauli Y\n",
    "Z = np.array([[1., 0.],\n",
    "              [0., -1.]])  # Pauli Z"
   ]
  },
  {
   "cell_type": "markdown",
   "metadata": {},
   "source": [
    "## IMPLEMENTATION OF THE QPE CIRCUIT"
   ]
  },
  {
   "cell_type": "markdown",
   "metadata": {},
   "source": [
    "In ```utils_qpe.py``` we provide simple helper functions to implement the quantum circuit for the QPE algorithm. \n",
    "Specifically, we demonstrate that such modular building blocks can be registered as subroutines, using ```@circuit.subroutine(register=True)```. \n",
    "Moreover, we provide a helper function (called ```get_qpe_phases```) to perform postprocessing based on the measurement results to extract the phase. The details of ```utils_qpe.py``` are shown in the Appendix.\n",
    "\n",
    "To implement the unitary $C-U^{2^k}$, one can use the fact that $C-U^{2} = (C-U)(C-U)$, so that $C-U^{2^{k}}$ can be constructed by repeatedly applying the core building block $C-U$. \n",
    "However, the circuit generated using this approach will have a significantly larger depth. In our implementation, we instead define the matrix $U^{2^k}$ and create the controlled $C-(U^{2^k})$ gate from that."
   ]
  },
  {
   "cell_type": "markdown",
   "metadata": {},
   "source": [
    "## VISUALIZATION OF THE QFT CIRCUIT"
   ]
  },
  {
   "cell_type": "markdown",
   "metadata": {},
   "source": [
    "To check our implementation of the QPE circuit, we visualize this circuit for a small number of qubits. "
   ]
  },
  {
   "cell_type": "code",
   "execution_count": 3,
   "metadata": {},
   "outputs": [
    {
     "ename": "SyntaxError",
     "evalue": "invalid syntax (843749832.py, line 2)",
     "output_type": "error",
     "traceback": [
      "\u001b[0;36m  Cell \u001b[0;32mIn [3], line 2\u001b[0;36m\u001b[0m\n\u001b[0;31m    er of qubits\u001b[0m\n\u001b[0m       ^\u001b[0m\n\u001b[0;31mSyntaxError\u001b[0m\u001b[0;31m:\u001b[0m invalid syntax\n"
     ]
    }
   ],
   "source": [
    "# set total numb\n",
    "er of qubits\n",
    "precision_qubits = [0, 1]\n",
    "query_qubits = [2]\n",
    "\n",
    "# prepare query register\n",
    "my_qpe_circ = Circuit().h(query_qubits)\n",
    "\n",
    "# set unitary\n",
    "unitary = X\n",
    "\n",
    "# show small QPE example circuit\n",
    "my_qpe_circ = my_qpe_circ.qpe(precision_qubits, query_qubits, unitary)\n",
    "print('QPE CIRCUIT:')\n",
    "print(my_qpe_circ)"
   ]
  },
  {
   "cell_type": "markdown",
   "metadata": {},
   "source": [
    "As shown in the following code, the two registers can be distributed anywhere across the circuit, with arbitrary indices for the precision and the query registers.  "
   ]
  },
  {
   "cell_type": "code",
   "execution_count": 8,
   "metadata": {},
   "outputs": [
    {
     "name": "stdout",
     "output_type": "stream",
     "text": [
      "QPE CIRCUIT:\n",
      "T  : |0|1|2|3| 4  |5|     6      |7|\n",
      "                                    \n",
      "q0 : -I-----------------------------\n",
      "                                    \n",
      "q1 : -I-H---U-SWAP---PHASE(-1.57)-H-\n",
      "            | |      |              \n",
      "q2 : -I-----|-|------|--------------\n",
      "            | |      |              \n",
      "q3 : -I-H-U-|-SWAP-H-C--------------\n",
      "          | |                       \n",
      "q4 : -I---|-|-----------------------\n",
      "          | |                       \n",
      "q5 : -I-H-U-U-----------------------\n",
      "                                    \n",
      "q6 : -I-----------------------------\n",
      "\n",
      "T  : |0|1|2|3| 4  |5|     6      |7|\n"
     ]
    }
   ],
   "source": [
    "# set qubits\n",
    "precision_qubits = [1, 3]\n",
    "query_qubits = [5]\n",
    "\n",
    "# prepare query register\n",
    "my_qpe_circ = Circuit().i(range(7))\n",
    "my_qpe_circ.h(query_qubits)\n",
    "\n",
    "# set unitary\n",
    "unitary = X\n",
    "\n",
    "# show small QPE example circuit\n",
    "my_qpe_circ = my_qpe_circ.qpe(precision_qubits, query_qubits, unitary)\n",
    "print('QPE CIRCUIT:')\n",
    "print(my_qpe_circ)"
   ]
  },
  {
   "cell_type": "markdown",
   "metadata": {},
   "source": [
    "As follows, we set up the same circuit, this time implementing the unitary $C-U^{2^k}$, by repeatedly applying the core building block $C-U$. \n",
    "This operation can be done by setting the parameter ```control_unitary=False``` (default is ```True```). "
   ]
  },
  {
   "cell_type": "code",
   "execution_count": 9,
   "metadata": {},
   "outputs": [
    {
     "name": "stdout",
     "output_type": "stream",
     "text": [
      "QPE CIRCUIT:\n",
      "T  : |0|1|2|3|4| 5  |6|     7      |8|\n",
      "                                      \n",
      "q0 : -I-------------------------------\n",
      "                                      \n",
      "q1 : -I-H---U-U-SWAP---PHASE(-1.57)-H-\n",
      "            | | |      |              \n",
      "q2 : -I-----|-|-|------|--------------\n",
      "            | | |      |              \n",
      "q3 : -I-H-U-|-|-SWAP-H-C--------------\n",
      "          | | |                       \n",
      "q4 : -I---|-|-|-----------------------\n",
      "          | | |                       \n",
      "q5 : -I-H-U-U-U-----------------------\n",
      "                                      \n",
      "q6 : -I-------------------------------\n",
      "\n",
      "T  : |0|1|2|3|4| 5  |6|     7      |8|\n"
     ]
    }
   ],
   "source": [
    "# set qubits\n",
    "precision_qubits = [1, 3]\n",
    "query_qubits = [5]\n",
    "\n",
    "# prepare query register\n",
    "my_qpe_circ = Circuit().i(range(7))\n",
    "my_qpe_circ.h(query_qubits)\n",
    "\n",
    "# set unitary\n",
    "unitary = X\n",
    "\n",
    "# show small QPE example circuit\n",
    "my_qpe_circ = my_qpe_circ.qpe(precision_qubits, query_qubits, unitary, control_unitary=False)\n",
    "print('QPE CIRCUIT:')\n",
    "print(my_qpe_circ)"
   ]
  },
  {
   "cell_type": "markdown",
   "metadata": {},
   "source": [
    "In the circuit diagram, we can visually infer the exponents for $k=0,1$, at the expense of a larger circuit depth. "
   ]
  },
  {
   "cell_type": "markdown",
   "metadata": {},
   "source": [
    "## NUMERICAL TEST EXPERIMENTS"
   ]
  },
  {
   "cell_type": "markdown",
   "metadata": {},
   "source": [
    "In the following section, we verify that our QFT implementation works as expected with a few test examples:\n",
    "1. We run QPE with $U=X$ and prepare the eigenstate $|\\Psi\\rangle = |+\\rangle = H|0\\rangle$ with phase $\\varphi=0$ and eigenvalue $\\lambda=1$. \n",
    "2. We run QPE with $U=X$ and prepare the eigenstate $|\\Psi\\rangle = |-\\rangle = HX|0\\rangle$ with phase $\\varphi=0.5$ and eigenvalue $\\lambda=-1$. \n",
    "3. We run QPE with $U=X$ and prepare $|\\Psi\\rangle = |1\\rangle = X|0\\rangle$ which is *not* an eigenstate of $U$. \n",
    "Because $|1\\rangle = (|+\\rangle - |-\\rangle)/\\sqrt{2}$, we expect to measure both $\\varphi=0$ and $\\varphi=0.5$ associated with the two eigenstates $|\\pm\\rangle$. \n",
    "4. We run QPE with unitary $U=X \\otimes Z$, and prepare the query register in the eigenstate $|\\Psi\\rangle = |+\\rangle \\otimes |1\\rangle = H|0\\rangle \\otimes Z|0\\rangle$. \n",
    "Here, we expect to measure the phase $\\varphi=0.5$ (giving the corresponding eigenvalue $\\lambda=-1$). \n",
    "5. We run QPE with a _random_ two qubit unitary, diagonal in the computational basis, and prepare the query register in the eigenstate $|11\\rangle$.\n",
    "In this case, we should be able to read off the eigenvalue and phase from $U$ and verify QPE gives the right answer (with high probability) up to a small error (that depends on the number of qubits in the precision register)."
   ]
  },
  {
   "cell_type": "markdown",
   "metadata": {},
   "source": [
    "## HELPER FUNCTIONS FOR NUMERICAL TESTS\n",
    "Because we will run the same code repeatedly, let's first create a helper function we can use to keep the notebook clean."
   ]
  },
  {
   "cell_type": "code",
   "execution_count": 11,
   "metadata": {},
   "outputs": [],
   "source": [
    "def postprocess_qpe_results(out):\n",
    "    \"\"\"\n",
    "    Function to postprocess dictionary returned by run_qpe\n",
    "\n",
    "    Args:\n",
    "        out: dictionary containing results/information associated with QPE run as produced by run_qpe\n",
    "    \"\"\"\n",
    "    \n",
    "    # unpack results\n",
    "    circ = out['circuit']\n",
    "    measurement_counts = out['measurement_counts']\n",
    "    bitstring_keys = out['bitstring_keys']\n",
    "    probs_values = out['probs_values']\n",
    "    precision_results_dic = out['precision_results_dic']\n",
    "    phases_decimal = out['phases_decimal']\n",
    "    eigenvalues = out['eigenvalues']\n",
    "    \n",
    "    # print the circuit \n",
    "    print('Printing circuit:')\n",
    "    print(circ)\n",
    "    \n",
    "    # print measurement results\n",
    "    print('Measurement counts:', measurement_counts)\n",
    "    \n",
    "    # plot probabalities\n",
    "    plt.bar(bitstring_keys, probs_values);\n",
    "    plt.xlabel('bitstrings');\n",
    "    plt.ylabel('probability');\n",
    "    plt.xticks(rotation=90);\n",
    "\n",
    "    # print results\n",
    "    print('Results in precision register:', precision_results_dic)\n",
    "    print('QPE phase estimates:', phases_decimal)\n",
    "    print('QPE eigenvalue estimates:', np.round(eigenvalues, 5))"
   ]
  },
  {
   "cell_type": "markdown",
   "metadata": {},
   "source": [
    "### NUMERICAL TEST EXAMPLE 1"
   ]
  },
  {
   "cell_type": "markdown",
   "metadata": {},
   "source": [
    "First, apply the QPE algorithm to the simple single-qubit unitary $U=X$, with eigenstate $|\\Psi\\rangle = |+\\rangle = H|0\\rangle$. Here, we expect to measure the phase $\\varphi=0$ (giving the corresponding eigenvalue $\\lambda=1$). \n",
    "We show that this result stays the same as we increase the number of qubits $n$ for the top register. "
   ]
  },
  {
   "cell_type": "code",
   "execution_count": 11,
   "metadata": {},
   "outputs": [
    {
     "name": "stdout",
     "output_type": "stream",
     "text": [
      "Printing circuit:\n",
      "T  : |0|1|2| 3  |4|     5      |6|Result Types|\n",
      "                                               \n",
      "q0 : -H---U-SWAP---PHASE(-1.57)-H-Probability--\n",
      "          | |      |              |            \n",
      "q1 : -H-U-|-SWAP-H-C--------------Probability--\n",
      "        | |                       |            \n",
      "q2 : -H-U-U-----------------------Probability--\n",
      "\n",
      "T  : |0|1|2| 3  |4|     5      |6|Result Types|\n",
      "Measurement counts: Counter({'000': 504, '001': 496})\n",
      "Results in precision register: {'00': 1000}\n",
      "QPE phase estimates: [0.0]\n",
      "QPE eigenvalue estimates: [1.+0.j]\n"
     ]
    },
    {
     "data": {
      "image/png": "[encoded data removed]",
      "text/plain": [
       "<Figure size 432x288 with 1 Axes>"
      ]
     },
     "metadata": {
      "needs_background": "light"
     },
     "output_type": "display_data"
    }
   ],
   "source": [
    "# Set total number of precision qubits: 2\n",
    "number_precision_qubits = 2\n",
    "\n",
    "# Define the set of precision qubits\n",
    "precision_qubits = range(number_precision_qubits)\n",
    "\n",
    "# Define the query qubits. We'll have them start after the precision qubits\n",
    "query_qubits = [number_precision_qubits]\n",
    "\n",
    "# State preparation for eigenstate of U=X\n",
    "query = Circuit().h(query_qubits)\n",
    "\n",
    "# Run the test with U=X\n",
    "out = run_qpe(X, precision_qubits, query_qubits, query, device)\n",
    "\n",
    "# Postprocess results\n",
    "postprocess_qpe_results(out)"
   ]
  },
  {
   "cell_type": "markdown",
   "metadata": {},
   "source": [
    "Next, check that we get the same result for a larger precision (top) register. "
   ]
  },
  {
   "cell_type": "code",
   "execution_count": 12,
   "metadata": {},
   "outputs": [
    {
     "name": "stdout",
     "output_type": "stream",
     "text": [
      "Printing circuit:\n",
      "T  : |0|1|2|3| 4  |5|     6      |       7       |     8      |9|Result Types|\n",
      "                                                                              \n",
      "q0 : -H-----U-SWAP------------------PHASE(-0.785)-PHASE(-1.57)-H-Probability--\n",
      "            | |                     |             |              |            \n",
      "q1 : -H---U-|-|------PHASE(-1.57)-H-|-------------C--------------Probability--\n",
      "          | | |      |              |                            |            \n",
      "q2 : -H-U-|-|-SWAP-H-C--------------C----------------------------Probability--\n",
      "        | | |                                                    |            \n",
      "q3 : -H-U-U-U----------------------------------------------------Probability--\n",
      "\n",
      "T  : |0|1|2|3| 4  |5|     6      |       7       |     8      |9|Result Types|\n",
      "Measurement counts: Counter({'0000': 504, '0001': 496})\n",
      "Results in precision register: {'000': 1000}\n",
      "QPE phase estimates: [0.0]\n",
      "QPE eigenvalue estimates: [1.+0.j]\n"
     ]
    },
    {
     "data": {
      "image/png": "[encoded data removed]",
      "text/plain": [
       "<Figure size 432x288 with 1 Axes>"
      ]
     },
     "metadata": {
      "needs_background": "light"
     },
     "output_type": "display_data"
    }
   ],
   "source": [
    "# Set total number of precision qubits: 3\n",
    "number_precision_qubits = 3\n",
    "\n",
    "# Define the set of precision qubits\n",
    "precision_qubits = range(number_precision_qubits)\n",
    "\n",
    "# Define the query qubits. We'll have them start after the precision qubits\n",
    "query_qubits = [number_precision_qubits]\n",
    "\n",
    "# State preparation for eigenstate of U=X\n",
    "query = Circuit().h(query_qubits)\n",
    "\n",
    "# Run the test with U=X\n",
    "out = run_qpe(X, precision_qubits, query_qubits, query, device)\n",
    "\n",
    "# Postprocess results\n",
    "postprocess_qpe_results(out)"
   ]
  },
  {
   "cell_type": "markdown",
   "metadata": {},
   "source": [
    "### NUMERICAL TEST EXAMPLE 2"
   ]
  },
  {
   "cell_type": "markdown",
   "metadata": {},
   "source": [
    "Next, apply the QPE algorithm to the simple single-qubit unitary $U=X$, with eigenstate $|\\Psi\\rangle = |-\\rangle = HX|0\\rangle$. \n",
    "Here, we expect to measure the phase $\\varphi=0.5$ (giving the corresponding eigenvalue $\\lambda=-1$). "
   ]
  },
  {
   "cell_type": "code",
   "execution_count": 13,
   "metadata": {},
   "outputs": [
    {
     "name": "stdout",
     "output_type": "stream",
     "text": [
      "Printing circuit:\n",
      "T  : |0|1|2|3| 4  |5|     6      |7|Result Types|\n",
      "                                                 \n",
      "q0 : -H-----U-SWAP---PHASE(-1.57)-H-Probability--\n",
      "            | |      |              |            \n",
      "q1 : -H---U-|-SWAP-H-C--------------Probability--\n",
      "          | |                       |            \n",
      "q2 : -X-H-U-U-----------------------Probability--\n",
      "\n",
      "T  : |0|1|2|3| 4  |5|     6      |7|Result Types|\n",
      "Measurement counts: Counter({'100': 516, '101': 484})\n",
      "Results in precision register: {'10': 1000}\n",
      "QPE phase estimates: [0.5]\n",
      "QPE eigenvalue estimates: [-1.+0.j]\n"
     ]
    },
    {
     "data": {
      "image/png": "[encoded data removed]",
      "text/plain": [
       "<Figure size 432x288 with 1 Axes>"
      ]
     },
     "metadata": {
      "needs_background": "light"
     },
     "output_type": "display_data"
    }
   ],
   "source": [
    "# Set total number of precision qubits: 2\n",
    "number_precision_qubits = 2\n",
    "\n",
    "# Define the set of precision qubits\n",
    "precision_qubits = range(number_precision_qubits)\n",
    "\n",
    "# Define the query qubits. We'll have them start after the precision qubits\n",
    "query_qubits = [number_precision_qubits]\n",
    "\n",
    "# State preparation for eigenstate of U=X\n",
    "query = Circuit().x(query_qubits).h(query_qubits)\n",
    "\n",
    "# Run the test with U=X\n",
    "out = run_qpe(X, precision_qubits, query_qubits, query, device)\n",
    "\n",
    "# Postprocess results\n",
    "postprocess_qpe_results(out)"
   ]
  },
  {
   "cell_type": "markdown",
   "metadata": {},
   "source": [
    "### NUMERICAL TEST EXAMPLE 3"
   ]
  },
  {
   "cell_type": "markdown",
   "metadata": {},
   "source": [
    "Next, apply the QPE algorithm again to the simple single-qubit unitary $U=X$, but we initialize the query register in the state $|\\Psi\\rangle = |1\\rangle$ which is *not* an eigenstate of $U$. \n",
    "Here, following the previous discussion, we expect to measure the phases $\\varphi=0, 0.5$ (giving the corresponding eigenvalue $\\lambda=\\pm 1$). Accordingly, here we set ```items_to_keep=2```. "
   ]
  },
  {
   "cell_type": "code",
   "execution_count": 14,
   "metadata": {},
   "outputs": [
    {
     "name": "stdout",
     "output_type": "stream",
     "text": [
      "Printing circuit:\n",
      "T  : |0|1|2| 3  |4|     5      |6|Result Types|\n",
      "                                               \n",
      "q0 : -H---U-SWAP---PHASE(-1.57)-H-Probability--\n",
      "          | |      |              |            \n",
      "q1 : -H-U-|-SWAP-H-C--------------Probability--\n",
      "        | |                       |            \n",
      "q2 : -X-U-U-----------------------Probability--\n",
      "\n",
      "T  : |0|1|2| 3  |4|     5      |6|Result Types|\n",
      "Measurement counts: Counter({'000': 261, '100': 256, '101': 242, '001': 241})\n",
      "Results in precision register: {'10': 498, '00': 502}\n",
      "QPE phase estimates: [0.0, 0.5]\n",
      "QPE eigenvalue estimates: [ 1.+0.j -1.+0.j]\n"
     ]
    },
    {
     "data": {
      "image/png": "[encoded data removed]",
      "text/plain": [
       "<Figure size 432x288 with 1 Axes>"
      ]
     },
     "metadata": {
      "needs_background": "light"
     },
     "output_type": "display_data"
    }
   ],
   "source": [
    "# Set total number of precision qubits: 2\n",
    "number_precision_qubits = 2\n",
    "\n",
    "# Define the set of precision qubits\n",
    "precision_qubits = range(number_precision_qubits)\n",
    "\n",
    "# Define the query qubits. We'll have them start after the precision qubits\n",
    "query_qubits = [number_precision_qubits]\n",
    "\n",
    "# State preparation for |1>, which is not an eigenstate of U=X\n",
    "query = Circuit().x(query_qubits)\n",
    "\n",
    "# Run the test with U=X\n",
    "out = run_qpe(X, precision_qubits, query_qubits, query, device, items_to_keep=2)\n",
    "\n",
    "# Postprocess results\n",
    "postprocess_qpe_results(out)"
   ]
  },
  {
   "cell_type": "markdown",
   "metadata": {},
   "source": [
    "### NUMERICAL TEST EXAMPLE 4"
   ]
  },
  {
   "cell_type": "markdown",
   "metadata": {},
   "source": [
    "Next, apply the QPE algorithm to the two-qubit unitary $U=X \\otimes Z$, and prepare the query register in the eigenstate $|\\Psi\\rangle = |+\\rangle \\otimes |1\\rangle = H|0\\rangle \\otimes X|0\\rangle$. \n",
    "Here, we expect to measure the phase $\\varphi=0.5$ (giving the corresponding eigenvalue $\\lambda=-1$). "
   ]
  },
  {
   "cell_type": "code",
   "execution_count": 15,
   "metadata": {},
   "outputs": [
    {
     "name": "stdout",
     "output_type": "stream",
     "text": [
      "Two-qubit unitary (XZ):\n",
      " [[ 0.  0.  1.  0.]\n",
      " [ 0.  0.  0. -1.]\n",
      " [ 1.  0.  0.  0.]\n",
      " [ 0. -1.  0.  0.]]\n",
      "Eigenvalues: [ 1. -1.  1. -1.]\n"
     ]
    }
   ],
   "source": [
    "# set unitary matrix U\n",
    "u1 = np.kron(X, Id) \n",
    "u2 = np.kron(Id, Z)\n",
    "unitary = np.dot(u1, u2)\n",
    "print('Two-qubit unitary (XZ):\\n', unitary)\n",
    "\n",
    "# get example eigensystem \n",
    "eig_values, eig_vectors = np.linalg.eig(unitary)\n",
    "print('Eigenvalues:', eig_values)\n",
    "# print('Eigenvectors:', eig_vectors)"
   ]
  },
  {
   "cell_type": "code",
   "execution_count": 16,
   "metadata": {},
   "outputs": [
    {
     "name": "stdout",
     "output_type": "stream",
     "text": [
      "Printing circuit:\n",
      "T  : |0|1|2| 3  |4|     5      |6|Result Types|\n",
      "                                               \n",
      "q0 : -H---U-SWAP---PHASE(-1.57)-H-Probability--\n",
      "          | |      |              |            \n",
      "q1 : -H-U-|-SWAP-H-C--------------Probability--\n",
      "        | |                       |            \n",
      "q2 : -H-U-U-----------------------Probability--\n",
      "        | |                       |            \n",
      "q3 : -X-U-U-----------------------Probability--\n",
      "\n",
      "T  : |0|1|2| 3  |4|     5      |6|Result Types|\n",
      "Measurement counts: Counter({'1011': 503, '1001': 497})\n",
      "Results in precision register: {'10': 1000}\n",
      "QPE phase estimates: [0.5]\n",
      "QPE eigenvalue estimates: [-1.+0.j]\n"
     ]
    },
    {
     "data": {
      "image/png": "[encoded data removed]",
      "text/plain": [
       "<Figure size 432x288 with 1 Axes>"
      ]
     },
     "metadata": {
      "needs_background": "light"
     },
     "output_type": "display_data"
    }
   ],
   "source": [
    "# Set total number of precision qubits: 2\n",
    "number_precision_qubits = 2\n",
    "\n",
    "# Define the set of precision qubits\n",
    "precision_qubits = range(number_precision_qubits)\n",
    "\n",
    "# Define the query qubits. We'll have them start after the precision qubits\n",
    "query_qubits = [number_precision_qubits, number_precision_qubits+1]\n",
    "\n",
    "# State preparation for eigenstate |+,1> of U=X \\otimes Z\n",
    "query = Circuit().h(query_qubits[0]).x(query_qubits[1])\n",
    "\n",
    "# Run the test with U=X\n",
    "out = run_qpe(unitary, precision_qubits, query_qubits, query, device)\n",
    "\n",
    "# Postprocess results\n",
    "postprocess_qpe_results(out)"
   ]
  },
  {
   "cell_type": "markdown",
   "metadata": {},
   "source": [
    "### NUMERICAL TEST EXAMPLE 5"
   ]
  },
  {
   "cell_type": "markdown",
   "metadata": {},
   "source": [
    "In this example, we choose the unitary to be a _random_ two-qubit unitary, diagonal in the computational basis. We initialize the query register to be in the eigenstate $|11\\rangle$ of $U$, which we can prepare using that $|11\\rangle = X\\otimes X|00\\rangle$.\n",
    "In this case we should be able to read off the eigenvalue and phase from $U$ and verify that QPE gives the right answer."
   ]
  },
  {
   "cell_type": "code",
   "execution_count": 18,
   "metadata": {},
   "outputs": [
    {
     "name": "stdout",
     "output_type": "stream",
     "text": [
      "Two-qubit random unitary:\n",
      " [[ 0.865-0.502j  0.   +0.j     0.   +0.j     0.   +0.j   ]\n",
      " [ 0.   +0.j    -0.345-0.939j  0.   +0.j     0.   +0.j   ]\n",
      " [ 0.   +0.j     0.   +0.j    -0.001+1.j     0.   +0.j   ]\n",
      " [ 0.   +0.j     0.   +0.j     0.   +0.j    -0.836+0.549j]]\n",
      "Check for unitarity:  True\n",
      "Eigenvalues: [ 0.865-0.502j -0.345-0.939j -0.001+1.j    -0.836+0.549j]\n"
     ]
    }
   ],
   "source": [
    "# Generate a random 2 qubit unitary matrix:\n",
    "from scipy.stats import unitary_group\n",
    "\n",
    "# Fix random seed for reproducibility\n",
    "np.random.seed(seed=46)\n",
    "\n",
    "# Get random two-qubit unitary\n",
    "random_unitary = unitary_group.rvs(2**2)\n",
    "\n",
    "# Let's diagonalize this\n",
    "evals = np.linalg.eig(random_unitary)[0]\n",
    "\n",
    "# Since we want to be able to read off the eigenvalues of the unitary in question\n",
    "# let's choose our unitary to be diagonal in this basis\n",
    "unitary = np.diag(evals)\n",
    "\n",
    "# Check that this is indeed unitary, and print it out:\n",
    "print('Two-qubit random unitary:\\n', np.round(unitary, 3))\n",
    "print('Check for unitarity: ', np.allclose(np.eye(len(unitary)), unitary.dot(unitary.T.conj())))\n",
    "\n",
    "# Print eigenvalues\n",
    "print('Eigenvalues:', np.round(evals, 3))"
   ]
  },
  {
   "cell_type": "markdown",
   "metadata": {},
   "source": [
    "When we execute the QPE circuit, we expect the following (approximate) result for the eigenvalue estimate: "
   ]
  },
  {
   "cell_type": "code",
   "execution_count": 19,
   "metadata": {
    "scrolled": true
   },
   "outputs": [
    {
     "name": "stdout",
     "output_type": "stream",
     "text": [
      "Target eigenvalue: (-0.836+0.549j)\n"
     ]
    }
   ],
   "source": [
    "print('Target eigenvalue:', np.round(evals[-1], 3))"
   ]
  },
  {
   "cell_type": "code",
   "execution_count": 21,
   "metadata": {
    "scrolled": false
   },
   "outputs": [
    {
     "name": "stdout",
     "output_type": "stream",
     "text": [
      "Printing circuit:\n",
      "T  : |0|1|2|3| 4  |5|     6      |      7       |     8      |9|Result Types|\n",
      "                                                                             \n",
      "q0 : -H-----U-SWAP------------------PHASE(-0.79)-PHASE(-1.57)-H-Probability--\n",
      "            | |                     |            |              |            \n",
      "q1 : -H---U-|-|------PHASE(-1.57)-H-|------------C--------------Probability--\n",
      "          | | |      |              |                           |            \n",
      "q2 : -H-U-|-|-SWAP-H-C--------------C---------------------------Probability--\n",
      "        | | |                                                   |            \n",
      "q3 : -X-U-U-U---------------------------------------------------Probability--\n",
      "        | | |                                                   |            \n",
      "q4 : -X-U-U-U---------------------------------------------------Probability--\n",
      "\n",
      "T  : |0|1|2|3| 4  |5|     6      |      7       |     8      |9|Result Types|\n",
      "Measurement counts: Counter({'01111': 798, '10011': 108, '01011': 32, '10111': 24, '11111': 12, '00111': 10, '00011': 9, '11011': 7})\n",
      "Results in precision register: {'000': 9, '101': 24, '110': 7, '111': 12, '011': 798, '100': 108, '001': 10, '010': 32}\n",
      "QPE phase estimates: [0.375]\n",
      "QPE eigenvalue estimates: [-0.70711+0.70711j]\n",
      "Target eigenvalue: (-0.836+0.549j)\n"
     ]
    },
    {
     "data": {
      "image/png": "[encoded data removed]",
      "text/plain": [
       "<Figure size 640x480 with 1 Axes>"
      ]
     },
     "metadata": {},
     "output_type": "display_data"
    }
   ],
   "source": [
    "# Set total number of precision qubits\n",
    "number_precision_qubits = 3\n",
    "\n",
    "# Define the set of precision qubits\n",
    "precision_qubits = range(number_precision_qubits)\n",
    "\n",
    "# Define the query qubits. We'll have them start after the precision qubits\n",
    "query_qubits = [number_precision_qubits, number_precision_qubits+1]\n",
    "\n",
    "query = Circuit().x(query_qubits[0]).x(query_qubits[1])\n",
    "\n",
    "# Run the test with U=X\n",
    "out = run_qpe(unitary, precision_qubits, query_qubits, query, device)\n",
    "\n",
    "# Postprocess results\n",
    "postprocess_qpe_results(out)\n",
    "\n",
    "# compare output to exact target values\n",
    "print('Target eigenvalue:', np.round(evals[-1], 3))"
   ]
  },
  {
   "cell_type": "markdown",
   "metadata": {},
   "source": [
    "We can easily improve the precision of our parameter estimate by increasing the number of qubits in the precision register, as shown in the following example. "
   ]
  },
  {
   "cell_type": "code",
   "execution_count": 20,
   "metadata": {},
   "outputs": [
    {
     "name": "stdout",
     "output_type": "stream",
     "text": [
      "QPE eigenvalue estimates: [0.74506-0.667j]\n",
      "Target eigenvalue: (0.74699-0.66484j)\n"
     ]
    }
   ],
   "source": [
    "# Set total number of precision qubits\n",
    "number_precision_qubits = 10\n",
    "\n",
    "# Define the set of precision qubits\n",
    "precision_qubits = range(number_precision_qubits)\n",
    "\n",
    "# Define the query qubits. We'll have them start after the precision qubits\n",
    "query_qubits = [number_precision_qubits, number_precision_qubits+1]\n",
    "\n",
    "# State preparation for eigenstate |1,1> of diagonal U\n",
    "query = Circuit().x(query_qubits[0]).x(query_qubits[1])\n",
    "\n",
    "# Run the test with U=X\n",
    "out = run_qpe(unitary, precision_qubits, query_qubits, query, device)\n",
    "\n",
    "# Postprocess results\n",
    "eigenvalues = out['eigenvalues']\n",
    "print('QPE eigenvalue estimates:', np.round(eigenvalues, 5))\n",
    "\n",
    "# compare output to exact target values\n",
    "print('Target eigenvalue:', np.round(evals[-1], 5))"
   ]
  },
  {
   "cell_type": "markdown",
   "metadata": {},
   "source": [
    "---\n",
    "## APPENDIX"
   ]
  },
  {
   "cell_type": "code",
   "execution_count": 21,
   "metadata": {
    "scrolled": true
   },
   "outputs": [
    {
     "name": "stdout",
     "output_type": "stream",
     "text": [
      "Version: 0.6.0\r\n"
     ]
    }
   ],
   "source": [
    "# Check SDK version\n",
    "# alternative: braket.__version__\n",
    "!pip show amazon-braket-sdk | grep Version"
   ]
  },
  {
   "cell_type": "markdown",
   "metadata": {},
   "source": [
    "## Details of the ```utiles_qpe.py``` module"
   ]
  },
  {
   "cell_type": "markdown",
   "metadata": {},
   "source": [
    "### Imports, including inverse QFT"
   ]
  },
  {
   "cell_type": "markdown",
   "metadata": {},
   "source": [
    "```python\n",
    "# general imports\n",
    "import numpy as np\n",
    "import math\n",
    "from collections import Counter\n",
    "from datetime import datetime\n",
    "import pickle\n",
    "\n",
    "# AWS imports: Import Braket SDK modules\n",
    "from braket.circuits import Circuit, circuit\n",
    "\n",
    "# local imports\n",
    "from utils_qft import inverse_qft\n",
    "```"
   ]
  },
  {
   "cell_type": "markdown",
   "metadata": {},
   "source": [
    "### QPE Subroutine"
   ]
  },
  {
   "cell_type": "markdown",
   "metadata": {},
   "source": [
    "```python\n",
    "@circuit.subroutine(register=True)\n",
    "def controlled_unitary(control, target_qubits, unitary):\n",
    "    \"\"\"\n",
    "    Construct a circuit object corresponding to the controlled unitary\n",
    "\n",
    "    Args:\n",
    "        control: The qubit on which to control the gate\n",
    "\n",
    "        target_qubits: List of qubits on which the unitary U acts\n",
    "\n",
    "        unitary: matrix representation of the unitary we wish to implement in a controlled way\n",
    "    \"\"\"\n",
    "\n",
    "    # Define projectors onto the computational basis\n",
    "    p0 = np.array([[1., 0.],\n",
    "                   [0., 0.]])\n",
    "\n",
    "    p1 = np.array([[0., 0.],\n",
    "                   [0., 1.]])\n",
    "\n",
    "    # Instantiate circuit object\n",
    "    circ = Circuit()\n",
    "\n",
    "    # Construct numpy matrix\n",
    "    id_matrix = np.eye(len(unitary))\n",
    "    controlled_matrix = np.kron(p0, id_matrix) + np.kron(p1, unitary)\n",
    "\n",
    "    # Set all target qubits\n",
    "    targets = [control] + target_qubits\n",
    "\n",
    "    # Add controlled unitary\n",
    "    circ.unitary(matrix=controlled_matrix, targets=targets)\n",
    "\n",
    "    return circ\n",
    "\n",
    "\n",
    "@circuit.subroutine(register=True)\n",
    "def qpe(precision_qubits, query_qubits, unitary, control_unitary=True):\n",
    "    \"\"\"\n",
    "    Function to implement the QPE algorithm using two registers for precision (read-out) and query.\n",
    "    Register qubits need not be contiguous.\n",
    "\n",
    "    Args:\n",
    "        precision_qubits: list of qubits defining the precision register\n",
    "\n",
    "        query_qubits: list of qubits defining the query register\n",
    "\n",
    "        unitary: Matrix representation of the unitary whose eigenvalues we wish to estimate\n",
    "\n",
    "        control_unitary: Optional boolean flag for controlled unitaries,\n",
    "                         with C-(U^{2^k}) by default (default is True),\n",
    "                         or C-U controlled-unitary (2**power) times\n",
    "    \"\"\"\n",
    "    qpe_circ = Circuit()\n",
    "\n",
    "    # Get number of qubits\n",
    "    num_precision_qubits = len(precision_qubits)\n",
    "    num_query_qubits = len(query_qubits)\n",
    "\n",
    "    # Apply Hadamard across precision register\n",
    "    qpe_circ.h(precision_qubits)\n",
    "\n",
    "    # Apply controlled unitaries. Start with the last precision_qubit, and end with the first\n",
    "    for ii, qubit in enumerate(reversed(precision_qubits)):\n",
    "        # Set power exponent for unitary\n",
    "        power = ii\n",
    "\n",
    "        # Alterantive 1: Implement C-(U^{2^k})\n",
    "        if control_unitary:\n",
    "            # Define the matrix U^{2^k}\n",
    "            Uexp = np.linalg.matrix_power(unitary,2**power)\n",
    "\n",
    "            # Apply the controlled unitary C-(U^{2^k})\n",
    "            qpe_circ.controlled_unitary(qubit, query_qubits, Uexp)\n",
    "        # Alterantive 2: One can instead apply controlled-unitary (2**power) times to get C-U^{2^power}\n",
    "        else:\n",
    "            for _ in range(2**power):\n",
    "                qpe_circ.controlled_unitary(qubit, query_qubits, unitary)\n",
    "\n",
    "    # Apply inverse qft to the precision_qubits\n",
    "    qpe_circ.inverse_qft(precision_qubits)\n",
    "\n",
    "    return qpe_circ\n",
    "```"
   ]
  },
  {
   "cell_type": "markdown",
   "metadata": {},
   "source": [
    "### QPE postprocessing helper functions"
   ]
  },
  {
   "cell_type": "markdown",
   "metadata": {},
   "source": [
    "```python\n",
    "# helper function to remove query bits from bitstrings\n",
    "def substring(key, precision_qubits):\n",
    "    \"\"\"\n",
    "    Helper function to get substring from keys for dedicated string positions as given by precision_qubits.\n",
    "    This function is necessary to allow for arbitrary qubit mappings in the precision and query registers\n",
    "    (that is, so that the register qubits need not be contiguous.)\n",
    "\n",
    "    Args:\n",
    "        key: string from which we want to extract the substring supported only on the precision qubits\n",
    "\n",
    "        precision_qubits: List of qubits corresponding to precision_qubits.\n",
    "                          Currently assumed to be a list of integers corresponding to the indices of the qubits\n",
    "    \"\"\"\n",
    "    short_key = ''\n",
    "    for idx in precision_qubits:\n",
    "        short_key = short_key + key[idx]\n",
    "\n",
    "    return short_key\n",
    "\n",
    "\n",
    "# helper function to convert binary fractional to decimal\n",
    "# reference: https://www.geeksforgeeks.org/convert-binary-fraction-decimal/\n",
    "def binaryToDecimal(binary):\n",
    "    \"\"\"\n",
    "    Helper function to convert binary string (example: '01001') to decimal\n",
    "\n",
    "    Args:\n",
    "        binary: string which to convert to decimal fraction\n",
    "    \"\"\"\n",
    "\n",
    "    length = len(binary)\n",
    "    fracDecimal = 0\n",
    "\n",
    "    # Convert fractional part of binary to decimal equivalent\n",
    "    twos = 2\n",
    "\n",
    "    for ii in range(length):\n",
    "        fracDecimal += ((ord(binary[ii]) - ord('0')) / twos);\n",
    "        twos *= 2.0\n",
    "\n",
    "    # return fractional part\n",
    "    return fracDecimal\n",
    "\n",
    "\n",
    "# helper function for postprocessing based on measurement shots\n",
    "def get_qpe_phases(measurement_counts, precision_qubits, items_to_keep=1):\n",
    "    \"\"\"\n",
    "    Get QPE phase estimate from measurement_counts for given number of precision qubits\n",
    "\n",
    "    Args:\n",
    "        measurement_counts: measurement results from a device run\n",
    "\n",
    "        precision_qubits: List of qubits corresponding to precision_qubits.\n",
    "                          Currently assumed to be a list of integers corresponding to the indices of the qubits\n",
    "\n",
    "        items_to_keep: number of items to return (topmost measurement counts for precision register)\n",
    "    \"\"\"\n",
    "\n",
    "    # Aggregate the results (that is, ignore the query register qubits):\n",
    "\n",
    "    # First get bitstrings with corresponding counts for precision qubits only\n",
    "    bitstrings_precision_register = [substring(key, precision_qubits)  for key in measurement_counts.keys()]\n",
    "    # Then keep only the unique strings\n",
    "    bitstrings_precision_register_set = set(bitstrings_precision_register)\n",
    "    # Cast as a list for later use\n",
    "    bitstrings_precision_register_list = list(bitstrings_precision_register_set)\n",
    "\n",
    "    # Now create a new dict to collect measurement results on the precision_qubits.\n",
    "    # Keys are given by the measurement count substrings on the register qubits. Initialize the counts to zero.\n",
    "    precision_results_dic = {key: 0 for key in bitstrings_precision_register_list}\n",
    "\n",
    "    # Loop over all measurement outcomes\n",
    "    for key in measurement_counts.keys():\n",
    "        # Save the measurement count for this outcome\n",
    "        counts = measurement_counts[key]\n",
    "        # Generate the corresponding shortened key (supported only on the precision_qubits register)\n",
    "        count_key = substring(key, precision_qubits)\n",
    "        # Add these measurement counts to the corresponding key in our new dict\n",
    "        precision_results_dic[count_key] += counts\n",
    "\n",
    "    # Get topmost values only\n",
    "    c = Counter(precision_results_dic)\n",
    "    topmost= c.most_common(items_to_keep)\n",
    "    # get decimal phases from bitstrings for topmost bitstrings\n",
    "    phases_decimal = [binaryToDecimal(item[0]) for item in topmost]\n",
    "\n",
    "    # Get decimal phases from bitstrings for all bitstrings\n",
    "    # number_precision_qubits = len(precision_qubits)\n",
    "    # Generate binary decimal expansion\n",
    "    # phases_decimal = [int(key, 2)/(2**number_precision_qubits) for key in precision_results_dic]\n",
    "    # phases_decimal = [binaryToDecimal(key) for key in precision_results_dic]\n",
    "\n",
    "    return phases_decimal, precision_results_dic\n",
    "```"
   ]
  },
  {
   "cell_type": "markdown",
   "metadata": {},
   "source": [
    "### Run QPE experiments:"
   ]
  },
  {
   "cell_type": "markdown",
   "metadata": {},
   "source": [
    "```python\n",
    "def run_qpe(unitary, precision_qubits, query_qubits, query_circuit,\n",
    "            device, items_to_keep=1, shots=1000, save_to_pck=False):\n",
    "    \"\"\"\n",
    "    Function to run QPE algorithm end-to-end and return measurement counts.\n",
    "\n",
    "    Args:\n",
    "        precision_qubits: list of qubits defining the precision register\n",
    "\n",
    "        query_qubits: list of qubits defining the query register\n",
    "\n",
    "        unitary: Matrix representation of the unitary whose eigenvalues we wish to estimate\n",
    "\n",
    "        query_circuit: query circuit for state preparation of query register\n",
    "\n",
    "        items_to_keep: (optional) number of items to return (topmost measurement counts for precision register)\n",
    "\n",
    "        device: Braket device backend\n",
    "\n",
    "        shots: (optional) number of measurement shots (default is 1000)\n",
    "\n",
    "        save_to_pck: (optional) save results to pickle file if True (default is False)\n",
    "    \"\"\"\n",
    "\n",
    "    # get size of precision register and total number of qubits\n",
    "    number_precision_qubits = len(precision_qubits)\n",
    "    num_qubits = len(precision_qubits) + len(query_qubits)\n",
    "\n",
    "    # Define the circuit. Start by copying the query_circuit, then add the QPE:\n",
    "    circ = query_circuit\n",
    "    circ.qpe(precision_qubits, query_qubits, unitary)\n",
    "\n",
    "    # Add desired results_types\n",
    "    circ.probability()\n",
    "\n",
    "    # Run the circuit with all zeros input.\n",
    "    # The query_circuit subcircuit generates the desired input from all zeros.\n",
    "    # The following code executes the correct device.run call, depending on whether the backend is local or on-demand\n",
    "    task = device.run(circ, shots=shots)\n",
    "\n",
    "    # get result for this task\n",
    "    result = task.result()\n",
    "\n",
    "    # get metadata\n",
    "    metadata = result.task_metadata\n",
    "\n",
    "    # get output probabilities (see result_types above)\n",
    "    probs_values = result.values[0]\n",
    "\n",
    "    # get measurement results\n",
    "    measurements = result.measurements\n",
    "    measured_qubits = result.measured_qubits\n",
    "    measurement_counts = result.measurement_counts\n",
    "    measurement_probabilities = result.measurement_probabilities\n",
    "\n",
    "    # bitstrings\n",
    "    format_bitstring = '{0:0' + str(num_qubits) + 'b}'\n",
    "    bitstring_keys = [format_bitstring.format(ii) for ii in range(2**num_qubits)]\n",
    "\n",
    "    # QPE postprocessing\n",
    "    phases_decimal, precision_results_dic = get_qpe_phases(measurement_counts, precision_qubits, items_to_keep)\n",
    "    eigenvalues = [np.exp(2*np.pi*1j*phase) for phase in phases_decimal]\n",
    "\n",
    "    # aggregate results\n",
    "    out = {'circuit': circ,\n",
    "           'task_metadata': metadata,\n",
    "           'measurements': measurements,\n",
    "           'measured_qubits': measured_qubits,\n",
    "           'measurement_counts': measurement_counts,\n",
    "           'measurement_probabilities': measurement_probabilities,\n",
    "           'probs_values': probs_values,\n",
    "           'bitstring_keys': bitstring_keys,\n",
    "           'precision_results_dic': precision_results_dic,\n",
    "           'phases_decimal': phases_decimal,\n",
    "           'eigenvalues': eigenvalues}\n",
    "\n",
    "    if save_to_pck:\n",
    "        # store results: dump output to pickle with timestamp in filename\n",
    "        time_now = datetime.strftime(datetime.now(), '%Y%m%d%H%M%S')\n",
    "        results_file = 'results-'+time_now+'.pck'\n",
    "        pickle.dump(out, open(results_file, \"wb\"))\n",
    "        # you can load results as follows\n",
    "        # out = pickle.load(open(results_file, \"rb\"))\n",
    "\n",
    "    return out\n",
    "```"
   ]
  },
  {
   "cell_type": "markdown",
   "metadata": {},
   "source": [
    "---\n",
    "## REFERENCES\n",
    "\n",
    "[1] Wikipedia: https://en.wikipedia.org/wiki/Quantum_phase_estimation_algorithm\n",
    "\n",
    "[2] Nielsen, Michael A., Chuang, Isaac L. (2010). Quantum Computation and Quantum Information (2nd ed.). Cambridge: Cambridge University Press."
   ]
  },
  {
   "cell_type": "code",
   "execution_count": 22,
   "metadata": {},
   "outputs": [
    {
     "name": "stdout",
     "output_type": "stream",
     "text": [
      "Task Summary\n",
      "{'arn:aws:braket:::device/quantum-simulator/amazon/sv1': {'shots': 7000, 'tasks': {'COMPLETED': 7}, 'execution_duration': datetime.timedelta(microseconds=193000), 'billed_execution_duration': datetime.timedelta(seconds=21)}}\n",
      "Note: Charges shown are estimates based on your Amazon Braket simulator and quantum processing unit (QPU) task usage. Estimated charges shown may differ from your actual charges. Estimated charges do not factor in any discounts or credits, and you may experience additional charges based on your use of other services such as Amazon Elastic Compute Cloud (Amazon EC2).\n",
      "Estimated cost to run this example: 0.03 USD\n"
     ]
    }
   ],
   "source": [
    "print(\"Task Summary\")\n",
    "print(t.quantum_tasks_statistics())\n",
    "print('Note: Charges shown are estimates based on your Amazon Braket simulator and quantum processing unit (QPU) task usage. Estimated charges shown may differ from your actual charges. Estimated charges do not factor in any discounts or credits, and you may experience additional charges based on your use of other services such as Amazon Elastic Compute Cloud (Amazon EC2).')\n",
    "print(f\"Estimated cost to run this example: {t.qpu_tasks_cost() + t.simulator_tasks_cost():.2f} USD\")"
   ]
  }
 ],
 "metadata": {
  "kernelspec": {
   "display_name": "Qbench_kernel",
   "language": "python",
   "name": "qbench_kernel"
  },
  "language_info": {
   "codemirror_mode": {
    "name": "ipython",
    "version": 3
   },
   "file_extension": ".py",
   "mimetype": "text/x-python",
   "name": "python",
   "nbconvert_exporter": "python",
   "pygments_lexer": "ipython3",
   "version": "3.7.12"
  },
  "vscode": {
   "interpreter": {
    "hash": "590fab68195cf107911461461f81d5c472d3d6127f579badfcfad30f03e5cab2"
   }
  }
 },
 "nbformat": 4,
 "nbformat_minor": 4
}
