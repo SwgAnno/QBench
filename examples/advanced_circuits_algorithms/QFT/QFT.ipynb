{
 "cells": [
  {
   "cell_type": "markdown",
   "metadata": {},
   "source": [
    "# QUANTUM FOURIER TRANSFORM"
   ]
  },
  {
   "cell_type": "markdown",
   "metadata": {},
   "source": [
    "In this tutorial, we provide a detailed implementation of the Quantum Fourier Transform (QFT) and the inverse thereof, using Amazon Braket's SDK.\n",
    "We provide two different implementations, with and without recursion.\n",
    "The QFT is an important subroutine to many quantum algorithms, most famously Shor's algorithm for factoring and the quantum phase estimation (QPE) algorithm for estimating the eigenvalues of a unitary operator [1, 2]. \n",
    "The QFT can be performed efficiently on a quantum computer, using only ${\\displaystyle O(n^{2})}$ single-qubit Hadamard gates and two-qubit controlled phase shift gates, where ${\\displaystyle n}$ is the number of qubits. \n",
    "We first review the basics of the quantum Fourier transform, and its relation to the discrete (classical) Fourier transform. \n",
    "We then implement the QFT in code two ways: recursively and non-recursively. \n",
    "This notebook also showcases Braket's `circuit.subroutine` functionality, which allows one to define custom methods and add them to the Circuit class."
   ]
  },
  {
   "cell_type": "markdown",
   "metadata": {},
   "source": [
    "## TECHNICAL BACKGROUND OF QFT "
   ]
  },
  {
   "cell_type": "markdown",
   "metadata": {},
   "source": [
    "__Introduction__: The Quantum Fourier Transform (QFT) is a quantum algorithm for applying the discrete Fourier transform to the amplitudes of a quantum state.  The QFT is therefore a quantum analog of the classical discrete Fourier transform [1, 2].\n",
    "\n",
    "Let us first review the classical discrete Fourier transform (DFT). \n",
    "Given a vector $(x_0,\\ldots,x_{N-1})\\in\\mathbb{C}^N$, the discrete Fourier transform computes the vector $(y_0,\\ldots,y_{N-1})$ for which\n",
    "$$ y_j = \\frac{1}{\\sqrt{N}}\\sum_{k=0}^{N-1} x_k e^{\\frac{2\\pi i}{N}jk}.$$\n",
    "\n",
    "__Quantum Fourier Transformation__: In close analogy to the classical Fourier transform, the QFT takes an arbitrary input state $\\left|\\mathrm{input}\\right> = \\sum x_{j}\\left|j\\right>$ (with the orthonormal basis states $\\left|0\\right>$, $\\left|1\\right>$, ..., $\\left|N-1\\right>$), and maps it to the output state\n",
    "$$\\left|\\mathrm{output}\\right> = \\sum_{k} y_{k}\\left|k\\right>,$$ \n",
    "with coefficients\n",
    "$$y_{k}=\\frac{1}{\\sqrt{N}}\\sum_{n}x_{n}e^{2\\pi i\\cdot n\\cdot k/N}.$$\n",
    "\n",
    "__Binary representation (notation)__: We take $N=2^{n}$, with $n$ being the number of qubits. In the binary representation, the states $\\{\\left|x\\right>\\}$ read explicitly \n",
    "\n",
    "$$\\left|x\\right> = \\left|x_{1}x_{2}\\dots x_{n}\\right>,$$ \n",
    "where\n",
    "$$x = x_{1}2^{n-1}+x_{2}2^{n-2}+\\dots+x_{n}2^{0}.$$\n",
    "\n",
    "For example, in a four-qubit system $\\left|7\\right> = \\left|0111\\right>$ and $\\left|8\\right> = \\left|1000\\right>$.\n",
    "Similarly, we use the following notation to represent binary fractions:\n",
    "\n",
    "$$[0.x_{l}x_{l+1}\\dots x_{m}] = \\frac{x_{l}}{2^{1}} + \\frac{x_{l+1}}{2^{2}} + \\frac{x_{m}}{2^{m-l+1}}.$$\n",
    "\n",
    "__Product representation of QFT__: Very often, the product representation of the QFT proves useful. Accordingly, the QFT can be expressed (up to normalization) as\n",
    "$$\\left|x_{1}x_{2}\\dots x_{n}\\right> \\longrightarrow \\frac{(\\left|0\\right>+e^{2\\pi i[0.x_{n}]}\\left|1\\right>)\\otimes (\\left|0\\right>+e^{2\\pi i[0.x_{n-1}x_{n}]}\\left|1\\right>)\\otimes \\dots \\otimes (\\left|0\\right>+e^{2\\pi i[0.x_{1}x_{2}\\dots x_{n}]}\\left|1\\right>)}{2^{n/2}}.$$\n",
    "For example, the QFT on three qubits can be written as \n",
    "\n",
    "$$\\mathrm{QFT}\\left|x_{1}x_{2}x_{3}\\right> = \\frac{1}{2^{3/2}}\\left(\\left|0\\right>+e^{2\\pi i[0.x_{3}]}\\left|1\\right>\\right) \\otimes \\left(\\left|0\\right>+e^{2\\pi i[0.x_{2}x_{3}]}\\left|1\\right>\\right) \\otimes \\left(\\left|0\\right>+e^{2\\pi i[0.x_{1}x_{2}x_{3}]}\\left|1\\right>\\right).$$\n",
    "\n",
    "Thus, for the simple input state $\\left|0,0,0\\right>$ with $x_{i}=0$, it is easy to see that the QFT produces a uniform superposition of all computational basis vectors (since only the Hadamard gates act non-trivially in this case).  Explicitly:\n",
    "$$\n",
    "\\begin{split}\n",
    "\\mathrm{QFT}\\left|0,0,0\\right> & = \\frac{1}{\\sqrt{2^{3}}}(\\left|0\\right>+\\left|1\\right>) \\otimes (\\left|0\\right>+\\left|1\\right>) \\otimes (\\left|0\\right>+\\left|1\\right>) \\\\\n",
    " & = \\frac{1}{\\sqrt{2^{3}}} \\bigotimes_{i} \\left|+\\right>_{i}\n",
    "\\end{split}\n",
    "$$\n",
    "\n",
    "__Inverse QFT__: Below we will also implement the inverse QFT algorithm (denoted by $\\mathrm{QFT}^{\\dagger}$, or sometimes $\\mathrm{QFT}^{-1}$), which fulfills $\\mathrm{QFT}\\cdot\\mathrm{QFT}^{\\dagger}=\\mathbb{1}$, where $\\mathbb{1}$ is the identity. For example, with the inverse QFT we can invert the above three qubit QFT as \n",
    "\n",
    "$$\\mathrm{QFT}^\\dagger\\mathrm{QFT}\\left|x_{1}x_{2}x_{3}\\right> = \\mathrm{QFT}^{\\dagger}(\\left|0\\right>+e^{2\\pi i[0.x_{3}]}\\left|1\\right>) \\otimes (\\left|0\\right>+e^{2\\pi i[0.x_{2}x_{3}]}\\left|1\\right>) \\otimes (\\left|0\\right>+e^{2\\pi i[0.x_{1}x_{2}x_{3}]}\\left|1\\right>)/2^{3/2}=\\left|x_{1}x_{2}x_{3}\\right>.$$\n",
    "\n",
    "__Example for inverse QFT:__ For further illustration, we will run a concrete example of this kind below. \n",
    "Specifically, consider the following example with $x_{1}=0$, $x_{2}=1$, and $x_{3}=0$ encoding the number 2 in binary representation. \n",
    "Accordingly, we prepare the initial state (up to normalization)\n",
    "\n",
    "$$\\left|\\Psi_\\mathrm{in}\\right>=(\\left|0\\right>+e^{2\\pi i[0.0]}\\left|1\\right>) \\otimes (\\left|0\\right>+e^{2\\pi i[0.10]}\\left|1\\right>) \\otimes (\\left|0\\right>+e^{2\\pi i[0.010]}\\left|1\\right>),$$\n",
    "which is equivalent to \n",
    "$$\\left|\\Psi_\\mathrm{in}\\right>=(\\left|0\\right>+\\left|1\\right>) \\otimes (\\left|0\\right>+e^{2\\pi i\\frac{1}{2}}\\left|1\\right>) \\otimes (\\left|0\\right>+e^{2\\pi i\\frac{1}{4}}\\left|1\\right>).$$\n",
    "\n",
    "This state can be prepared using the single-qubits gates $H$ and $R_{z}$ as follows: \n",
    "\n",
    "$$\\left|\\Psi_\\mathrm{in}\\right>=H\\left|0\\right> \\otimes R_{z}(\\pi)H\\left|0\\right> \\otimes R_{z}(\\pi/2)H\\left|0\\right>.$$\n",
    "\n",
    "Based on the analysis above we then expect $\\mathrm{QFT}^{\\dagger} \\left|\\Psi_\\mathrm{in}\\right> = \\left|0,1,0\\right>$.\n",
    "We can generalize the above example to multiple qubits with the following state preparation code:\n",
    "```python\n",
    "circ = Circuit()\n",
    "circ.h(range(num_qubits))\n",
    "for ii in range(num_qubits - 1):\n",
    "    circ.rz(ii+1, math.pi/(2**ii))\n",
    "```"
   ]
  },
  {
   "cell_type": "markdown",
   "metadata": {},
   "source": [
    "## CIRCUIT IMPLEMENTATION OF QFT"
   ]
  },
  {
   "attachments": {},
   "cell_type": "markdown",
   "metadata": {},
   "source": [
    "The QFT circuit can be implemented using only Hadamard gates, controlled phase gates, and SWAP gates. The Hadamard gate $H$, the phase gate ${\\displaystyle R_{m}}$, and the SWAP gate are given by\n",
    "$$H = \\frac{1}{\\sqrt{2}}\n",
    "\\begin{pmatrix} \n",
    "1 & 1\\\\\n",
    "1 & -1\\\\\n",
    "\\end{pmatrix} \\qquad \\qquad\n",
    "R_{m} = \n",
    "\\begin{pmatrix} \n",
    "1 & 0\\\\\n",
    "0 & e^{\\frac{2\\pi i}{2^{m}}}\\\\\n",
    "\\end{pmatrix} \\qquad \\qquad\n",
    "\\mathrm{SWAP} = \n",
    "\\begin{pmatrix} \n",
    "1 & 0 & 0 & 0\\\\\n",
    "0 & 0 & 1 & 0\\\\\n",
    "0 & 1 & 0 & 0\\\\\n",
    "0 & 0 & 0 & 1\\\\\n",
    "\\end{pmatrix}.$$\n",
    "\n",
    "The details of the calculation can be found in a number of resources (including a great exposition on [Wikipedia](https://en.wikipedia.org/wiki/Quantum_Fourier_transform) [1]), but the circuit that implements this transformation reads as follows (note that we need to apply a series of swap gates to reverse the order of the qubits thereby recovering the QFT as described above): \n",
    "<div align=\"center\"><img src=\"circuit.png\"/></div>"
   ]
  },
  {
   "attachments": {},
   "cell_type": "markdown",
   "metadata": {},
   "source": [
    "__Recursive Implemenation__: By inspection, we can define the first part of this circuit (i.e., everything except the SWAP gates) recursively as shown below: \n",
    "<div align=\"center\"><img src=\"recursive_circuit.png\"/></div>\n",
    "\n",
    "where $\\text{QFT}_k$ in the above is the part of the circuit excluding the final SWAP gates. "
   ]
  },
  {
   "cell_type": "markdown",
   "metadata": {},
   "source": [
    "## IMPORTS and SETUP"
   ]
  },
  {
   "cell_type": "code",
   "execution_count": 1,
   "metadata": {},
   "outputs": [],
   "source": [
    "# general imports\n",
    "import numpy as np\n",
    "import math\n",
    "import matplotlib.pyplot as plt\n",
    "# magic word for producing visualizations in notebook\n",
    "%matplotlib inline"
   ]
  },
  {
   "cell_type": "code",
   "execution_count": 2,
   "metadata": {},
   "outputs": [],
   "source": [
    "# AWS imports: Import Braket SDK modules\n",
    "from braket.circuits import Circuit, circuit\n",
    "from braket.devices import LocalSimulator"
   ]
  },
  {
   "cell_type": "code",
   "execution_count": 3,
   "metadata": {},
   "outputs": [],
   "source": [
    "# set up device: Local Simulator\n",
    "device = LocalSimulator()"
   ]
  },
  {
   "cell_type": "markdown",
   "metadata": {},
   "source": [
    "## IMPLEMENTATION OF THE QFT AND INVERSE QFT CIRCUITS"
   ]
  },
  {
   "cell_type": "markdown",
   "metadata": {},
   "source": [
    "In this section we provide simple helper functions to implement the circuits for both QFT and inverse QFT. \n",
    "Specifically, we demonstrate how such modular building blocks can be registered as subroutines, using ```@circuit.subroutine(register=True)```.  "
   ]
  },
  {
   "cell_type": "markdown",
   "metadata": {},
   "source": [
    "##### Recursive definition of the QFT"
   ]
  },
  {
   "cell_type": "code",
   "execution_count": 4,
   "metadata": {},
   "outputs": [],
   "source": [
    "# qft subroutine without swaps\n",
    "def qft_no_swap(qubits):    \n",
    "    \"\"\"\n",
    "    Subroutine of the QFT excluding the final SWAP gates, applied to the qubits argument.\n",
    "    Returns the a circuit object.\n",
    "    \n",
    "    Args:\n",
    "        qubits (int): The list of qubits on which to apply the QFT\n",
    "    \"\"\"\n",
    "\n",
    "    # On a single qubit, the QFT is just a Hadamard.\n",
    "    if len(qubits) == 1:\n",
    "        return Circuit().h(qubits)\n",
    "    \n",
    "    # For more than one qubit, we define the QFT recursively (as shown on the right half of the image above):\n",
    "    else:\n",
    "        qftcirc = Circuit()\n",
    "        \n",
    "        # First add a Hadamard gate\n",
    "        qftcirc.h(qubits[0])\n",
    "        \n",
    "        # Then apply the controlled rotations, with weights (angles) defined by the distance to the control qubit.\n",
    "        for k, qubit in enumerate(qubits[1:]):\n",
    "            qftcirc.cphaseshift(qubit, qubits[0], 2*math.pi/(2**(k+2)))\n",
    "            \n",
    "        # Now apply the above gates recursively to the rest of the qubits\n",
    "        qftcirc.add(qft_no_swap(qubits[1:]))\n",
    "        \n",
    "    return qftcirc\n",
    "\n",
    "\n",
    "# To complete the full QFT, add swap gates to reverse the order of the qubits\n",
    "@circuit.subroutine(register=True)\n",
    "def qft_recursive(qubits):\n",
    "    \"\"\"\n",
    "    Construct a circuit object corresponding to the Quantum Fourier Transform (QFT)\n",
    "    algorithm, applied to the argument qubits.\n",
    "    \n",
    "    Args:\n",
    "        qubits (int): The list of qubits on which to apply the QFT\n",
    "    \"\"\"\n",
    "    qftcirc = Circuit()\n",
    "    \n",
    "    # First add the QFT subroutine above\n",
    "    qftcirc.add(qft_no_swap(qubits))\n",
    "    \n",
    "    # Then add SWAP gates to reverse the order of the qubits:\n",
    "    for i in range(math.floor(len(qubits)/2)):\n",
    "        qftcirc.swap(qubits[i], qubits[-i-1])\n",
    "    \n",
    "    return qftcirc"
   ]
  },
  {
   "cell_type": "markdown",
   "metadata": {},
   "source": [
    "##### Non-recursive definition of the QFT"
   ]
  },
  {
   "cell_type": "code",
   "execution_count": 5,
   "metadata": {},
   "outputs": [],
   "source": [
    "@circuit.subroutine(register=True)\n",
    "def qft(qubits):    \n",
    "    \"\"\"\n",
    "    Construct a circuit object corresponding to the Quantum Fourier Transform (QFT)\n",
    "    algorithm, applied to the argument qubits.  Does not use recursion to generate the QFT.\n",
    "    \n",
    "    Args:\n",
    "        qubits (int): The list of qubits on which to apply the QFT\n",
    "    \"\"\"\n",
    "    qftcirc = Circuit()\n",
    "    \n",
    "    # get number of qubits\n",
    "    num_qubits = len(qubits)\n",
    "    \n",
    "    for k in range(num_qubits):\n",
    "        # First add a Hadamard gate\n",
    "        qftcirc.h(qubits[k])\n",
    "    \n",
    "        # Then apply the controlled rotations, with weights (angles) defined by the distance to the control qubit.\n",
    "        # Start on the qubit after qubit k, and iterate until the end.  When num_qubits==1, this loop does not run.\n",
    "        for j in range(1,num_qubits - k):\n",
    "            angle = 2*math.pi/(2**(j+1))\n",
    "            qftcirc.cphaseshift(qubits[k+j],qubits[k], angle)\n",
    "            \n",
    "    # Then add SWAP gates to reverse the order of the qubits:\n",
    "    for i in range(math.floor(num_qubits/2)):\n",
    "        qftcirc.swap(qubits[i], qubits[-i-1])\n",
    "        \n",
    "    return qftcirc"
   ]
  },
  {
   "cell_type": "markdown",
   "metadata": {},
   "source": [
    "##### Inverse QFT"
   ]
  },
  {
   "cell_type": "code",
   "execution_count": 6,
   "metadata": {},
   "outputs": [],
   "source": [
    "@circuit.subroutine(register=True)\n",
    "def inverse_qft(qubits):\n",
    "    \"\"\"\n",
    "    Construct a circuit object corresponding to the inverse Quantum Fourier Transform (QFT)\n",
    "    algorithm, applied to the argument qubits.  Does not use recursion to generate the circuit.\n",
    "    \n",
    "    Args:\n",
    "        qubits (int): The list of qubits on which to apply the inverse QFT\n",
    "    \"\"\"\n",
    "    # instantiate circuit object\n",
    "    qftcirc = Circuit()\n",
    "    \n",
    "    # get number of qubits\n",
    "    num_qubits = len(qubits)\n",
    "    \n",
    "    # First add SWAP gates to reverse the order of the qubits:\n",
    "    for i in range(math.floor(num_qubits/2)):\n",
    "        qftcirc.swap(qubits[i], qubits[-i-1])\n",
    "        \n",
    "    # Start on the last qubit and work to the first.\n",
    "    for k in reversed(range(num_qubits)):\n",
    "    \n",
    "        # Apply the controlled rotations, with weights (angles) defined by the distance to the control qubit.\n",
    "        # These angles are the negative of the angle used in the QFT.\n",
    "        # Start on the last qubit and iterate until the qubit after k.  \n",
    "        # When num_qubits==1, this loop does not run.\n",
    "        for j in reversed(range(1, num_qubits - k)):\n",
    "            angle = -2*math.pi/(2**(j+1))\n",
    "            qftcirc.cphaseshift(qubits[k+j],qubits[k], angle)\n",
    "            \n",
    "        # Then add a Hadamard gate\n",
    "        qftcirc.h(qubits[k])\n",
    "    \n",
    "    return qftcirc"
   ]
  },
  {
   "cell_type": "markdown",
   "metadata": {},
   "source": [
    "## VISUALIZATION OF THE QFT CIRCUIT"
   ]
  },
  {
   "cell_type": "markdown",
   "metadata": {},
   "source": [
    "In order to check our implementation of the (inverse) QFT circuit, let us visualize them for small numbers of qubits. \n",
    "By inspection, we can see that the $\\mathrm{QFT}$ and $\\mathrm{QFT}^{\\dagger}$ circuits will effectively cancel each other, as desired. "
   ]
  },
  {
   "cell_type": "markdown",
   "metadata": {},
   "source": [
    "**2 qubits:**"
   ]
  },
  {
   "cell_type": "code",
   "execution_count": 7,
   "metadata": {},
   "outputs": [
    {
     "name": "stdout",
     "output_type": "stream",
     "text": [
      "QFT CIRCUIT:\n",
      "T  : |0|     1     |2| 3  |\n",
      "                           \n",
      "q0 : -H-PHASE(1.57)---SWAP-\n",
      "        |             |    \n",
      "q1 : ---C-----------H-SWAP-\n",
      "\n",
      "T  : |0|     1     |2| 3  |\n",
      "\n",
      "INVERSE-QFT CIRCUIT:\n",
      "T  : | 0  |1|     2      |3|\n",
      "                            \n",
      "q0 : -SWAP---PHASE(-1.57)-H-\n",
      "      |      |              \n",
      "q1 : -SWAP-H-C--------------\n",
      "\n",
      "T  : | 0  |1|     2      |3|\n"
     ]
    }
   ],
   "source": [
    "# show inverse QFT example circuit\n",
    "num_qubits = 2\n",
    "qubits=range(num_qubits)\n",
    "my_qft_circ = qft(qubits)\n",
    "print('QFT CIRCUIT:')\n",
    "print(my_qft_circ)\n",
    "\n",
    "# show inverse QFT example circuit\n",
    "print('')\n",
    "print('INVERSE-QFT CIRCUIT:')\n",
    "my_iqft_circ = inverse_qft(qubits)\n",
    "print(my_iqft_circ)"
   ]
  },
  {
   "cell_type": "markdown",
   "metadata": {},
   "source": [
    "**3 qubits:**"
   ]
  },
  {
   "cell_type": "code",
   "execution_count": 8,
   "metadata": {},
   "outputs": [
    {
     "name": "stdout",
     "output_type": "stream",
     "text": [
      "QFT CIRCUIT:\n",
      "T  : |0|     1     |      2       |     3     |4| 5  |\n",
      "                                                      \n",
      "q0 : -H-PHASE(1.57)-PHASE(0.785)-----------------SWAP-\n",
      "        |           |                            |    \n",
      "q1 : ---C-----------|------------H-PHASE(1.57)---|----\n",
      "                    |              |             |    \n",
      "q2 : ---------------C--------------C-----------H-SWAP-\n",
      "\n",
      "T  : |0|     1     |      2       |     3     |4| 5  |\n",
      "\n",
      "INVERSE-QFT CIRCUIT:\n",
      "T  : | 0  |1|     2      |       3       |     4      |5|\n",
      "                                                         \n",
      "q0 : -SWAP------------------PHASE(-0.785)-PHASE(-1.57)-H-\n",
      "      |                     |             |              \n",
      "q1 : -|------PHASE(-1.57)-H-|-------------C--------------\n",
      "      |      |              |                            \n",
      "q2 : -SWAP-H-C--------------C----------------------------\n",
      "\n",
      "T  : | 0  |1|     2      |       3       |     4      |5|\n"
     ]
    }
   ],
   "source": [
    "# show inverse QFT example circuit\n",
    "num_qubits = 3\n",
    "qubits=range(num_qubits)\n",
    "my_qft_circ = qft(qubits)\n",
    "print('QFT CIRCUIT:')\n",
    "print(my_qft_circ)\n",
    "\n",
    "# show inverse QFT example circuit\n",
    "print('')\n",
    "print('INVERSE-QFT CIRCUIT:')\n",
    "my_iqft_circ = inverse_qft(qubits)\n",
    "print(my_iqft_circ)"
   ]
  },
  {
   "cell_type": "markdown",
   "metadata": {},
   "source": [
    "## NUMERICAL TEST EXPERIMENTS"
   ]
  },
  {
   "cell_type": "markdown",
   "metadata": {},
   "source": [
    "In the following we will verify that our QFT implementation works as expected with a few test examples:\n",
    "1. First, we will apply the QFT algorithm to the input state $\\left|0,0,0\\right>$. Here, we expect a uniform superposition of all basis vectors as output, as discussed above.  \n",
    "2. Second, following our theoretical discussion above, we will apply the inverse QFT to a particular input state for which we expect a simple computational basis state as output. \n",
    "3. Finally, we verify that the $\\mathrm{QFT}$ and $\\mathrm{QFT}^{\\dagger}$ circuits cancel each other, effectively yielding the identity gate. \n",
    "\n",
    "For the second example, we will prepare a specific input state using the following circuit:\n",
    "```python\n",
    "circ = Circuit()\n",
    "circ.h(range(num_qubits))\n",
    "for ii in range(num_qubits - 1):\n",
    "    circ.rz(ii+1, math.pi/(2**ii))\n",
    "```\n",
    "\n",
    "This circuit prepares the binary representation of $|2\\rangle$, for whatever number of qubits is set.\n",
    "Disclaimer: Note that if you choose to run this on a real QPU, then you are likely to see imperfect measurement results due to experimental imperfection such as noise."
   ]
  },
  {
   "cell_type": "markdown",
   "metadata": {},
   "source": [
    "### NUMERICAL TEST EXAMPLE 1"
   ]
  },
  {
   "cell_type": "markdown",
   "metadata": {},
   "source": [
    "First, let us apply the QFT algorithm to the input state $\\left|0,0,0\\right>$. Here, we expect a uniform superposition of all basis vectors as output, as discussed above."
   ]
  },
  {
   "cell_type": "code",
   "execution_count": 9,
   "metadata": {},
   "outputs": [
    {
     "name": "stdout",
     "output_type": "stream",
     "text": [
      "Exact statevector:\n",
      " [(0.354+0j), (0.354+0j), (0.354+0j), (0.354+0j), (0.354+0j), (0.354+0j), (0.354+0j), (0.354+0j)]\n"
     ]
    },
    {
     "data": {
      "image/png": "[encoded data removed]",
      "text/plain": [
       "<Figure size 432x288 with 1 Axes>"
      ]
     },
     "metadata": {
      "needs_background": "light"
     },
     "output_type": "display_data"
    }
   ],
   "source": [
    "# check output for input |0,0,0> -> expect uniform distribution\n",
    "num_qubits = 3\n",
    "qubits=range(num_qubits)\n",
    "my_qft_circ = qft(qubits)\n",
    "\n",
    "# specify desired results_types\n",
    "my_qft_circ.state_vector()\n",
    "my_qft_circ.probability()\n",
    "\n",
    "# Run the QFT on 3 qubits with all zeros input\n",
    "task = device.run(my_qft_circ, shots=0)\n",
    "result = task.result()\n",
    "state_vector = result.values[0]\n",
    "probs_values = result.values[1]\n",
    "\n",
    "# format statevector for output\n",
    "state_vec_pretty = np.round(state_vector, decimals=3)\n",
    "state_vec_pretty = [ampl if np.abs(ampl)>10**(-5) else 0 for ampl in state_vec_pretty]\n",
    "\n",
    "# bitstrings\n",
    "format_bitstring = '{0:0' + str(num_qubits) + 'b}'\n",
    "bitstring_keys = [format_bitstring.format(ii) for ii in range(2**num_qubits)]\n",
    "\n",
    "# Print the output state vector\n",
    "print('Exact statevector:\\n', state_vec_pretty)\n",
    "\n",
    "# plot probabalities\n",
    "plt.bar(bitstring_keys, probs_values);\n",
    "plt.xlabel('bitstrings');\n",
    "plt.ylabel('probability');"
   ]
  },
  {
   "cell_type": "markdown",
   "metadata": {},
   "source": [
    "Indeed, we do recover a uniform superposition of all basis vectors as output, as expected from our analysis above."
   ]
  },
  {
   "cell_type": "markdown",
   "metadata": {},
   "source": [
    "### NUMERICAL TEST EXAMPLE 2"
   ]
  },
  {
   "cell_type": "markdown",
   "metadata": {},
   "source": [
    "Following our theoretical discussion above, we will apply the inverse QFT to a particular input state for which we expect a simple computational basis state as output."
   ]
  },
  {
   "cell_type": "code",
   "execution_count": 10,
   "metadata": {},
   "outputs": [
    {
     "name": "stdout",
     "output_type": "stream",
     "text": [
      "1. Printing circuit for state preparation:\n",
      "T  : |0|   1    |\n",
      "                 \n",
      "q0 : -H----------\n",
      "                 \n",
      "q1 : -H-Rz(3.14)-\n",
      "                 \n",
      "q2 : -H-Rz(1.57)-\n",
      "\n",
      "T  : |0|   1    |\n",
      "\n",
      "2. Full circuit including inverse QFT:\n",
      "T  : |0|   1    | 2  |3|     4      |       5       |     6      |7|\n",
      "                                                                    \n",
      "q0 : -H----------SWAP------------------PHASE(-0.785)-PHASE(-1.57)-H-\n",
      "                 |                     |             |              \n",
      "q1 : -H-Rz(3.14)-|------PHASE(-1.57)-H-|-------------C--------------\n",
      "                 |      |              |                            \n",
      "q2 : -H-Rz(1.57)-SWAP-H-C--------------C----------------------------\n",
      "\n",
      "T  : |0|   1    | 2  |3|     4      |       5       |     6      |7|\n"
     ]
    }
   ],
   "source": [
    "# prepare initial state \n",
    "num_qubits = 3\n",
    "qubits=range(num_qubits)\n",
    "circ = Circuit()\n",
    "circ.h(qubits)\n",
    "for ii in range(num_qubits - 1):\n",
    "    circ.rz(ii+1, math.pi/(2**ii))\n",
    "\n",
    "print('1. Printing circuit for state preparation:')\n",
    "print(circ)\n",
    "\n",
    "# add QFT circuit\n",
    "circ.inverse_qft(qubits)\n",
    "\n",
    "# print circuit including QFT\n",
    "print('')\n",
    "print('2. Full circuit including inverse QFT:')\n",
    "print(circ)"
   ]
  },
  {
   "cell_type": "code",
   "execution_count": 11,
   "metadata": {},
   "outputs": [
    {
     "name": "stdout",
     "output_type": "stream",
     "text": [
      "Exact statevector:\n",
      " [0, 0, (-0.707-0.707j), 0, 0, 0, 0, 0]\n"
     ]
    },
    {
     "data": {
      "image/png": "[encoded data removed]",
      "text/plain": [
       "<Figure size 432x288 with 1 Axes>"
      ]
     },
     "metadata": {
      "needs_background": "light"
     },
     "output_type": "display_data"
    }
   ],
   "source": [
    "# specify desired results_types\n",
    "circ.state_vector()\n",
    "circ.probability()\n",
    "\n",
    "# Run the QFT on 3 circuits with all zeros input\n",
    "task = device.run(circ, shots=0)\n",
    "result = task.result()\n",
    "state_vector = result.values[0]\n",
    "probs_values = result.values[1]\n",
    "\n",
    "# format statevector for output\n",
    "state_vec_pretty = np.round(state_vector, decimals=3)\n",
    "state_vec_pretty = [ampl if np.abs(ampl)>10**(-5) else 0 for ampl in state_vec_pretty]\n",
    "\n",
    "# bitstrings\n",
    "format_bitstring = '{0:0' + str(num_qubits) + 'b}'\n",
    "bitstring_keys = [format_bitstring.format(ii) for ii in range(2**num_qubits)]\n",
    "\n",
    "# Print the output state vector\n",
    "print('Exact statevector:\\n', state_vec_pretty)\n",
    "\n",
    "# plot probabalities\n",
    "plt.bar(bitstring_keys, probs_values);\n",
    "plt.xlabel('bitstrings');\n",
    "plt.ylabel('probability');\n",
    "plt.xticks(rotation=90);"
   ]
  },
  {
   "cell_type": "markdown",
   "metadata": {},
   "source": [
    "As expected, all measurements show a unique bitstring corresponding to the integer number set with our initial state preparation, as expected.\n",
    "Next, let us verify that this works independent of the number of qubits. "
   ]
  },
  {
   "cell_type": "code",
   "execution_count": 12,
   "metadata": {},
   "outputs": [
    {
     "name": "stdout",
     "output_type": "stream",
     "text": [
      "1. Printing circuit for state preparation:\n",
      "T  : |0|    1    |\n",
      "                  \n",
      "q0 : -H-----------\n",
      "                  \n",
      "q1 : -H-Rz(3.14)--\n",
      "                  \n",
      "q2 : -H-Rz(1.57)--\n",
      "                  \n",
      "q3 : -H-Rz(0.785)-\n",
      "\n",
      "T  : |0|    1    |\n",
      "\n",
      "2. Full circuit including inverse QFT:\n",
      "T  : |0|    1    |    2    |3|     4      |       5       |            6             |       7       |     8      |9|\n",
      "                                                                                                                     \n",
      "q0 : -H-----------SWAP--------------------------------------------------PHASE(-0.393)---PHASE(-0.785)-PHASE(-1.57)-H-\n",
      "                  |                                                     |               |             |              \n",
      "q1 : -H-Rz(3.14)--|----SWAP------------------PHASE(-0.785)-PHASE(-1.57)-|-------------H-|-------------C--------------\n",
      "                  |    |                     |             |            |               |                            \n",
      "q2 : -H-Rz(1.57)--|----SWAP---PHASE(-1.57)-H-|-------------C------------|---------------C----------------------------\n",
      "                  |           |              |                          |                                            \n",
      "q3 : -H-Rz(0.785)-SWAP------H-C--------------C--------------------------C--------------------------------------------\n",
      "\n",
      "T  : |0|    1    |    2    |3|     4      |       5       |            6             |       7       |     8      |9|\n",
      "Exact statevector:\n",
      " [0, 0, (-0.924-0.383j), 0, 0, 0, 0, 0, 0, 0, 0, 0, 0, 0, 0, 0]\n"
     ]
    },
    {
     "data": {
      "image/png": "[encoded data removed]",
      "text/plain": [
       "<Figure size 432x288 with 1 Axes>"
      ]
     },
     "metadata": {
      "needs_background": "light"
     },
     "output_type": "display_data"
    }
   ],
   "source": [
    "# prepare initial state \n",
    "num_qubits = 4\n",
    "qubits=range(num_qubits)\n",
    "circ = Circuit()\n",
    "circ.h(qubits)\n",
    "for ii in range(num_qubits - 1):\n",
    "    circ.rz(ii+1, math.pi/(2**ii))\n",
    "\n",
    "print('1. Printing circuit for state preparation:')\n",
    "print(circ)\n",
    "\n",
    "# add QFT circuit   \n",
    "circ.inverse_qft(qubits)\n",
    "\n",
    "# print circuit including QFT\n",
    "print('')\n",
    "print('2. Full circuit including inverse QFT:')\n",
    "print(circ)\n",
    "\n",
    "# specify desired results_types\n",
    "circ.state_vector()\n",
    "circ.probability()\n",
    "\n",
    "# Run the QFT on 3 circuits with all zeros input\n",
    "task = device.run(circ, shots=0)\n",
    "result = task.result()\n",
    "state_vector = result.values[0]\n",
    "probs_values = result.values[1]\n",
    "\n",
    "# format statevector for output\n",
    "state_vec_pretty = np.round(state_vector, decimals=3)\n",
    "state_vec_pretty = [ampl if np.abs(ampl)>10**(-5) else 0 for ampl in state_vec_pretty]\n",
    "\n",
    "# bitstrings\n",
    "format_bitstring = '{0:0' + str(num_qubits) + 'b}'\n",
    "bitstring_keys = [format_bitstring.format(ii) for ii in range(2**num_qubits)]\n",
    "\n",
    "# Print the output state vector\n",
    "print('Exact statevector:\\n', state_vec_pretty)\n",
    "\n",
    "# plot probabalities\n",
    "plt.bar(bitstring_keys, probs_values);\n",
    "plt.xlabel('bitstrings');\n",
    "plt.ylabel('probability');\n",
    "plt.xticks(rotation=90);"
   ]
  },
  {
   "cell_type": "markdown",
   "metadata": {},
   "source": [
    "### NUMERICAL TEST EXAMPLE 3"
   ]
  },
  {
   "cell_type": "markdown",
   "metadata": {},
   "source": [
    "In this section, we verify that the $\\mathrm{QFT}$ and $\\mathrm{QFT}^{\\dagger}$ circuits cancel each other, effectively yielding the identity gate $\\mathbb{1}$."
   ]
  },
  {
   "cell_type": "code",
   "execution_count": 13,
   "metadata": {},
   "outputs": [
    {
     "name": "stdout",
     "output_type": "stream",
     "text": [
      "Exact statevector:\n",
      " [(1+0j), 0, 0, 0, 0, 0, 0, 0]\n"
     ]
    },
    {
     "data": {
      "image/png": "[encoded data removed]",
      "text/plain": [
       "<Figure size 432x288 with 1 Axes>"
      ]
     },
     "metadata": {
      "needs_background": "light"
     },
     "output_type": "display_data"
    }
   ],
   "source": [
    "# prepare initial state \n",
    "num_qubits = 3\n",
    "qubits=range(num_qubits)\n",
    "circ = Circuit()\n",
    "\n",
    "# add QFT circuit\n",
    "circ.qft(qubits)\n",
    "circ.inverse_qft(qubits)\n",
    "\n",
    "# specify desired results_types\n",
    "circ.state_vector()\n",
    "circ.probability()\n",
    "\n",
    "# Run the QFT on 3 circuits with all zeros input\n",
    "task = device.run(circ, shots=0)\n",
    "result = task.result()\n",
    "state_vector = result.values[0]\n",
    "probs_values = result.values[1]\n",
    "\n",
    "# format statevector for output\n",
    "state_vec_pretty = np.round(state_vector, decimals=3)\n",
    "state_vec_pretty = [ampl if np.abs(ampl)>10**(-5) else 0 for ampl in state_vec_pretty]\n",
    "\n",
    "# bitstrings\n",
    "format_bitstring = '{0:0' + str(num_qubits) + 'b}'\n",
    "bitstring_keys = [format_bitstring.format(ii) for ii in range(2**num_qubits)]\n",
    "\n",
    "# Print the output state vector\n",
    "print('Exact statevector:\\n', state_vec_pretty)\n",
    "\n",
    "# plot probabalities\n",
    "plt.bar(bitstring_keys, probs_values);\n",
    "plt.xlabel('bitstrings');\n",
    "plt.ylabel('probability');\n",
    "plt.xticks(rotation=90);"
   ]
  },
  {
   "cell_type": "code",
   "execution_count": 14,
   "metadata": {},
   "outputs": [
    {
     "name": "stdout",
     "output_type": "stream",
     "text": [
      "Exact statevector:\n",
      " [0, 0, 0, 0, 0, (1+0j), 0, 0]\n"
     ]
    },
    {
     "data": {
      "image/png": "[encoded data removed]",
      "text/plain": [
       "<Figure size 432x288 with 1 Axes>"
      ]
     },
     "metadata": {
      "needs_background": "light"
     },
     "output_type": "display_data"
    }
   ],
   "source": [
    "# prepare initial state \n",
    "num_qubits = 3\n",
    "qubits=range(num_qubits)\n",
    "circ = Circuit()\n",
    "circ.x(0)\n",
    "circ.x(2)\n",
    "\n",
    "# add QFT circuit\n",
    "  \n",
    "circ.qft(qubits)\n",
    "circ.inverse_qft(qubits)\n",
    "\n",
    "# specify desired results_types\n",
    "circ.state_vector()\n",
    "circ.probability()\n",
    "\n",
    "# Run the QFT on 3 circuits with all zeros input\n",
    "task = device.run(circ, shots=0)\n",
    "result = task.result()\n",
    "state_vector = result.values[0]\n",
    "probs_values = result.values[1]\n",
    "\n",
    "# format statevector for output\n",
    "state_vec_pretty = np.round(state_vector, decimals=3)\n",
    "state_vec_pretty = [ampl if np.abs(ampl)>10**(-5) else 0 for ampl in state_vec_pretty]\n",
    "\n",
    "# bitstrings\n",
    "format_bitstring = '{0:0' + str(num_qubits) + 'b}'\n",
    "bitstring_keys = [format_bitstring.format(ii) for ii in range(2**num_qubits)]\n",
    "\n",
    "# Print the output state vector\n",
    "print('Exact statevector:\\n', state_vec_pretty)\n",
    "\n",
    "# plot probabalities\n",
    "plt.bar(bitstring_keys, probs_values);\n",
    "plt.xlabel('bitstrings');\n",
    "plt.ylabel('probability');\n",
    "plt.xticks(rotation=90);"
   ]
  },
  {
   "cell_type": "markdown",
   "metadata": {},
   "source": [
    "## COMPARISON OF IMPLEMENTATIONS"
   ]
  },
  {
   "cell_type": "markdown",
   "metadata": {},
   "source": [
    "In this section we compare the two implementations (recursive vs. non-recursive), showing that they produce the same circuits. \n",
    "By inspection you can also check that the $\\mathrm{QFT}$ and $\\mathrm{QFT}^{\\dagger}$ circuits cancel each other, effectively yielding the identity gate $\\mathbb{1}$. "
   ]
  },
  {
   "cell_type": "code",
   "execution_count": 15,
   "metadata": {},
   "outputs": [
    {
     "name": "stdout",
     "output_type": "stream",
     "text": [
      "Circuit for QFT (using non-recursive implementation):\n",
      "T  : |0|     1     |      2       |           3            |      4       |     5     | 6  | 7  |\n",
      "                                                                                                 \n",
      "q1 : -H-PHASE(1.57)-PHASE(0.785)---PHASE(0.393)---------------------------------------------SWAP-\n",
      "        |           |              |                                                        |    \n",
      "q3 : ---C-----------|------------H-|------------PHASE(1.57)-PHASE(0.785)---------------SWAP-|----\n",
      "                    |              |            |           |                          |    |    \n",
      "q6 : ---------------C--------------|------------C-----------|------------H-PHASE(1.57)-SWAP-|----\n",
      "                                   |                        |              |                |    \n",
      "q7 : ------------------------------C------------------------C--------------C-----------H----SWAP-\n",
      "\n",
      "T  : |0|     1     |      2       |           3            |      4       |     5     | 6  | 7  |\n",
      "\n",
      "Circuit for QFT (using recursive implementation):\n",
      "T  : |0|     1     |      2       |           3            |      4       |     5     | 6  | 7  |\n",
      "                                                                                                 \n",
      "q1 : -H-PHASE(1.57)-PHASE(0.785)---PHASE(0.393)---------------------------------------------SWAP-\n",
      "        |           |              |                                                        |    \n",
      "q3 : ---C-----------|------------H-|------------PHASE(1.57)-PHASE(0.785)---------------SWAP-|----\n",
      "                    |              |            |           |                          |    |    \n",
      "q6 : ---------------C--------------|------------C-----------|------------H-PHASE(1.57)-SWAP-|----\n",
      "                                   |                        |              |                |    \n",
      "q7 : ------------------------------C------------------------C--------------C-----------H----SWAP-\n",
      "\n",
      "T  : |0|     1     |      2       |           3            |      4       |     5     | 6  | 7  |\n",
      "\n",
      "Circuit for inverse QFT:\n",
      "T  : |    0    |1|     2      |       3       |            4             |       5       |     6      |7|\n",
      "                                                                                                         \n",
      "q1 : -SWAP--------------------------------------------------PHASE(-0.393)---PHASE(-0.785)-PHASE(-1.57)-H-\n",
      "      |                                                     |               |             |              \n",
      "q3 : -|----SWAP------------------PHASE(-0.785)-PHASE(-1.57)-|-------------H-|-------------C--------------\n",
      "      |    |                     |             |            |               |                            \n",
      "q6 : -|----SWAP---PHASE(-1.57)-H-|-------------C------------|---------------C----------------------------\n",
      "      |           |              |                          |                                            \n",
      "q7 : -SWAP------H-C--------------C--------------------------C--------------------------------------------\n",
      "\n",
      "T  : |    0    |1|     2      |       3       |            4             |       5       |     6      |7|\n"
     ]
    }
   ],
   "source": [
    "# set qubits to perform (inverse) QFT on\n",
    "qubits = [1,3,6,7]\n",
    "\n",
    "# print circuits \n",
    "print('Circuit for QFT (using non-recursive implementation):')\n",
    "print(qft(qubits))\n",
    "print('')\n",
    "print('Circuit for QFT (using recursive implementation):')\n",
    "print(qft_recursive(qubits))\n",
    "print('')\n",
    "print('Circuit for inverse QFT:')\n",
    "print(inverse_qft(qubits))"
   ]
  },
  {
   "cell_type": "markdown",
   "metadata": {},
   "source": [
    "--- \n",
    "## APPENDIX"
   ]
  },
  {
   "cell_type": "code",
   "execution_count": 16,
   "metadata": {},
   "outputs": [
    {
     "name": "stdout",
     "output_type": "stream",
     "text": [
      "Version: 0.6.0\r\n"
     ]
    }
   ],
   "source": [
    "# Check SDK version\n",
    "!pip show amazon-braket-sdk | grep Version"
   ]
  },
  {
   "cell_type": "markdown",
   "metadata": {},
   "source": [
    "---\n",
    "## REFERENCES\n",
    "\n",
    "[1] Wikipedia: https://en.wikipedia.org/wiki/Quantum_Fourier_transform\n",
    "\n",
    "[2] Nielsen, Michael A., Chuang, Isaac L. (2010). Quantum Computation and Quantum Information (2nd ed.). Cambridge: Cambridge University Press."
   ]
  }
 ],
 "metadata": {
  "kernelspec": {
   "display_name": "Qbench_kernel",
   "language": "python",
   "name": "qbench_kernel"
  },
  "language_info": {
   "codemirror_mode": {
    "name": "ipython",
    "version": 3
   },
   "file_extension": ".py",
   "mimetype": "text/x-python",
   "name": "python",
   "nbconvert_exporter": "python",
   "pygments_lexer": "ipython3",
   "version": "3.7.12"
  }
 },
 "nbformat": 4,
 "nbformat_minor": 4
}
