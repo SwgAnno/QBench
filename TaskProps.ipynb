{
 "cells": [
  {
   "cell_type": "code",
   "execution_count": 29,
   "metadata": {},
   "outputs": [],
   "source": [
    "# Use Braket SDK Cost Tracking to estimate the cost to run this example\n",
    "from braket.tracking import Tracker\n",
    "t = Tracker().start()\n",
    "\n",
    "\n",
    "# general imports\n",
    "import matplotlib.pyplot as plt\n",
    "%matplotlib inline\n",
    "\n",
    "# AWS imports: Import Braket SDK modules\n",
    "from braket.circuits import Circuit, Gate, Instruction, circuit, Observable\n",
    "from braket.devices import LocalSimulator\n",
    "from braket.aws import AwsDevice ,AwsQuantumTask\n",
    "import numpy as np\n",
    "\n",
    "import json     \n",
    "\n",
    "from qiskit import QuantumCircuit\n",
    "from braket.ir.openqasm import Program"
   ]
  },
  {
   "cell_type": "code",
   "execution_count": 131,
   "metadata": {},
   "outputs": [],
   "source": [
    "\n",
    "#basic non computational datas about the task\n",
    "def list_task_metadata( qtask):\n",
    "    meta = qtask.metadata()\n",
    "\n",
    "    params = meta[\"deviceParameters\"]\n",
    "\n",
    "    print(\"############################\")\n",
    "    print(\"Quantum Task Metadata\")\n",
    "    print(\"Task arn:\", meta[\"quantumTaskArn\"])\n",
    "    print(\"Task shots#:\", meta[\"shots\"])\n",
    "    print(\"Task status:\", meta[\"status\"])\n",
    "    print(\"Task tags:\", meta[\"tags\"])\n",
    "    print(\"Task on device:\", meta[\"deviceArn\"])\n",
    "    print(\"Creation date:\", meta[\"createdAt\"])\n",
    "    print(\"End date:\", meta[\"endedAt\"])\n",
    "    print(\"Output buket data:\", meta[\"outputS3Directory\"], \" / \", meta[\"outputS3Bucket\"])\n",
    "    \n",
    "    for key, value in meta.items() :\n",
    "        print( key, value)\n",
    "\n",
    "# HTTP related data for the exchange protocol(?)\n",
    "def list_task_response_metadata(qtask):\n",
    "    meta = qtask.metadata()\n",
    "\n",
    "    response = meta[\"ResponseMetadata\"]\n",
    "\n",
    "    for key, value in response.items() :\n",
    "        print( key, value)\n",
    "\n",
    "#device terribly basic info: device arn, qbit count and qbit rewriting flag\n",
    "def list_task_device_metadata(qtask):\n",
    "    meta = qtask.metadata()\n",
    "\n",
    "    dev = meta[\"deviceParameters\"]\n",
    "    devDict = json.loads(dev)\n",
    "\n",
    "    schema = devDict[\"braketSchemaHeader\"]\n",
    "    para = devDict[\"paradigmParameters\"]\n",
    "\n",
    "    print(\"Header name:\", schema[\"name\"])\n",
    "    print(\"Header version:\", schema[\"version\"])\n",
    "    print(\"Simulation QBit count:\", para[\"qubitCount\"])\n",
    "    print(\"Qubit rewriting disabled:\", para[\"disableQubitRewiring\"])\n",
    "\n",
    "    # for key,value in para[\"braketSchemaHeader\"].items() :\n",
    "    #     print( key, value)\n",
    "\n",
    "#essentially circuit/compilation information and measurements data\n",
    "def list_task_result_metadata(qtask, task_type = None):\n",
    "\n",
    "    result = qtask.result()\n",
    "\n",
    "    #boring\n",
    "    task_meta = result.task_metadata\n",
    "\n",
    "    #circuit information inside this\n",
    "    meta = result.additional_metadata\n",
    "    circ = meta.action.source\n",
    "    inputs = meta.action.inputs\n",
    "    \n",
    "    print(\"#####################\")\n",
    "    print(\"OpenQASM input program\")\n",
    "    print(circ)\n",
    "    print(\"Circuit inputs:\", inputs)\n",
    "\n",
    "    if task_type == \"SIMULATOR\":\n",
    "        print(\"Simulator execution duration:\", meta.simulatorMetadata.executionDuration)\n",
    "    elif task_type == \"OQC\":\n",
    "        print(\"#####################\")\n",
    "        print(\"OpenQASM compiled program\")\n",
    "        print(meta.oqcMetadata.compiledProgram)\n",
    "    elif task_type == \"RIGETTI\":\n",
    "        print(\"#####################\")\n",
    "        print(\"OpenQASM compiled program\")\n",
    "        print(meta.rigettiMetadata.compiledProgram)\n",
    "\n",
    "    # for key, value in meta.__dict__.items():\n",
    "    #     print(key, value)"
   ]
  },
  {
   "cell_type": "code",
   "execution_count": 132,
   "metadata": {},
   "outputs": [
    {
     "name": "stdout",
     "output_type": "stream",
     "text": [
      "#####################\n",
      "OpenQASM input program\n",
      "OPENQASM 3.0;\n",
      "bit[2] b;\n",
      "qubit[2] q;\n",
      "x q[1];\n",
      "h q[0];\n",
      "h q[1];\n",
      "#pragma braket unitary([[0, 1.0, 0, 0], [1.0, 0, 0, 0], [0, 0, 0, 1.0], [0, 0, 1.0, 0]]) q[0], q[1]\n",
      "h q[0];\n",
      "h q[1];\n",
      "b[0] = measure q[1];\n",
      "b[1] = measure q[0];\n",
      "Circuit inputs: None\n",
      "Simulator execution duration: 9\n"
     ]
    }
   ],
   "source": [
    "#retrieve example Simulator Task\n",
    "\n",
    "sim_task_id = \"arn:aws:braket:eu-west-2:058017682654:quantum-task/40d46f75-6557-451b-b223-1c5abd8b1a51\" \n",
    "task = AwsQuantumTask(arn = sim_task_id)\n",
    "\n",
    "list_task_result_metadata(task, task_type = \"SIMULATOR\")\n"
   ]
  },
  {
   "cell_type": "code",
   "execution_count": 133,
   "metadata": {},
   "outputs": [
    {
     "name": "stdout",
     "output_type": "stream",
     "text": [
      "#####################\n",
      "OpenQASM input program\n",
      "OPENQASM 3.0;\n",
      "bit[2] b;\n",
      "qubit[2] q;\n",
      "x q[1];\n",
      "h q[0];\n",
      "h q[1];\n",
      "cnot q[0], q[1];\n",
      "h q[0];\n",
      "h q[1];\n",
      "b[0] = measure q[1];\n",
      "b[1] = measure q[0];\n",
      "Circuit inputs: None\n",
      "#####################\n",
      "OpenQASM compiled program\n",
      "OPENQASM 2.0;\n",
      "include \"qelib1.inc\";\n",
      "\n",
      "qreg node[6];\n",
      "creg b[2];\n",
      "u3(1.5*pi,-0.5*pi,4.0*pi) node[4];\n",
      "u3(1.5*pi,0.0*pi,4.0*pi) node[5];\n",
      "cx node[4],node[5];\n",
      "u3(0.5*pi,0.0*pi,0.5*pi) node[4];\n",
      "u3(0.5*pi,0.0*pi,1.0*pi) node[5];\n",
      "measure node[5] -> b[0];\n",
      "measure node[4] -> b[1];\n",
      "\n"
     ]
    }
   ],
   "source": [
    "\n",
    "#lucy example Deutsch task\n",
    "\n",
    "lucy_task_id = \"arn:aws:braket:eu-west-2:058017682654:quantum-task/a2b43a8e-3e5e-4776-bfc4-39ae0cb9a986\" \n",
    "task = AwsQuantumTask(arn = lucy_task_id)\n",
    "\n",
    "list_task_result_metadata(task, task_type = \"OQC\")"
   ]
  },
  {
   "cell_type": "code",
   "execution_count": 28,
   "metadata": {},
   "outputs": [
    {
     "data": {
      "text/html": [
       "<pre style=\"word-wrap: normal;white-space: pre;background: #fff0;line-height: 1.1;font-family: &quot;Courier New&quot;,Courier,monospace\">                                                        \n",
       "node_0: ────────────────────────────────────────────────\n",
       "                                                        \n",
       "node_1: ────────────────────────────────────────────────\n",
       "                                                        \n",
       "node_2: ────────────────────────────────────────────────\n",
       "                                                        \n",
       "node_3: ────────────────────────────────────────────────\n",
       "        ┌──────────────────┐     ┌───────────────┐   ┌─┐\n",
       "node_4: ┤ U3(3π/2,-π/2,4π) ├──■──┤ U3(π/2,0,π/2) ├───┤M├\n",
       "        └┬───────────────┬─┘┌─┴─┐└┬─────────────┬┘┌─┐└╥┘\n",
       "node_5: ─┤ U3(3π/2,0,4π) ├──┤ X ├─┤ U3(π/2,0,π) ├─┤M├─╫─\n",
       "         └───────────────┘  └───┘ └─────────────┘ └╥┘ ║ \n",
       "   b_0: ═══════════════════════════════════════════╩══╬═\n",
       "                                                      ║ \n",
       "   b_1: ══════════════════════════════════════════════╩═\n",
       "                                                        </pre>"
      ],
      "text/plain": [
       "                                                        \n",
       "node_0: ────────────────────────────────────────────────\n",
       "                                                        \n",
       "node_1: ────────────────────────────────────────────────\n",
       "                                                        \n",
       "node_2: ────────────────────────────────────────────────\n",
       "                                                        \n",
       "node_3: ────────────────────────────────────────────────\n",
       "        ┌──────────────────┐     ┌───────────────┐   ┌─┐\n",
       "node_4: ┤ U3(3π/2,-π/2,4π) ├──■──┤ U3(π/2,0,π/2) ├───┤M├\n",
       "        └┬───────────────┬─┘┌─┴─┐└┬─────────────┬┘┌─┐└╥┘\n",
       "node_5: ─┤ U3(3π/2,0,4π) ├──┤ X ├─┤ U3(π/2,0,π) ├─┤M├─╫─\n",
       "         └───────────────┘  └───┘ └─────────────┘ └╥┘ ║ \n",
       "   b_0: ═══════════════════════════════════════════╩══╬═\n",
       "                                                      ║ \n",
       "   b_1: ══════════════════════════════════════════════╩═\n",
       "                                                        "
      ]
     },
     "execution_count": 28,
     "metadata": {},
     "output_type": "execute_result"
    }
   ],
   "source": [
    "circ = QuantumCircuit().from_qasm_str(\"\"\"OPENQASM 2.0;\n",
    "include \"qelib1.inc\";\n",
    "\n",
    "qreg node[6];\n",
    "creg b[2];\n",
    "u3(1.5*pi,-0.5*pi,4.0*pi) node[4];\n",
    "u3(1.5*pi,0.0*pi,4.0*pi) node[5];\n",
    "cx node[4],node[5];\n",
    "u3(0.5*pi,0.0*pi,0.5*pi) node[4];\n",
    "u3(0.5*pi,0.0*pi,1.0*pi) node[5];\n",
    "measure node[5] -> b[0];\n",
    "measure node[4] -> b[1];\"\"\")\n",
    "\n",
    "circ.draw()"
   ]
  },
  {
   "cell_type": "code",
   "execution_count": 32,
   "metadata": {},
   "outputs": [
    {
     "name": "stdout",
     "output_type": "stream",
     "text": [
      "braketSchemaHeader=BraketSchemaHeader(name='braket.ir.openqasm.program', version='1') source='OPENQASM 3.0;\\nbit[2] b;\\nqubit[2] q;\\nx q[1];\\nh q[0];\\nh q[1];\\ncnot q[0], q[1];\\nh q[0];\\nh q[1];\\nb[0] = measure q[1];\\nb[1] = measure q[0];\\nCircuit inputs: None)' inputs=None\n"
     ]
    }
   ],
   "source": [
    "program = Program(source=\"\"\"OPENQASM 3.0;\n",
    "bit[2] b;\n",
    "qubit[2] q;\n",
    "x q[1];\n",
    "h q[0];\n",
    "h q[1];\n",
    "cnot q[0], q[1];\n",
    "h q[0];\n",
    "h q[1];\n",
    "b[0] = measure q[1];\n",
    "b[1] = measure q[0];\n",
    "Circuit inputs: None)\"\"\")\n",
    "print(program)\n"
   ]
  }
 ],
 "metadata": {
  "kernelspec": {
   "display_name": "Python 3 (ipykernel)",
   "language": "python",
   "name": "python3"
  },
  "language_info": {
   "codemirror_mode": {
    "name": "ipython",
    "version": 3
   },
   "file_extension": ".py",
   "mimetype": "text/x-python",
   "name": "python",
   "nbconvert_exporter": "python",
   "pygments_lexer": "ipython3",
   "version": "3.10.6"
  },
  "vscode": {
   "interpreter": {
    "hash": "979fad7bd3af71b7a9c01121091bc7eb65684d1e88c963936af62c162bd52916"
   }
  }
 },
 "nbformat": 4,
 "nbformat_minor": 2
}
