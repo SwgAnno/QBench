{
 "cells": [
  {
   "cell_type": "code",
   "execution_count": 3,
   "metadata": {},
   "outputs": [],
   "source": [
    "# Use Braket SDK Cost Tracking to estimate the cost to run this example\n",
    "from braket.tracking import Tracker\n",
    "t = Tracker().start()\n",
    "\n",
    "\n",
    "# general imports\n",
    "import matplotlib.pyplot as plt\n",
    "%matplotlib inline\n",
    "\n",
    "# AWS imports: Import Braket SDK modules\n",
    "from braket.circuits import Circuit, Gate, Instruction, circuit, Observable\n",
    "from braket.devices import LocalSimulator\n",
    "from braket.aws import AwsDevice ,AwsQuantumTask\n",
    "import numpy as np\n",
    "\n",
    "import json     "
   ]
  },
  {
   "cell_type": "code",
   "execution_count": 30,
   "metadata": {},
   "outputs": [],
   "source": [
    "\n",
    "#basic non computational datas about the task\n",
    "def list_task_metadata( qtask):\n",
    "    meta = qtask.metadata()\n",
    "\n",
    "    params = meta[\"deviceParameters\"]\n",
    "\n",
    "    print(\"############################\")\n",
    "    print(\"Quantum Task Metadata\")\n",
    "    print(\"Task arn:\", meta[\"quantumTaskArn\"])\n",
    "    print(\"Task shots#:\", meta[\"shots\"])\n",
    "    print(\"Task status:\", meta[\"status\"])\n",
    "    print(\"Task tags:\", meta[\"tags\"])\n",
    "    print(\"Task on device:\", meta[\"deviceArn\"])\n",
    "    print(\"Creation date:\", meta[\"createdAt\"])\n",
    "    print(\"End date:\", meta[\"endedAt\"])\n",
    "    print(\"Output buket data:\", meta[\"outputS3Directory\"], \" / \", meta[\"outputS3Bucket\"])\n",
    "    \n",
    "    # for key in meta.keys() :\n",
    "    #     print( key)\n",
    "\n",
    "# HTTP related data for the exchange protocol(?)\n",
    "def list_task_response_metadata(qtask):\n",
    "    meta = qtask.metadata()\n",
    "\n",
    "    response = meta[\"ResponseMetadata\"]\n",
    "\n",
    "    for key  in response.keys() :\n",
    "        print( key)\n",
    "\n",
    "def list_task_device_metadata(qtask):\n",
    "    meta = qtask.metadata()\n",
    "\n",
    "    dev = meta[\"deviceParameters\"]\n",
    "    devDict = json.loads(dev)\n",
    "\n",
    "    schema = devDict[\"braketSchemaHeader\"]\n",
    "    parag = devDict[\"paradigmParameters\"]\n",
    "\n",
    "    print(schema[\"version\"])\n",
    "    print(schema[\"name\"])\n",
    "\n",
    "    for key, values in schema :\n",
    "        print( key, values)"
   ]
  },
  {
   "cell_type": "code",
   "execution_count": 29,
   "metadata": {},
   "outputs": [
    {
     "name": "stdout",
     "output_type": "stream",
     "text": [
      "1\n",
      "braket.device_schema.simulators.gate_model_simulator_device_parameters\n",
      "braket.device_schema.simulators.gate_model_simulator_device_parameters\n",
      "1\n"
     ]
    }
   ],
   "source": [
    "#retrieve example Simulator Task\n",
    "\n",
    "sim_task_id = \"arn:aws:braket:eu-west-2:058017682654:quantum-task/3a9794d5-58b7-48f2-93da-b3228c89513d\" \n",
    "task = AwsQuantumTask(arn = sim_task_id)\n",
    "\n",
    "list_task_device_metadata(task)"
   ]
  },
  {
   "cell_type": "code",
   "execution_count": null,
   "metadata": {},
   "outputs": [],
   "source": []
  }
 ],
 "metadata": {
  "kernelspec": {
   "display_name": "Python 3.7.12 ('QBench')",
   "language": "python",
   "name": "python3"
  },
  "language_info": {
   "codemirror_mode": {
    "name": "ipython",
    "version": 3
   },
   "file_extension": ".py",
   "mimetype": "text/x-python",
   "name": "python",
   "nbconvert_exporter": "python",
   "pygments_lexer": "ipython3",
   "version": "3.7.12"
  },
  "orig_nbformat": 4,
  "vscode": {
   "interpreter": {
    "hash": "06a09a513f3adf51d034e4cd7b61d73f339a24b03a0e983ba85455000b9be146"
   }
  }
 },
 "nbformat": 4,
 "nbformat_minor": 2
}
