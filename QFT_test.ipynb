{
 "cells": [
  {
   "cell_type": "code",
   "execution_count": 2,
   "metadata": {},
   "outputs": [],
   "source": [
    "%load_ext autoreload\n",
    "\n",
    "# general imports\n",
    "import numpy as np\n",
    "import math\n",
    "import matplotlib.pyplot as plt\n",
    "# magic word for producing visualizations in notebook\n",
    "%matplotlib inline\n",
    "\n",
    "# AWS imports: Import Braket SDK modules\n",
    "from braket.circuits import Circuit, Gate, Instruction, circuit, Observable\n",
    "from braket.devices import LocalSimulator\n",
    "from braket.aws import AwsDevice\n",
    "from braket.device_schema.device_action_properties import DeviceActionType\n",
    "import numpy as np\n",
    "\n",
    "from utils import Plotter, DeviceUtils,BraketTaskScanner,DeviceScanner\n",
    "\n",
    "# from qiskit.visualization.timeline import draw\n"
   ]
  },
  {
   "cell_type": "code",
   "execution_count": 3,
   "metadata": {},
   "outputs": [],
   "source": [
    "#non recursive QFT implementation kindly borrowed by braket examples\n",
    "\n",
    "@circuit.subroutine(register=True)\n",
    "def qft(qubits,swaps=True):    \n",
    "    \"\"\"\n",
    "    Construct a circuit object corresponding to the Quantum Fourier Transform (QFT)\n",
    "    algorithm, applied to the argument qubits.  Does not use recursion to generate the QFT.\n",
    "    \n",
    "    Args:\n",
    "        qubits (int array): The list of qubits on which to apply the QFT\n",
    "    \"\"\"\n",
    "    qftcirc = Circuit()\n",
    "    \n",
    "    # get number of qubits\n",
    "    num_qubits = len(qubits)\n",
    "    \n",
    "    for k in range(num_qubits):\n",
    "        # First add a Hadamard gate\n",
    "        qftcirc.h(qubits[k])\n",
    "    \n",
    "        # Then apply the controlled rotations, with weights (angles) defined by the distance to the control qubit.\n",
    "        # Start on the qubit after qubit k, and iterate until the end.  When num_qubits==1, this loop does not run.\n",
    "        for j in range(1,num_qubits - k):\n",
    "            angle = 2*math.pi/(2**(j+1))\n",
    "            qftcirc.cphaseshift(qubits[k+j],qubits[k], angle)\n",
    "    \n",
    "    if swaps:\n",
    "        # Then add SWAP gates to reverse the order of the qubits:\n",
    "        for i in range(math.floor(num_qubits/2)):\n",
    "            qftcirc.swap(qubits[i], qubits[-i-1])\n",
    "\n",
    "    return qftcirc\n",
    "\n",
    "\n",
    "\n",
    "@circuit.subroutine(register=True)\n",
    "def inverse_qft(qubits,swaps=True):\n",
    "    \"\"\"\n",
    "    Construct a circuit object corresponding to the inverse Quantum Fourier Transform (QFT)\n",
    "    algorithm, applied to the argument qubits.  Does not use recursion to generate the circuit.\n",
    "    \n",
    "    Args:\n",
    "        qubits (int): The list of qubits on which to apply the inverse QFT\n",
    "    \"\"\"\n",
    "    # instantiate circuit object\n",
    "    qftcirc = Circuit()\n",
    "    \n",
    "    # get number of qubits\n",
    "    num_qubits = len(qubits)\n",
    "    \n",
    "    if swaps:\n",
    "        # First add SWAP gates to reverse the order of the qubits:\n",
    "        for i in range(math.floor(num_qubits/2)):\n",
    "            qftcirc.swap(qubits[i], qubits[-i-1])\n",
    "        \n",
    "    # Start on the last qubit and work to the first.\n",
    "    for k in reversed(range(num_qubits)):\n",
    "    \n",
    "        # Apply the controlled rotations, with weights (angles) defined by the distance to the control qubit.\n",
    "        # These angles are the negative of the angle used in the QFT.\n",
    "        # Start on the last qubit and iterate until the qubit after k.  \n",
    "        # When num_qubits==1, this loop does not run.\n",
    "        for j in reversed(range(1, num_qubits - k)):\n",
    "            angle = -2*math.pi/(2**(j+1))\n",
    "            qftcirc.cphaseshift(qubits[k+j],qubits[k], angle)\n",
    "            \n",
    "        # Then add a Hadamard gate\n",
    "        qftcirc.h(qubits[k])\n",
    "    \n",
    "    return qftcirc\n",
    "\n",
    "\n",
    "# apply id or sigmax to obtain a definite integer as input\n",
    "# (in binary representation)\n",
    "@circuit.subroutine(register=True)\n",
    "def integer_input(qubits, x):\n",
    "    # instantiate circuit object\n",
    "    circ = Circuit()\n",
    "    \n",
    "    # get number of qubits\n",
    "    num_qubits = len(qubits)\n",
    "\n",
    "    #must be able to represent input\n",
    "    assert x < 2**num_qubits\n",
    "    bitstring = format(x, \"0\"+ str(num_qubits) +\"b\")\n",
    "\n",
    "    #print(bitstring)\n",
    "\n",
    "    #todo: need to reverse iteration(?)\n",
    "    for i in range(num_qubits):\n",
    "        if bitstring[i] == \"1\" :\n",
    "            circ.x(qubits[i])\n",
    "\n",
    "\n",
    "    return circ\n",
    "\n",
    "#get special state preimage of a defined integer for qft\n",
    "@circuit.subroutine(register=True)\n",
    "def transformed_input(qubits, x):\n",
    "\n",
    "    # get number of qubits\n",
    "    num_qubits = len(qubits)\n",
    "\n",
    "    circ = Circuit()\n",
    "\n",
    "    circ.h(qubits)\n",
    "    for ii in range(num_qubits - 1):\n",
    "        circ.rz(ii+1, math.pi/(2**ii))\n",
    "\n",
    "    return circ\n",
    "\n",
    "\n"
   ]
  },
  {
   "cell_type": "code",
   "execution_count": 8,
   "metadata": {},
   "outputs": [
    {
     "name": "stdout",
     "output_type": "stream",
     "text": [
      "QFT CIRCUIT:\n",
      "T  : |0|     1     |      2      |     3     |4| 5  |\n",
      "                                                     \n",
      "q0 : -H-PHASE(1.57)-PHASE(0.79)-----------------SWAP-\n",
      "        |           |                           |    \n",
      "q1 : ---C-----------|-----------H-PHASE(1.57)---|----\n",
      "                    |             |             |    \n",
      "q2 : ---------------C-------------C-----------H-SWAP-\n",
      "\n",
      "T  : |0|     1     |      2      |     3     |4| 5  |\n",
      "\n",
      "INVERSE-QFT CIRCUIT:\n",
      "T  : | 0  |1|     2      |      3       |     4      |5|\n",
      "                                                        \n",
      "q0 : -SWAP------------------PHASE(-0.79)-PHASE(-1.57)-H-\n",
      "      |                     |            |              \n",
      "q1 : -|------PHASE(-1.57)-H-|------------C--------------\n",
      "      |      |              |                           \n",
      "q2 : -SWAP-H-C--------------C---------------------------\n",
      "\n",
      "T  : | 0  |1|     2      |      3       |     4      |5|\n"
     ]
    }
   ],
   "source": [
    "\n",
    "\n",
    "# show inverse QFT example circuit\n",
    "num_qubits = 3\n",
    "qubits=range(num_qubits)\n",
    "my_qft_circ = qft(qubits)\n",
    "print('QFT CIRCUIT:')\n",
    "print(my_qft_circ)\n",
    "\n",
    "# show inverse QFT example circuit\n",
    "print('')\n",
    "print('INVERSE-QFT CIRCUIT:')\n",
    "my_iqft_circ = inverse_qft(qubits)\n",
    "print(my_iqft_circ)\n"
   ]
  },
  {
   "cell_type": "code",
   "execution_count": 4,
   "metadata": {
    "scrolled": true
   },
   "outputs": [
    {
     "name": "stdout",
     "output_type": "stream",
     "text": [
      "9\n",
      "Counter({'111111110': 100})\n"
     ]
    },
    {
     "data": {
      "image/png": "[encoded data removed]",
      "text/plain": [
       "<Figure size 640x480 with 1 Axes>"
      ]
     },
     "metadata": {},
     "output_type": "display_data"
    }
   ],
   "source": [
    "device = LocalSimulator()\n",
    "\n",
    "x = 0\n",
    "qbits = 9\n",
    "print(qbits)\n",
    "\n",
    "circ = transformed_input(range(qbits), x).qft( range(qbits))\n",
    "\n",
    "result = device.run(circ, shots = 100).result()\n",
    "\n",
    "Plotter.plot_binary_results(result, debug=True)"
   ]
  },
  {
   "cell_type": "code",
   "execution_count": 91,
   "metadata": {},
   "outputs": [],
   "source": [
    "#Rigetti AspenM2\n",
    "device = DeviceUtils.get_device(\"rigetti\")\n",
    "\n",
    "qft_task = device.run(circ, shots = 100)\n",
    "\n"
   ]
  },
  {
   "cell_type": "code",
   "execution_count": 117,
   "metadata": {
    "scrolled": true
   },
   "outputs": [
    {
     "ename": "ValidationException",
     "evalue": "An error occurred (ValidationException) when calling the CreateQuantumTask operation: [line 10] uses a gate: cphaseshift which is not supported by the device or defined via a defcal",
     "output_type": "error",
     "traceback": [
      "\u001b[1;31m---------------------------------------------------------------------------\u001b[0m",
      "\u001b[1;31mValidationException\u001b[0m                       Traceback (most recent call last)",
      "\u001b[1;32m<ipython-input-117-e14017fea89d>\u001b[0m in \u001b[0;36m<module>\u001b[1;34m\u001b[0m\n\u001b[0;32m      2\u001b[0m \u001b[0mdevice\u001b[0m \u001b[1;33m=\u001b[0m \u001b[0mAwsDevice\u001b[0m\u001b[1;33m(\u001b[0m\u001b[1;34m\"arn:aws:braket:::device/qpu/ionq/ionQdevice\"\u001b[0m\u001b[1;33m)\u001b[0m\u001b[1;33m\u001b[0m\u001b[1;33m\u001b[0m\u001b[0m\n\u001b[0;32m      3\u001b[0m \u001b[1;33m\u001b[0m\u001b[0m\n\u001b[1;32m----> 4\u001b[1;33m \u001b[0mion_qft_task\u001b[0m \u001b[1;33m=\u001b[0m \u001b[0mdevice\u001b[0m\u001b[1;33m.\u001b[0m\u001b[0mrun\u001b[0m\u001b[1;33m(\u001b[0m\u001b[0mcirc\u001b[0m\u001b[1;33m,\u001b[0m \u001b[0mshots\u001b[0m \u001b[1;33m=\u001b[0m \u001b[1;36m100\u001b[0m\u001b[1;33m)\u001b[0m\u001b[1;33m\u001b[0m\u001b[1;33m\u001b[0m\u001b[0m\n\u001b[0m",
      "\u001b[1;32mc:\\Users\\utente\\miniconda3\\envs\\QBench\\lib\\site-packages\\braket\\aws\\aws_device.py\u001b[0m in \u001b[0;36mrun\u001b[1;34m(self, task_specification, s3_destination_folder, shots, poll_timeout_seconds, poll_interval_seconds, *aws_quantum_task_args, **aws_quantum_task_kwargs)\u001b[0m\n\u001b[0;32m    156\u001b[0m             \u001b[0mpoll_interval_seconds\u001b[0m\u001b[1;33m=\u001b[0m\u001b[0mpoll_interval_seconds\u001b[0m\u001b[1;33m,\u001b[0m\u001b[1;33m\u001b[0m\u001b[1;33m\u001b[0m\u001b[0m\n\u001b[0;32m    157\u001b[0m             \u001b[1;33m*\u001b[0m\u001b[0maws_quantum_task_args\u001b[0m\u001b[1;33m,\u001b[0m\u001b[1;33m\u001b[0m\u001b[1;33m\u001b[0m\u001b[0m\n\u001b[1;32m--> 158\u001b[1;33m             \u001b[1;33m**\u001b[0m\u001b[0maws_quantum_task_kwargs\u001b[0m\u001b[1;33m,\u001b[0m\u001b[1;33m\u001b[0m\u001b[1;33m\u001b[0m\u001b[0m\n\u001b[0m\u001b[0;32m    159\u001b[0m         )\n\u001b[0;32m    160\u001b[0m \u001b[1;33m\u001b[0m\u001b[0m\n",
      "\u001b[1;32mc:\\Users\\utente\\miniconda3\\envs\\QBench\\lib\\site-packages\\braket\\aws\\aws_quantum_task.py\u001b[0m in \u001b[0;36mcreate\u001b[1;34m(aws_session, device_arn, task_specification, s3_destination_folder, shots, device_parameters, disable_qubit_rewiring, tags, *args, **kwargs)\u001b[0m\n\u001b[0;32m    162\u001b[0m             \u001b[0mdisable_qubit_rewiring\u001b[0m\u001b[1;33m,\u001b[0m\u001b[1;33m\u001b[0m\u001b[1;33m\u001b[0m\u001b[0m\n\u001b[0;32m    163\u001b[0m             \u001b[1;33m*\u001b[0m\u001b[0margs\u001b[0m\u001b[1;33m,\u001b[0m\u001b[1;33m\u001b[0m\u001b[1;33m\u001b[0m\u001b[0m\n\u001b[1;32m--> 164\u001b[1;33m             \u001b[1;33m**\u001b[0m\u001b[0mkwargs\u001b[0m\u001b[1;33m,\u001b[0m\u001b[1;33m\u001b[0m\u001b[1;33m\u001b[0m\u001b[0m\n\u001b[0m\u001b[0;32m    165\u001b[0m         )\n\u001b[0;32m    166\u001b[0m \u001b[1;33m\u001b[0m\u001b[0m\n",
      "\u001b[1;32mc:\\Users\\utente\\miniconda3\\envs\\QBench\\lib\\functools.py\u001b[0m in \u001b[0;36mwrapper\u001b[1;34m(*args, **kw)\u001b[0m\n\u001b[0;32m    838\u001b[0m                             '1 positional argument')\n\u001b[0;32m    839\u001b[0m \u001b[1;33m\u001b[0m\u001b[0m\n\u001b[1;32m--> 840\u001b[1;33m         \u001b[1;32mreturn\u001b[0m \u001b[0mdispatch\u001b[0m\u001b[1;33m(\u001b[0m\u001b[0margs\u001b[0m\u001b[1;33m[\u001b[0m\u001b[1;36m0\u001b[0m\u001b[1;33m]\u001b[0m\u001b[1;33m.\u001b[0m\u001b[0m__class__\u001b[0m\u001b[1;33m)\u001b[0m\u001b[1;33m(\u001b[0m\u001b[1;33m*\u001b[0m\u001b[0margs\u001b[0m\u001b[1;33m,\u001b[0m \u001b[1;33m**\u001b[0m\u001b[0mkw\u001b[0m\u001b[1;33m)\u001b[0m\u001b[1;33m\u001b[0m\u001b[1;33m\u001b[0m\u001b[0m\n\u001b[0m\u001b[0;32m    841\u001b[0m \u001b[1;33m\u001b[0m\u001b[0m\n\u001b[0;32m    842\u001b[0m     \u001b[0mfuncname\u001b[0m \u001b[1;33m=\u001b[0m \u001b[0mgetattr\u001b[0m\u001b[1;33m(\u001b[0m\u001b[0mfunc\u001b[0m\u001b[1;33m,\u001b[0m \u001b[1;34m'__name__'\u001b[0m\u001b[1;33m,\u001b[0m \u001b[1;34m'singledispatch function'\u001b[0m\u001b[1;33m)\u001b[0m\u001b[1;33m\u001b[0m\u001b[1;33m\u001b[0m\u001b[0m\n",
      "\u001b[1;32mc:\\Users\\utente\\miniconda3\\envs\\QBench\\lib\\site-packages\\braket\\aws\\aws_quantum_task.py\u001b[0m in \u001b[0;36m_\u001b[1;34m(circuit, aws_session, create_task_kwargs, device_arn, device_parameters, disable_qubit_rewiring, *args, **kwargs)\u001b[0m\n\u001b[0;32m    534\u001b[0m         }\n\u001b[0;32m    535\u001b[0m     )\n\u001b[1;32m--> 536\u001b[1;33m     \u001b[0mtask_arn\u001b[0m \u001b[1;33m=\u001b[0m \u001b[0maws_session\u001b[0m\u001b[1;33m.\u001b[0m\u001b[0mcreate_quantum_task\u001b[0m\u001b[1;33m(\u001b[0m\u001b[1;33m**\u001b[0m\u001b[0mcreate_task_kwargs\u001b[0m\u001b[1;33m)\u001b[0m\u001b[1;33m\u001b[0m\u001b[1;33m\u001b[0m\u001b[0m\n\u001b[0m\u001b[0;32m    537\u001b[0m     \u001b[1;32mreturn\u001b[0m \u001b[0mAwsQuantumTask\u001b[0m\u001b[1;33m(\u001b[0m\u001b[0mtask_arn\u001b[0m\u001b[1;33m,\u001b[0m \u001b[0maws_session\u001b[0m\u001b[1;33m,\u001b[0m \u001b[1;33m*\u001b[0m\u001b[0margs\u001b[0m\u001b[1;33m,\u001b[0m \u001b[1;33m**\u001b[0m\u001b[0mkwargs\u001b[0m\u001b[1;33m)\u001b[0m\u001b[1;33m\u001b[0m\u001b[1;33m\u001b[0m\u001b[0m\n\u001b[0;32m    538\u001b[0m \u001b[1;33m\u001b[0m\u001b[0m\n",
      "\u001b[1;32mc:\\Users\\utente\\miniconda3\\envs\\QBench\\lib\\site-packages\\braket\\aws\\aws_session.py\u001b[0m in \u001b[0;36mcreate_quantum_task\u001b[1;34m(self, **boto3_kwargs)\u001b[0m\n\u001b[0;32m    221\u001b[0m         \u001b[1;32mif\u001b[0m \u001b[0mjob_token\u001b[0m\u001b[1;33m:\u001b[0m\u001b[1;33m\u001b[0m\u001b[1;33m\u001b[0m\u001b[0m\n\u001b[0;32m    222\u001b[0m             \u001b[0mboto3_kwargs\u001b[0m\u001b[1;33m.\u001b[0m\u001b[0mupdate\u001b[0m\u001b[1;33m(\u001b[0m\u001b[1;33m{\u001b[0m\u001b[1;34m\"jobToken\"\u001b[0m\u001b[1;33m:\u001b[0m \u001b[0mjob_token\u001b[0m\u001b[1;33m}\u001b[0m\u001b[1;33m)\u001b[0m\u001b[1;33m\u001b[0m\u001b[1;33m\u001b[0m\u001b[0m\n\u001b[1;32m--> 223\u001b[1;33m         \u001b[0mresponse\u001b[0m \u001b[1;33m=\u001b[0m \u001b[0mself\u001b[0m\u001b[1;33m.\u001b[0m\u001b[0mbraket_client\u001b[0m\u001b[1;33m.\u001b[0m\u001b[0mcreate_quantum_task\u001b[0m\u001b[1;33m(\u001b[0m\u001b[1;33m**\u001b[0m\u001b[0mboto3_kwargs\u001b[0m\u001b[1;33m)\u001b[0m\u001b[1;33m\u001b[0m\u001b[1;33m\u001b[0m\u001b[0m\n\u001b[0m\u001b[0;32m    224\u001b[0m         broadcast_event(\n\u001b[0;32m    225\u001b[0m             _TaskCreationEvent(\n",
      "\u001b[1;32mc:\\Users\\utente\\miniconda3\\envs\\QBench\\lib\\site-packages\\botocore\\client.py\u001b[0m in \u001b[0;36m_api_call\u001b[1;34m(self, *args, **kwargs)\u001b[0m\n\u001b[0;32m    512\u001b[0m                 )\n\u001b[0;32m    513\u001b[0m             \u001b[1;31m# The \"self\" in this scope is referring to the BaseClient.\u001b[0m\u001b[1;33m\u001b[0m\u001b[1;33m\u001b[0m\u001b[1;33m\u001b[0m\u001b[0m\n\u001b[1;32m--> 514\u001b[1;33m             \u001b[1;32mreturn\u001b[0m \u001b[0mself\u001b[0m\u001b[1;33m.\u001b[0m\u001b[0m_make_api_call\u001b[0m\u001b[1;33m(\u001b[0m\u001b[0moperation_name\u001b[0m\u001b[1;33m,\u001b[0m \u001b[0mkwargs\u001b[0m\u001b[1;33m)\u001b[0m\u001b[1;33m\u001b[0m\u001b[1;33m\u001b[0m\u001b[0m\n\u001b[0m\u001b[0;32m    515\u001b[0m \u001b[1;33m\u001b[0m\u001b[0m\n\u001b[0;32m    516\u001b[0m         \u001b[0m_api_call\u001b[0m\u001b[1;33m.\u001b[0m\u001b[0m__name__\u001b[0m \u001b[1;33m=\u001b[0m \u001b[0mstr\u001b[0m\u001b[1;33m(\u001b[0m\u001b[0mpy_operation_name\u001b[0m\u001b[1;33m)\u001b[0m\u001b[1;33m\u001b[0m\u001b[1;33m\u001b[0m\u001b[0m\n",
      "\u001b[1;32mc:\\Users\\utente\\miniconda3\\envs\\QBench\\lib\\site-packages\\botocore\\client.py\u001b[0m in \u001b[0;36m_make_api_call\u001b[1;34m(self, operation_name, api_params)\u001b[0m\n\u001b[0;32m    936\u001b[0m             \u001b[0merror_code\u001b[0m \u001b[1;33m=\u001b[0m \u001b[0mparsed_response\u001b[0m\u001b[1;33m.\u001b[0m\u001b[0mget\u001b[0m\u001b[1;33m(\u001b[0m\u001b[1;34m\"Error\"\u001b[0m\u001b[1;33m,\u001b[0m \u001b[1;33m{\u001b[0m\u001b[1;33m}\u001b[0m\u001b[1;33m)\u001b[0m\u001b[1;33m.\u001b[0m\u001b[0mget\u001b[0m\u001b[1;33m(\u001b[0m\u001b[1;34m\"Code\"\u001b[0m\u001b[1;33m)\u001b[0m\u001b[1;33m\u001b[0m\u001b[1;33m\u001b[0m\u001b[0m\n\u001b[0;32m    937\u001b[0m             \u001b[0merror_class\u001b[0m \u001b[1;33m=\u001b[0m \u001b[0mself\u001b[0m\u001b[1;33m.\u001b[0m\u001b[0mexceptions\u001b[0m\u001b[1;33m.\u001b[0m\u001b[0mfrom_code\u001b[0m\u001b[1;33m(\u001b[0m\u001b[0merror_code\u001b[0m\u001b[1;33m)\u001b[0m\u001b[1;33m\u001b[0m\u001b[1;33m\u001b[0m\u001b[0m\n\u001b[1;32m--> 938\u001b[1;33m             \u001b[1;32mraise\u001b[0m \u001b[0merror_class\u001b[0m\u001b[1;33m(\u001b[0m\u001b[0mparsed_response\u001b[0m\u001b[1;33m,\u001b[0m \u001b[0moperation_name\u001b[0m\u001b[1;33m)\u001b[0m\u001b[1;33m\u001b[0m\u001b[1;33m\u001b[0m\u001b[0m\n\u001b[0m\u001b[0;32m    939\u001b[0m         \u001b[1;32melse\u001b[0m\u001b[1;33m:\u001b[0m\u001b[1;33m\u001b[0m\u001b[1;33m\u001b[0m\u001b[0m\n\u001b[0;32m    940\u001b[0m             \u001b[1;32mreturn\u001b[0m \u001b[0mparsed_response\u001b[0m\u001b[1;33m\u001b[0m\u001b[1;33m\u001b[0m\u001b[0m\n",
      "\u001b[1;31mValidationException\u001b[0m: An error occurred (ValidationException) when calling the CreateQuantumTask operation: [line 10] uses a gate: cphaseshift which is not supported by the device or defined via a defcal"
     ]
    }
   ],
   "source": [
    "#IonQ\n",
    "device = DeviceUtils.get_device(\"ionq\")\n",
    "\n",
    "ion_qft_task = device.run(circ, shots = 100)"
   ]
  },
  {
   "cell_type": "code",
   "execution_count": 47,
   "metadata": {
    "scrolled": false
   },
   "outputs": [
    {
     "name": "stdout",
     "output_type": "stream",
     "text": [
      "['x', 'y', 'z', 'rx', 'ry', 'rz', 'h', 'cnot', 's', 'si', 't', 'ti', 'v', 'vi', 'xx', 'yy', 'zz', 'swap']\n"
     ]
    }
   ],
   "source": [
    "#IonQ\n",
    "ionQ = DeviceUtils.get_device(\"ionq\")\n",
    "\n",
    "ion_q_gates = DeviceScanner(device=ionQ).get_supported_gates()\n",
    "print(ion_q_gates)"
   ]
  },
  {
   "cell_type": "code",
   "execution_count": 65,
   "metadata": {},
   "outputs": [],
   "source": [
    "#Lucy\n",
    "device = DeviceUtils.get_device(\"oqc\")\n",
    "\n",
    "oqc_qft_task = device.run(circ, shots = 1000)"
   ]
  },
  {
   "cell_type": "code",
   "execution_count": 5,
   "metadata": {
    "scrolled": true
   },
   "outputs": [
    {
     "name": "stdout",
     "output_type": "stream",
     "text": [
      "The autoreload extension is already loaded. To reload it, use:\n",
      "  %reload_ext autoreload\n"
     ]
    }
   ],
   "source": [
    "%load_ext autoreload\n",
    "%autoreload 2\n",
    "\n",
    "from utils import BraketTaskScanner\n",
    "\n",
    "\n",
    "aspen_qft_task = \"arn:aws:braket:us-west-1:058017682654:quantum-task/a0f298f3-b2dd-448d-9223-bf1e22305a6a\" \n",
    "lucy_task = \"arn:aws:braket:eu-west-2:058017682654:quantum-task/bc9dacfa-823e-4b8f-81a7-54e51588af99\"\n",
    "aspen_10 = \"arn:aws:braket:us-west-1:058017682654:quantum-task/00e27411-115c-404c-b586-2a3c5da198ec\"\n",
    "aspen_8 = \"arn:aws:braket:us-west-1:058017682654:quantum-task/14cb4635-c75d-463d-a4e4-c3d74a4e0686\"\n",
    "aspen_6 = \"arn:aws:braket:us-west-1:058017682654:quantum-task/3fcb3e03-5eea-407e-89d6-354faf00b160\"\n",
    "aspen_5 = \"arn:aws:braket:us-west-1:058017682654:quantum-task/0ea84501-f757-470a-ba40-875bf3b7ee87\"\n",
    "aspen_4 = \"arn:aws:braket:us-west-1:058017682654:quantum-task/034cb3e9-0628-440d-a13b-69b453254abd\"\n",
    "aspen_3 = \"arn:aws:braket:us-west-1:058017682654:quantum-task/a0f298f3-b2dd-448d-9223-bf1e22305a6a\" \n",
    "scanner_lucy = BraketTaskScanner(lucy_task)\n",
    "scanner_aspen = BraketTaskScanner(aspen_8)\n"
   ]
  },
  {
   "cell_type": "markdown",
   "metadata": {},
   "source": [
    "# Rigetti\n"
   ]
  },
  {
   "cell_type": "code",
   "execution_count": 10,
   "metadata": {
    "scrolled": true
   },
   "outputs": [
    {
     "name": "stdout",
     "output_type": "stream",
     "text": [
      "0.6500000000\n",
      "Counter({'0110': 309, '0100': 172, '1110': 97, '1100': 80, '0111': 70, '1010': 45, '1111': 43, '0010': 38, '0101': 34, '1011': 23, '1000': 23, '0011': 21, '0000': 19, '1101': 14, '1001': 8, '0001': 4})\n"
     ]
    },
    {
     "data": {
      "image/png": "[encoded data removed]",
      "text/plain": [
       "<Figure size 640x480 with 1 Axes>"
      ]
     },
     "metadata": {},
     "output_type": "display_data"
    },
    {
     "name": "stdout",
     "output_type": "stream",
     "text": [
      "62.5 1000 1000.0 16\n"
     ]
    },
    {
     "data": {
      "image/png": "[encoded data removed]",
      "text/plain": [
       "<Figure size 640x480 with 1 Axes>"
      ]
     },
     "metadata": {},
     "output_type": "display_data"
    },
    {
     "name": "stdout",
     "output_type": "stream",
     "text": [
      "Normalized chi quared for results statistics: 98.0096\n"
     ]
    },
    {
     "data": {
      "text/plain": [
       "False"
      ]
     },
     "execution_count": 10,
     "metadata": {},
     "output_type": "execute_result"
    }
   ],
   "source": [
    "#print(scanner_aspen.get_circuit())\n",
    "print(scanner_aspen.cost_extimate())\n",
    "\n",
    "Plotter.plot_binary_results(scanner_aspen.get_results(), debug=True,title = 'QFT on Rigetti M2')\n",
    "Plotter.plot_results_statistic(scanner_aspen.get_results())\n",
    "\n",
    "scanner_aspen.is_garbage()"
   ]
  },
  {
   "cell_type": "markdown",
   "metadata": {},
   "source": [
    "## Input circuit"
   ]
  },
  {
   "cell_type": "code",
   "execution_count": 6,
   "metadata": {
    "scrolled": true
   },
   "outputs": [
    {
     "name": "stdout",
     "output_type": "stream",
     "text": [
      "OPENQASM 3.0;\n",
      "bit[3] b;\n",
      "qubit[3] q;\n",
      "h q[0];\n",
      "h q[1];\n",
      "h q[2];\n",
      "rz(3.141592653589793) q[1];\n",
      "rz(1.5707963267948966) q[2];\n",
      "h q[0];\n",
      "cphaseshift(1.5707963267948966) q[1], q[0];\n",
      "cphaseshift(0.7853981633974483) q[2], q[0];\n",
      "h q[1];\n",
      "cphaseshift(1.5707963267948966) q[2], q[1];\n",
      "h q[2];\n",
      "swap q[0], q[2];\n",
      "b[0] = measure q[0];\n",
      "b[1] = measure q[1];\n",
      "b[2] = measure q[2];\n"
     ]
    }
   ],
   "source": [
    "#see compiled source for 3 qubits QFT (last significarive one)\n",
    "scanner_aspen = BraketTaskScanner(aspen_qft_task)\n",
    "\n",
    "print(scanner_aspen.get_circuit())"
   ]
  },
  {
   "cell_type": "markdown",
   "metadata": {},
   "source": [
    "## Compiled circuit"
   ]
  },
  {
   "cell_type": "code",
   "execution_count": 7,
   "metadata": {
    "scrolled": true
   },
   "outputs": [
    {
     "name": "stdout",
     "output_type": "stream",
     "text": [
      "DECLARE ro BIT[3]\n",
      "PRAGMA INITIAL_REWIRING \"PARTIAL\"\n",
      "RESET\n",
      "RZ(-0.1413112636926115) 122\n",
      "RX(pi/2) 122\n",
      "RZ(3*pi/2) 122\n",
      "RZ(pi/2) 135\n",
      "RX(pi/2) 135\n",
      "RZ(1.7121075904875074) 135\n",
      "XY(pi) 135 122\n",
      "RX(pi/2) 135\n",
      "RZ(pi/4) 135\n",
      "RX(-pi/2) 135\n",
      "XY(pi) 135 122\n",
      "RZ(-pi/2) 121\n",
      "RX(pi/2) 121\n",
      "RZ(5.001919960480251) 121\n",
      "RZ(-pi/2) 122\n",
      "RX(pi/2) 122\n",
      "RZ(1.1399540830067252) 122\n",
      "RX(-pi/2) 122\n",
      "RZ(-3*pi/2) 122\n",
      "XY(pi) 121 122\n",
      "RX(pi/2) 121\n",
      "RZ(pi/8) 121\n",
      "RX(-pi/2) 121\n",
      "CZ 121 122\n",
      "RZ(4.83463383653057) 122\n",
      "RZ(-0.926709427090059) 135\n",
      "RX(pi/2) 135\n",
      "RZ(2.3752712447350635) 135\n",
      "RX(-pi/2) 135\n",
      "RZ(-3*pi/2) 135\n",
      "XY(pi) 122 135\n",
      "RX(pi/2) 122\n",
      "RZ(pi/4) 122\n",
      "RX(-pi/2) 122\n",
      "XY(pi) 122 135\n",
      "RX(pi/2) 121\n",
      "RZ(5.600955245385302) 121\n",
      "RZ(3.122515899047075) 122\n",
      "CZ 122 121\n",
      "RZ(pi/2) 121\n",
      "RZ(-2.228093422063399) 122\n",
      "RX(pi/2) 122\n",
      "RZ(pi) 122\n",
      "RX(-pi/2) 122\n",
      "RZ(-0.6572970952685027) 122\n",
      "XY(pi) 121 122\n",
      "RZ(pi/2) 121\n",
      "RX(pi/2) 121\n",
      "RZ(pi/2) 121\n",
      "RZ(-pi/2) 135\n",
      "RX(pi/2) 135\n",
      "RZ(4.731465734927409) 135\n",
      "MEASURE 122 ro[2]\n",
      "MEASURE 135 ro[1]\n",
      "MEASURE 121 ro[0]\n",
      "\n"
     ]
    }
   ],
   "source": [
    "print(scanner_aspen.get_compiled_circuit())"
   ]
  },
  {
   "cell_type": "code",
   "execution_count": 8,
   "metadata": {},
   "outputs": [
    {
     "ename": "QasmError",
     "evalue": "'Unable to match any token rule, got -->D<-- Check your OPENQASM source and any include statements.'",
     "output_type": "error",
     "traceback": [
      "\u001b[1;31m---------------------------------------------------------------------------\u001b[0m",
      "\u001b[1;31mQasmError\u001b[0m                                 Traceback (most recent call last)",
      "\u001b[1;32m<ipython-input-8-7c29ed775453>\u001b[0m in \u001b[0;36m<module>\u001b[1;34m\u001b[0m\n\u001b[0;32m      1\u001b[0m \u001b[1;32mfrom\u001b[0m \u001b[0mqiskit\u001b[0m \u001b[1;32mimport\u001b[0m  \u001b[0mQuantumCircuit\u001b[0m\u001b[1;33m\u001b[0m\u001b[1;33m\u001b[0m\u001b[0m\n\u001b[1;32m----> 2\u001b[1;33m \u001b[0mQuantumCircuit\u001b[0m\u001b[1;33m(\u001b[0m\u001b[1;33m)\u001b[0m\u001b[1;33m.\u001b[0m\u001b[0mfrom_qasm_str\u001b[0m\u001b[1;33m(\u001b[0m\u001b[0mscanner_aspen\u001b[0m\u001b[1;33m.\u001b[0m\u001b[0mget_compiled_circuit\u001b[0m\u001b[1;33m(\u001b[0m\u001b[1;33m)\u001b[0m\u001b[1;33m)\u001b[0m\u001b[1;33m.\u001b[0m\u001b[0mdraw\u001b[0m\u001b[1;33m(\u001b[0m\u001b[1;33m)\u001b[0m\u001b[1;33m\u001b[0m\u001b[1;33m\u001b[0m\u001b[0m\n\u001b[0m",
      "\u001b[1;32mc:\\Users\\utente\\miniconda3\\envs\\QBench\\lib\\site-packages\\qiskit\\circuit\\quantumcircuit.py\u001b[0m in \u001b[0;36mfrom_qasm_str\u001b[1;34m(qasm_str)\u001b[0m\n\u001b[0;32m   2498\u001b[0m         \"\"\"\n\u001b[0;32m   2499\u001b[0m         \u001b[0mqasm\u001b[0m \u001b[1;33m=\u001b[0m \u001b[0mQasm\u001b[0m\u001b[1;33m(\u001b[0m\u001b[0mdata\u001b[0m\u001b[1;33m=\u001b[0m\u001b[0mqasm_str\u001b[0m\u001b[1;33m)\u001b[0m\u001b[1;33m\u001b[0m\u001b[1;33m\u001b[0m\u001b[0m\n\u001b[1;32m-> 2500\u001b[1;33m         \u001b[1;32mreturn\u001b[0m \u001b[0m_circuit_from_qasm\u001b[0m\u001b[1;33m(\u001b[0m\u001b[0mqasm\u001b[0m\u001b[1;33m)\u001b[0m\u001b[1;33m\u001b[0m\u001b[1;33m\u001b[0m\u001b[0m\n\u001b[0m\u001b[0;32m   2501\u001b[0m \u001b[1;33m\u001b[0m\u001b[0m\n\u001b[0;32m   2502\u001b[0m     \u001b[1;33m@\u001b[0m\u001b[0mproperty\u001b[0m\u001b[1;33m\u001b[0m\u001b[1;33m\u001b[0m\u001b[0m\n",
      "\u001b[1;32mc:\\Users\\utente\\miniconda3\\envs\\QBench\\lib\\site-packages\\qiskit\\circuit\\quantumcircuit.py\u001b[0m in \u001b[0;36m_circuit_from_qasm\u001b[1;34m(qasm)\u001b[0m\n\u001b[0;32m   4982\u001b[0m     \u001b[1;32mfrom\u001b[0m \u001b[0mqiskit\u001b[0m\u001b[1;33m.\u001b[0m\u001b[0mconverters\u001b[0m \u001b[1;32mimport\u001b[0m \u001b[0mdag_to_circuit\u001b[0m\u001b[1;33m\u001b[0m\u001b[1;33m\u001b[0m\u001b[0m\n\u001b[0;32m   4983\u001b[0m \u001b[1;33m\u001b[0m\u001b[0m\n\u001b[1;32m-> 4984\u001b[1;33m     \u001b[0mast\u001b[0m \u001b[1;33m=\u001b[0m \u001b[0mqasm\u001b[0m\u001b[1;33m.\u001b[0m\u001b[0mparse\u001b[0m\u001b[1;33m(\u001b[0m\u001b[1;33m)\u001b[0m\u001b[1;33m\u001b[0m\u001b[1;33m\u001b[0m\u001b[0m\n\u001b[0m\u001b[0;32m   4985\u001b[0m     \u001b[0mdag\u001b[0m \u001b[1;33m=\u001b[0m \u001b[0mast_to_dag\u001b[0m\u001b[1;33m(\u001b[0m\u001b[0mast\u001b[0m\u001b[1;33m)\u001b[0m\u001b[1;33m\u001b[0m\u001b[1;33m\u001b[0m\u001b[0m\n\u001b[0;32m   4986\u001b[0m     \u001b[1;32mreturn\u001b[0m \u001b[0mdag_to_circuit\u001b[0m\u001b[1;33m(\u001b[0m\u001b[0mdag\u001b[0m\u001b[1;33m)\u001b[0m\u001b[1;33m\u001b[0m\u001b[1;33m\u001b[0m\u001b[0m\n",
      "\u001b[1;32mc:\\Users\\utente\\miniconda3\\envs\\QBench\\lib\\site-packages\\qiskit\\qasm\\qasm.py\u001b[0m in \u001b[0;36mparse\u001b[1;34m(self)\u001b[0m\n\u001b[0;32m     51\u001b[0m         \u001b[1;32mwith\u001b[0m \u001b[0mQasmParser\u001b[0m\u001b[1;33m(\u001b[0m\u001b[0mself\u001b[0m\u001b[1;33m.\u001b[0m\u001b[0m_filename\u001b[0m\u001b[1;33m)\u001b[0m \u001b[1;32mas\u001b[0m \u001b[0mqasm_p\u001b[0m\u001b[1;33m:\u001b[0m\u001b[1;33m\u001b[0m\u001b[1;33m\u001b[0m\u001b[0m\n\u001b[0;32m     52\u001b[0m             \u001b[0mqasm_p\u001b[0m\u001b[1;33m.\u001b[0m\u001b[0mparse_debug\u001b[0m\u001b[1;33m(\u001b[0m\u001b[1;32mFalse\u001b[0m\u001b[1;33m)\u001b[0m\u001b[1;33m\u001b[0m\u001b[1;33m\u001b[0m\u001b[0m\n\u001b[1;32m---> 53\u001b[1;33m             \u001b[1;32mreturn\u001b[0m \u001b[0mqasm_p\u001b[0m\u001b[1;33m.\u001b[0m\u001b[0mparse\u001b[0m\u001b[1;33m(\u001b[0m\u001b[0mself\u001b[0m\u001b[1;33m.\u001b[0m\u001b[0m_data\u001b[0m\u001b[1;33m)\u001b[0m\u001b[1;33m\u001b[0m\u001b[1;33m\u001b[0m\u001b[0m\n\u001b[0m",
      "\u001b[1;32mc:\\Users\\utente\\miniconda3\\envs\\QBench\\lib\\site-packages\\qiskit\\qasm\\qasmparser.py\u001b[0m in \u001b[0;36mparse\u001b[1;34m(self, data)\u001b[0m\n\u001b[0;32m   1135\u001b[0m     \u001b[1;32mdef\u001b[0m \u001b[0mparse\u001b[0m\u001b[1;33m(\u001b[0m\u001b[0mself\u001b[0m\u001b[1;33m,\u001b[0m \u001b[0mdata\u001b[0m\u001b[1;33m)\u001b[0m\u001b[1;33m:\u001b[0m\u001b[1;33m\u001b[0m\u001b[1;33m\u001b[0m\u001b[0m\n\u001b[0;32m   1136\u001b[0m         \u001b[1;34m\"\"\"Parse some data.\"\"\"\u001b[0m\u001b[1;33m\u001b[0m\u001b[1;33m\u001b[0m\u001b[0m\n\u001b[1;32m-> 1137\u001b[1;33m         \u001b[0mself\u001b[0m\u001b[1;33m.\u001b[0m\u001b[0mparser\u001b[0m\u001b[1;33m.\u001b[0m\u001b[0mparse\u001b[0m\u001b[1;33m(\u001b[0m\u001b[0mdata\u001b[0m\u001b[1;33m,\u001b[0m \u001b[0mlexer\u001b[0m\u001b[1;33m=\u001b[0m\u001b[0mself\u001b[0m\u001b[1;33m.\u001b[0m\u001b[0mlexer\u001b[0m\u001b[1;33m,\u001b[0m \u001b[0mdebug\u001b[0m\u001b[1;33m=\u001b[0m\u001b[0mself\u001b[0m\u001b[1;33m.\u001b[0m\u001b[0mparse_deb\u001b[0m\u001b[1;33m)\u001b[0m\u001b[1;33m\u001b[0m\u001b[1;33m\u001b[0m\u001b[0m\n\u001b[0m\u001b[0;32m   1138\u001b[0m         \u001b[1;32mif\u001b[0m \u001b[0mself\u001b[0m\u001b[1;33m.\u001b[0m\u001b[0mqasm\u001b[0m \u001b[1;32mis\u001b[0m \u001b[1;32mNone\u001b[0m\u001b[1;33m:\u001b[0m\u001b[1;33m\u001b[0m\u001b[1;33m\u001b[0m\u001b[0m\n\u001b[0;32m   1139\u001b[0m             \u001b[1;32mraise\u001b[0m \u001b[0mQasmError\u001b[0m\u001b[1;33m(\u001b[0m\u001b[1;34m\"Uncaught exception in parser; \"\u001b[0m \u001b[1;33m+\u001b[0m \u001b[1;34m\"see previous messages for details.\"\u001b[0m\u001b[1;33m)\u001b[0m\u001b[1;33m\u001b[0m\u001b[1;33m\u001b[0m\u001b[0m\n",
      "\u001b[1;32mc:\\Users\\utente\\miniconda3\\envs\\QBench\\lib\\site-packages\\ply\\yacc.py\u001b[0m in \u001b[0;36mparse\u001b[1;34m(self, input, lexer, debug, tracking, tokenfunc)\u001b[0m\n\u001b[0;32m    331\u001b[0m             \u001b[1;32mreturn\u001b[0m \u001b[0mself\u001b[0m\u001b[1;33m.\u001b[0m\u001b[0mparseopt\u001b[0m\u001b[1;33m(\u001b[0m\u001b[0minput\u001b[0m\u001b[1;33m,\u001b[0m \u001b[0mlexer\u001b[0m\u001b[1;33m,\u001b[0m \u001b[0mdebug\u001b[0m\u001b[1;33m,\u001b[0m \u001b[0mtracking\u001b[0m\u001b[1;33m,\u001b[0m \u001b[0mtokenfunc\u001b[0m\u001b[1;33m)\u001b[0m\u001b[1;33m\u001b[0m\u001b[1;33m\u001b[0m\u001b[0m\n\u001b[0;32m    332\u001b[0m         \u001b[1;32melse\u001b[0m\u001b[1;33m:\u001b[0m\u001b[1;33m\u001b[0m\u001b[1;33m\u001b[0m\u001b[0m\n\u001b[1;32m--> 333\u001b[1;33m             \u001b[1;32mreturn\u001b[0m \u001b[0mself\u001b[0m\u001b[1;33m.\u001b[0m\u001b[0mparseopt_notrack\u001b[0m\u001b[1;33m(\u001b[0m\u001b[0minput\u001b[0m\u001b[1;33m,\u001b[0m \u001b[0mlexer\u001b[0m\u001b[1;33m,\u001b[0m \u001b[0mdebug\u001b[0m\u001b[1;33m,\u001b[0m \u001b[0mtracking\u001b[0m\u001b[1;33m,\u001b[0m \u001b[0mtokenfunc\u001b[0m\u001b[1;33m)\u001b[0m\u001b[1;33m\u001b[0m\u001b[1;33m\u001b[0m\u001b[0m\n\u001b[0m\u001b[0;32m    334\u001b[0m \u001b[1;33m\u001b[0m\u001b[0m\n\u001b[0;32m    335\u001b[0m \u001b[1;33m\u001b[0m\u001b[0m\n",
      "\u001b[1;32mc:\\Users\\utente\\miniconda3\\envs\\QBench\\lib\\site-packages\\ply\\yacc.py\u001b[0m in \u001b[0;36mparseopt_notrack\u001b[1;34m(self, input, lexer, debug, tracking, tokenfunc)\u001b[0m\n\u001b[0;32m   1061\u001b[0m                 \u001b[1;32mif\u001b[0m \u001b[1;32mnot\u001b[0m \u001b[0mlookahead\u001b[0m\u001b[1;33m:\u001b[0m\u001b[1;33m\u001b[0m\u001b[1;33m\u001b[0m\u001b[0m\n\u001b[0;32m   1062\u001b[0m                     \u001b[1;32mif\u001b[0m \u001b[1;32mnot\u001b[0m \u001b[0mlookaheadstack\u001b[0m\u001b[1;33m:\u001b[0m\u001b[1;33m\u001b[0m\u001b[1;33m\u001b[0m\u001b[0m\n\u001b[1;32m-> 1063\u001b[1;33m                         \u001b[0mlookahead\u001b[0m \u001b[1;33m=\u001b[0m \u001b[0mget_token\u001b[0m\u001b[1;33m(\u001b[0m\u001b[1;33m)\u001b[0m     \u001b[1;31m# Get the next token\u001b[0m\u001b[1;33m\u001b[0m\u001b[1;33m\u001b[0m\u001b[0m\n\u001b[0m\u001b[0;32m   1064\u001b[0m                     \u001b[1;32melse\u001b[0m\u001b[1;33m:\u001b[0m\u001b[1;33m\u001b[0m\u001b[1;33m\u001b[0m\u001b[0m\n\u001b[0;32m   1065\u001b[0m                         \u001b[0mlookahead\u001b[0m \u001b[1;33m=\u001b[0m \u001b[0mlookaheadstack\u001b[0m\u001b[1;33m.\u001b[0m\u001b[0mpop\u001b[0m\u001b[1;33m(\u001b[0m\u001b[1;33m)\u001b[0m\u001b[1;33m\u001b[0m\u001b[1;33m\u001b[0m\u001b[0m\n",
      "\u001b[1;32mc:\\Users\\utente\\miniconda3\\envs\\QBench\\lib\\site-packages\\qiskit\\qasm\\qasmlexer.py\u001b[0m in \u001b[0;36mtoken\u001b[1;34m(self)\u001b[0m\n\u001b[0;32m     63\u001b[0m     \u001b[1;32mdef\u001b[0m \u001b[0mtoken\u001b[0m\u001b[1;33m(\u001b[0m\u001b[0mself\u001b[0m\u001b[1;33m)\u001b[0m\u001b[1;33m:\u001b[0m\u001b[1;33m\u001b[0m\u001b[1;33m\u001b[0m\u001b[0m\n\u001b[0;32m     64\u001b[0m         \u001b[1;34m\"\"\"Return the next token.\"\"\"\u001b[0m\u001b[1;33m\u001b[0m\u001b[1;33m\u001b[0m\u001b[0m\n\u001b[1;32m---> 65\u001b[1;33m         \u001b[0mret\u001b[0m \u001b[1;33m=\u001b[0m \u001b[0mself\u001b[0m\u001b[1;33m.\u001b[0m\u001b[0mlexer\u001b[0m\u001b[1;33m.\u001b[0m\u001b[0mtoken\u001b[0m\u001b[1;33m(\u001b[0m\u001b[1;33m)\u001b[0m\u001b[1;33m\u001b[0m\u001b[1;33m\u001b[0m\u001b[0m\n\u001b[0m\u001b[0;32m     66\u001b[0m         \u001b[1;32mreturn\u001b[0m \u001b[0mret\u001b[0m\u001b[1;33m\u001b[0m\u001b[1;33m\u001b[0m\u001b[0m\n\u001b[0;32m     67\u001b[0m \u001b[1;33m\u001b[0m\u001b[0m\n",
      "\u001b[1;32mc:\\Users\\utente\\miniconda3\\envs\\QBench\\lib\\site-packages\\ply\\lex.py\u001b[0m in \u001b[0;36mtoken\u001b[1;34m(self)\u001b[0m\n\u001b[0;32m    384\u001b[0m                     \u001b[0mtok\u001b[0m\u001b[1;33m.\u001b[0m\u001b[0mlexpos\u001b[0m \u001b[1;33m=\u001b[0m \u001b[0mlexpos\u001b[0m\u001b[1;33m\u001b[0m\u001b[1;33m\u001b[0m\u001b[0m\n\u001b[0;32m    385\u001b[0m                     \u001b[0mself\u001b[0m\u001b[1;33m.\u001b[0m\u001b[0mlexpos\u001b[0m \u001b[1;33m=\u001b[0m \u001b[0mlexpos\u001b[0m\u001b[1;33m\u001b[0m\u001b[1;33m\u001b[0m\u001b[0m\n\u001b[1;32m--> 386\u001b[1;33m                     \u001b[0mnewtok\u001b[0m \u001b[1;33m=\u001b[0m \u001b[0mself\u001b[0m\u001b[1;33m.\u001b[0m\u001b[0mlexerrorf\u001b[0m\u001b[1;33m(\u001b[0m\u001b[0mtok\u001b[0m\u001b[1;33m)\u001b[0m\u001b[1;33m\u001b[0m\u001b[1;33m\u001b[0m\u001b[0m\n\u001b[0m\u001b[0;32m    387\u001b[0m                     \u001b[1;32mif\u001b[0m \u001b[0mlexpos\u001b[0m \u001b[1;33m==\u001b[0m \u001b[0mself\u001b[0m\u001b[1;33m.\u001b[0m\u001b[0mlexpos\u001b[0m\u001b[1;33m:\u001b[0m\u001b[1;33m\u001b[0m\u001b[1;33m\u001b[0m\u001b[0m\n\u001b[0;32m    388\u001b[0m                         \u001b[1;31m# Error method didn't change text position at all. This is an error.\u001b[0m\u001b[1;33m\u001b[0m\u001b[1;33m\u001b[0m\u001b[1;33m\u001b[0m\u001b[0m\n",
      "\u001b[1;32mc:\\Users\\utente\\miniconda3\\envs\\QBench\\lib\\site-packages\\qiskit\\qasm\\qasmlexer.py\u001b[0m in \u001b[0;36mt_error\u001b[1;34m(self, t)\u001b[0m\n\u001b[0;32m    200\u001b[0m         raise QasmError(\n\u001b[0;32m    201\u001b[0m             \u001b[1;34m\"Unable to match any token rule, got -->%s<-- \"\u001b[0m\u001b[1;33m\u001b[0m\u001b[1;33m\u001b[0m\u001b[0m\n\u001b[1;32m--> 202\u001b[1;33m             \u001b[1;34m\"Check your OPENQASM source and any include statements.\"\u001b[0m \u001b[1;33m%\u001b[0m \u001b[0mt\u001b[0m\u001b[1;33m.\u001b[0m\u001b[0mvalue\u001b[0m\u001b[1;33m[\u001b[0m\u001b[1;36m0\u001b[0m\u001b[1;33m]\u001b[0m\u001b[1;33m\u001b[0m\u001b[1;33m\u001b[0m\u001b[0m\n\u001b[0m\u001b[0;32m    203\u001b[0m         )\n",
      "\u001b[1;31mQasmError\u001b[0m: 'Unable to match any token rule, got -->D<-- Check your OPENQASM source and any include statements.'"
     ]
    }
   ],
   "source": [
    "#Rigetti produce OpenQASM 3.0 source so we cant plot it with qiskit\n",
    "\n",
    "from qiskit import  QuantumCircuit\n",
    "QuantumCircuit().from_qasm_str(scanner_aspen.get_compiled_circuit()).draw()"
   ]
  },
  {
   "cell_type": "markdown",
   "metadata": {},
   "source": [
    "## OQC"
   ]
  },
  {
   "cell_type": "code",
   "execution_count": 30,
   "metadata": {},
   "outputs": [
    {
     "name": "stdout",
     "output_type": "stream",
     "text": [
      "Counter({'010': 19, '000': 18, '110': 18, '100': 12, '101': 12, '011': 10, '111': 6, '001': 5})\n"
     ]
    },
    {
     "data": {
      "image/png": "[encoded data removed]",
      "text/plain": [
       "<Figure size 640x480 with 1 Axes>"
      ]
     },
     "metadata": {},
     "output_type": "display_data"
    }
   ],
   "source": [
    "Plotter.plot_binary_results(scanner_lucy.get_results(), debug=True,title = 'QFT on LUCY')"
   ]
  },
  {
   "cell_type": "markdown",
   "metadata": {},
   "source": [
    "## Input circuit"
   ]
  },
  {
   "cell_type": "code",
   "execution_count": 31,
   "metadata": {
    "scrolled": false
   },
   "outputs": [
    {
     "name": "stdout",
     "output_type": "stream",
     "text": [
      "OPENQASM 3.0;\n",
      "bit[3] b;\n",
      "qubit[3] q;\n",
      "h q[0];\n",
      "h q[1];\n",
      "h q[2];\n",
      "rz(3.141592653589793) q[1];\n",
      "rz(1.5707963267948966) q[2];\n",
      "h q[0];\n",
      "cphaseshift(1.5707963267948966) q[1], q[0];\n",
      "cphaseshift(0.7853981633974483) q[2], q[0];\n",
      "h q[1];\n",
      "cphaseshift(1.5707963267948966) q[2], q[1];\n",
      "h q[2];\n",
      "swap q[0], q[2];\n",
      "b[0] = measure q[0];\n",
      "b[1] = measure q[1];\n",
      "b[2] = measure q[2];\n"
     ]
    }
   ],
   "source": [
    "print(scanner_lucy.get_circuit())"
   ]
  },
  {
   "cell_type": "markdown",
   "metadata": {},
   "source": [
    "## Compiled circuit"
   ]
  },
  {
   "cell_type": "code",
   "execution_count": 32,
   "metadata": {
    "scrolled": true
   },
   "outputs": [
    {
     "name": "stdout",
     "output_type": "stream",
     "text": [
      "OPENQASM 2.0;\n",
      "include \"qelib1.inc\";\n",
      "\n",
      "qreg node[8];\n",
      "creg b[3];\n",
      "h node[0];\n",
      "u3(3.5*pi,2.75*pi,4.0*pi) node[1];\n",
      "u3(3.5*pi,2.375000000000001*pi,4.0*pi) node[7];\n",
      "h node[1];\n",
      "h node[7];\n",
      "cx node[0],node[1];\n",
      "h node[0];\n",
      "u3(0.0*pi,-0.5*pi,4.25*pi) node[0];\n",
      "h node[0];\n",
      "cx node[0],node[1];\n",
      "h node[0];\n",
      "h node[1];\n",
      "u3(0.0*pi,-0.5*pi,0.75*pi) node[0];\n",
      "u3(0.5*pi,0.0*pi,0.5*pi) node[1];\n",
      "h node[0];\n",
      "cx node[0],node[7];\n",
      "h node[0];\n",
      "u3(0.0*pi,-0.5*pi,4.375*pi) node[0];\n",
      "h node[0];\n",
      "cx node[0],node[7];\n",
      "h node[0];\n",
      "u3(0.0*pi,-0.5*pi,0.625*pi) node[0];\n",
      "h node[0];\n",
      "cx node[0],node[7];\n",
      "h node[0];\n",
      "h node[7];\n",
      "cx node[0],node[7];\n",
      "h node[0];\n",
      "h node[7];\n",
      "cx node[0],node[7];\n",
      "h node[0];\n",
      "h node[7];\n",
      "measure node[7] -> b[2];\n",
      "cx node[0],node[1];\n",
      "u3(0.0*pi,-0.5*pi,4.25*pi) node[1];\n",
      "cx node[0],node[1];\n",
      "measure node[1] -> b[1];\n",
      "u3(0.5*pi,0.0*pi,0.5*pi) node[0];\n",
      "measure node[0] -> b[0];\n",
      "\n"
     ]
    }
   ],
   "source": [
    "print(scanner_lucy.get_compiled_circuit())"
   ]
  },
  {
   "cell_type": "code",
   "execution_count": 33,
   "metadata": {},
   "outputs": [
    {
     "data": {
      "text/html": [
       "<pre style=\"word-wrap: normal;white-space: pre;background: #fff0;line-height: 1.1;font-family: &quot;Courier New&quot;,Courier,monospace\">                ┌───┐                   ┌───┐┌───────────────────┐┌───┐     »\n",
       "node_0: ────────┤ H ├────────────────■──┤ H ├┤ U3(0,-π/2,13.352) ├┤ H ├──■──»\n",
       "        ┌───────┴───┴───────┐ ┌───┐┌─┴─┐└───┘└───────────────────┘└───┘┌─┴─┐»\n",
       "node_1: ┤ U3(7π/2,11π/4,4π) ├─┤ H ├┤ X ├───────────────────────────────┤ X ├»\n",
       "        └───────────────────┘ └───┘└───┘                               └───┘»\n",
       "node_2: ────────────────────────────────────────────────────────────────────»\n",
       "                                                                            »\n",
       "node_3: ────────────────────────────────────────────────────────────────────»\n",
       "                                                                            »\n",
       "node_4: ────────────────────────────────────────────────────────────────────»\n",
       "                                                                            »\n",
       "node_5: ────────────────────────────────────────────────────────────────────»\n",
       "                                                                            »\n",
       "node_6: ────────────────────────────────────────────────────────────────────»\n",
       "        ┌────────────────────┐┌───┐                                         »\n",
       "node_7: ┤ U3(7π/2,7.4613,4π) ├┤ H ├─────────────────────────────────────────»\n",
       "        └────────────────────┘└───┘                                         »\n",
       "   b_0: ════════════════════════════════════════════════════════════════════»\n",
       "                                                                            »\n",
       "   b_1: ════════════════════════════════════════════════════════════════════»\n",
       "                                                                            »\n",
       "   b_2: ════════════════════════════════════════════════════════════════════»\n",
       "                                                                            »\n",
       "«        ┌───┐┌─────────────────┐┌───┐     ┌───┐┌───────────────────┐┌───┐     »\n",
       "«node_0: ┤ H ├┤ U3(0,-π/2,3π/4) ├┤ H ├──■──┤ H ├┤ U3(0,-π/2,13.744) ├┤ H ├──■──»\n",
       "«        ├───┤└┬───────────────┬┘└───┘  │  └───┘└───────────────────┘└───┘  │  »\n",
       "«node_1: ┤ H ├─┤ U3(π/2,0,π/2) ├────────┼───────────────────────────────────┼──»\n",
       "«        └───┘ └───────────────┘        │                                   │  »\n",
       "«node_2: ───────────────────────────────┼───────────────────────────────────┼──»\n",
       "«                                       │                                   │  »\n",
       "«node_3: ───────────────────────────────┼───────────────────────────────────┼──»\n",
       "«                                       │                                   │  »\n",
       "«node_4: ───────────────────────────────┼───────────────────────────────────┼──»\n",
       "«                                       │                                   │  »\n",
       "«node_5: ───────────────────────────────┼───────────────────────────────────┼──»\n",
       "«                                       │                                   │  »\n",
       "«node_6: ───────────────────────────────┼───────────────────────────────────┼──»\n",
       "«                                     ┌─┴─┐                               ┌─┴─┐»\n",
       "«node_7: ─────────────────────────────┤ X ├───────────────────────────────┤ X ├»\n",
       "«                                     └───┘                               └───┘»\n",
       "«   b_0: ══════════════════════════════════════════════════════════════════════»\n",
       "«                                                                              »\n",
       "«   b_1: ══════════════════════════════════════════════════════════════════════»\n",
       "«                                                                              »\n",
       "«   b_2: ══════════════════════════════════════════════════════════════════════»\n",
       "«                                                                              »\n",
       "«        ┌───┐┌─────────────────┐┌───┐     ┌───┐     ┌───┐     ┌───┐     »\n",
       "«node_0: ┤ H ├┤ U3(0,-π/2,5π/8) ├┤ H ├──■──┤ H ├──■──┤ H ├──■──┤ H ├──■──»\n",
       "«        └───┘└─────────────────┘└───┘  │  └───┘  │  └───┘  │  └───┘┌─┴─┐»\n",
       "«node_1: ───────────────────────────────┼─────────┼─────────┼───────┤ X ├»\n",
       "«                                       │         │         │       └───┘»\n",
       "«node_2: ───────────────────────────────┼─────────┼─────────┼────────────»\n",
       "«                                       │         │         │            »\n",
       "«node_3: ───────────────────────────────┼─────────┼─────────┼────────────»\n",
       "«                                       │         │         │            »\n",
       "«node_4: ───────────────────────────────┼─────────┼─────────┼────────────»\n",
       "«                                       │         │         │            »\n",
       "«node_5: ───────────────────────────────┼─────────┼─────────┼────────────»\n",
       "«                                       │         │         │            »\n",
       "«node_6: ───────────────────────────────┼─────────┼─────────┼────────────»\n",
       "«                                     ┌─┴─┐┌───┐┌─┴─┐┌───┐┌─┴─┐┌───┐ ┌─┐ »\n",
       "«node_7: ─────────────────────────────┤ X ├┤ H ├┤ X ├┤ H ├┤ X ├┤ H ├─┤M├─»\n",
       "«                                     └───┘└───┘└───┘└───┘└───┘└───┘ └╥┘ »\n",
       "«   b_0: ═════════════════════════════════════════════════════════════╬══»\n",
       "«                                                                     ║  »\n",
       "«   b_1: ═════════════════════════════════════════════════════════════╬══»\n",
       "«                                                                     ║  »\n",
       "«   b_2: ═════════════════════════════════════════════════════════════╩══»\n",
       "«                                                                        »\n",
       "«                                  ┌───────────────┐┌─┐\n",
       "«node_0: ───────────────────────■──┤ U3(π/2,0,π/2) ├┤M├\n",
       "«        ┌───────────────────┐┌─┴─┐└──────┬─┬──────┘└╥┘\n",
       "«node_1: ┤ U3(0,-π/2,13.352) ├┤ X ├───────┤M├────────╫─\n",
       "«        └───────────────────┘└───┘       └╥┘        ║ \n",
       "«node_2: ──────────────────────────────────╫─────────╫─\n",
       "«                                          ║         ║ \n",
       "«node_3: ──────────────────────────────────╫─────────╫─\n",
       "«                                          ║         ║ \n",
       "«node_4: ──────────────────────────────────╫─────────╫─\n",
       "«                                          ║         ║ \n",
       "«node_5: ──────────────────────────────────╫─────────╫─\n",
       "«                                          ║         ║ \n",
       "«node_6: ──────────────────────────────────╫─────────╫─\n",
       "«                                          ║         ║ \n",
       "«node_7: ──────────────────────────────────╫─────────╫─\n",
       "«                                          ║         ║ \n",
       "«   b_0: ══════════════════════════════════╬═════════╩═\n",
       "«                                          ║           \n",
       "«   b_1: ══════════════════════════════════╩═══════════\n",
       "«                                                      \n",
       "«   b_2: ══════════════════════════════════════════════\n",
       "«                                                      </pre>"
      ],
      "text/plain": [
       "                ┌───┐                   ┌───┐┌───────────────────┐┌───┐     »\n",
       "node_0: ────────┤ H ├────────────────■──┤ H ├┤ U3(0,-π/2,13.352) ├┤ H ├──■──»\n",
       "        ┌───────┴───┴───────┐ ┌───┐┌─┴─┐└───┘└───────────────────┘└───┘┌─┴─┐»\n",
       "node_1: ┤ U3(7π/2,11π/4,4π) ├─┤ H ├┤ X ├───────────────────────────────┤ X ├»\n",
       "        └───────────────────┘ └───┘└───┘                               └───┘»\n",
       "node_2: ────────────────────────────────────────────────────────────────────»\n",
       "                                                                            »\n",
       "node_3: ────────────────────────────────────────────────────────────────────»\n",
       "                                                                            »\n",
       "node_4: ────────────────────────────────────────────────────────────────────»\n",
       "                                                                            »\n",
       "node_5: ────────────────────────────────────────────────────────────────────»\n",
       "                                                                            »\n",
       "node_6: ────────────────────────────────────────────────────────────────────»\n",
       "        ┌────────────────────┐┌───┐                                         »\n",
       "node_7: ┤ U3(7π/2,7.4613,4π) ├┤ H ├─────────────────────────────────────────»\n",
       "        └────────────────────┘└───┘                                         »\n",
       "   b_0: ════════════════════════════════════════════════════════════════════»\n",
       "                                                                            »\n",
       "   b_1: ════════════════════════════════════════════════════════════════════»\n",
       "                                                                            »\n",
       "   b_2: ════════════════════════════════════════════════════════════════════»\n",
       "                                                                            »\n",
       "«        ┌───┐┌─────────────────┐┌───┐     ┌───┐┌───────────────────┐┌───┐     »\n",
       "«node_0: ┤ H ├┤ U3(0,-π/2,3π/4) ├┤ H ├──■──┤ H ├┤ U3(0,-π/2,13.744) ├┤ H ├──■──»\n",
       "«        ├───┤└┬───────────────┬┘└───┘  │  └───┘└───────────────────┘└───┘  │  »\n",
       "«node_1: ┤ H ├─┤ U3(π/2,0,π/2) ├────────┼───────────────────────────────────┼──»\n",
       "«        └───┘ └───────────────┘        │                                   │  »\n",
       "«node_2: ───────────────────────────────┼───────────────────────────────────┼──»\n",
       "«                                       │                                   │  »\n",
       "«node_3: ───────────────────────────────┼───────────────────────────────────┼──»\n",
       "«                                       │                                   │  »\n",
       "«node_4: ───────────────────────────────┼───────────────────────────────────┼──»\n",
       "«                                       │                                   │  »\n",
       "«node_5: ───────────────────────────────┼───────────────────────────────────┼──»\n",
       "«                                       │                                   │  »\n",
       "«node_6: ───────────────────────────────┼───────────────────────────────────┼──»\n",
       "«                                     ┌─┴─┐                               ┌─┴─┐»\n",
       "«node_7: ─────────────────────────────┤ X ├───────────────────────────────┤ X ├»\n",
       "«                                     └───┘                               └───┘»\n",
       "«   b_0: ══════════════════════════════════════════════════════════════════════»\n",
       "«                                                                              »\n",
       "«   b_1: ══════════════════════════════════════════════════════════════════════»\n",
       "«                                                                              »\n",
       "«   b_2: ══════════════════════════════════════════════════════════════════════»\n",
       "«                                                                              »\n",
       "«        ┌───┐┌─────────────────┐┌───┐     ┌───┐     ┌───┐     ┌───┐     »\n",
       "«node_0: ┤ H ├┤ U3(0,-π/2,5π/8) ├┤ H ├──■──┤ H ├──■──┤ H ├──■──┤ H ├──■──»\n",
       "«        └───┘└─────────────────┘└───┘  │  └───┘  │  └───┘  │  └───┘┌─┴─┐»\n",
       "«node_1: ───────────────────────────────┼─────────┼─────────┼───────┤ X ├»\n",
       "«                                       │         │         │       └───┘»\n",
       "«node_2: ───────────────────────────────┼─────────┼─────────┼────────────»\n",
       "«                                       │         │         │            »\n",
       "«node_3: ───────────────────────────────┼─────────┼─────────┼────────────»\n",
       "«                                       │         │         │            »\n",
       "«node_4: ───────────────────────────────┼─────────┼─────────┼────────────»\n",
       "«                                       │         │         │            »\n",
       "«node_5: ───────────────────────────────┼─────────┼─────────┼────────────»\n",
       "«                                       │         │         │            »\n",
       "«node_6: ───────────────────────────────┼─────────┼─────────┼────────────»\n",
       "«                                     ┌─┴─┐┌───┐┌─┴─┐┌───┐┌─┴─┐┌───┐ ┌─┐ »\n",
       "«node_7: ─────────────────────────────┤ X ├┤ H ├┤ X ├┤ H ├┤ X ├┤ H ├─┤M├─»\n",
       "«                                     └───┘└───┘└───┘└───┘└───┘└───┘ └╥┘ »\n",
       "«   b_0: ═════════════════════════════════════════════════════════════╬══»\n",
       "«                                                                     ║  »\n",
       "«   b_1: ═════════════════════════════════════════════════════════════╬══»\n",
       "«                                                                     ║  »\n",
       "«   b_2: ═════════════════════════════════════════════════════════════╩══»\n",
       "«                                                                        »\n",
       "«                                  ┌───────────────┐┌─┐\n",
       "«node_0: ───────────────────────■──┤ U3(π/2,0,π/2) ├┤M├\n",
       "«        ┌───────────────────┐┌─┴─┐└──────┬─┬──────┘└╥┘\n",
       "«node_1: ┤ U3(0,-π/2,13.352) ├┤ X ├───────┤M├────────╫─\n",
       "«        └───────────────────┘└───┘       └╥┘        ║ \n",
       "«node_2: ──────────────────────────────────╫─────────╫─\n",
       "«                                          ║         ║ \n",
       "«node_3: ──────────────────────────────────╫─────────╫─\n",
       "«                                          ║         ║ \n",
       "«node_4: ──────────────────────────────────╫─────────╫─\n",
       "«                                          ║         ║ \n",
       "«node_5: ──────────────────────────────────╫─────────╫─\n",
       "«                                          ║         ║ \n",
       "«node_6: ──────────────────────────────────╫─────────╫─\n",
       "«                                          ║         ║ \n",
       "«node_7: ──────────────────────────────────╫─────────╫─\n",
       "«                                          ║         ║ \n",
       "«   b_0: ══════════════════════════════════╬═════════╩═\n",
       "«                                          ║           \n",
       "«   b_1: ══════════════════════════════════╩═══════════\n",
       "«                                                      \n",
       "«   b_2: ══════════════════════════════════════════════\n",
       "«                                                      "
      ]
     },
     "execution_count": 33,
     "metadata": {},
     "output_type": "execute_result"
    }
   ],
   "source": [
    "from qiskit import  QuantumCircuit\n",
    "QuantumCircuit().from_qasm_str(scanner_lucy.get_compiled_circuit()).draw()"
   ]
  }
 ],
 "metadata": {
  "kernelspec": {
   "display_name": "Python 3.7.12 ('QBench')",
   "language": "python",
   "name": "python3"
  },
  "language_info": {
   "codemirror_mode": {
    "name": "ipython",
    "version": 3
   },
   "file_extension": ".py",
   "mimetype": "text/x-python",
   "name": "python",
   "nbconvert_exporter": "python",
   "pygments_lexer": "ipython3",
   "version": "3.7.12"
  },
  "vscode": {
   "interpreter": {
    "hash": "06a09a513f3adf51d034e4cd7b61d73f339a24b03a0e983ba85455000b9be146"
   }
  }
 },
 "nbformat": 4,
 "nbformat_minor": 2
}
