{
 "cells": [
  {
   "cell_type": "code",
   "execution_count": 1,
   "metadata": {},
   "outputs": [],
   "source": [
    "\n",
    "\n",
    "# general imports\n",
    "import numpy as np\n",
    "import math\n",
    "import matplotlib.pyplot as plt\n",
    "# magic word for producing visualizations in notebook\n",
    "%matplotlib inline\n",
    "\n",
    "# AWS imports: Import Braket SDK modules\n",
    "from braket.circuits import Circuit, Gate, Instruction, circuit, Observable\n",
    "from braket.devices import LocalSimulator\n",
    "from braket.aws import AwsDevice\n",
    "from braket.device_schema.device_action_properties import DeviceActionType\n",
    "import numpy as np\n",
    "\n",
    "from utils import Plotter\n",
    "\n",
    "\n"
   ]
  },
  {
   "cell_type": "code",
   "execution_count": 73,
   "metadata": {},
   "outputs": [],
   "source": [
    "#non recursive QFT implementation kindly borrowed by braket examples\n",
    "\n",
    "@circuit.subroutine(register=True)\n",
    "def qft(qubits):    \n",
    "    \"\"\"\n",
    "    Construct a circuit object corresponding to the Quantum Fourier Transform (QFT)\n",
    "    algorithm, applied to the argument qubits.  Does not use recursion to generate the QFT.\n",
    "    \n",
    "    Args:\n",
    "        qubits (int): The list of qubits on which to apply the QFT\n",
    "    \"\"\"\n",
    "    qftcirc = Circuit()\n",
    "    \n",
    "    # get number of qubits\n",
    "    num_qubits = len(qubits)\n",
    "    \n",
    "    for k in range(num_qubits):\n",
    "        # First add a Hadamard gate\n",
    "        qftcirc.h(qubits[k])\n",
    "    \n",
    "        # Then apply the controlled rotations, with weights (angles) defined by the distance to the control qubit.\n",
    "        # Start on the qubit after qubit k, and iterate until the end.  When num_qubits==1, this loop does not run.\n",
    "        for j in range(1,num_qubits - k):\n",
    "            angle = 2*math.pi/(2**(j+1))\n",
    "            qftcirc.cphaseshift(qubits[k+j],qubits[k], angle)\n",
    "            \n",
    "    # Then add SWAP gates to reverse the order of the qubits:\n",
    "    for i in range(math.floor(num_qubits/2)):\n",
    "        qftcirc.swap(qubits[i], qubits[-i-1])\n",
    "        \n",
    "    return qftcirc\n",
    "\n",
    "\n",
    "\n",
    "@circuit.subroutine(register=True)\n",
    "def inverse_qft(qubits):\n",
    "    \"\"\"\n",
    "    Construct a circuit object corresponding to the inverse Quantum Fourier Transform (QFT)\n",
    "    algorithm, applied to the argument qubits.  Does not use recursion to generate the circuit.\n",
    "    \n",
    "    Args:\n",
    "        qubits (int): The list of qubits on which to apply the inverse QFT\n",
    "    \"\"\"\n",
    "    # instantiate circuit object\n",
    "    qftcirc = Circuit()\n",
    "    \n",
    "    # get number of qubits\n",
    "    num_qubits = len(qubits)\n",
    "    \n",
    "    # First add SWAP gates to reverse the order of the qubits:\n",
    "    for i in range(math.floor(num_qubits/2)):\n",
    "        qftcirc.swap(qubits[i], qubits[-i-1])\n",
    "        \n",
    "    # Start on the last qubit and work to the first.\n",
    "    for k in reversed(range(num_qubits)):\n",
    "    \n",
    "        # Apply the controlled rotations, with weights (angles) defined by the distance to the control qubit.\n",
    "        # These angles are the negative of the angle used in the QFT.\n",
    "        # Start on the last qubit and iterate until the qubit after k.  \n",
    "        # When num_qubits==1, this loop does not run.\n",
    "        for j in reversed(range(1, num_qubits - k)):\n",
    "            angle = -2*math.pi/(2**(j+1))\n",
    "            qftcirc.cphaseshift(qubits[k+j],qubits[k], angle)\n",
    "            \n",
    "        # Then add a Hadamard gate\n",
    "        qftcirc.h(qubits[k])\n",
    "    \n",
    "    return qftcirc\n",
    "\n",
    "\n",
    "# apply id or sigmax to obtain a definite integer as input\n",
    "# (in binary representation)\n",
    "@circuit.subroutine(register=True)\n",
    "def integer_input(qubits, x):\n",
    "    # instantiate circuit object\n",
    "    circ = Circuit()\n",
    "    \n",
    "    # get number of qubits\n",
    "    num_qubits = len(qubits)\n",
    "\n",
    "    #must be able to represent input\n",
    "    assert x < 2**num_qubits\n",
    "    bitstring = format(x, \"0\"+ str(num_qubits) +\"b\")\n",
    "\n",
    "    #print(bitstring)\n",
    "\n",
    "    #todo: need to reverse iteration(?)\n",
    "    for i in range(num_qubits):\n",
    "        if bitstring[i] == \"1\" :\n",
    "            circ.x(qubits[i])\n",
    "\n",
    "\n",
    "    return circ\n",
    "\n",
    "#get special state preimage of a defined integer for qft\n",
    "@circuit.subroutine(register=True)\n",
    "def transformed_input(qubits, x):\n",
    "\n",
    "    # get number of qubits\n",
    "    num_qubits = len(qubits)\n",
    "\n",
    "    circ = Circuit()\n",
    "\n",
    "    circ.h(qubits)\n",
    "    for ii in range(num_qubits - 1):\n",
    "        circ.rz(ii+1, math.pi/(2**ii))\n",
    "\n",
    "    return circ\n",
    "\n",
    "\n"
   ]
  },
  {
   "cell_type": "code",
   "execution_count": 74,
   "metadata": {},
   "outputs": [
    {
     "name": "stdout",
     "output_type": "stream",
     "text": [
      "QFT CIRCUIT:\n",
      "T  : |0|     1     |      2      |     3     |4| 5  |\n",
      "                                                     \n",
      "q0 : -H-PHASE(1.57)-PHASE(0.79)-----------------SWAP-\n",
      "        |           |                           |    \n",
      "q1 : ---C-----------|-----------H-PHASE(1.57)---|----\n",
      "                    |             |             |    \n",
      "q2 : ---------------C-------------C-----------H-SWAP-\n",
      "\n",
      "T  : |0|     1     |      2      |     3     |4| 5  |\n",
      "\n",
      "INVERSE-QFT CIRCUIT:\n",
      "T  : | 0  |1|     2      |      3       |     4      |5|\n",
      "                                                        \n",
      "q0 : -SWAP------------------PHASE(-0.79)-PHASE(-1.57)-H-\n",
      "      |                     |            |              \n",
      "q1 : -|------PHASE(-1.57)-H-|------------C--------------\n",
      "      |      |              |                           \n",
      "q2 : -SWAP-H-C--------------C---------------------------\n",
      "\n",
      "T  : | 0  |1|     2      |      3       |     4      |5|\n"
     ]
    }
   ],
   "source": [
    "\n",
    "\n",
    "# show inverse QFT example circuit\n",
    "num_qubits = 3\n",
    "qubits=range(num_qubits)\n",
    "my_qft_circ = qft(qubits)\n",
    "print('QFT CIRCUIT:')\n",
    "print(my_qft_circ)\n",
    "\n",
    "# show inverse QFT example circuit\n",
    "print('')\n",
    "print('INVERSE-QFT CIRCUIT:')\n",
    "my_iqft_circ = inverse_qft(qubits)\n",
    "print(my_iqft_circ)\n",
    "\n"
   ]
  },
  {
   "cell_type": "code",
   "execution_count": 75,
   "metadata": {},
   "outputs": [
    {
     "name": "stdout",
     "output_type": "stream",
     "text": [
      "3\n",
      "Counter({'110': 100})\n"
     ]
    },
    {
     "data": {
      "image/png": "[encoded data removed]",
      "text/plain": [
       "<Figure size 640x480 with 1 Axes>"
      ]
     },
     "metadata": {},
     "output_type": "display_data"
    }
   ],
   "source": [
    "device = LocalSimulator()\n",
    "\n",
    "x = 0\n",
    "qbits = 3\n",
    "print(qbits)\n",
    "\n",
    "circ = transformed_input(range(qbits), x).qft( range(qbits))\n",
    "\n",
    "result = device.run(circ, shots = 100).result()\n",
    "\n",
    "Plotter.plot_binary_results(result, debug=True)"
   ]
  },
  {
   "cell_type": "code",
   "execution_count": 91,
   "metadata": {},
   "outputs": [],
   "source": [
    "#Rigetti AspenM2\n",
    "device = AwsDevice('arn:aws:braket:us-west-1::device/qpu/rigetti/Aspen-M-2')\n",
    "\n",
    "qft_task = device.run(circ, shots = 100)\n",
    "\n"
   ]
  },
  {
   "cell_type": "code",
   "execution_count": null,
   "metadata": {},
   "outputs": [],
   "source": [
    "#IonQ\n",
    "device = AwsDevice(\"arn:aws:braket:::device/qpu/ionq/ionQdevice\")\n",
    "\n",
    "qft_task = device.run(circ, shots = 100)"
   ]
  },
  {
   "cell_type": "code",
   "execution_count": 104,
   "metadata": {},
   "outputs": [
    {
     "name": "stdout",
     "output_type": "stream",
     "text": [
      "QUEUED\n",
      "ONLINE\n"
     ]
    }
   ],
   "source": [
    "print( qft_task.state())\n",
    "print(device.status)"
   ]
  },
  {
   "cell_type": "code",
   "execution_count": null,
   "metadata": {},
   "outputs": [],
   "source": []
  },
  {
   "cell_type": "code",
   "execution_count": null,
   "metadata": {},
   "outputs": [],
   "source": []
  }
 ],
 "metadata": {
  "kernelspec": {
   "display_name": "Python 3.7.12 ('QBench')",
   "language": "python",
   "name": "python3"
  },
  "language_info": {
   "codemirror_mode": {
    "name": "ipython",
    "version": 3
   },
   "file_extension": ".py",
   "mimetype": "text/x-python",
   "name": "python",
   "nbconvert_exporter": "python",
   "pygments_lexer": "ipython3",
   "version": "3.7.12"
  },
  "orig_nbformat": 4,
  "vscode": {
   "interpreter": {
    "hash": "06a09a513f3adf51d034e4cd7b61d73f339a24b03a0e983ba85455000b9be146"
   }
  }
 },
 "nbformat": 4,
 "nbformat_minor": 2
}
