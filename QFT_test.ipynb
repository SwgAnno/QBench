{
 "cells": [
  {
   "cell_type": "code",
    {
     "output_type": "stream",
     "text": [
      "The autoreload extension is already loaded. To reload it, use:\n",
      "  %reload_ext autoreload\n"
     ]
    }
   ],
   "source": [
    "%load_ext autoreload\n",
    "\n",
    "# general imports\n",
    "import numpy as np\n",
    "import math\n",
    "import matplotlib.pyplot as plt\n",
    "# magic word for producing visualizations in notebook\n",
    "%matplotlib inline\n",
    "\n",
    "# AWS imports: Import Braket SDK modules\n",
    "from braket.circuits import Circuit, Gate, Instruction, circuit, Observable\n",
    "from braket.devices import LocalSimulator\n",
    "from braket.aws import AwsDevice\n",
    "from braket.device_schema.device_action_properties import DeviceActionType\n",
    "import numpy as np\n",
    "\n",
    "from utils import Plotter, DeviceUtils,BraketTaskScanner,DeviceScanner\n",
    "\n",
    "# from qiskit.visualization.timeline import draw\n"
   ]
  },
  {
   "cell_type": "code",
   "execution_count": 13,
   "metadata": {},
   "outputs": [],
   "source": [
    "#non recursive QFT implementation kindly borrowed by braket examples\n",
    "\n",
    "@circuit.subroutine(register=True)\n",
    "def qft(qubits,swaps=True):    \n",
    "    \"\"\"\n",
    "    Construct a circuit object corresponding to the Quantum Fourier Transform (QFT)\n",
    "    algorithm, applied to the argument qubits.  Does not use recursion to generate the QFT.\n",
    "    \n",
    "    Args:\n",
    "        qubits (int array): The list of qubits on which to apply the QFT\n",
    "    \"\"\"\n",
    "    qftcirc = Circuit()\n",
    "    \n",
    "    # get number of qubits\n",
    "    num_qubits = len(qubits)\n",
    "    \n",
    "    for k in range(num_qubits):\n",
    "        # First add a Hadamard gate\n",
    "        qftcirc.h(qubits[k])\n",
    "    \n",
    "        # Then apply the controlled rotations, with weights (angles) defined by the distance to the control qubit.\n",
    "        # Start on the qubit after qubit k, and iterate until the end.  When num_qubits==1, this loop does not run.\n",
    "        for j in range(1,num_qubits - k):\n",
    "            angle = 2*math.pi/(2**(j+1))\n",
    "            qftcirc.cphaseshift(qubits[k+j],qubits[k], angle)\n",
    "    \n",
    "    if swaps:\n",
    "        # Then add SWAP gates to reverse the order of the qubits:\n",
    "        for i in range(math.floor(num_qubits/2)):\n",
    "            qftcirc.swap(qubits[i], qubits[-i-1])\n",
    "\n",
    "    return qftcirc\n",
    "\n",
    "\n",
    "\n",
    "@circuit.subroutine(register=True)\n",
    "def inverse_qft(qubits,swaps=True):\n",
    "    \"\"\"\n",
    "    Construct a circuit object corresponding to the inverse Quantum Fourier Transform (QFT)\n",
    "    algorithm, applied to the argument qubits.  Does not use recursion to generate the circuit.\n",
    "    \n",
    "    Args:\n",
    "        qubits (int): The list of qubits on which to apply the inverse QFT\n",
    "    \"\"\"\n",
    "    # instantiate circuit object\n",
    "    qftcirc = Circuit()\n",
    "    \n",
    "    # get number of qubits\n",
    "    num_qubits = len(qubits)\n",
    "    \n",
    "    if swaps:\n",
    "        # First add SWAP gates to reverse the order of the qubits:\n",
    "        for i in range(math.floor(num_qubits/2)):\n",
    "            qftcirc.swap(qubits[i], qubits[-i-1])\n",
    "        \n",
    "    # Start on the last qubit and work to the first.\n",
    "    for k in reversed(range(num_qubits)):\n",
    "    \n",
    "        # Apply the controlled rotations, with weights (angles) defined by the distance to the control qubit.\n",
    "        # These angles are the negative of the angle used in the QFT.\n",
    "        # Start on the last qubit and iterate until the qubit after k.  \n",
    "        # When num_qubits==1, this loop does not run.\n",
    "        for j in reversed(range(1, num_qubits - k)):\n",
    "            angle = -2*math.pi/(2**(j+1))\n",
    "            qftcirc.cphaseshift(qubits[k+j],qubits[k], angle)\n",
    "            \n",
    "        # Then add a Hadamard gate\n",
    "        qftcirc.h(qubits[k])\n",
    "    \n",
    "    return qftcirc\n",
    "\n",
    "\n",
    "# apply id or sigmax to obtain a definite integer as input\n",
    "# (in binary representation)\n",
    "@circuit.subroutine(register=True)\n",
    "def integer_input(qubits, x):\n",
    "    # instantiate circuit object\n",
    "    circ = Circuit()\n",
    "    \n",
    "    # get number of qubits\n",
    "    num_qubits = len(qubits)\n",
    "\n",
    "    #must be able to represent input\n",
    "    assert x < 2**num_qubits\n",
    "    bitstring = format(x, \"0\"+ str(num_qubits) +\"b\")\n",
    "\n",
    "    #print(bitstring)\n",
    "\n",
    "    #todo: need to reverse iteration(?)\n",
    "    for i in range(num_qubits):\n",
    "        if bitstring[i] == \"1\" :\n",
    "            circ.x(qubits[i])\n",
    "\n",
    "\n",
    "    return circ\n",
    "\n",
    "#get special state preimage of a defined integer for qft\n",
    "@circuit.subroutine(register=True)\n",
    "def transformed_input(qubits, x = 0):\n",
    "\n",
    "    # get number of qubits\n",
    "    num_qubits = len(qubits)\n",
    "\n",
    "    circ = Circuit()\n",
    "\n",
    "    circ.h(qubits)\n",
    "    for ii in range(num_qubits - 1):\n",
    "        circ.rz(ii+1, math.pi/(2**ii))\n",
    "\n",
    "    return circ\n",
    "\n",
    "\n"
   ]
  },
  {
   "cell_type": "code",
   "execution_count": 17,
   "metadata": {},
   "outputs": [
    {
     "name": "stdout",
     "output_type": "stream",
     "text": [
      "QFT CIRCUIT:\n",
      "T  : |0|     1     |      2      |     3     |4| 5  |\n",
      "                                                     \n",
      "q0 : -H-PHASE(1.57)-PHASE(0.79)-----------------SWAP-\n",
      "        |           |                           |    \n",
      "q1 : ---C-----------|-----------H-PHASE(1.57)---|----\n",
      "                    |             |             |    \n",
      "q2 : ---------------C-------------C-----------H-SWAP-\n",
      "\n",
      "T  : |0|     1     |      2      |     3     |4| 5  |\n",
      "\n",
      "INVERSE-QFT CIRCUIT:\n",
      "T  : | 0  |1|     2      |      3       |     4      |5|\n",
      "                                                        \n",
      "q0 : -SWAP------------------PHASE(-0.79)-PHASE(-1.57)-H-\n",
      "      |                     |            |              \n",
      "q1 : -|------PHASE(-1.57)-H-|------------C--------------\n",
      "      |      |              |                           \n",
      "q2 : -SWAP-H-C--------------C---------------------------\n",
      "\n",
      "T  : | 0  |1|     2      |      3       |     4      |5|\n"
     ]
    }
   ],
   "source": [
    "\n",
    "\n",
    "# show inverse QFT example circuit\n",
    "num_qubits = 3\n",
    "qubits=range(num_qubits)\n",
    "my_qft_circ = qft(qubits)\n",
    "print('QFT CIRCUIT:')\n",
    "print(my_qft_circ)\n",
    "\n",
    "# show inverse QFT example circuit\n",
    "print('')\n",
    "print('INVERSE-QFT CIRCUIT:')\n",
    "my_iqft_circ = inverse_qft(qubits)\n",
    "print(my_iqft_circ)\n"
   ]
  },
  {
   "cell_type": "code",
   "execution_count": 16,
   "metadata": {},
   "outputs": [
    {
     "name": "stdout",
     "output_type": "stream",
     "text": [
      "8\n",
      "Counter({'11111110': 100})\n"
     ]
    },
    {
     "data": {
      "image/png": "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",
      "text/plain": [
       "<Figure size 640x480 with 1 Axes>"
      ]
     },
     "metadata": {},
     "output_type": "display_data"
    }
   ],
   "source": [
    "device = LocalSimulator()\n",
    "\n",
    "x = 2\n",
    "qbits = 8\n",
    "print(qbits)\n",
    "\n",
    "circ = transformed_input(range(qbits)).qft( range(qbits))\n",
    "\n",
    "result = device.run(circ, shots = 100).result()\n",
    "\n",
    "Plotter.plot_binary_results(result, debug=True)"
   ]
  },
  {
   "cell_type": "code",
   "execution_count": 91,
   "metadata": {},
   "outputs": [],
   "source": [
    "#Rigetti AspenM2\n",
    "device = DeviceUtils.get_device(\"rigetti\")\n",
    "\n",
    "qft_task = device.run(circ, shots = 100)\n",
    "\n"
   ]
  },
  {
   "cell_type": "code",
   "execution_count": 50,
   "metadata": {},
   "outputs": [
    {
     "name": "stdout",
     "output_type": "stream",
     "text": [
      "4\n",
      "arn:aws:braket:us-west-1:058017682654:quantum-task/034cb3e9-0628-440d-a13b-69b453254abd\n"
     ]
    }
   ],
   "source": [
    "#bigger rigetti\n",
    "device = DeviceUtils.get_device(\"rigetti\")\n",
    "\n",
    "x = 2\n",
    "qbits = 4\n",
    "print(qbits)\n",
    "\n",
    "circ = transformed_input(range(qbits)).qft( range(qbits))\n",
    "\n",
    "qft6_rigetti = device.run(circ, shots = 1000)\n",
    "print(qft6_rigetti._arn)"
   ]
  },
  {
   "cell_type": "code",
   "execution_count": 117,
   "metadata": {
    "scrolled": true
   },
   "outputs": [
    {
     "ename": "ValidationException",
     "evalue": "An error occurred (ValidationException) when calling the CreateQuantumTask operation: [line 10] uses a gate: cphaseshift which is not supported by the device or defined via a defcal",
     "output_type": "error",
     "traceback": [
      "\u001b[1;31m---------------------------------------------------------------------------\u001b[0m",
      "\u001b[1;31mValidationException\u001b[0m                       Traceback (most recent call last)",
      "\u001b[1;32m<ipython-input-117-e14017fea89d>\u001b[0m in \u001b[0;36m<module>\u001b[1;34m\u001b[0m\n\u001b[0;32m      2\u001b[0m \u001b[0mdevice\u001b[0m \u001b[1;33m=\u001b[0m \u001b[0mAwsDevice\u001b[0m\u001b[1;33m(\u001b[0m\u001b[1;34m\"arn:aws:braket:::device/qpu/ionq/ionQdevice\"\u001b[0m\u001b[1;33m)\u001b[0m\u001b[1;33m\u001b[0m\u001b[1;33m\u001b[0m\u001b[0m\n\u001b[0;32m      3\u001b[0m \u001b[1;33m\u001b[0m\u001b[0m\n\u001b[1;32m----> 4\u001b[1;33m \u001b[0mion_qft_task\u001b[0m \u001b[1;33m=\u001b[0m \u001b[0mdevice\u001b[0m\u001b[1;33m.\u001b[0m\u001b[0mrun\u001b[0m\u001b[1;33m(\u001b[0m\u001b[0mcirc\u001b[0m\u001b[1;33m,\u001b[0m \u001b[0mshots\u001b[0m \u001b[1;33m=\u001b[0m \u001b[1;36m100\u001b[0m\u001b[1;33m)\u001b[0m\u001b[1;33m\u001b[0m\u001b[1;33m\u001b[0m\u001b[0m\n\u001b[0m",
      "\u001b[1;32mc:\\Users\\utente\\miniconda3\\envs\\QBench\\lib\\site-packages\\braket\\aws\\aws_device.py\u001b[0m in \u001b[0;36mrun\u001b[1;34m(self, task_specification, s3_destination_folder, shots, poll_timeout_seconds, poll_interval_seconds, *aws_quantum_task_args, **aws_quantum_task_kwargs)\u001b[0m\n\u001b[0;32m    156\u001b[0m             \u001b[0mpoll_interval_seconds\u001b[0m\u001b[1;33m=\u001b[0m\u001b[0mpoll_interval_seconds\u001b[0m\u001b[1;33m,\u001b[0m\u001b[1;33m\u001b[0m\u001b[1;33m\u001b[0m\u001b[0m\n\u001b[0;32m    157\u001b[0m             \u001b[1;33m*\u001b[0m\u001b[0maws_quantum_task_args\u001b[0m\u001b[1;33m,\u001b[0m\u001b[1;33m\u001b[0m\u001b[1;33m\u001b[0m\u001b[0m\n\u001b[1;32m--> 158\u001b[1;33m             \u001b[1;33m**\u001b[0m\u001b[0maws_quantum_task_kwargs\u001b[0m\u001b[1;33m,\u001b[0m\u001b[1;33m\u001b[0m\u001b[1;33m\u001b[0m\u001b[0m\n\u001b[0m\u001b[0;32m    159\u001b[0m         )\n\u001b[0;32m    160\u001b[0m \u001b[1;33m\u001b[0m\u001b[0m\n",
      "\u001b[1;32mc:\\Users\\utente\\miniconda3\\envs\\QBench\\lib\\site-packages\\braket\\aws\\aws_quantum_task.py\u001b[0m in \u001b[0;36mcreate\u001b[1;34m(aws_session, device_arn, task_specification, s3_destination_folder, shots, device_parameters, disable_qubit_rewiring, tags, *args, **kwargs)\u001b[0m\n\u001b[0;32m    162\u001b[0m             \u001b[0mdisable_qubit_rewiring\u001b[0m\u001b[1;33m,\u001b[0m\u001b[1;33m\u001b[0m\u001b[1;33m\u001b[0m\u001b[0m\n\u001b[0;32m    163\u001b[0m             \u001b[1;33m*\u001b[0m\u001b[0margs\u001b[0m\u001b[1;33m,\u001b[0m\u001b[1;33m\u001b[0m\u001b[1;33m\u001b[0m\u001b[0m\n\u001b[1;32m--> 164\u001b[1;33m             \u001b[1;33m**\u001b[0m\u001b[0mkwargs\u001b[0m\u001b[1;33m,\u001b[0m\u001b[1;33m\u001b[0m\u001b[1;33m\u001b[0m\u001b[0m\n\u001b[0m\u001b[0;32m    165\u001b[0m         )\n\u001b[0;32m    166\u001b[0m \u001b[1;33m\u001b[0m\u001b[0m\n",
      "\u001b[1;32mc:\\Users\\utente\\miniconda3\\envs\\QBench\\lib\\functools.py\u001b[0m in \u001b[0;36mwrapper\u001b[1;34m(*args, **kw)\u001b[0m\n\u001b[0;32m    838\u001b[0m                             '1 positional argument')\n\u001b[0;32m    839\u001b[0m \u001b[1;33m\u001b[0m\u001b[0m\n\u001b[1;32m--> 840\u001b[1;33m         \u001b[1;32mreturn\u001b[0m \u001b[0mdispatch\u001b[0m\u001b[1;33m(\u001b[0m\u001b[0margs\u001b[0m\u001b[1;33m[\u001b[0m\u001b[1;36m0\u001b[0m\u001b[1;33m]\u001b[0m\u001b[1;33m.\u001b[0m\u001b[0m__class__\u001b[0m\u001b[1;33m)\u001b[0m\u001b[1;33m(\u001b[0m\u001b[1;33m*\u001b[0m\u001b[0margs\u001b[0m\u001b[1;33m,\u001b[0m \u001b[1;33m**\u001b[0m\u001b[0mkw\u001b[0m\u001b[1;33m)\u001b[0m\u001b[1;33m\u001b[0m\u001b[1;33m\u001b[0m\u001b[0m\n\u001b[0m\u001b[0;32m    841\u001b[0m \u001b[1;33m\u001b[0m\u001b[0m\n\u001b[0;32m    842\u001b[0m     \u001b[0mfuncname\u001b[0m \u001b[1;33m=\u001b[0m \u001b[0mgetattr\u001b[0m\u001b[1;33m(\u001b[0m\u001b[0mfunc\u001b[0m\u001b[1;33m,\u001b[0m \u001b[1;34m'__name__'\u001b[0m\u001b[1;33m,\u001b[0m \u001b[1;34m'singledispatch function'\u001b[0m\u001b[1;33m)\u001b[0m\u001b[1;33m\u001b[0m\u001b[1;33m\u001b[0m\u001b[0m\n",
      "\u001b[1;32mc:\\Users\\utente\\miniconda3\\envs\\QBench\\lib\\site-packages\\braket\\aws\\aws_quantum_task.py\u001b[0m in \u001b[0;36m_\u001b[1;34m(circuit, aws_session, create_task_kwargs, device_arn, device_parameters, disable_qubit_rewiring, *args, **kwargs)\u001b[0m\n\u001b[0;32m    534\u001b[0m         }\n\u001b[0;32m    535\u001b[0m     )\n\u001b[1;32m--> 536\u001b[1;33m     \u001b[0mtask_arn\u001b[0m \u001b[1;33m=\u001b[0m \u001b[0maws_session\u001b[0m\u001b[1;33m.\u001b[0m\u001b[0mcreate_quantum_task\u001b[0m\u001b[1;33m(\u001b[0m\u001b[1;33m**\u001b[0m\u001b[0mcreate_task_kwargs\u001b[0m\u001b[1;33m)\u001b[0m\u001b[1;33m\u001b[0m\u001b[1;33m\u001b[0m\u001b[0m\n\u001b[0m\u001b[0;32m    537\u001b[0m     \u001b[1;32mreturn\u001b[0m \u001b[0mAwsQuantumTask\u001b[0m\u001b[1;33m(\u001b[0m\u001b[0mtask_arn\u001b[0m\u001b[1;33m,\u001b[0m \u001b[0maws_session\u001b[0m\u001b[1;33m,\u001b[0m \u001b[1;33m*\u001b[0m\u001b[0margs\u001b[0m\u001b[1;33m,\u001b[0m \u001b[1;33m**\u001b[0m\u001b[0mkwargs\u001b[0m\u001b[1;33m)\u001b[0m\u001b[1;33m\u001b[0m\u001b[1;33m\u001b[0m\u001b[0m\n\u001b[0;32m    538\u001b[0m \u001b[1;33m\u001b[0m\u001b[0m\n",
      "\u001b[1;32mc:\\Users\\utente\\miniconda3\\envs\\QBench\\lib\\site-packages\\braket\\aws\\aws_session.py\u001b[0m in \u001b[0;36mcreate_quantum_task\u001b[1;34m(self, **boto3_kwargs)\u001b[0m\n\u001b[0;32m    221\u001b[0m         \u001b[1;32mif\u001b[0m \u001b[0mjob_token\u001b[0m\u001b[1;33m:\u001b[0m\u001b[1;33m\u001b[0m\u001b[1;33m\u001b[0m\u001b[0m\n\u001b[0;32m    222\u001b[0m             \u001b[0mboto3_kwargs\u001b[0m\u001b[1;33m.\u001b[0m\u001b[0mupdate\u001b[0m\u001b[1;33m(\u001b[0m\u001b[1;33m{\u001b[0m\u001b[1;34m\"jobToken\"\u001b[0m\u001b[1;33m:\u001b[0m \u001b[0mjob_token\u001b[0m\u001b[1;33m}\u001b[0m\u001b[1;33m)\u001b[0m\u001b[1;33m\u001b[0m\u001b[1;33m\u001b[0m\u001b[0m\n\u001b[1;32m--> 223\u001b[1;33m         \u001b[0mresponse\u001b[0m \u001b[1;33m=\u001b[0m \u001b[0mself\u001b[0m\u001b[1;33m.\u001b[0m\u001b[0mbraket_client\u001b[0m\u001b[1;33m.\u001b[0m\u001b[0mcreate_quantum_task\u001b[0m\u001b[1;33m(\u001b[0m\u001b[1;33m**\u001b[0m\u001b[0mboto3_kwargs\u001b[0m\u001b[1;33m)\u001b[0m\u001b[1;33m\u001b[0m\u001b[1;33m\u001b[0m\u001b[0m\n\u001b[0m\u001b[0;32m    224\u001b[0m         broadcast_event(\n\u001b[0;32m    225\u001b[0m             _TaskCreationEvent(\n",
      "\u001b[1;32mc:\\Users\\utente\\miniconda3\\envs\\QBench\\lib\\site-packages\\botocore\\client.py\u001b[0m in \u001b[0;36m_api_call\u001b[1;34m(self, *args, **kwargs)\u001b[0m\n\u001b[0;32m    512\u001b[0m                 )\n\u001b[0;32m    513\u001b[0m             \u001b[1;31m# The \"self\" in this scope is referring to the BaseClient.\u001b[0m\u001b[1;33m\u001b[0m\u001b[1;33m\u001b[0m\u001b[1;33m\u001b[0m\u001b[0m\n\u001b[1;32m--> 514\u001b[1;33m             \u001b[1;32mreturn\u001b[0m \u001b[0mself\u001b[0m\u001b[1;33m.\u001b[0m\u001b[0m_make_api_call\u001b[0m\u001b[1;33m(\u001b[0m\u001b[0moperation_name\u001b[0m\u001b[1;33m,\u001b[0m \u001b[0mkwargs\u001b[0m\u001b[1;33m)\u001b[0m\u001b[1;33m\u001b[0m\u001b[1;33m\u001b[0m\u001b[0m\n\u001b[0m\u001b[0;32m    515\u001b[0m \u001b[1;33m\u001b[0m\u001b[0m\n\u001b[0;32m    516\u001b[0m         \u001b[0m_api_call\u001b[0m\u001b[1;33m.\u001b[0m\u001b[0m__name__\u001b[0m \u001b[1;33m=\u001b[0m \u001b[0mstr\u001b[0m\u001b[1;33m(\u001b[0m\u001b[0mpy_operation_name\u001b[0m\u001b[1;33m)\u001b[0m\u001b[1;33m\u001b[0m\u001b[1;33m\u001b[0m\u001b[0m\n",
      "\u001b[1;32mc:\\Users\\utente\\miniconda3\\envs\\QBench\\lib\\site-packages\\botocore\\client.py\u001b[0m in \u001b[0;36m_make_api_call\u001b[1;34m(self, operation_name, api_params)\u001b[0m\n\u001b[0;32m    936\u001b[0m             \u001b[0merror_code\u001b[0m \u001b[1;33m=\u001b[0m \u001b[0mparsed_response\u001b[0m\u001b[1;33m.\u001b[0m\u001b[0mget\u001b[0m\u001b[1;33m(\u001b[0m\u001b[1;34m\"Error\"\u001b[0m\u001b[1;33m,\u001b[0m \u001b[1;33m{\u001b[0m\u001b[1;33m}\u001b[0m\u001b[1;33m)\u001b[0m\u001b[1;33m.\u001b[0m\u001b[0mget\u001b[0m\u001b[1;33m(\u001b[0m\u001b[1;34m\"Code\"\u001b[0m\u001b[1;33m)\u001b[0m\u001b[1;33m\u001b[0m\u001b[1;33m\u001b[0m\u001b[0m\n\u001b[0;32m    937\u001b[0m             \u001b[0merror_class\u001b[0m \u001b[1;33m=\u001b[0m \u001b[0mself\u001b[0m\u001b[1;33m.\u001b[0m\u001b[0mexceptions\u001b[0m\u001b[1;33m.\u001b[0m\u001b[0mfrom_code\u001b[0m\u001b[1;33m(\u001b[0m\u001b[0merror_code\u001b[0m\u001b[1;33m)\u001b[0m\u001b[1;33m\u001b[0m\u001b[1;33m\u001b[0m\u001b[0m\n\u001b[1;32m--> 938\u001b[1;33m             \u001b[1;32mraise\u001b[0m \u001b[0merror_class\u001b[0m\u001b[1;33m(\u001b[0m\u001b[0mparsed_response\u001b[0m\u001b[1;33m,\u001b[0m \u001b[0moperation_name\u001b[0m\u001b[1;33m)\u001b[0m\u001b[1;33m\u001b[0m\u001b[1;33m\u001b[0m\u001b[0m\n\u001b[0m\u001b[0;32m    939\u001b[0m         \u001b[1;32melse\u001b[0m\u001b[1;33m:\u001b[0m\u001b[1;33m\u001b[0m\u001b[1;33m\u001b[0m\u001b[0m\n\u001b[0;32m    940\u001b[0m             \u001b[1;32mreturn\u001b[0m \u001b[0mparsed_response\u001b[0m\u001b[1;33m\u001b[0m\u001b[1;33m\u001b[0m\u001b[0m\n",
      "\u001b[1;31mValidationException\u001b[0m: An error occurred (ValidationException) when calling the CreateQuantumTask operation: [line 10] uses a gate: cphaseshift which is not supported by the device or defined via a defcal"
     ]
    }
   ],
   "source": [
    "#IonQ\n",
    "device = DeviceUtils.get_device(\"ionq\")\n",
    "\n",
    "ion_qft_task = device.run(circ, shots = 100)"
   ]
  },
  {
   "cell_type": "code",
   "execution_count": 47,
   "metadata": {
    "scrolled": false
   },
   "outputs": [
    {
     "name": "stdout",
     "output_type": "stream",
     "text": [
      "['x', 'y', 'z', 'rx', 'ry', 'rz', 'h', 'cnot', 's', 'si', 't', 'ti', 'v', 'vi', 'xx', 'yy', 'zz', 'swap']\n"
     ]
    }
   ],
   "source": [
    "#IonQ\n",
    "ionQ = DeviceUtils.get_device(\"ionq\")\n",
    "\n",
    "ion_q_gates = DeviceScanner(device=ionQ).get_supported_gates()\n",
    "print(ion_q_gates)"
   ]
  },
  {
   "cell_type": "code",
   "execution_count": 65,
   "metadata": {},
   "outputs": [],
   "source": [
    "#Lucy\n",
    "device = DeviceUtils.get_device(\"oqc\")\n",
    "\n",
    "oqc_qft_task = device.run(circ, shots = 1000)"
   ]
  },
  {
   "cell_type": "code",
   "execution_count": 48,
   "metadata": {},
   "outputs": [
    {
     "name": "stdout",
     "output_type": "stream",
     "text": [
      "The autoreload extension is already loaded. To reload it, use:\n",
      "  %reload_ext autoreload\n"
     ]
    }
   ],
   "source": [
    "%load_ext autoreload\n",
    "%autoreload 2\n",
    "\n",
    "from utils import BraketTaskScanner\n",
    "\n",
    "lucy_task = \"arn:aws:braket:eu-west-2:058017682654:quantum-task/bc9dacfa-823e-4b8f-81a7-54e51588af99\"\n",
    "aspen_10 = \"arn:aws:braket:us-west-1:058017682654:quantum-task/00e27411-115c-404c-b586-2a3c5da198ec\"\n",
    "aspen_8 = \"arn:aws:braket:us-west-1:058017682654:quantum-task/14cb4635-c75d-463d-a4e4-c3d74a4e0686\"\n",
    "aspen_6 = \"arn:aws:braket:us-west-1:058017682654:quantum-task/3fcb3e03-5eea-407e-89d6-354faf00b160\"\n",
    "aspen_5 = \"arn:aws:braket:us-west-1:058017682654:quantum-task/0ea84501-f757-470a-ba40-875bf3b7ee87\"\n",
    "aspen_4 = \"arn:aws:braket:us-west-1:058017682654:quantum-task/034cb3e9-0628-440d-a13b-69b453254abd\"\n",
    "aspen_3 = \"arn:aws:braket:us-west-1:058017682654:quantum-task/a0f298f3-b2dd-448d-9223-bf1e22305a6a\" \n",
    "\n",
    "scanner = BraketTaskScanner(lucy_task)\n",
    "scanner_aspen = BraketTaskScanner(aspen_6)\n"
   ]
  },
  {
   "cell_type": "code",
   "execution_count": 46,
   "metadata": {},
   "source": [
    "# Rigetti\n"
   ]
  },
  {
   "cell_type": "code",
   "execution_count": 27,
   "metadata": {
    "scrolled": true
   },
   "outputs": [
    {
     "name": "stdout",
     "output_type": "stream",
     "text": [
      "COMPLETED\n",
      "True\n",
      "ONLINE\n",
      "1.3500000000\n",
      "0.3350000000\n",
      "Counter({'110': 58, '111': 15, '100': 7, '101': 6, '010': 6, '001': 4, '011': 4})\n"
     ]
    },
    {
     "data": {
      "image/png": "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\n",
      "text/plain": [
       "<Figure size 640x480 with 1 Axes>"
      ]
     },
     "metadata": {},
     "output_type": "display_data"
    }
   ],
   "source": [
    "print( scanner.get_status())\n",
    "print( scanner.results_available())\n",
    "print( scanner.get_device_status())\n",
    "\n",
    "#print(scanner.get_circuit())\n",
    "#print(scanner_aspen.get_circuit())\n",
    "print(scanner_aspen.cost_extimate())\n",
    "print(scanner.cost_extimate())\n",
    "\n",
    "Plotter.plot_binary_results(scanner_aspen.get_results(), debug=True,title = 'QFT on Rigetti M2')"
   ]
  },
  {
   "cell_type": "markdown",
   "metadata": {},
   "source": [
    "## Input circuit"
   ]
  },
  {
   "cell_type": "code",
   "execution_count": 28,
   "metadata": {
    "scrolled": true
   },
   "outputs": [
    {
     "name": "stdout",
     "output_type": "stream",
     "text": [
      "OPENQASM 3.0;\n",
      "bit[3] b;\n",
      "qubit[3] q;\n",
      "h q[0];\n",
      "h q[1];\n",
      "h q[2];\n",
      "rz(3.141592653589793) q[1];\n",
      "rz(1.5707963267948966) q[2];\n",
      "h q[0];\n",
      "cphaseshift(1.5707963267948966) q[1], q[0];\n",
      "cphaseshift(0.7853981633974483) q[2], q[0];\n",
      "h q[1];\n",
      "cphaseshift(1.5707963267948966) q[2], q[1];\n",
      "h q[2];\n",
      "swap q[0], q[2];\n",
      "b[0] = measure q[0];\n",
      "b[1] = measure q[1];\n",
      "b[2] = measure q[2];\n"
     ]
    }
   ],
   "source": [
    "print(scanner_aspen.get_circuit())"
   ]
  },
  {
   "cell_type": "markdown",
   "metadata": {},
   "source": [
    "## Compiled circuit"
   ]
  },
  {
   "cell_type": "code",
   "execution_count": 29,
   "metadata": {
    "scrolled": true
   },
   "outputs": [
    {
     "name": "stdout",
     "output_type": "stream",
     "text": [
      "DECLARE ro BIT[3]\n",
      "PRAGMA INITIAL_REWIRING \"PARTIAL\"\n",
      "RESET\n",
      "RZ(-0.1413112636926115) 122\n",
      "RX(pi/2) 122\n",
      "RZ(3*pi/2) 122\n",
      "RZ(pi/2) 135\n",
      "RX(pi/2) 135\n",
      "RZ(1.7121075904875074) 135\n",
      "XY(pi) 135 122\n",
      "RX(pi/2) 135\n",
      "RZ(pi/4) 135\n",
      "RX(-pi/2) 135\n",
      "XY(pi) 135 122\n",
      "RZ(-pi/2) 121\n",
      "RX(pi/2) 121\n",
      "RZ(5.001919960480251) 121\n",
      "RZ(-pi/2) 122\n",
      "RX(pi/2) 122\n",
      "RZ(1.1399540830067252) 122\n",
      "RX(-pi/2) 122\n",
      "RZ(-3*pi/2) 122\n",
      "XY(pi) 121 122\n",
      "RX(pi/2) 121\n",
      "RZ(pi/8) 121\n",
      "RX(-pi/2) 121\n",
      "CZ 121 122\n",
      "RZ(4.83463383653057) 122\n",
      "RZ(-0.926709427090059) 135\n",
      "RX(pi/2) 135\n",
      "RZ(2.3752712447350635) 135\n",
      "RX(-pi/2) 135\n",
      "RZ(-3*pi/2) 135\n",
      "XY(pi) 122 135\n",
      "RX(pi/2) 122\n",
      "RZ(pi/4) 122\n",
      "RX(-pi/2) 122\n",
      "XY(pi) 122 135\n",
      "RX(pi/2) 121\n",
      "RZ(5.600955245385302) 121\n",
      "RZ(3.122515899047075) 122\n",
      "CZ 122 121\n",
      "RZ(pi/2) 121\n",
      "RZ(-2.228093422063399) 122\n",
      "RX(pi/2) 122\n",
      "RZ(pi) 122\n",
      "RX(-pi/2) 122\n",
      "RZ(-0.6572970952685027) 122\n",
      "XY(pi) 121 122\n",
      "RZ(pi/2) 121\n",
      "RX(pi/2) 121\n",
      "RZ(pi/2) 121\n",
      "RZ(-pi/2) 135\n",
      "RX(pi/2) 135\n",
      "RZ(4.731465734927409) 135\n",
      "MEASURE 122 ro[2]\n",
      "MEASURE 135 ro[1]\n",
      "MEASURE 121 ro[0]\n",
      "\n"
     ]
    }
   ],
   "source": [
    "print(scanner_aspen.get_compiled_circuit())"
   ]
  },
  {
   "cell_type": "code",
   "execution_count": 30,
   "metadata": {},
   "outputs": [
    {
     "name": "stdout",
     "output_type": "stream",
     "text": [
      "Counter({'010': 19, '000': 18, '110': 18, '100': 12, '101': 12, '011': 10, '111': 6, '001': 5})\n"
     ]
    },
    {
     "data": {
      "image/png": "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",
      "text/plain": [
       "<Figure size 640x480 with 1 Axes>"
      ]
     },
     "metadata": {},
     "output_type": "display_data"
    },
    {
     "name": "stdout",
     "output_type": "stream",
     "text": [
      "Normalized chi quared for results statistics: 2.3771428571428572\n"
     ]
    },
    {
     "data": {
      "text/plain": [
       "False"
      ]
     },
     "execution_count": 46,
     "metadata": {},
     "output_type": "execute_result"
    }
   ],
   "source": [
    "print( scanner.get_status())\n",
    "print( scanner.results_available())\n",
    "print( scanner.get_device_status())\n",
    "\n",
    "#print(scanner.get_circuit())\n",
    "#print(scanner_aspen.get_circuit())\n",
    "print(scanner_aspen.cost_extimate())\n",
    "print(scanner.cost_extimate())\n",
    "\n",
    "Plotter.plot_binary_results(scanner.get_results(), debug=True)\n",
    "Plotter.plot_results_statistic(scanner.get_results())\n",
    "scanner.is_garbage()"
   ]
  },
  {
   "cell_type": "code",
   "execution_count": 31,
   "metadata": {
    "scrolled": false
   },
   "outputs": [
    {
     "name": "stdout",
     "output_type": "stream",
     "text": [
      "OPENQASM 3.0;\n",
      "bit[3] b;\n",
      "qubit[3] q;\n",
      "h q[0];\n",
      "h q[1];\n",
      "h q[2];\n",
      "rz(3.141592653589793) q[1];\n",
      "rz(1.5707963267948966) q[2];\n",
      "h q[0];\n",
      "cphaseshift(1.5707963267948966) q[1], q[0];\n",
      "cphaseshift(0.7853981633974483) q[2], q[0];\n",
      "h q[1];\n",
      "cphaseshift(1.5707963267948966) q[2], q[1];\n",
      "h q[2];\n",
      "swap q[0], q[2];\n",
      "b[0] = measure q[0];\n",
      "b[1] = measure q[1];\n",
      "b[2] = measure q[2];\n"
     ]
    }
   ],
   "source": [
    "print(scanner_lucy.get_circuit())"
   ]
  },
  {
   "cell_type": "markdown",
   "metadata": {},
   "source": [
    "## Compiled circuit"
   "execution_count": 44,
   "metadata": {},
   "outputs": [
    {
     "data": {
      "image/png": "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",
      "text/plain": [
       "<Figure size 640x480 with 1 Axes>"
      ]
     },
     "metadata": {},
     "output_type": "display_data"
    },
    {
     "name": "stdout",
     "output_type": "stream",
     "text": [
      "11.71875 3000 3000.0 256\n"
     ]
    },
    {
     "data": {
      "image/png": "iVBORw0KGgoAAAANSUhEUgAAAjMAAAGwCAYAAABcnuQpAAAABHNCSVQICAgIfAhkiAAAAAlwSFlzAAAPYQAAD2EBqD+naQAAADh0RVh0U29mdHdhcmUAbWF0cGxvdGxpYiB2ZXJzaW9uMy4yLjIsIGh0dHA6Ly9tYXRwbG90bGliLm9yZy+WH4yJAAAgAElEQVR4nO3dfXBUVZ7/8U93CG2QJEyApNMSY0rBTAQp1xAkokRcgQwLIjOljlsQyhmfePhtCi0BLZfwxySAq4tT2WHV2WWJIyPujs5ShUPMLBJmJrABVkoUUXaHh4xJSA1IQpBpQvr+/mjS2CSQhHT37dP9flV12X3u6dxvXy83n9y+9xyHZVmWAAAADOW0uwAAAICBIMwAAACjEWYAAIDRCDMAAMBohBkAAGA0wgwAADAaYQYAABhtkN0FhJvP51NjY6OSk5PlcDjsLgcAAPSBZVk6c+aMPB6PnM6rn3uJ+TDT2NiorKwsu8sAAADXoKGhQaNGjbpqn5gPM8nJyZL8GyMlJcXmagAAQF+0tbUpKysr8Hv8amI+zHR9tZSSkkKYAQDAMH25RIQLgAEAgNEIMwAAwGiEGQAAYDTCDAAAMBphBgAAGI0wAwAAjEaYAQAARiPMAAAAoxFmAACA0QgzAADAaLaGmfXr1+v2228PTDUwadIk/eY3vwkstyxLZWVl8ng8SkpKUlFRkT777DMbKwYAANHG1jAzatQorV69Wnv37tXevXs1depUPfjgg4HAsnbtWr366quqrKzUnj175Ha79cADD+jMmTN2lg0AAKKIw7Isy+4ivi0tLU0vv/yyHn/8cXk8HpWWlmrZsmWSJK/Xq4yMDK1Zs0ZPPfVUj+/3er3yer2B112zbra2tjLRJAAAhmhra1Nqamqffn9HzTUznZ2deuedd3T27FlNmjRJR44cUXNzs6ZNmxbo43K5NGXKFNXV1V3x51RUVCg1NTXwyMrKikT5AADAJraHmQMHDmjo0KFyuVx6+umn9f777ysvL0/Nzc2SpIyMjKD+GRkZgWU9WbFihVpbWwOPhoaGsNYPAADsNcjuAm699Vbt379fp0+f1q9+9SuVlJSotrY2sNzhcAT1tyyrW9u3uVwuuVyusNULmOCm5Vv71f/o6plhqgQAws/2MzODBw/WLbfcovz8fFVUVGj8+PF67bXX5Ha7JanbWZiWlpZuZ2sAAED8sj3MXM6yLHm9XuXk5Mjtdqumpiaw7Pz586qtrVVhYaGNFQIAgGhi69dML7zwgoqLi5WVlaUzZ87onXfe0Y4dO7Rt2zY5HA6VlpaqvLxco0eP1ujRo1VeXq4hQ4boscces7NsAAAQRWwNMydOnNC8efPU1NSk1NRU3X777dq2bZseeOABSdLzzz+vc+fOaeHChfr66681ceJEffjhh0pOTrazbAAAEEWibpyZUOvPfepArOACYACmM3KcGQAAgGtBmAEAAEazfZwZANGFr6gAmIYzMwAAwGiEGQAAYDTCDAAAMBphBgAAGI0wAwAAjEaYAQAARiPMAAAAoxFmAACA0QgzAADAaIQZAABgNMIMAAAwGmEGAAAYjYkmgSjFhI8A0DecmQEAAEYjzAAAAKMRZgAAgNEIMwAAwGiEGQAAYDTCDAAAMBphBgAAGI0wAwAAjEaYAQAARiPMAAAAoxFmAACA0QgzAADAaIQZAABgNMIMAAAwGmEGAAAYjTADAACMRpgBAABGI8wAAACjDbK7AAAxzNcpHauT2k9IQzOk7ELJmWB3VQBiDGEGQHgc3CJtWya1NV5qS/FIM9ZIebPtqwtAzCHMAAiZm5ZvlSRNd9ZrfeI6SZLTcWm5r7VR2jxPz3SUqtpXoKOrZ9pRJoAYwzUzAELKKZ9WJlb5nzsuW3bx9crEt+SUL8KVAYhVhBkAIVXgPCSP41S3INPF6ZA8jpMqcB6KbGEAYhZhBkBIpet0SPsBQG8IMwBCqkXDQtoPAHpDmAEQUvW+XDVaafJZPS/3WVKjNVz1vtzIFgYgZhFmAISUT06t6pjvf35ZoOl6vapjnnwcfgCECEcTACFX7SvQMx2lalZaUHuzhgduywaAUGGcGQBhUe0rUI03XwXOQ0rXabVomOp9uZyRARByhBkAYeOTU7t9eXaXASDG8ScSAAAwGmEGAAAYzdYwU1FRoQkTJig5OVnp6emaM2eOvvjii6A+CxYskMPhCHrcddddNlUMAACija1hpra2VosWLdLu3btVU1OjCxcuaNq0aTp79mxQvxkzZqipqSnw+OCDD2yqGAAARBtbLwDetm1b0OsNGzYoPT1d+/bt07333htod7lccrvdffqZXq9XXq838LqtrS00xQIAgKgUVdfMtLa2SpLS0oLHptixY4fS09M1ZswYPfHEE2ppabniz6ioqFBqamrgkZWVFdaaAQCAvaImzFiWpaVLl2ry5MkaO3ZsoL24uFhvv/22tm/frldeeUV79uzR1KlTg86+fNuKFSvU2toaeDQ0NETqIwAAABtEzTgzixcv1ieffKLf//73Qe2PPPJI4PnYsWOVn5+v7Oxsbd26VXPnzu32c1wul1wuV9jrBQAA0SEqwsySJUu0ZcsW7dy5U6NGjbpq38zMTGVnZ+vw4cMRqg4AAEQzW8OMZVlasmSJ3n//fe3YsUM5OTm9vufkyZNqaGhQZmZmBCoEAADRztZrZhYtWqRf/OIX2rRpk5KTk9Xc3Kzm5madO3dOktTe3q7nnntOu3bt0tGjR7Vjxw7NmjVLI0aM0EMPPWRn6QAAIErYemZm/fr1kqSioqKg9g0bNmjBggVKSEjQgQMHVFVVpdOnTyszM1P33XefNm/erOTkZBsqBgAA0cb2r5muJikpSdXV1RGqBogAX6d0rE5qPyENzZCyCyVnQthX65SP2asBxKyouAAYiAsHt0jblkltjZfaUjzSjDVS3uywrXa6s14rE6vkcZwKtDVaaVrVMV/VvoKwrRcAIoU/zYBIOLhFend+cJCRpLYmf/vBLWFZ7XRnvdYnrpNbp4La3Tql9YnrNN1ZH5b1AkAkEWaAcPN1+s/IqKevVS+2bVvu7xdCTvm0MrHK/9xx2bKLr1cmviWnfCFdLwBEGmEGCLdjdd3PyASxpLav/P1CqMB5SB7HqW5BpovTIXkcJ1XgPBTS9QJApBFmgHBrPxHafn2UrtMh7QcA0YowA4TRTcu36tFfHulT377266sWDQtpPwCIVoQZIMzqfblqtNLku8JIBD5LarSGq96XGxPrBYBII8wAYeaTU6s65vufXxYsul6v6pgX8nFf7FovAEQaRzEgAqp9BXqmo1TNSgtqb9ZwPdNRGrbxXuxaLwBEEoPmARFS7StQjTc/4iPx2rVeAIgUwgwQQT45tduXFzfrBYBI4E8zAABgNMIMAAAwGmEGAAAYjTADAACMRpgBAABGI8wAAACjEWYAAIDRCDMAAMBohBkAAGA0wgwAADAaYQYAABiNMAMAAIxGmAEAAEYjzAAAAKMRZgAAgNEIMwAAwGiD7C4AACTppuVb+/2eo6tnhqESAKbhzAwAADAaYQYAABiNMAMAAIxGmAEAAEYjzAAAAKMRZgAAgNEIMwAAwGiEGQAAYDTCDAAAMBphBgAAGI0wAwAAjEaYAQAARiPMAAAAoxFmAACA0QgzAADAaIQZAABgNMIMAAAwGmEGAAAYjTADAACMZmuYqaio0IQJE5ScnKz09HTNmTNHX3zxRVAfy7JUVlYmj8ejpKQkFRUV6bPPPrOpYgAAEG1sDTO1tbVatGiRdu/erZqaGl24cEHTpk3T2bNnA33Wrl2rV199VZWVldqzZ4/cbrceeOABnTlzxsbKAQBAtBhk58q3bdsW9HrDhg1KT0/Xvn37dO+998qyLK1bt04vvvii5s6dK0nauHGjMjIytGnTJj311FN2lA0AAKJIVF0z09raKklKS0uTJB05ckTNzc2aNm1aoI/L5dKUKVNUV1fX48/wer1qa2sLegAAgNgVNWHGsiwtXbpUkydP1tixYyVJzc3NkqSMjIygvhkZGYFll6uoqFBqamrgkZWVFd7CAQCAraImzCxevFiffPKJfvnLX3Zb5nA4gl5bltWtrcuKFSvU2toaeDQ0NISlXgAAEB1svWamy5IlS7Rlyxbt3LlTo0aNCrS73W5J/jM0mZmZgfaWlpZuZ2u6uFwuuVyu8BYMAACihq1nZizL0uLFi/Xee+9p+/btysnJCVqek5Mjt9utmpqaQNv58+dVW1urwsLCSJcLAACikK1nZhYtWqRNmzbpP//zP5WcnBy4DiY1NVVJSUlyOBwqLS1VeXm5Ro8erdGjR6u8vFxDhgzRY489ZmfpAAAgStgaZtavXy9JKioqCmrfsGGDFixYIEl6/vnnde7cOS1cuFBff/21Jk6cqA8//FDJyckRrhYAAEQjW8OMZVm99nE4HCorK1NZWVn4CwIAAMaJmruZAAAArgVhBgAAGI0wAwAAjEaYAQAARiPMAAAAoxFmAACA0QgzAADAaIQZAABgNMIMAAAwGmEGAAAYjTADAACMRpgBAABGs3WiScAENy3fGvTaKZ8KnIeUrtNq0TDV+3Ll+9bfBUdXzwxLHb2tFwDiFWEG6IfpznqtTKySx3Eq0NZopWlVx3xV+wpibr0AYAL+rAP6aLqzXusT18mtU0Htbp3S+sR1mu6sj6n1AoApCDNAHzjl08rEKv9zx2XLLr5emfiWnPLFxHoBwCSEGaAPCpyH5HGc6hYoujgdksdxUgXOQzGxXgAwCWEG6IN0nQ5pv2hfLwCYhDAD9EGLhoW0X7SvFwBMQpgB+qDel6tGK00+q+flPktqtIar3pcbE+sFAJMQZoA+8MmpVR3z/c8vCxZdr1d1zAv5uC92rRcATMIREOijal+BnukoVbPSgtqbNVzPdJSGbbwXu9YLAKZg0DygH6p9Barx5kd8JF671gsAJiDMAP3kk1O7fXlxs14AiHb8WQcAAIxGmAEAAEbjayYAMeHy2c17E67ZzQFEHmdmAACA0QgzAADAaIQZAABgNMIMAAAwGmEGAAAYjTADAACMRpgBAABGI8wAAACjMWgezOTrlI7VSe0npKEZUnah5EywuyoAgA0IMzDPwS3StmVSW+OlthSPNGONlDfbvroAALbgayaY5eAW6d35wUFGktqa/O0Ht9hTFwDANoQZmMPX6T8jI6uHhRfbti339wMAxA3CDMxxrK77GZkgltT2lb8fACBuEGZgjvYToe0HAIgJhBmYY2hGaPsBAGLCNYeZxYsX69SpU6GsBbi67EL/XUtyXKGDQ0q5wd8PABA3+hVm/vSnPwWeb9q0Se3t7ZKkcePGqaGhIbSVAZdzJvhvv5bUPdBcfD1jNePNAECc6VeYyc3NVXZ2th577DH95S9/CQSYo0ePqqOjIywFAkHyZksPV0kpmcHtKR5/O+PMAEDc6degea2trdq3b59+97vf6b333tP3vvc9ZWRkyOv1qrq6Wg899JDcbne4agX88mZLuTMZARgAIKmfZ2Y6OjpUUFCgZ599VklJSfr444+1YcMGJSQk6F//9V91880369Zbbw1XrcAlzgQp5x5p3A/8/yXIAEDc6teZmZSUFN1xxx26++67df78eX3zzTe6++67NWjQIG3evFmjRo1SfX19uGpFrGF+JSM45VOB85DSdVotGqZ6X658EbgR0q71AjBPv8JMY2Ojdu3apbq6Ol24cEH5+fmaMGGCzp8/r//5n/9RVlaWJk+e3Oeft3PnTr388svat2+fmpqa9P7772vOnDmB5QsWLNDGjRuD3jNx4kTt3r27P2UjGjG/khGmO+u1MrFKHselOxcbrTSt6pival9BzK0XgJn69WfOiBEjNGvWLFVUVGjIkCHas2ePlixZIofDoeeee04pKSmaMmVKn3/e2bNnNX78eFVWVl6xz4wZM9TU1BR4fPDBB/0pGdGI+ZWMMN1Zr/WJ6+RW8BAMbp3S+sR1mu4Mz1lYu9YLwFwDmjU7NTVVDz/8sH70ox9p+/btGjJkiGpra/v8/uLiYhUXF1+1j8vl4qLiWNLr/EoO//xKuTP5yslGTvm0MrHK//yyu+CdDslnSSsT31KNN9+29fKVE4Au13w0+OSTTzRq1ChJUnZ2thITE+V2u/XII4+ErDhJ2rFjh9LT0zVmzBg98cQTamlpuWp/r9ertra2oAeiCPMrGaHAeUgex6lugaKL0yF5HCdV4DwUE+sFYLZrDjNZWVlyOv1v//TTT5WVlRWyoroUFxfr7bff1vbt2/XKK69oz549mjp1qrxe7xXfU1FRodTU1MAjHHVhAJhfyQjpOh3SftG+XgBmG9DXTOH27bM8Y8eOVX5+vrKzs7V161bNnTu3x/esWLFCS5cuDbxua2sj0EQT5lcyQouGhbRftK8XgNmiOsxcLjMzU9nZ2Tp8+PAV+7hcLrlcrghWhX7pml+prUk9Xzfj8C9nfiVb1fty1Wilya2ev/LxWVKzhqvelxsT6wVgNqOuoDt58qQaGhqUmZnZe2dEJ+ZXMoJPTq3qmO9/flnm7Hq9qmNeyC/CtWu9AMxm6xGhvb1d+/fv1/79+yVJR44c0f79+3X8+HG1t7frueee065du3T06FHt2LFDs2bN0ogRI/TQQw/ZWTYGivmVjFDtK9AzHaVqVlpQe7OG65mO0rCN92LXegGYy9avmfbu3av77rsv8LrrWpeSkhKtX79eBw4cUFVVlU6fPq3MzEzdd9992rx5s5KTk+0qGaHC/EpGqPYVqMabH/GReO1aLwAz2RpmioqKZFk9XTfhV11dHcFqEHFd8yshqvnk1G5fXtysF4B5jLoAGAgZ5oUCgJhBmEH8YV4oAIgpfAGN+MK8UAAQcwgziB+9zgsl/7xQvs5IVgUAGCDCDOIH80IBQEwizCB+MC8UAMQkwgziB/NCAUBMIswgfnTNC9VtGoUuDinlBuaFAgDDEGYQP5gXCgBiEmEG8YV5oQAg5jBoHuIP80IBQEwhzCA+MS8UAMQMwgyAmOSUj1m3gThBmAEQc6Y767UysUoex6lAW6OVplUd81XtK7CxMgDhwJ8pAGLKdGe91ieuk1ungtrdOqX1ies03VlvU2UAwoUwAyBmOOXTysQq//PL7r7ver0y8S055YtwZQDCiTADIGYUOA/J4zjVLch0cTokj+OkCpyHIlsYgLAizACIGek6HdJ+AMxAmAEQM1o0LKT9AJiBMAMgZtT7ctVopcln9bzcZ0mN1nDV+3IjWxiAsCLMAIgZPjm1qmO+//llgabr9aqOeYw3A8QYxpkBEFOqfQV6pqPUP87Mt27PbtZwreqY1+M4Mzct39qvdRxdPXPAdQIIHcIMYl5/f1FJ/LIyXbWvQDXefEYABuIEYQZATPLJqd2+vGt6L1MhAGYhzADAtzAVAmAe/tQAgIuYCgEwE2EGAMRUCIDJCDMAIKZCAExGmAEAMRUCYDLCDACIqRAAkxFmAEBMhQCYjDADAGIqBMBk/KsEgIu6pkJoVlpQe7OG65mOUsaZAaIUg+YBwLcwFQJgHsIMAFxmIFMhAIg8wgwAhJKvUzpWJ7WfkIZmSNmFkjPB7qqAmEaYAYBQObhF2rZMamu81JbikWaskfJm21cXEOP4EhgAQuHgFund+cFBRpLamvztB7fYUxcQBwgzADBQvk7/GRn1NEjNxbZty/39AIQcYQYABupYXfczMkEsqe0rfz8AIUeYAYCBaj8R2n4A+oUwAwADNTQjtP0A9AthBgAGKrvQf9eSHFfo4JBSbvD3AxByhBkAGChngv/2a0ndA83F1zNWM94MECaEGQAIhbzZ0sNVUkpmcHuKx9/OODNA2DBoHgCESt5sKXcmIwADEUaYAYBQciZIOffYXQUQV/iaCQAAGM3WMLNz507NmjVLHo9HDodDv/71r4OWW5alsrIyeTweJSUlqaioSJ999plN1QIAgGhka5g5e/asxo8fr8rKyh6Xr127Vq+++qoqKyu1Z88eud1uPfDAAzpz5kyEKwUAANHK1mtmiouLVVxc3OMyy7K0bt06vfjii5o7d64kaePGjcrIyNCmTZv01FNPRbJUAAAQpaL2mpkjR46oublZ06ZNC7S5XC5NmTJFdXVXnt/E6/Wqra0t6AEAAGJX1IaZ5uZmSVJGRvDw3xkZGYFlPamoqFBqamrgkZWVFdY6AQCAvaI2zHRxOIJH07Qsq1vbt61YsUKtra2BR0NDQ7hLBAAANoracWbcbrck/xmazMxLI2q2tLR0O1vzbS6XSy6XK+z1AQCA6BC1Z2ZycnLkdrtVU1MTaDt//rxqa2tVWMhkbQAAwM/WMzPt7e363//938DrI0eOaP/+/UpLS9ONN96o0tJSlZeXa/To0Ro9erTKy8s1ZMgQPfbYYzZWDQAAoomtYWbv3r267777Aq+XLl0qSSopKdG//du/6fnnn9e5c+e0cOFCff3115o4caI+/PBDJScn21UyAACIMraGmaKiIlmWdcXlDodDZWVlKisri1xRAADAKFF7ATAAxB1fJzNuA9eAMAMA0eDgFmnbMqmt8VJbikeasUbKm21fXYABovZuJgCIGwe3SO/ODw4yktTW5G8/uMWeugBDEGYAwE6+Tv8ZGfV0/eDFtm3L/f0A9IgwAwB2OlbX/YxMEEtq+8rfD0CPCDMAYKf2E6HtB8QhwgwA2GnoladnuaZ+QBwizACAnbIL/Xct6UoT6DqklBv8/QD0iFuzAWAAblq+tV/9j66eGdzgTPDffv3ufPkDzbcvBL4YcGasZrwZ4Co4MwMAdsubLT1cJaVkBrenePztjDMDXBVnZgAgGuTNlnJnMgIwcA0IMwAQLZwJUs49dlcBGIevmQAAgNEIMwAAwGiEGQAAYDTCDAAAMBphBgAAGI0wAwAAjEaYAQAARiPMAAAAoxFmAACA0QgzAADAaExnACMMeGZiAEDM4swMAAAwGmEGAAAYjTADAACMRpgBAABGI8wAAACjEWYAAIDRCDMAAMBohBkAAGA0wgwAADAaYQYAABiNMAMAAIxGmAEAAEYjzAAAAKMRZgAAgNEIMwAAwGiEGQAAYDTCDAAAMBphBgAAGI0wAwAAjEaYAQAARiPMAAAAow2yuwAAiFc3Ld/ar/5HV88MUyWA2TgzAwAAjEaYAQAARuNrJgCIBb5O6Vid1H5CGpohZRdKzgS7qwqvePzM6FFUh5mysjKtWrUqqC0jI0PNzc02VQQAUejgFmnbMqmt8VJbikeasUbKm21fXeEUj58ZVxT1XzPddtttampqCjwOHDhgd0kAED0ObpHenR/8S12S2pr87Qe32FNXOMXjZ8ZVRX2YGTRokNxud+AxcuRIu0sCgOjg6/SfnZDVw8KLbduW+/vFinj8zOhV1IeZw4cPy+PxKCcnR48++qj++Mc/XrW/1+tVW1tb0AMAYtKxuu5nJ4JYUttX/n6xIh4/M3oV1WFm4sSJqqqqUnV1td588001NzersLBQJ0+evOJ7KioqlJqaGnhkZWVFsGIAiKD2E6HtZ4J4/MzoVVSHmeLiYn3/+9/XuHHj9Nd//dfautU/wNTGjRuv+J4VK1aotbU18GhoaIhUuQAQWUMzQtvPBPH4mdGrqL6b6XLXX3+9xo0bp8OHD1+xj8vlksvlimBVAGCT7EL/HTxtTer5GhKHf3l2YaQrC594/MzoVVSfmbmc1+vV559/rszMTLtLAQD7ORP8tyJLkhyXLbz4esbq2Bp7JR4/M3oV1WHmueeeU21trY4cOaL//u//1g9+8AO1tbWppKTE7tIAIDrkzZYerpJSLvsjL8Xjb4/FMVfi8TPjqqL6a6Y//elP+uEPf6g///nPGjlypO666y7t3r1b2dnZdpcGANEjb7aUOzO+RsONx8+MK4rqMPPOO+/YXQIAmMGZIOXcY3cVkRWPnxk9iuqvmQAAAHpDmAEAAEYjzAAAAKMRZgAAgNEIMwAAwGiEGQAAYDTCDAAAMFpUjzOD2HLT8q396n909cwwVQIAiCWcmQEAAEYjzAAAAKMRZgAAgNG4ZgYD4+tkojfABlyDBlxCmMG1O7hF2rZMamu81JbikWas8c9oCwBABPA1E67NwS3Su/ODg4wktTX52w9usacuAEDcIcyg/3yd/jMysnpYeLFt23J/PwAAwowwg/47Vtf9jEwQS2r7yt8PAIAwI8yg/9pPhLYfAAADQJhB/w3NCG0/AAAGgDCD/ssu9N+1JMcVOjiklBv8/QAACDPCDPrPmeC//VpS90Bz8fWM1Yw3AwCICMIMrk3ebOnhKiklM7g9xeNvZ5wZAECEMGgerl3ebCl3JiMAAwBsRZjBwDgTpJx77K4CABDHCDNgfiUg3g3kGGDq8cPUutEjwky8Y34lIL4N5Bhg6vHD1LpxRVwAHM+YXwmIbwM5Bph6/DC1blwVYSZeMb8SEN8Gcgww9fhhat3oFWEmXjG/EhDfBnIMMPX4YWrd6BVhJl4xvxIQt25avlX/781tferbYz9Tjx+m1o1eEWbiFfMrAXGtRcOuvZ+pxw9T60avCDPxivmVgLhW78tVo5UmX0+Xj0jyWVKjNVz1vtzuC009fphaN3pFmIlXzK8ExDWfnFrVMd///LJA0/V6Vcc8+Xr6NWHq8cPUutErxpmJZ13zK/U43sLqHsdbuGn51n6t4ujqmQOtEkCYVPsK9ExHqVYmVsmjU4H2Zg3Xqo55qvYVXPnN13D8iAqm1o2rIszEO+ZXAuJata9ANd58FTgPKV2n1aJhqvfl9nxG5nKmHj9MrRtXRJgB8ysBcc4np3b78q7tzaYeP0ytGz0izEQT5goBEG9MPO7FW80GfF7CTLRgrhAA8cbE41681WzI5+VupmjAXCEA4o2Jx714q9mgz8uZGbv1OleIwz9XSO7MqDutByD+hOSORhOPe/FWs2GflzMzdmOuEADxxsTjXrzVbNjnJczYjblCAMQbE4978VazYZ+XMGM35goBEG9MPO7FW82GfV7CjN2YKwRAvDHxuBdvNRv2eQkzdmOuEADxxsTjXrzVbNjnJcxEg665QlIyg9tTPP72KLqXHwBCwsTjXrzVbNDn5dbsaBHBuUKYLBKAHbofe/o2ldsAAA1HSURBVBLk1NrgeaFacuWrckry942644+J8zoNpGZDPi9hJpowVwiAODOgeaHsYuKxeiA1G/B5CTOhZtccFgbMnQEAcS/G50iyixFh5mc/+5lefvllNTU16bbbbtO6det0zz1RmBLtmsPCkLkzAGAgjP+KPA7mSLJL1F8AvHnzZpWWlurFF1/Uxx9/rHvuuUfFxcU6fvy43aUFs2sOC4PmzgCAuBUncyTZJerPzLz66qv60Y9+pB//+MeSpHXr1qm6ulrr169XRUWFzdVdZMMcFjct3yqnfPq96+/kliVnt6EALPksqXlzqSZ7Hfrj6lkhWS8AmMjWszpxNEeSXaI6zJw/f1779u3T8uXLg9qnTZumurqe54Pwer3yer2B162trZKktra2sNWZ0LBL1/dhDouzn/9WnVmTAq1jV1b3az2frpoeeO7zfqOChEPyXHfqiv2dDsmjk8q/sF9tbVOC3tsf39528fBeO9fNe/vHxLp5b/9EQ90DOVaPXVmtuxIO6d2hvf+OePj5cv387/8uaMm1/n6JBV3/DyyrpyAXzGH1pZdNGhsbdcMNN+gPf/iDCgsvjTJYXl6ujRs36osvvuj2nrKyMq1atSqSZerRsYP0y+8P6bXfD3/1jd759ILx6wUA9N1AjtUc56WGhgaNGjXqqn2MCDN1dXWaNOlS4vzJT36it956S4cOHer2nsvPzPh8Pp06dUrDhw+Xw3GlYZlDq62tTVlZWWpoaFBKSkpE1mkqtlX/sL36h+3Vd2yr/mF79c+1bC/LsnTmzBl5PB45nVe/xDeqv2YaMWKEEhIS1NzcHNTe0tKijIyeJ7dyuVxyuVxBbcOGDQtbjVeTkpLCTt5HbKv+YXv1D9ur79hW/cP26p/+bq/U1NQ+9Yvqu5kGDx6sO++8UzU1NUHtNTU1QV87AQCA+BXVZ2YkaenSpZo3b57y8/M1adIkvfHGGzp+/Liefvppu0sDAABRIKGsrKzM7iKuZuzYsRo+fLjKy8v1D//wDzp37pzeeustjR8/3u7SriohIUFFRUUaNCjq86Lt2Fb9w/bqH7ZX37Gt+oft1T/h3F5RfQEwAABAb6L6mhkAAIDeEGYAAIDRCDMAAMBohBkAAGA0wkyI/exnP1NOTo6uu+463Xnnnfrd735nd0lRqaysTA6HI+jhdrvtLitq7Ny5U7NmzZLH45HD4dCvf/3roOWWZamsrEwej0dJSUkqKirSZ599ZlO19uptWy1YsKDbvnbXXXfZVK29KioqNGHCBCUnJys9PV1z5szpNi0M+9Ylfdle7F+XrF+/XrfffntgYLxJkybpN7/5TWB5OPctwkwIbd68WaWlpXrxxRf18ccf65577lFxcbGOHz9ud2lR6bbbblNTU1PgceDAAbtLihpnz57V+PHjVVlZ2ePytWvX6tVXX1VlZaX27Nkjt9utBx54QGfOnIlwpfbrbVtJ0owZM4L2tQ8++CCCFUaP2tpaLVq0SLt371ZNTY0uXLigadOm6ezZs4E+7FuX9GV7SexfXUaNGqXVq1dr79692rt3r6ZOnaoHH3wwEFjCum9ZCJmCggLr6aefDmrLzc21li9fblNF0WvlypXW+PHj7S7DCJKs999/P/Da5/NZbrfbWr16daDtL3/5i5Wammr98z//sx0lRo3Lt5VlWVZJSYn14IMP2lRRdGtpabEkWbW1tZZlsW/15vLtZVnsX735zne+Y/385z8P+77FmZkQOX/+vPbt26dp06YFtU+bNk11dXU2VRXdDh8+LI/Ho5ycHD366KP64x//aHdJRjhy5Iiam5uD9jWXy6UpU6awr13Bjh07lJ6erjFjxuiJJ55QS0uL3SVFhdbWVklSWlqaJPat3ly+vbqwf3XX2dmpd955R2fPntWkSZPCvm8RZkLkz3/+szo7O7tNgJmRkdFtokxIEydOVFVVlaqrq/Xmm2+qublZhYWFOnnypN2lRb2u/Yl9rW+Ki4v19ttva/v27XrllVe0Z88eTZ06VV6v1+7SbGVZlpYuXarJkydr7Nixkti3rqan7SWxf13uwIEDGjp0qFwul55++mm9//77ysvLC/u+xRjMIeZwOIJeW5bVrQ3+A0CXcePGadKkSbr55pu1ceNGLV261MbKzMG+1jePPPJI4PnYsWOVn5+v7Oxsbd26VXPnzrWxMnstXrxYn3zyiX7/+993W8a+1d2Vthf7V7Bbb71V+/fv1+nTp/WrX/1KJSUlqq2tDSwP177FmZkQGTFihBISErolzJaWlm5JFN1df/31GjdunA4fPmx3KVGv664v9rVrk5mZqezs7Lje15YsWaItW7boo48+0qhRowLt7Fs9u9L26km871+DBw/WLbfcovz8fFVUVGj8+PF67bXXwr5vEWZCZPDgwbrzzjtVU1MT1F5TU6PCwkKbqjKH1+vV559/rszMTLtLiXo5OTlyu91B+9r58+dVW1vLvtYHJ0+eVENDQ1zua5ZlafHixXrvvfe0fft25eTkBC1n3wrW2/bqSTzvXz2xLEterzfs+1bUz5ptkpSUFL300ku64YYbdN1116m8vFwfffSRNmzYoGHDhtldXlR57rnn5HK5ZFmWvvzySy1evFhffvmlXn/9dbaVpPb2dh08eFDNzc16/fXXNXHiRCUlJen8+fMaNmyYOjs7VVFRoVtvvVWdnZ169tln9dVXX+mNN96Qy+Wyu/yIutq2SkhI0AsvvKDk5GR1dnZq//79+vGPf6yOjg5VVlbG3bZatGiR3n77bf3Hf/yHPB6P2tvb1d7eroSEBCUmJsrhcLBvfUtv26u9vZ3961teeOEFDR48WJZlqaGhQT/96U/1i1/8QmvXrtXNN98c3n1rwPdDIcg//dM/WdnZ2dbgwYOtv/qrvwq6hQ+XPPLII1ZmZqaVmJhoeTwea+7cudZnn31md1lR46OPPrIkdXuUlJRYluW/hXblypWW2+22XC6Xde+991oHDhywt2ibXG1bffPNN9a0adOskSNHWomJidaNN95olZSUWMePH7e7bFv0tJ0kWRs2bAj0Yd+6pLftxf4V7PHHHw/8/hs5cqR1//33Wx9++GFgeTj3LYdlWdbA4hAAAIB9uGYGAAAYjTADAACMRpgBAABGI8wAAACjEWYAAIDRCDMAAMBohBkAAGA0wgwAADAaYQYAABiNMAMgbhw9elQOh0P79++3uxQAIUSYAQAARiPMAIgYn8+nNWvW6JZbbpHL5dKNN96on/zkJ5KkAwcOaOrUqUpKStLw4cP15JNPqr29PfDeoqIilZaWBv28OXPmaMGCBYHXN910k8rLy/X4448rOTlZN954o954443A8pycHEnSHXfcIYfDoaKiIknSjh07VFBQoOuvv17Dhg3T3XffrWPHjoVpKwAINcIMgIhZsWKF1qxZo5deekkHDx7Upk2blJGRoW+++UYzZszQd77zHe3Zs0f//u//rt/+9rdavHhxv9fxyiuvKD8/Xx9//LEWLlyoZ555RocOHZIk1dfXS5J++9vfqqmpSe+9954uXLigOXPmaMqUKfrkk0+0a9cuPfnkk3I4HCH97ADCZ5DdBQCID2fOnNFrr72myspKlZSUSJJuvvlmTZ48WW+++abOnTunqqoqXX/99ZKkyspKzZo1S2vWrFFGRkaf1/O9731PCxculCQtW7ZM//iP/6gdO3YoNzdXI0eOlCQNHz5cbrdbknTq1Cm1trbqb/7mb3TzzTdLkr773e+G7HMDCD/OzACIiM8//1xer1f3339/j8vGjx8fCDKSdPfdd8vn8+mLL77o13puv/32wHOHwyG3262WlpYr9k9LS9OCBQs0ffp0zZo1S6+99pqampr6tU4A9iLMAIiIpKSkKy6zLOuKX+t0tTudTlmWFbSso6OjW//ExMRu7/f5fFetbcOGDdq1a5cKCwu1efNmjRkzRrt3777qewBED8IMgIgYPXq0kpKS9F//9V/dluXl5Wn//v06e/ZsoO0Pf/iDnE6nxowZI0kaOXJk0BmTzs5Offrpp/2qYfDgwYH3Xu6OO+7QihUrVFdXp7Fjx2rTpk39+tkA7EOYARAR1113nZYtW6bnn39eVVVV+r//+z/t3r1b//Iv/6K//du/1XXXXaeSkhJ9+umn+uijj7RkyRLNmzcvcL3M1KlTtXXrVm3dulWHDh3SwoULdfr06X7VkJ6erqSkJG3btk0nTpxQa2urjhw5ohUrVmjXrl06duyYPvzwQ3355ZdcNwMYhDADIGJeeuklPfvss/r7v/97ffe739UjjzyilpYWDRkyRNXV1Tp16pQmTJigH/zgB7r//vtVWVkZeO/jjz+ukpISzZ8/X1OmTFFOTo7uu+++fq1/0KBB+ulPf6rXX39dHo9HDz74oIYMGaJDhw7p+9//vsaMGaMnn3xSixcv1lNPPRXqjw8gTBzW5V9CAwAAGIQzMwAAwGiEGQAAYDTCDAAAMBphBgAAGI0wAwAAjEaYAQAARiPMAAAAoxFmAACA0QgzAADAaIQZAABgNMIMAAAw2v8H/rmg/UB1XMcAAAAASUVORK5CYII=",
      "text/plain": [
       "<Figure size 640x480 with 1 Axes>"
      ]
     },
     "metadata": {},
     "output_type": "display_data"
    },
    {
     "name": "stdout",
     "output_type": "stream",
     "text": [
      "Normalized chi quared for results statistics: 1.9916967320261458\n"
     ]
    },
    {
     "data": {
      "text/plain": [
       "True"
      ]
     },
     "execution_count": 44,
     "metadata": {},
     "output_type": "execute_result"
    }
   ],
   "source": [
    "Plotter.plot_binary_results(scanner_aspen.get_results(), debug=False)\n",
    "Plotter.plot_results_statistic(scanner_aspen.get_results())\n",
    "\n",
    "scanner_aspen.is_garbage()"
   ]
  },
  {
   "cell_type": "code",
   "execution_count": 32,
   "metadata": {
    "scrolled": true
   },
   "outputs": [
    {
     "name": "stdout",
     "output_type": "stream",
     "text": [
      "OPENQASM 2.0;\n",
      "include \"qelib1.inc\";\n",
      "\n",
      "qreg node[8];\n",
      "creg b[3];\n",
      "h node[0];\n",
      "u3(3.5*pi,2.75*pi,4.0*pi) node[1];\n",
      "u3(3.5*pi,2.375000000000001*pi,4.0*pi) node[7];\n",
      "h node[1];\n",
      "h node[7];\n",
      "cx node[0],node[1];\n",
      "h node[0];\n",
      "u3(0.0*pi,-0.5*pi,4.25*pi) node[0];\n",
      "h node[0];\n",
      "cx node[0],node[1];\n",
      "h node[0];\n",
      "h node[1];\n",
      "u3(0.0*pi,-0.5*pi,0.75*pi) node[0];\n",
      "u3(0.5*pi,0.0*pi,0.5*pi) node[1];\n",
      "h node[0];\n",
      "cx node[0],node[7];\n",
      "h node[0];\n",
      "u3(0.0*pi,-0.5*pi,4.375*pi) node[0];\n",
      "h node[0];\n",
      "cx node[0],node[7];\n",
      "h node[0];\n",
      "u3(0.0*pi,-0.5*pi,0.625*pi) node[0];\n",
      "h node[0];\n",
      "cx node[0],node[7];\n",
      "h node[0];\n",
      "h node[7];\n",
      "cx node[0],node[7];\n",
      "h node[0];\n",
      "h node[7];\n",
      "cx node[0],node[7];\n",
      "h node[0];\n",
      "h node[7];\n",
      "measure node[7] -> b[2];\n",
      "cx node[0],node[1];\n",
      "u3(0.0*pi,-0.5*pi,4.25*pi) node[1];\n",
      "cx node[0],node[1];\n",
      "measure node[1] -> b[1];\n",
      "u3(0.5*pi,0.0*pi,0.5*pi) node[0];\n",
      "measure node[0] -> b[0];\n",
      "\n"
     ]
    }
   ],
   "source": [
    "print(scanner_lucy.get_compiled_circuit())"
   ]
  },
  {
   "cell_type": "code",
   "execution_count": 33,
   "metadata": {},
   "outputs": [
    {
     "data": {
      "text/html": [
       "<pre style=\"word-wrap: normal;white-space: pre;background: #fff0;line-height: 1.1;font-family: &quot;Courier New&quot;,Courier,monospace\">                ┌───┐                   ┌───┐┌───────────────────┐┌───┐     »\n",
       "node_0: ────────┤ H ├────────────────■──┤ H ├┤ U3(0,-π/2,13.352) ├┤ H ├──■──»\n",
       "        ┌───────┴───┴───────┐ ┌───┐┌─┴─┐└───┘└───────────────────┘└───┘┌─┴─┐»\n",
       "node_1: ┤ U3(7π/2,11π/4,4π) ├─┤ H ├┤ X ├───────────────────────────────┤ X ├»\n",
       "        └───────────────────┘ └───┘└───┘                               └───┘»\n",
       "node_2: ────────────────────────────────────────────────────────────────────»\n",
       "                                                                            »\n",
       "node_3: ────────────────────────────────────────────────────────────────────»\n",
       "                                                                            »\n",
       "node_4: ────────────────────────────────────────────────────────────────────»\n",
       "                                                                            »\n",
       "node_5: ────────────────────────────────────────────────────────────────────»\n",
       "                                                                            »\n",
       "node_6: ────────────────────────────────────────────────────────────────────»\n",
       "        ┌────────────────────┐┌───┐                                         »\n",
       "node_7: ┤ U3(7π/2,7.4613,4π) ├┤ H ├─────────────────────────────────────────»\n",
       "        └────────────────────┘└───┘                                         »\n",
       "   b_0: ════════════════════════════════════════════════════════════════════»\n",
       "                                                                            »\n",
       "   b_1: ════════════════════════════════════════════════════════════════════»\n",
       "                                                                            »\n",
       "   b_2: ════════════════════════════════════════════════════════════════════»\n",
       "                                                                            »\n",
       "«        ┌───┐┌─────────────────┐┌───┐     ┌───┐┌───────────────────┐┌───┐     »\n",
       "«node_0: ┤ H ├┤ U3(0,-π/2,3π/4) ├┤ H ├──■──┤ H ├┤ U3(0,-π/2,13.744) ├┤ H ├──■──»\n",
       "«        ├───┤└┬───────────────┬┘└───┘  │  └───┘└───────────────────┘└───┘  │  »\n",
       "«node_1: ┤ H ├─┤ U3(π/2,0,π/2) ├────────┼───────────────────────────────────┼──»\n",
       "«        └───┘ └───────────────┘        │                                   │  »\n",
       "«node_2: ───────────────────────────────┼───────────────────────────────────┼──»\n",
       "«                                       │                                   │  »\n",
       "«node_3: ───────────────────────────────┼───────────────────────────────────┼──»\n",
       "«                                       │                                   │  »\n",
       "«node_4: ───────────────────────────────┼───────────────────────────────────┼──»\n",
       "«                                       │                                   │  »\n",
       "«node_5: ───────────────────────────────┼───────────────────────────────────┼──»\n",
       "«                                       │                                   │  »\n",
       "«node_6: ───────────────────────────────┼───────────────────────────────────┼──»\n",
       "«                                     ┌─┴─┐                               ┌─┴─┐»\n",
       "«node_7: ─────────────────────────────┤ X ├───────────────────────────────┤ X ├»\n",
       "«                                     └───┘                               └───┘»\n",
       "«   b_0: ══════════════════════════════════════════════════════════════════════»\n",
       "«                                                                              »\n",
       "«   b_1: ══════════════════════════════════════════════════════════════════════»\n",
       "«                                                                              »\n",
       "«   b_2: ══════════════════════════════════════════════════════════════════════»\n",
       "«                                                                              »\n",
       "«        ┌───┐┌─────────────────┐┌───┐     ┌───┐     ┌───┐     ┌───┐     »\n",
       "«node_0: ┤ H ├┤ U3(0,-π/2,5π/8) ├┤ H ├──■──┤ H ├──■──┤ H ├──■──┤ H ├──■──»\n",
       "«        └───┘└─────────────────┘└───┘  │  └───┘  │  └───┘  │  └───┘┌─┴─┐»\n",
       "«node_1: ───────────────────────────────┼─────────┼─────────┼───────┤ X ├»\n",
       "«                                       │         │         │       └───┘»\n",
       "«node_2: ───────────────────────────────┼─────────┼─────────┼────────────»\n",
       "«                                       │         │         │            »\n",
       "«node_3: ───────────────────────────────┼─────────┼─────────┼────────────»\n",
       "«                                       │         │         │            »\n",
       "«node_4: ───────────────────────────────┼─────────┼─────────┼────────────»\n",
       "«                                       │         │         │            »\n",
       "«node_5: ───────────────────────────────┼─────────┼─────────┼────────────»\n",
       "«                                       │         │         │            »\n",
       "«node_6: ───────────────────────────────┼─────────┼─────────┼────────────»\n",
       "«                                     ┌─┴─┐┌───┐┌─┴─┐┌───┐┌─┴─┐┌───┐ ┌─┐ »\n",
       "«node_7: ─────────────────────────────┤ X ├┤ H ├┤ X ├┤ H ├┤ X ├┤ H ├─┤M├─»\n",
       "«                                     └───┘└───┘└───┘└───┘└───┘└───┘ └╥┘ »\n",
       "«   b_0: ═════════════════════════════════════════════════════════════╬══»\n",
       "«                                                                     ║  »\n",
       "«   b_1: ═════════════════════════════════════════════════════════════╬══»\n",
       "«                                                                     ║  »\n",
       "«   b_2: ═════════════════════════════════════════════════════════════╩══»\n",
       "«                                                                        »\n",
       "«                                  ┌───────────────┐┌─┐\n",
       "«node_0: ───────────────────────■──┤ U3(π/2,0,π/2) ├┤M├\n",
       "«        ┌───────────────────┐┌─┴─┐└──────┬─┬──────┘└╥┘\n",
       "«node_1: ┤ U3(0,-π/2,13.352) ├┤ X ├───────┤M├────────╫─\n",
       "«        └───────────────────┘└───┘       └╥┘        ║ \n",
       "«node_2: ──────────────────────────────────╫─────────╫─\n",
       "«                                          ║         ║ \n",
       "«node_3: ──────────────────────────────────╫─────────╫─\n",
       "«                                          ║         ║ \n",
       "«node_4: ──────────────────────────────────╫─────────╫─\n",
       "«                                          ║         ║ \n",
       "«node_5: ──────────────────────────────────╫─────────╫─\n",
       "«                                          ║         ║ \n",
       "«node_6: ──────────────────────────────────╫─────────╫─\n",
       "«                                          ║         ║ \n",
       "«node_7: ──────────────────────────────────╫─────────╫─\n",
       "«                                          ║         ║ \n",
       "«   b_0: ══════════════════════════════════╬═════════╩═\n",
       "«                                          ║           \n",
       "«   b_1: ══════════════════════════════════╩═══════════\n",
       "«                                                      \n",
       "«   b_2: ══════════════════════════════════════════════\n",
       "«                                                      </pre>"
      ],
      "text/plain": [
       "                ┌───┐                   ┌───┐┌───────────────────┐┌───┐     »\n",
       "node_0: ────────┤ H ├────────────────■──┤ H ├┤ U3(0,-π/2,13.352) ├┤ H ├──■──»\n",
       "        ┌───────┴───┴───────┐ ┌───┐┌─┴─┐└───┘└───────────────────┘└───┘┌─┴─┐»\n",
       "node_1: ┤ U3(7π/2,11π/4,4π) ├─┤ H ├┤ X ├───────────────────────────────┤ X ├»\n",
       "        └───────────────────┘ └───┘└───┘                               └───┘»\n",
       "node_2: ────────────────────────────────────────────────────────────────────»\n",
       "                                                                            »\n",
       "node_3: ────────────────────────────────────────────────────────────────────»\n",
       "                                                                            »\n",
       "node_4: ────────────────────────────────────────────────────────────────────»\n",
       "                                                                            »\n",
       "node_5: ────────────────────────────────────────────────────────────────────»\n",
       "                                                                            »\n",
       "node_6: ────────────────────────────────────────────────────────────────────»\n",
       "        ┌────────────────────┐┌───┐                                         »\n",
       "node_7: ┤ U3(7π/2,7.4613,4π) ├┤ H ├─────────────────────────────────────────»\n",
       "        └────────────────────┘└───┘                                         »\n",
       "   b_0: ════════════════════════════════════════════════════════════════════»\n",
       "                                                                            »\n",
       "   b_1: ════════════════════════════════════════════════════════════════════»\n",
       "                                                                            »\n",
       "   b_2: ════════════════════════════════════════════════════════════════════»\n",
       "                                                                            »\n",
       "«        ┌───┐┌─────────────────┐┌───┐     ┌───┐┌───────────────────┐┌───┐     »\n",
       "«node_0: ┤ H ├┤ U3(0,-π/2,3π/4) ├┤ H ├──■──┤ H ├┤ U3(0,-π/2,13.744) ├┤ H ├──■──»\n",
       "«        ├───┤└┬───────────────┬┘└───┘  │  └───┘└───────────────────┘└───┘  │  »\n",
       "«node_1: ┤ H ├─┤ U3(π/2,0,π/2) ├────────┼───────────────────────────────────┼──»\n",
       "«        └───┘ └───────────────┘        │                                   │  »\n",
       "«node_2: ───────────────────────────────┼───────────────────────────────────┼──»\n",
       "«                                       │                                   │  »\n",
       "«node_3: ───────────────────────────────┼───────────────────────────────────┼──»\n",
       "«                                       │                                   │  »\n",
       "«node_4: ───────────────────────────────┼───────────────────────────────────┼──»\n",
       "«                                       │                                   │  »\n",
       "«node_5: ───────────────────────────────┼───────────────────────────────────┼──»\n",
       "«                                       │                                   │  »\n",
       "«node_6: ───────────────────────────────┼───────────────────────────────────┼──»\n",
       "«                                     ┌─┴─┐                               ┌─┴─┐»\n",
       "«node_7: ─────────────────────────────┤ X ├───────────────────────────────┤ X ├»\n",
       "«                                     └───┘                               └───┘»\n",
       "«   b_0: ══════════════════════════════════════════════════════════════════════»\n",
       "«                                                                              »\n",
       "«   b_1: ══════════════════════════════════════════════════════════════════════»\n",
       "«                                                                              »\n",
       "«   b_2: ══════════════════════════════════════════════════════════════════════»\n",
       "«                                                                              »\n",
       "«        ┌───┐┌─────────────────┐┌───┐     ┌───┐     ┌───┐     ┌───┐     »\n",
       "«node_0: ┤ H ├┤ U3(0,-π/2,5π/8) ├┤ H ├──■──┤ H ├──■──┤ H ├──■──┤ H ├──■──»\n",
       "«        └───┘└─────────────────┘└───┘  │  └───┘  │  └───┘  │  └───┘┌─┴─┐»\n",
       "«node_1: ───────────────────────────────┼─────────┼─────────┼───────┤ X ├»\n",
       "«                                       │         │         │       └───┘»\n",
       "«node_2: ───────────────────────────────┼─────────┼─────────┼────────────»\n",
       "«                                       │         │         │            »\n",
       "«node_3: ───────────────────────────────┼─────────┼─────────┼────────────»\n",
       "«                                       │         │         │            »\n",
       "«node_4: ───────────────────────────────┼─────────┼─────────┼────────────»\n",
       "«                                       │         │         │            »\n",
       "«node_5: ───────────────────────────────┼─────────┼─────────┼────────────»\n",
       "«                                       │         │         │            »\n",
       "«node_6: ───────────────────────────────┼─────────┼─────────┼────────────»\n",
       "«                                     ┌─┴─┐┌───┐┌─┴─┐┌───┐┌─┴─┐┌───┐ ┌─┐ »\n",
       "«node_7: ─────────────────────────────┤ X ├┤ H ├┤ X ├┤ H ├┤ X ├┤ H ├─┤M├─»\n",
       "«                                     └───┘└───┘└───┘└───┘└───┘└───┘ └╥┘ »\n",
       "«   b_0: ═════════════════════════════════════════════════════════════╬══»\n",
       "«                                                                     ║  »\n",
       "«   b_1: ═════════════════════════════════════════════════════════════╬══»\n",
       "«                                                                     ║  »\n",
       "«   b_2: ═════════════════════════════════════════════════════════════╩══»\n",
       "«                                                                        »\n",
       "«                                  ┌───────────────┐┌─┐\n",
       "«node_0: ───────────────────────■──┤ U3(π/2,0,π/2) ├┤M├\n",
       "«        ┌───────────────────┐┌─┴─┐└──────┬─┬──────┘└╥┘\n",
       "«node_1: ┤ U3(0,-π/2,13.352) ├┤ X ├───────┤M├────────╫─\n",
       "«        └───────────────────┘└───┘       └╥┘        ║ \n",
       "«node_2: ──────────────────────────────────╫─────────╫─\n",
       "«                                          ║         ║ \n",
       "«node_3: ──────────────────────────────────╫─────────╫─\n",
       "«                                          ║         ║ \n",
       "«node_4: ──────────────────────────────────╫─────────╫─\n",
       "«                                          ║         ║ \n",
       "«node_5: ──────────────────────────────────╫─────────╫─\n",
       "«                                          ║         ║ \n",
       "«node_6: ──────────────────────────────────╫─────────╫─\n",
       "«                                          ║         ║ \n",
       "«node_7: ──────────────────────────────────╫─────────╫─\n",
       "«                                          ║         ║ \n",
       "«   b_0: ══════════════════════════════════╬═════════╩═\n",
       "«                                          ║           \n",
       "«   b_1: ══════════════════════════════════╩═══════════\n",
       "«                                                      \n",
       "«   b_2: ══════════════════════════════════════════════\n",
       "«                                                      "
      ]
     },
     "execution_count": 33,
     "metadata": {},
     "output_type": "execute_result"
    }
   ],
   "source": [
    "from qiskit import  QuantumCircuit\n",
    "QuantumCircuit().from_qasm_str(scanner_lucy.get_compiled_circuit()).draw()"
   ]
  }
 ],
 "metadata": {
  "kernelspec": {
   "display_name": "Qbench_kernel",
   "language": "python",
   "name": "qbench_kernel"
  },
  "language_info": {
   "codemirror_mode": {
    "name": "ipython",
    "version": 3
   },
   "file_extension": ".py",
   "mimetype": "text/x-python",
   "name": "python",
   "nbconvert_exporter": "python",
   "pygments_lexer": "ipython3",
   "version": "3.7.12"
  },
  "vscode": {
   "interpreter": {
    "hash": "06a09a513f3adf51d034e4cd7b61d73f339a24b03a0e983ba85455000b9be146"
   }
  }
 },
 "nbformat": 4,
 "nbformat_minor": 2
}
