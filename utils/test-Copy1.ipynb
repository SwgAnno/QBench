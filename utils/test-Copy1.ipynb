{
 "cells": [
  {
   "cell_type": "code",
   "execution_count": 4,
   "metadata": {
    "scrolled": true
   },
   "outputs": [
    {
     "name": "stdout",
     "output_type": "stream",
     "text": [
      "OPENQASM 2.0;\n",
      "include \"qelib1.inc\";\n",
      "qreg q[10];\n",
      "creg b[10];\n",
      "ry(pi/2) q[0];\n",
      "rx(pi) q[0];\n",
      "ry(pi/2) q[1];\n",
      "rx(pi) q[1];\n",
      "ry(pi/2) q[2];\n",
      "rx(pi) q[2];\n",
      "ry(pi/2) q[3];\n",
      "rx(pi) q[3];\n",
      "ry(pi/2) q[4];\n",
      "rx(pi) q[4];\n",
      "ry(pi/2) q[5];\n",
      "rx(pi) q[5];\n",
      "ry(pi/2) q[6];\n",
      "rx(pi) q[6];\n",
      "ry(pi/2) q[7];\n",
      "rx(pi) q[7];\n",
      "ry(pi/2) q[8];\n",
      "rx(pi) q[8];\n",
      "ry(pi/2) q[9];\n",
      "rx(pi) q[9];\n",
      "measure q[0] -> b[0];\n",
      "measure q[1] -> b[1];\n",
      "measure q[2] -> b[2];\n",
      "measure q[3] -> b[3];\n",
      "measure q[4] -> b[4];\n",
      "measure q[5] -> b[5];\n",
      "measure q[6] -> b[6];\n",
      "measure q[7] -> b[7];\n",
      "measure q[8] -> b[8];\n",
      "measure q[9] -> b[9];\n",
      "10\n",
      "('y', 1.5707963267948966, [0])\n",
      "('x', 3.141592653589793, [0])\n",
      "('y', 1.5707963267948966, [1])\n",
      "('x', 3.141592653589793, [1])\n",
      "('y', 1.5707963267948966, [2])\n",
      "('x', 3.141592653589793, [2])\n",
      "('y', 1.5707963267948966, [3])\n",
      "('x', 3.141592653589793, [3])\n",
      "('y', 1.5707963267948966, [4])\n",
      "('x', 3.141592653589793, [4])\n",
      "('y', 1.5707963267948966, [5])\n",
      "('x', 3.141592653589793, [5])\n",
      "('y', 1.5707963267948966, [6])\n",
      "('x', 3.141592653589793, [6])\n",
      "('y', 1.5707963267948966, [7])\n",
      "('x', 3.141592653589793, [7])\n",
      "('y', 1.5707963267948966, [8])\n",
      "('x', 3.141592653589793, [8])\n",
      "('y', 1.5707963267948966, [9])\n",
      "('x', 3.141592653589793, [9])\n"
     ]
    }
   ],
   "source": [
    "import IonQCompiler as compiler\n",
    "\n",
    "from braket.circuits import Circuit, Gate, Instruction, circuit, Observable\n",
    "import numpy as np\n",
    "circ = Circuit()\n",
    "circ = Circuit().h(range(10))\n",
    "\n",
    "c = compiler.IonQCompiler()\n",
    "braket_circ = c.compile(circ)\n",
    "\n",
    "#print(braket_circ.add_circuit(braket_circ))\n",
    "\n"
   ]
  },
  {
   "cell_type": "code",
   "execution_count": 2,
   "metadata": {
    "scrolled": true
   },
   "outputs": [
    {
     "data": {
      "text/plain": [
       "array([[ 0.70710678+0.j        , -0.70710656-0.00056309j],\n",
       "       [ 0.70710656-0.00056309j,  0.70710678+0.j        ]])"
      ]
     },
     "execution_count": 2,
     "metadata": {},
     "output_type": "execute_result"
    }
   ],
   "source": [
    "Circuit().gpi2(0,1.57).rx(0,0).as_unitary()"
   ]
  },
  {
   "cell_type": "code",
   "execution_count": 5,
   "metadata": {
    "scrolled": true
   },
   "outputs": [
    {
     "data": {
      "text/plain": [
       "array([[ 0.031-0.j,  0.031-0.j,  0.031-0.j, ...,  0.031-0.j,  0.031-0.j,\n",
       "         0.031+0.j],\n",
       "       [ 0.031-0.j, -0.031+0.j,  0.031-0.j, ..., -0.031+0.j,  0.031+0.j,\n",
       "        -0.031-0.j],\n",
       "       [ 0.031-0.j,  0.031-0.j, -0.031+0.j, ...,  0.031+0.j, -0.031+0.j,\n",
       "        -0.031-0.j],\n",
       "       ...,\n",
       "       [ 0.031-0.j, -0.031+0.j,  0.031+0.j, ..., -0.031-0.j,  0.031+0.j,\n",
       "        -0.031-0.j],\n",
       "       [ 0.031-0.j,  0.031+0.j, -0.031+0.j, ...,  0.031+0.j, -0.031-0.j,\n",
       "        -0.031-0.j],\n",
       "       [ 0.031+0.j, -0.031-0.j, -0.031-0.j, ..., -0.031-0.j, -0.031-0.j,\n",
       "         0.031+0.j]])"
      ]
     },
     "execution_count": 5,
     "metadata": {},
     "output_type": "execute_result"
    }
   ],
   "source": [
    "np.round(braket_circ.as_unitary(),3)"
   ]
  },
  {
   "cell_type": "code",
   "execution_count": 8,
   "metadata": {},
   "outputs": [
    {
     "data": {
      "text/plain": [
       "array([[ 0.03125+0.j,  0.03125+0.j,  0.03125+0.j, ...,  0.03125+0.j,\n",
       "         0.03125+0.j,  0.03125+0.j],\n",
       "       [ 0.03125+0.j, -0.03125+0.j,  0.03125+0.j, ..., -0.03125+0.j,\n",
       "         0.03125+0.j, -0.03125+0.j],\n",
       "       [ 0.03125+0.j,  0.03125+0.j, -0.03125+0.j, ...,  0.03125+0.j,\n",
       "        -0.03125+0.j, -0.03125+0.j],\n",
       "       ...,\n",
       "       [ 0.03125+0.j, -0.03125+0.j,  0.03125+0.j, ..., -0.03125+0.j,\n",
       "         0.03125+0.j, -0.03125+0.j],\n",
       "       [ 0.03125+0.j,  0.03125+0.j, -0.03125+0.j, ...,  0.03125+0.j,\n",
       "        -0.03125+0.j, -0.03125+0.j],\n",
       "       [ 0.03125+0.j, -0.03125+0.j, -0.03125+0.j, ..., -0.03125+0.j,\n",
       "        -0.03125+0.j,  0.03125+0.j]])"
      ]
     },
     "execution_count": 8,
     "metadata": {},
     "output_type": "execute_result"
    }
   ],
   "source": [
    "np.round(Circuit().h(range(10)).as_unitary(),10)"
   ]
  },
  {
   "cell_type": "code",
   "execution_count": 16,
   "metadata": {},
   "outputs": [
    {
     "data": {
      "text/plain": [
       "array([[0.5+0.j, 0.5+0.j],\n",
       "       [0.5+0.j, 0.5+0.j]])"
      ]
     },
     "execution_count": 16,
     "metadata": {},
     "output_type": "execute_result"
    }
   ],
   "source": [
    "a*np.conj(np.transpose(a))"
   ]
  },
  {
   "cell_type": "code",
   "execution_count": 18,
   "metadata": {},
   "outputs": [
    {
     "data": {
      "text/plain": [
       "array([[ 0.5+0.j, -0.5-0.j],\n",
       "       [-0.5-0.j,  0.5+0.j]])"
      ]
     },
     "execution_count": 18,
     "metadata": {},
     "output_type": "execute_result"
    }
   ],
   "source": [
    "a*a"
   ]
  },
  {
   "cell_type": "code",
   "execution_count": 96,
   "metadata": {},
   "outputs": [
    {
     "ename": "TypeError",
     "evalue": "x() missing 1 required positional argument: 'target'",
     "output_type": "error",
     "traceback": [
      "\u001b[1;31m---------------------------------------------------------------------------\u001b[0m",
      "\u001b[1;31mTypeError\u001b[0m                                 Traceback (most recent call last)",
      "\u001b[1;32m<ipython-input-96-56474ba61991>\u001b[0m in \u001b[0;36m<module>\u001b[1;34m\u001b[0m\n\u001b[0;32m      5\u001b[0m \u001b[1;33m\u001b[0m\u001b[0m\n\u001b[0;32m      6\u001b[0m \u001b[1;33m\u001b[0m\u001b[0m\n\u001b[1;32m----> 7\u001b[1;33m \u001b[0mtest\u001b[0m \u001b[1;33m=\u001b[0m \u001b[0mCircuit\u001b[0m\u001b[1;33m(\u001b[0m\u001b[1;33m)\u001b[0m\u001b[1;33m.\u001b[0m\u001b[0mx\u001b[0m\u001b[1;33m(\u001b[0m\u001b[1;33m)\u001b[0m\u001b[1;33m.\u001b[0m\u001b[0madd\u001b[0m\u001b[1;33m(\u001b[0m\u001b[0mbraket_circ\u001b[0m\u001b[1;33m)\u001b[0m\u001b[1;33m\u001b[0m\u001b[1;33m\u001b[0m\u001b[0m\n\u001b[0m\u001b[0;32m      8\u001b[0m \u001b[1;33m\u001b[0m\u001b[0m\n\u001b[0;32m      9\u001b[0m \u001b[0mprint\u001b[0m\u001b[1;33m(\u001b[0m\u001b[0mtest\u001b[0m\u001b[1;33m)\u001b[0m\u001b[1;33m\u001b[0m\u001b[1;33m\u001b[0m\u001b[0m\n",
      "\u001b[1;32mc:\\Users\\utente\\miniconda3\\envs\\QBench\\lib\\site-packages\\braket\\circuits\\circuit.py\u001b[0m in \u001b[0;36mmethod_from_subroutine\u001b[1;34m(self, *args, **kwargs)\u001b[0m\n\u001b[0;32m    100\u001b[0m \u001b[1;33m\u001b[0m\u001b[0m\n\u001b[0;32m    101\u001b[0m         \u001b[1;32mdef\u001b[0m \u001b[0mmethod_from_subroutine\u001b[0m\u001b[1;33m(\u001b[0m\u001b[0mself\u001b[0m\u001b[1;33m,\u001b[0m \u001b[1;33m*\u001b[0m\u001b[0margs\u001b[0m\u001b[1;33m,\u001b[0m \u001b[1;33m**\u001b[0m\u001b[0mkwargs\u001b[0m\u001b[1;33m)\u001b[0m \u001b[1;33m->\u001b[0m \u001b[0mSubroutineReturn\u001b[0m\u001b[1;33m:\u001b[0m\u001b[1;33m\u001b[0m\u001b[1;33m\u001b[0m\u001b[0m\n\u001b[1;32m--> 102\u001b[1;33m             \u001b[1;32mreturn\u001b[0m \u001b[0mself\u001b[0m\u001b[1;33m.\u001b[0m\u001b[0madd\u001b[0m\u001b[1;33m(\u001b[0m\u001b[0mfunc\u001b[0m\u001b[1;33m,\u001b[0m \u001b[1;33m*\u001b[0m\u001b[0margs\u001b[0m\u001b[1;33m,\u001b[0m \u001b[1;33m**\u001b[0m\u001b[0mkwargs\u001b[0m\u001b[1;33m)\u001b[0m\u001b[1;33m\u001b[0m\u001b[1;33m\u001b[0m\u001b[0m\n\u001b[0m\u001b[0;32m    103\u001b[0m \u001b[1;33m\u001b[0m\u001b[0m\n\u001b[0;32m    104\u001b[0m         \u001b[0mfunction_name\u001b[0m \u001b[1;33m=\u001b[0m \u001b[0mfunc\u001b[0m\u001b[1;33m.\u001b[0m\u001b[0m__name__\u001b[0m\u001b[1;33m\u001b[0m\u001b[1;33m\u001b[0m\u001b[0m\n",
      "\u001b[1;32mc:\\Users\\utente\\miniconda3\\envs\\QBench\\lib\\site-packages\\braket\\circuits\\circuit.py\u001b[0m in \u001b[0;36madd\u001b[1;34m(self, addable, *args, **kwargs)\u001b[0m\n\u001b[0;32m   1036\u001b[0m                 \u001b[0mself\u001b[0m\u001b[1;33m.\u001b[0m\u001b[0madd_circuit\u001b[0m\u001b[1;33m(\u001b[0m\u001b[0mitem\u001b[0m\u001b[1;33m,\u001b[0m \u001b[1;33m*\u001b[0m\u001b[0margs\u001b[0m\u001b[1;33m,\u001b[0m \u001b[1;33m**\u001b[0m\u001b[0mkwargs\u001b[0m\u001b[1;33m)\u001b[0m\u001b[1;33m\u001b[0m\u001b[1;33m\u001b[0m\u001b[0m\n\u001b[0;32m   1037\u001b[0m             \u001b[1;32melif\u001b[0m \u001b[0mcallable\u001b[0m\u001b[1;33m(\u001b[0m\u001b[0mitem\u001b[0m\u001b[1;33m)\u001b[0m\u001b[1;33m:\u001b[0m\u001b[1;33m\u001b[0m\u001b[1;33m\u001b[0m\u001b[0m\n\u001b[1;32m-> 1038\u001b[1;33m                 \u001b[0mself\u001b[0m\u001b[1;33m.\u001b[0m\u001b[0madd\u001b[0m\u001b[1;33m(\u001b[0m\u001b[0mitem\u001b[0m\u001b[1;33m(\u001b[0m\u001b[1;33m*\u001b[0m\u001b[0margs\u001b[0m\u001b[1;33m,\u001b[0m \u001b[1;33m**\u001b[0m\u001b[0mkwargs\u001b[0m\u001b[1;33m)\u001b[0m\u001b[1;33m)\u001b[0m\u001b[1;33m\u001b[0m\u001b[1;33m\u001b[0m\u001b[0m\n\u001b[0m\u001b[0;32m   1039\u001b[0m             \u001b[1;32melse\u001b[0m\u001b[1;33m:\u001b[0m\u001b[1;33m\u001b[0m\u001b[1;33m\u001b[0m\u001b[0m\n\u001b[0;32m   1040\u001b[0m                 \u001b[1;32mraise\u001b[0m \u001b[0mTypeError\u001b[0m\u001b[1;33m(\u001b[0m\u001b[1;34mf\"Cannot add a '{type(item)}' to a Circuit\"\u001b[0m\u001b[1;33m)\u001b[0m\u001b[1;33m\u001b[0m\u001b[1;33m\u001b[0m\u001b[0m\n",
      "\u001b[1;31mTypeError\u001b[0m: x() missing 1 required positional argument: 'target'"
     ]
    }
   ],
   "source": [
    "\n",
    "from braket.devices import LocalSimulator\n",
    "from braket.aws import AwsDevice\n",
    "from braket.device_schema.device_action_properties import DeviceActionType\n",
    "import numpy as np\n",
    "\n",
    "\n",
    "test = Circuit().x(0).add(braket_circ)\n",
    "\n",
    "print(test)\n",
    "\n",
    "device = LocalSimulator()\n",
    "\n",
    "res = device.run(test, shots = 1000).result()\n",
    "\n",
    "print(res.measurement_counts)"
   ]
  },
  {
   "cell_type": "code",
   "execution_count": null,
   "metadata": {},
   "outputs": [],
   "source": []
  }
 ],
 "metadata": {
  "kernelspec": {
   "display_name": "Qbench_kernel",
   "language": "python",
   "name": "qbench_kernel"
  },
  "language_info": {
   "codemirror_mode": {
    "name": "ipython",
    "version": 3
   },
   "file_extension": ".py",
   "mimetype": "text/x-python",
   "name": "python",
   "nbconvert_exporter": "python",
   "pygments_lexer": "ipython3",
   "version": "3.7.12"
  },
  "vscode": {
   "interpreter": {
    "hash": "06a09a513f3adf51d034e4cd7b61d73f339a24b03a0e983ba85455000b9be146"
   }
  }
 },
 "nbformat": 4,
 "nbformat_minor": 2
}
