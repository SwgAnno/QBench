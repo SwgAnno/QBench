{
 "cells": [
  {
   "cell_type": "markdown",
   "id": "400bfc50",
   "metadata": {},
   "source": [
    "# QUANTUM PHASE ESTIMATION"
   ]
  },
  {
   "cell_type": "markdown",
   "id": "d352f16d",
   "metadata": {},
   "source": [
    "## IMPORTS and SETUP"
   ]
  },
  {
   "cell_type": "code",
   "execution_count": 3,
   "id": "b9024801",
   "metadata": {},
   "outputs": [
    {
     "ename": "ModuleNotFoundError",
     "evalue": "No module named 'utils_qft'",
     "output_type": "error",
     "traceback": [
      "\u001b[0;31m---------------------------------------------------------------------------\u001b[0m",
      "\u001b[0;31mModuleNotFoundError\u001b[0m                       Traceback (most recent call last)",
      "\u001b[0;32m<ipython-input-3-f7216c06106f>\u001b[0m in \u001b[0;36m<module>\u001b[0;34m\u001b[0m\n\u001b[1;32m     12\u001b[0m \u001b[0;34m\u001b[0m\u001b[0m\n\u001b[1;32m     13\u001b[0m \u001b[0;31m# local imports\u001b[0m\u001b[0;34m\u001b[0m\u001b[0;34m\u001b[0m\u001b[0;34m\u001b[0m\u001b[0m\n\u001b[0;32m---> 14\u001b[0;31m \u001b[0;32mfrom\u001b[0m \u001b[0mutils_qpe\u001b[0m \u001b[0;32mimport\u001b[0m \u001b[0mqpe\u001b[0m\u001b[0;34m,\u001b[0m \u001b[0mrun_qpe\u001b[0m\u001b[0;34m\u001b[0m\u001b[0;34m\u001b[0m\u001b[0m\n\u001b[0m\u001b[1;32m     15\u001b[0m \u001b[0;34m\u001b[0m\u001b[0m\n\u001b[1;32m     16\u001b[0m \u001b[0;31m#%load_ext autoreload\u001b[0m\u001b[0;34m\u001b[0m\u001b[0;34m\u001b[0m\u001b[0;34m\u001b[0m\u001b[0m\n",
      "\u001b[0;32m/mnt/Disk_01/emilio/UNIVERSITA/01_IN_CORSO/Progetto_Prati/Python/QBench/utils_qpe.py\u001b[0m in \u001b[0;36m<module>\u001b[0;34m\u001b[0m\n\u001b[1;32m     11\u001b[0m \u001b[0;34m\u001b[0m\u001b[0m\n\u001b[1;32m     12\u001b[0m \u001b[0;31m# local imports\u001b[0m\u001b[0;34m\u001b[0m\u001b[0;34m\u001b[0m\u001b[0;34m\u001b[0m\u001b[0m\n\u001b[0;32m---> 13\u001b[0;31m \u001b[0;32mfrom\u001b[0m \u001b[0mutils_qft\u001b[0m \u001b[0;32mimport\u001b[0m \u001b[0minverse_qft\u001b[0m\u001b[0;34m\u001b[0m\u001b[0;34m\u001b[0m\u001b[0m\n\u001b[0m\u001b[1;32m     14\u001b[0m \u001b[0;34m\u001b[0m\u001b[0m\n\u001b[1;32m     15\u001b[0m \u001b[0;34m\u001b[0m\u001b[0m\n",
      "\u001b[0;31mModuleNotFoundError\u001b[0m: No module named 'utils_qft'"
     ]
    }
   ],
   "source": [
    "# general imports\n",
    "import numpy as np\n",
    "import math\n",
    "import matplotlib.pyplot as plt\n",
    "# magic word for producing visualizations in notebook\n",
    "%matplotlib inline\n",
    "\n",
    "# AWS imports: Import Amazon Braket SDK modules\n",
    "from braket.circuits import Circuit, circuit\n",
    "from braket.devices import LocalSimulator\n",
    "from braket.aws import AwsDevice\n",
    "\n",
    "# local imports\n",
    "from utils_qpe import qpe, run_qpe\n",
    "\n",
    "#%load_ext autoreload\n",
    "#%autoreload 2"
   ]
  },
  {
   "cell_type": "code",
   "execution_count": 14,
   "id": "6aef9358",
   "metadata": {},
   "outputs": [],
   "source": [
    "# set up device: local simulator or the on-demand simulator\n",
    "device = LocalSimulator()\n",
    "#device = AwsDevice(\"arn:aws:braket:::device/quantum-simulator/amazon/sv1\")"
   ]
  },
  {
   "cell_type": "markdown",
   "id": "6a27d0c0",
   "metadata": {},
   "source": [
    "### Pauli Matrices:\n",
    "In some of our examples, we choose the unitary $U$ to be given by the **Pauli Matrices**, which we thus define as follows:"
   ]
  },
  {
   "cell_type": "code",
   "execution_count": 9,
   "id": "4c2bee41",
   "metadata": {},
   "outputs": [],
   "source": [
    "# Define Pauli matrices\n",
    "Id = np.eye(2)             # Identity matrix\n",
    "X = np.array([[0., 1.],\n",
    "              [1., 0.]])   # Pauli X\n",
    "Y = np.array([[0., -1.j],\n",
    "              [1.j, 0.]])  # Pauli Y\n",
    "Z = np.array([[1., 0.],\n",
    "              [0., -1.]])  # Pauli Z"
   ]
  },
  {
   "cell_type": "code",
   "execution_count": 10,
   "id": "54c59147",
   "metadata": {},
   "outputs": [
    {
     "ename": "AttributeError",
     "evalue": "'Circuit' object has no attribute 'qpe'",
     "output_type": "error",
     "traceback": [
      "\u001b[0;31m---------------------------------------------------------------------------\u001b[0m",
      "\u001b[0;31mAttributeError\u001b[0m                            Traceback (most recent call last)",
      "\u001b[0;32m<ipython-input-10-bcd51ddd0fd5>\u001b[0m in \u001b[0;36m<module>\u001b[0;34m\u001b[0m\n\u001b[1;32m     10\u001b[0m \u001b[0;34m\u001b[0m\u001b[0m\n\u001b[1;32m     11\u001b[0m \u001b[0;31m# show small QPE example circuit\u001b[0m\u001b[0;34m\u001b[0m\u001b[0;34m\u001b[0m\u001b[0;34m\u001b[0m\u001b[0m\n\u001b[0;32m---> 12\u001b[0;31m \u001b[0mmy_qpe_circ\u001b[0m \u001b[0;34m=\u001b[0m \u001b[0mmy_qpe_circ\u001b[0m\u001b[0;34m.\u001b[0m\u001b[0mqpe\u001b[0m\u001b[0;34m(\u001b[0m\u001b[0mprecision_qubits\u001b[0m\u001b[0;34m,\u001b[0m \u001b[0mquery_qubits\u001b[0m\u001b[0;34m,\u001b[0m \u001b[0munitary\u001b[0m\u001b[0;34m)\u001b[0m\u001b[0;34m\u001b[0m\u001b[0;34m\u001b[0m\u001b[0m\n\u001b[0m\u001b[1;32m     13\u001b[0m \u001b[0mprint\u001b[0m\u001b[0;34m(\u001b[0m\u001b[0;34m'QPE CIRCUIT:'\u001b[0m\u001b[0;34m)\u001b[0m\u001b[0;34m\u001b[0m\u001b[0;34m\u001b[0m\u001b[0m\n\u001b[1;32m     14\u001b[0m \u001b[0mprint\u001b[0m\u001b[0;34m(\u001b[0m\u001b[0mmy_qpe_circ\u001b[0m\u001b[0;34m)\u001b[0m\u001b[0;34m\u001b[0m\u001b[0;34m\u001b[0m\u001b[0m\n",
      "\u001b[0;31mAttributeError\u001b[0m: 'Circuit' object has no attribute 'qpe'"
     ]
    }
   ],
   "source": [
    "# set total number of qubits\n",
    "precision_qubits = range(10)\n",
    "query_qubits = [11]\n",
    "\n",
    "# prepare query register\n",
    "my_qpe_circ = Circuit().h(query_qubits)\n",
    "\n",
    "# set unitary\n",
    "unitary = X\n",
    "\n",
    "# show small QPE example circuit\n",
    "my_qpe_circ = my_qpe_circ.qpe(precision_qubits, query_qubits, unitary)\n",
    "print('QPE CIRCUIT:')\n",
    "print(my_qpe_circ)"
   ]
  },
  {
   "cell_type": "code",
   "execution_count": null,
   "id": "406562a8",
   "metadata": {},
   "outputs": [],
   "source": []
  }
 ],
 "metadata": {
  "kernelspec": {
   "display_name": "Qbench_kernel",
   "language": "python",
   "name": "qbench_kernel"
  },
  "language_info": {
   "codemirror_mode": {
    "name": "ipython",
    "version": 3
   },
   "file_extension": ".py",
   "mimetype": "text/x-python",
   "name": "python",
   "nbconvert_exporter": "python",
   "pygments_lexer": "ipython3",
   "version": "3.7.12"
  }
 },
 "nbformat": 4,
 "nbformat_minor": 5
}
