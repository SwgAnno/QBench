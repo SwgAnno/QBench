{
 "cells": [
  {
   "cell_type": "code",
   "execution_count": 88,
   "metadata": {},
   "outputs": [
    {
     "name": "stdout",
     "output_type": "stream",
     "text": [
      "OPENQASM 2.0;\n",
      "include \"qelib1.inc\";\n",
      "qreg q[2];\n",
      "creg b[2];\n",
      "ry(pi/2) q[0];\n",
      "rx(pi) q[0];\n",
      "ry(pi/2) q[1];\n",
      "rx(pi) q[1];\n",
      "measure q[0] -> b[0];\n",
      "measure q[1] -> b[1];\n",
      "2\n",
      "('y', 1.5707963267948966, [0])\n",
      "('x', 3.141592653589793, [0])\n",
      "('y', 1.5707963267948966, [1])\n",
      "('x', 3.141592653589793, [1])\n",
      "T  : |    0     |   1   |\n",
      "                         \n",
      "q0 : -GPi2(0.25)-GPi2(0)-\n",
      "                         \n",
      "q1 : -GPi2(0.25)-GPi2(0)-\n",
      "\n",
      "T  : |    0     |   1   |\n"
     ]
    }
   ],
   "source": [
    "%aimport utils_qft\n",
    "%aimport compiler\n",
    "\n",
    "from braket.circuits import Circuit, Gate, Instruction, circuit, Observable\n",
    "\n",
    "circ = Circuit().h(range(2))\n",
    "\n",
    "c = compiler.IonQCompiler()\n",
    "braket_circ = c.compile(circ)\n",
    "\n",
    "print(braket_circ)\n",
    "\n"
   ]
  },
  {
   "cell_type": "code",
   "execution_count": 91,
   "metadata": {},
   "outputs": [
    {
     "name": "stdout",
     "output_type": "stream",
     "text": [
      "T  : |    0     |   1   |\n",
      "                         \n",
      "q0 : -GPi2(0.25)-GPi2(0)-\n",
      "                         \n",
      "q1 : -GPi2(0.25)-GPi2(0)-\n",
      "\n",
      "T  : |    0     |   1   |\n",
      "Counter({'11': 967, '10': 18, '01': 15})\n"
     ]
    }
   ],
   "source": [
    "\n",
    "from braket.devices import LocalSimulator\n",
    "from braket.aws import AwsDevice\n",
    "from braket.device_schema.device_action_properties import DeviceActionType\n",
    "import numpy as np\n",
    "\n",
    "\n",
    "test = Circuit().add(braket_circ)\n",
    "\n",
    "print(test)\n",
    "\n",
    "device = LocalSimulator()\n",
    "\n",
    "res = device.run(test, shots = 1000).result()\n",
    "\n",
    "print(res.measurement_counts)"
   ]
  },
  {
   "cell_type": "code",
   "execution_count": null,
   "metadata": {},
   "outputs": [],
   "source": []
  }
 ],
 "metadata": {
  "kernelspec": {
   "display_name": "Python 3.7.12 ('QBench')",
   "language": "python",
   "name": "python3"
  },
  "language_info": {
   "codemirror_mode": {
    "name": "ipython",
    "version": 3
   },
   "file_extension": ".py",
   "mimetype": "text/x-python",
   "name": "python",
   "nbconvert_exporter": "python",
   "pygments_lexer": "ipython3",
   "version": "3.7.12"
  },
  "orig_nbformat": 4,
  "vscode": {
   "interpreter": {
    "hash": "06a09a513f3adf51d034e4cd7b61d73f339a24b03a0e983ba85455000b9be146"
   }
  }
 },
 "nbformat": 4,
 "nbformat_minor": 2
}
