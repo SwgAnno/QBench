{
 "cells": [
  {
   "cell_type": "markdown",
   "id": "400bfc50",
   "metadata": {},
   "source": [
    "# QUANTUM PHASE ESTIMATION"
   ]
  },
  {
   "cell_type": "markdown",
   "id": "d352f16d",
   "metadata": {},
   "source": [
    "## IMPORTS and SETUP"
   ]
  },
  {
   "cell_type": "code",
   "execution_count": 1,
   "id": "b9024801",
   "metadata": {},
   "outputs": [],
   "source": [
    "# general imports\n",
    "import numpy as np\n",
    "import math\n",
    "import matplotlib.pyplot as plt\n",
    "# magic word for producing visualizations in notebook\n",
    "%matplotlib inline\n",
    "\n",
    "# AWS imports: Import Amazon Braket SDK modules\n",
    "from braket.circuits import Circuit, circuit\n",
    "from braket.devices import LocalSimulator\n",
    "from braket.aws import AwsDevice\n",
    "\n",
    "# local imports\n",
    "from utils_qpe import *\n",
    "\n",
    "%load_ext autoreload\n",
    "%autoreload 2"
   ]
  },
  {
   "cell_type": "code",
   "execution_count": 2,
   "id": "6aef9358",
   "metadata": {},
   "outputs": [],
   "source": [
    "# set up device: local simulator or the on-demand simulator\n",
    "device = LocalSimulator()\n",
    "#device = AwsDevice(\"arn:aws:braket:::device/quantum-simulator/amazon/sv1\")"
   ]
  },
  {
   "cell_type": "markdown",
   "id": "6a27d0c0",
   "metadata": {},
   "source": [
    "### Pauli Matrices:\n",
    "In some of our examples, we choose the unitary $U$ to be given by the **Pauli Matrices**, which we thus define as follows:"
   ]
  },
  {
   "cell_type": "code",
   "execution_count": 3,
   "id": "4c2bee41",
   "metadata": {},
   "outputs": [],
   "source": [
    "# Define Pauli matrices\n",
    "Id = np.eye(2)             # Identity matrix\n",
    "X = np.array([[0., 1.],\n",
    "              [1., 0.]])   # Pauli X\n",
    "Y = np.array([[0., -1.j],\n",
    "              [1.j, 0.]])  # Pauli Y\n",
    "Z = np.array([[1., 0.],\n",
    "              [0., -1.]])  # Pauli Z"
   ]
  },
  {
   "cell_type": "code",
   "execution_count": 4,
   "id": "54c59147",
   "metadata": {
    "scrolled": false
   },
   "outputs": [],
   "source": [
    "# set total number of qubits\n",
    "precision_qubits = range(3)\n",
    "query_qubits = [3]\n",
    "\n",
    "# prepare query register\n",
    "my_qpe_circ = Circuit().h(query_qubits)\n",
    "\n",
    "# set unitary\n",
    "unitary = X\n",
    "\n",
    "# show small QPE example circuit\n",
    "my_qpe_circ = my_qpe_circ.qpe(precision_qubits, query_qubits, unitary)\n",
    "#print('QPE CIRCUIT:')\n",
    "#print(my_qpe_circ)"
   ]
  },
  {
   "cell_type": "code",
   "execution_count": 5,
   "id": "406562a8",
   "metadata": {},
   "outputs": [],
   "source": [
    "out = run_qpe(\n",
    "    unitary,\n",
    "    precision_qubits,\n",
    "    query_qubits,\n",
    "    my_qpe_circ,\n",
    "    device,\n",
    "    items_to_keep=1,\n",
    "    shots=1000)"
   ]
  },
  {
   "cell_type": "code",
   "execution_count": 6,
   "id": "84e496b5",
   "metadata": {
    "scrolled": false
   },
   "outputs": [
    {
     "name": "stdout",
     "output_type": "stream",
     "text": [
      "Measurement counts: Counter({'0000': 523, '0001': 477})\n",
      "Results in precision register: {'000': 1000}\n",
      "QPE phase estimates: [0.0]\n",
      "QPE eigenvalue estimates: [1.+0.j]\n"
     ]
    }
   ],
   "source": [
    "postprocess_qpe_results(out)"
   ]
  },
  {
   "cell_type": "markdown",
   "id": "ac86f033",
   "metadata": {},
   "source": [
    "# TEST "
   ]
  },
  {
   "cell_type": "markdown",
   "id": "4c322a61",
   "metadata": {},
   "source": [
    "In this example, we choose the unitary to be a _random_ two-qubit unitary, diagonal in the computational basis. We initialize the query register to be in the eigenstate $|11\\rangle$ of $U$, which we can prepare using that $|11\\rangle = X\\otimes X|00\\rangle$.\n",
    "In this case we should be able to read off the eigenvalue and phase from $U$ and verify that QPE gives the right answer."
   ]
  },
  {
   "cell_type": "code",
   "execution_count": 7,
   "id": "1e56d750",
   "metadata": {},
   "outputs": [
    {
     "name": "stdout",
     "output_type": "stream",
     "text": [
      "Two-qubit random unitary:\n",
      " [[ 0.865-0.502j  0.   +0.j     0.   +0.j     0.   +0.j   ]\n",
      " [ 0.   +0.j    -0.345-0.939j  0.   +0.j     0.   +0.j   ]\n",
      " [ 0.   +0.j     0.   +0.j    -0.001+1.j     0.   +0.j   ]\n",
      " [ 0.   +0.j     0.   +0.j     0.   +0.j    -0.836+0.549j]]\n",
      "Check for unitarity:  True\n",
      "Eigenvalues: [ 0.865-0.502j -0.345-0.939j -0.001+1.j    -0.836+0.549j]\n"
     ]
    }
   ],
   "source": [
    "# Generate a random 2 qubit unitary matrix:\n",
    "from scipy.stats import unitary_group\n",
    "\n",
    "# Fix random seed for reproducibility\n",
    "np.random.seed(seed=46)\n",
    "\n",
    "# Get random two-qubit unitary\n",
    "random_unitary = unitary_group.rvs(2**2)\n",
    "\n",
    "# Let's diagonalize this\n",
    "evals = np.linalg.eig(random_unitary)[0]\n",
    "\n",
    "# Since we want to be able to read off the eigenvalues of the unitary in question\n",
    "# let's choose our unitary to be diagonal in this basis\n",
    "unitary = np.diag(evals)\n",
    "\n",
    "# Check that this is indeed unitary, and print it out:\n",
    "print('Two-qubit random unitary:\\n', np.round(unitary, 3))\n",
    "print('Check for unitarity: ', np.allclose(np.eye(len(unitary)), unitary.dot(unitary.T.conj())))\n",
    "\n",
    "# Print eigenvalues\n",
    "print('Eigenvalues:', np.round(evals, 3))"
   ]
  },
  {
   "cell_type": "markdown",
   "id": "4df1ca80",
   "metadata": {},
   "source": [
    "Autovalore che ci aspettiamo di ricevere, considerando una precisione data $0.001$ con un errore $\\epsilon = 5\\% $:"
   ]
  },
  {
   "cell_type": "code",
   "execution_count": 8,
   "id": "91d6c8b0",
   "metadata": {},
   "outputs": [],
   "source": [
    "numero_dcimali_stima = 3\n",
    "max_error = 0.05\n",
    "n_binary_estimation = -int(np.floor(np.log2(10**-numero_dcimali_stima)))\n"
   ]
  },
  {
   "cell_type": "code",
   "execution_count": 9,
   "id": "5b617188",
   "metadata": {
    "scrolled": true
   },
   "outputs": [
    {
     "name": "stdout",
     "output_type": "stream",
     "text": [
      "Target eigenvalue: (-0.836+0.549j)\n",
      "Target phase: 0.408\n"
     ]
    }
   ],
   "source": [
    "target_eigenvalue = evals[-1]\n",
    "print('Target eigenvalue:', np.round(target_eigenvalue, numero_dcimali_stima))\n",
    "target_phase = np.angle(target_eigenvalue,deg=False)/(2*np.pi)\n",
    "print('Target phase:', np.round(target_phase, numero_dcimali_stima))"
   ]
  },
  {
   "cell_type": "code",
   "execution_count": 11,
   "id": "b82eac4e",
   "metadata": {
    "scrolled": false
   },
   "outputs": [
    {
     "name": "stdout",
     "output_type": "stream",
     "text": [
      "Measurement counts: Counter({'0110100001011011': 741, '0110100001010111': 125, '0110100001011111': 43, '0110100001010011': 23, '0110100001100011': 16, '0110100001001111': 8, '0110100001100111': 6, '0110100001001011': 5, '0110100000110111': 3, '0110100001000111': 3, '0110100001101011': 3, '0110100001110011': 2, '0110100010000011': 2, '0110100001110111': 1, '0110100011001011': 1, '0110100000001011': 1, '0110100000011111': 1, '0110100010011111': 1, '0110011111111111': 1, '0110100010001011': 1, '0110100011000111': 1, '0110100000111111': 1, '0110100001000011': 1, '0110100101001011': 1, '0110100001111011': 1, '0110100001101111': 1, '1110110011101011': 1, '0110100000000111': 1, '0110100011010111': 1, '0110100010010111': 1, '0110011010110111': 1, '0110100010111011': 1, '0110011010100011': 1})\n",
      "Results in precision register: {'01101000001101': 3, '01101000011101': 1, '01101000000001': 1, '01101000010011': 8, '01101000010101': 125, '01101000000111': 1, '01101000011001': 6, '01101000011011': 1, '01101000110001': 1, '01101000010111': 43, '01101000100000': 2, '01101000011110': 1, '01101000001111': 1, '01101000011010': 3, '01100110101000': 1, '01101000010001': 3, '01101000101110': 1, '01101000110101': 1, '01101000100101': 1, '01101000010100': 23, '01101000100010': 1, '01100111111111': 1, '01101000000010': 1, '01101000010010': 5, '11101100111010': 1, '01101000011000': 16, '01101000100111': 1, '01101001010010': 1, '01100110101101': 1, '01101000011100': 2, '01101000110010': 1, '01101000010000': 1, '01101000010110': 741}\n",
      "QPE phase estimates: [0.4075927734375]\n",
      "QPE eigenvalue estimates: [-0.83613+0.54854j]\n",
      "QPE eigenvalue estimates: [-0.83613+0.54854j]\n",
      "Target eigenvalue: (-0.83606+0.54864j)\n"
     ]
    }
   ],
   "source": [
    "# Set total number of precision qubits\n",
    "number_precision_qubits = get_number_precision_qubits(n_binary_estimation,max_error)\n",
    "\n",
    "# Define the set of precision qubits\n",
    "precision_qubits = range(number_precision_qubits)\n",
    "\n",
    "# Define the query qubits. We'll have them start after the precision qubits\n",
    "query_qubits = [number_precision_qubits, number_precision_qubits+1]\n",
    "\n",
    "# State preparation for eigenstate |1,1> of diagonal U\n",
    "query = Circuit().x(query_qubits[0]).x(query_qubits[1])\n",
    "\n",
    "# Run the test with U=X\n",
    "out = run_qpe(unitary, precision_qubits, query_qubits, query, device)\n",
    "\n",
    "postprocess_qpe_results(out)\n",
    "# Postprocess results\n",
    "\n",
    "eigenvalues = out['eigenvalues']\n",
    "print('QPE eigenvalue estimates:', np.round(eigenvalues, 5))\n",
    "\n",
    "# compare output to exact target values\n",
    "print('Target eigenvalue:', np.round(evals[-1], 5))"
   ]
  },
  {
   "cell_type": "code",
   "execution_count": null,
   "id": "8c6894bb",
   "metadata": {},
   "outputs": [],
   "source": []
  },
  {
   "cell_type": "code",
   "execution_count": null,
   "id": "63ce106d",
   "metadata": {},
   "outputs": [],
   "source": []
  }
 ],
 "metadata": {
  "kernelspec": {
   "display_name": "Qbench_kernel",
   "language": "python",
   "name": "qbench_kernel"
  },
  "language_info": {
   "codemirror_mode": {
    "name": "ipython",
    "version": 3
   },
   "file_extension": ".py",
   "mimetype": "text/x-python",
   "name": "python",
   "nbconvert_exporter": "python",
   "pygments_lexer": "ipython3",
   "version": "3.7.12"
  }
 },
 "nbformat": 4,
 "nbformat_minor": 5
}
