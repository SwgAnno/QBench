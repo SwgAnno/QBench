{
 "cells": [
  {
   "cell_type": "code",
   "execution_count": 9,
   "metadata": {},
   "outputs": [
    {
     "name": "stdout",
     "output_type": "stream",
     "text": [
      "The autoreload extension is already loaded. To reload it, use:\n",
      "  %reload_ext autoreload\n"
     ]
    }
   ],
   "source": [
    "%load_ext autoreload\n",
    "\n",
    "from utils import BraketTaskScanner, DeviceScanner,DeviceUtils\n",
    "\n",
    "# AWS imports: Import Braket SDK modules\n",
    "from braket.circuits import Circuit, Gate, Instruction, circuit, Observable\n",
    "from braket.devices import LocalSimulator\n",
    "from braket.aws import AwsDevice\n",
    "from braket.device_schema.device_action_properties import DeviceActionType\n",
    "import numpy as np\n",
    "\n"
   ]
  },
  {
   "cell_type": "code",
   "execution_count": 7,
   "metadata": {},
   "outputs": [
    {
     "name": "stdout",
     "output_type": "stream",
     "text": [
      "['GPI', 'GPI2', 'MS']\n",
      "['x', 'y', 'z', 'rx', 'ry', 'rz', 'h', 'cnot', 's', 'si', 't', 'ti', 'v', 'vi', 'xx', 'yy', 'zz', 'swap']\n"
     ]
    }
   ],
   "source": [
    "#list gate we want to investigate\n",
    "\n",
    "dev_scanner = DeviceScanner( device =DeviceUtils.get_device(\"ionq\"))\n",
    "\n",
    "print(dev_scanner.get_native_gates())\n",
    "print(dev_scanner.get_supported_gates())"
   ]
  },
  {
   "cell_type": "code",
   "execution_count": 25,
   "metadata": {},
   "outputs": [
    {
     "name": "stdout",
     "output_type": "stream",
     "text": [
      "[[ 0.+0.0000000e+00j -1.-1.2246468e-16j]\n",
      " [-1.+1.2246468e-16j  0.+0.0000000e+00j]]\n",
      "###############\n",
      "[[ 7.07106781e-01+0.j         -8.65956056e-17+0.70710678j]\n",
      " [ 8.65956056e-17+0.70710678j  7.07106781e-01+0.j        ]]\n",
      "###############\n",
      "[[ 7.07106781e-01+0.j          0.00000000e+00+0.j\n",
      "   0.00000000e+00+0.j         -8.65956056e-17+0.70710678j]\n",
      " [ 0.00000000e+00+0.j          7.07106781e-01+0.j\n",
      "  -8.65956056e-17+0.70710678j  0.00000000e+00+0.j        ]\n",
      " [ 0.00000000e+00+0.j          8.65956056e-17+0.70710678j\n",
      "   7.07106781e-01+0.j          0.00000000e+00+0.j        ]\n",
      " [ 8.65956056e-17+0.70710678j  0.00000000e+00+0.j\n",
      "   0.00000000e+00+0.j          7.07106781e-01+0.j        ]]\n"
     ]
    }
   ],
   "source": [
    "# ionq misterious native gates\n",
    "# https://ionq.com/docs/getting-started-with-native-gates\n",
    "\n",
    "gpi = Circuit().gpi(1,np.pi)\n",
    "print(gpi.to_unitary())\n",
    "\n",
    "print(\"###############\")\n",
    "\n",
    "gpi2 = Circuit().gpi2(1, np.pi)\n",
    "print(gpi2.to_unitary())\n",
    "\n",
    "print(\"###############\")\n",
    "\n",
    "ms = Circuit().ms(1,2, np.pi,0)\n",
    "print(ms.to_unitary())"
   ]
  },
  {
   "cell_type": "markdown",
   "metadata": {},
   "source": [
    "Hadamard gate"
   ]
  },
  {
   "cell_type": "code",
   "execution_count": 2,
   "metadata": {},
   "outputs": [
    {
     "name": "stdout",
     "output_type": "stream",
     "text": [
      "   ┌───┐\n",
      "q: ┤ H ├\n",
      "   └───┘\n",
      "global phase: π/2\n",
      "   ┌─────────┐┌───────┐\n",
      "q: ┤ Ry(π/2) ├┤ Rx(π) ├\n",
      "   └─────────┘└───────┘\n",
      "Operator([[ 0.70710678+0.00000000e+00j,  0.70710678-8.65956056e-17j],\n",
      "          [ 0.70710678+0.00000000e+00j, -0.70710678+8.65956056e-17j]],\n",
      "         input_dims=(2,), output_dims=(2,))\n"
     ]
    }
   ],
   "source": [
    "#see how quistkid transpile a Hadamard in ionq supported gates\n",
    "\n",
    "from qiskit import QuantumCircuit, QuantumRegister,ClassicalRegister, transpile\n",
    "import numpy as np\n",
    "import qiskit.quantum_info as qi\n",
    "\n",
    "#hadamard gate\n",
    "qreg_q = QuantumRegister(1, 'q')\n",
    "circuit = QuantumCircuit(qreg_q)\n",
    "\n",
    "circuit.h(0)\n",
    "\n",
    "#transpile into new basis\n",
    "print(circuit)\n",
    "trans_qc = transpile(circuit, backend = None, basis_gates = ['rx', 'ry', 'rz', 'rxx'])\n",
    "\n",
    "print(trans_qc)\n",
    "print(qi.Operator(trans_qc))"
   ]
  },
  {
   "cell_type": "markdown",
   "metadata": {},
   "source": [
    "Cnot"
   ]
  },
  {
   "cell_type": "code",
   "execution_count": 27,
   "metadata": {},
   "outputs": [
    {
     "name": "stdout",
     "output_type": "stream",
     "text": [
      "          \n",
      "q_0: ──■──\n",
      "     ┌─┴─┐\n",
      "q_1: ┤ X ├\n",
      "     └───┘\n",
      "global phase: 7π/4\n",
      "     ┌─────────┐┌───────────┐┌──────────┐┌──────────┐\n",
      "q_0: ┤ Ry(π/2) ├┤0          ├┤ Rx(-π/2) ├┤ Ry(-π/2) ├\n",
      "     └─────────┘│  Rxx(π/2) │├──────────┤└──────────┘\n",
      "q_1: ───────────┤1          ├┤ Rx(-π/2) ├────────────\n",
      "                └───────────┘└──────────┘            \n",
      "Operator([[1.-1.11022302e-16j, 0.+0.00000000e+00j, 0.+0.00000000e+00j,\n",
      "           0.+0.00000000e+00j],\n",
      "          [0.+0.00000000e+00j, 0.+0.00000000e+00j, 0.+0.00000000e+00j,\n",
      "           1.-1.11022302e-16j],\n",
      "          [0.+0.00000000e+00j, 0.+0.00000000e+00j, 1.-1.11022302e-16j,\n",
      "           0.+0.00000000e+00j],\n",
      "          [0.+0.00000000e+00j, 1.-1.11022302e-16j, 0.+0.00000000e+00j,\n",
      "           0.+0.00000000e+00j]],\n",
      "         input_dims=(2, 2), output_dims=(2, 2))\n"
     ]
    }
   ],
   "source": [
    "#cnot gate\n",
    "qreg_q = QuantumRegister(2, 'q')\n",
    "circuit = QuantumCircuit(qreg_q)\n",
    "\n",
    "circuit.cnot(0,1)\n",
    "\n",
    "#transpile into new basis\n",
    "print(circuit)\n",
    "trans_qc = transpile(circuit, backend = None, basis_gates = ['rx', 'ry', 'rz', 'rxx'])\n",
    "\n",
    "print(trans_qc)\n",
    "print(qi.Operator(trans_qc))"
   ]
  },
  {
   "cell_type": "code",
   "execution_count": 28,
   "metadata": {},
   "outputs": [
    {
     "name": "stdout",
     "output_type": "stream",
     "text": [
      "        \n",
      "q_0: ─X─\n",
      "      │ \n",
      "q_1: ─X─\n",
      "        \n",
      "global phase: 5π/4\n",
      "     ┌─────────┐┌───────────┐┌──────────┐┌──────────┐┌───────────┐┌──────────┐»\n",
      "q_0: ┤ Ry(π/2) ├┤0          ├┤ Rx(-π/2) ├┤ Ry(-π/2) ├┤1          ├┤ Rx(-π/2) ├»\n",
      "     └─────────┘│  Rxx(π/2) │├──────────┤├─────────┬┘│  Rxx(π/2) │├──────────┤»\n",
      "q_1: ───────────┤1          ├┤ Rx(-π/2) ├┤ Ry(π/2) ├─┤0          ├┤ Rx(-π/2) ├»\n",
      "                └───────────┘└──────────┘└─────────┘ └───────────┘└──────────┘»\n",
      "«     ┌─────────┐ ┌───────────┐┌──────────┐┌──────────┐\n",
      "«q_0: ┤ Ry(π/2) ├─┤0          ├┤ Rx(-π/2) ├┤ Ry(-π/2) ├\n",
      "«     ├─────────┴┐│  Rxx(π/2) │├──────────┤└──────────┘\n",
      "«q_1: ┤ Ry(-π/2) ├┤1          ├┤ Rx(-π/2) ├────────────\n",
      "«     └──────────┘└───────────┘└──────────┘            \n",
      "Operator([[1.+6.66133815e-16j, 0.+0.00000000e+00j, 0.+0.00000000e+00j,\n",
      "           0.+0.00000000e+00j],\n",
      "          [0.+0.00000000e+00j, 0.+0.00000000e+00j, 1.+6.66133815e-16j,\n",
      "           0.+0.00000000e+00j],\n",
      "          [0.+0.00000000e+00j, 1.+6.66133815e-16j, 0.+0.00000000e+00j,\n",
      "           0.+0.00000000e+00j],\n",
      "          [0.+0.00000000e+00j, 0.+0.00000000e+00j, 0.+0.00000000e+00j,\n",
      "           1.+6.66133815e-16j]],\n",
      "         input_dims=(2, 2), output_dims=(2, 2))\n"
     ]
    }
   ],
   "source": [
    "#cnot gate\n",
    "qreg_q = QuantumRegister(2, 'q')\n",
    "circuit = QuantumCircuit(qreg_q)\n",
    "\n",
    "circuit.swap(0,1)\n",
    "\n",
    "#transpile into new basis\n",
    "print(circuit)\n",
    "trans_qc = transpile(circuit, backend = None, basis_gates = ['rx', 'ry', 'rz', 'rxx'])\n",
    "\n",
    "print(trans_qc)\n",
    "print(qi.Operator(trans_qc))\n",
    "\n",
    "#essentially classic 3 cnot decomposition"
   ]
  },
  {
   "cell_type": "code",
   "execution_count": null,
   "metadata": {},
   "outputs": [],
   "source": []
  }
 ],
 "metadata": {
  "kernelspec": {
   "display_name": "Python 3.7.12 ('QBench')",
   "language": "python",
   "name": "python3"
  },
  "language_info": {
   "codemirror_mode": {
    "name": "ipython",
    "version": 3
   },
   "file_extension": ".py",
   "mimetype": "text/x-python",
   "name": "python",
   "nbconvert_exporter": "python",
   "pygments_lexer": "ipython3",
   "version": "3.7.12"
  },
  "orig_nbformat": 4,
  "vscode": {
   "interpreter": {
    "hash": "06a09a513f3adf51d034e4cd7b61d73f339a24b03a0e983ba85455000b9be146"
   }
  }
 },
 "nbformat": 4,
 "nbformat_minor": 2
}
