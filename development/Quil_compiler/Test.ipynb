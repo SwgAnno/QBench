{
 "cells": [
  {
   "cell_type": "code",
   "execution_count": 1,
   "id": "2f929407",
   "metadata": {},
   "outputs": [],
   "source": [
    "from quil_utils import print_db,transpile_quil_to_braket\n",
    "from pyquil.quil import Pragma, Program\n",
    "from pyquil.api import get_qc\n",
    "from pyquil.gates import *\n",
    "import json\n",
    "from utils import DeviceScanner, DeviceUtils\n",
    "\n",
    "from braket.circuits import Circuit, Gate, Instruction, circuit, Observable\n",
    "import numpy as np"
   ]
  },
  {
   "cell_type": "code",
   "execution_count": 2,
   "id": "23067c2e",
   "metadata": {},
   "outputs": [],
   "source": [
    "circ ,cmd = transpile_quil_to_braket(\"\"\"DECLARE ro BIT[3]\n",
    "PRAGMA INITIAL_REWIRING \"PARTIAL\"\n",
    "RESET\n",
    "RZ(-0.8876671289692497) 121\n",
    "RX(pi/2) 121\n",
    "RZ(pi) 121\n",
    "RX(-pi/2) 121\n",
    "RZ(3.824721851415454) 121\n",
    "RZ(-pi/2) 122\n",
    "RX(pi/2) 122\n",
    "RZ(pi/2) 122\n",
    "CZ 121 122\n",
    "RZ(-3*pi/2) 122\n",
    "RX(pi/2) 122\n",
    "RZ(4.499986097998033) 122\n",
    "RZ(-3*pi/2) 135\n",
    "RX(pi/2) 135\n",
    "RZ(1.7831992091815552) 135\n",
    "XY(pi) 122 135\n",
    "RZ(-pi) 121\n",
    "RX(pi/2) 121\n",
    "RZ(0.4228621372751338) 121\n",
    "RZ(-3.353995535976452) 122\n",
    "RX(pi/2) 122\n",
    "RZ(5.8603231699044525) 122\n",
    "CZ 121 122\n",
    "RZ(-0.42286213727513333) 121\n",
    "RX(pi/2) 121\n",
    "RZ(pi/2) 121\n",
    "RZ(0.23141367370929844) 122\n",
    "RX(pi/2) 122\n",
    "RZ(pi) 122\n",
    "RX(-pi/2) 122\n",
    "RZ(1.3793478632290612) 122\n",
    "RZ(-1.358393444408237) 135\n",
    "MEASURE 122 ro[2]\n",
    "MEASURE 135 ro[1]\n",
    "MEASURE 121 ro[0]\n",
    "\"\"\")"
   ]
  },
  {
   "cell_type": "code",
   "execution_count": 3,
   "id": "535bdbf5",
   "metadata": {
    "scrolled": true
   },
   "outputs": [
    {
     "data": {
      "text/plain": [
       "array([[ 0.-0.j, -1.+0.j,  0.+0.j,  0.+0.j, -0.+0.j,  0.-0.j,  0.+0.j,\n",
       "         0.+0.j],\n",
       "       [ 0.+0.j, -0.+0.j, -1.-0.j, -0.-0.j,  0.+0.j,  0.+0.j,  0.-0.j,\n",
       "         0.-0.j],\n",
       "       [-0.-0.j, -0.+0.j, -0.-0.j, -0.-0.j,  0.+0.j, -0.+0.j, -1.-0.j,\n",
       "        -0.-0.j],\n",
       "       [ 0.-0.j, -0.-0.j, -0.+0.j, -0.-0.j,  0.-0.j, -1.+0.j,  0.+0.j,\n",
       "        -0.+0.j],\n",
       "       [ 0.+0.j, -0.+0.j,  0.+0.j, -0.-0.j, -0.+0.j,  0.+0.j,  0.-0.j,\n",
       "        -1.+0.j],\n",
       "       [-0.-0.j, -0.-0.j, -0.+0.j,  0.+0.j, -1.-0.j, -0.-0.j, -0.+0.j,\n",
       "         0.+0.j],\n",
       "       [-1.-0.j, -0.-0.j, -0.+0.j, -0.+0.j, -0.-0.j,  0.-0.j,  0.-0.j,\n",
       "        -0.+0.j],\n",
       "       [ 0.+0.j,  0.+0.j,  0.-0.j, -1.+0.j, -0.+0.j,  0.-0.j, -0.+0.j,\n",
       "        -0.-0.j]])"
      ]
     },
     "execution_count": 3,
     "metadata": {},
     "output_type": "execute_result"
    }
   ],
   "source": [
    "np.round(circ.as_unitary())"
   ]
  },
  {
   "cell_type": "code",
   "execution_count": null,
   "id": "b3d9f013",
   "metadata": {},
   "outputs": [],
   "source": []
  }
 ],
 "metadata": {
  "kernelspec": {
   "display_name": "Qbench_kernel",
   "language": "python",
   "name": "qbench_kernel"
  },
  "language_info": {
   "codemirror_mode": {
    "name": "ipython",
    "version": 3
   },
   "file_extension": ".py",
   "mimetype": "text/x-python",
   "name": "python",
   "nbconvert_exporter": "python",
   "pygments_lexer": "ipython3",
   "version": "3.7.12"
  }
 },
 "nbformat": 4,
 "nbformat_minor": 5
}
