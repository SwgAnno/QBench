{
 "cells": [
  {
   "cell_type": "code",
<<<<<<< Updated upstream
   "execution_count": 142,
   "metadata": {},
=======
   "execution_count": 12,
   "metadata": {
    "scrolled": false
   },
>>>>>>> Stashed changes
   "outputs": [
    {
     "name": "stdout",
     "output_type": "stream",
     "text": [
      "OPENQASM 2.0;\n",
      "include \"qelib1.inc\";\n",
<<<<<<< Updated upstream
      "qreg q[2];\n",
      "creg b[2];\n",
      "ry(pi/2) q[1];\n",
      "rxx(pi/2) q[1],q[0];\n",
      "rx(-pi/2) q[0];\n",
      "rx(-pi/2) q[1];\n",
      "ry(-pi/2) q[1];\n",
      "measure q[1] -> b[0];\n",
      "measure q[0] -> b[1];\n",
      "2\n",
      "('y', 1.5707963267948966, [1])\n",
      "('xx', 1.5707963267948966, [1, 0])\n",
      "('x', -1.5707963267948966, [0])\n",
      "('x', -1.5707963267948966, [1])\n",
      "('y', -1.5707963267948966, [1])\n",
      "T  : |    0     |   1    |    2     |    3     |\n",
      "                                                \n",
      "q0 : ------------MS(0, 0)-GPi2(3.14)------------\n",
      "                 |                              \n",
      "q1 : -GPi2(1.57)-MS(0, 0)-GPi2(3.14)-GPi2(4.71)-\n",
      "\n",
      "T  : |    0     |   1    |    2     |    3     |\n"
=======
      "qreg q[1];\n",
      "creg b[1];\n",
      "ry(pi/2) q[0];\n",
      "rx(pi) q[0];\n",
      "measure q[0] -> b[0];\n",
      "1\n",
      "('y', 1.5707963267948966, [0])\n",
      "('x', 3.141592653589793, [0])\n",
      "T  : |    0     |    1     |\n",
      "                            \n",
      "q0 : -GPi2(1.57)-GPi2(0.00)-\n",
      "\n",
      "T  : |    0     |    1     |\n"
>>>>>>> Stashed changes
     ]
    }
   ],
   "source": [
    "import compiler\n",
    "\n",
    "from braket.circuits import Circuit, Gate, Instruction, circuit, Observable\n",
<<<<<<< Updated upstream
    "\n",
    "circ = Circuit().cnot(1,0)\n",
=======
    "import numpy as np\n",
    "circ = Circuit()\n",
    "circ = Circuit().h(range(1))\n",
>>>>>>> Stashed changes
    "\n",
    "c = compiler.IonQCompiler()\n",
    "braket_circ = c.compile(circ)\n",
    "\n",
    "print(braket_circ)\n",
    "\n"
   ]
  },
  {
   "cell_type": "code",
<<<<<<< Updated upstream
   "execution_count": 144,
=======
   "execution_count": 13,
   "metadata": {},
   "outputs": [
    {
     "data": {
      "text/plain": [
       "array([[ 0.5+0.5j,  0.5-0.5j],\n",
       "       [ 0.5+0.5j, -0.5+0.5j]])"
      ]
     },
     "execution_count": 13,
     "metadata": {},
     "output_type": "execute_result"
    }
   ],
   "source": [
    "np.round(braket_circ.as_unitary(),3)*1j"
   ]
  },
  {
   "cell_type": "code",
   "execution_count": 15,
   "metadata": {},
   "outputs": [
    {
     "data": {
      "text/plain": [
       "array([[ 0.707+0.j,  0.707+0.j],\n",
       "       [ 0.707+0.j, -0.707+0.j]])"
      ]
     },
     "execution_count": 15,
     "metadata": {},
     "output_type": "execute_result"
    }
   ],
   "source": [
    "np.round(Circuit().h(range(1)).as_unitary(),3)"
   ]
  },
  {
   "cell_type": "code",
   "execution_count": 96,
>>>>>>> Stashed changes
   "metadata": {},
   "outputs": [
    {
     "name": "stdout",
     "output_type": "stream",
     "text": [
      "T  : |    0     |   1    |    2     |    3     |\n",
      "                                                \n",
      "q0 : ------------MS(0, 0)-GPi2(3.14)------------\n",
      "                 |                              \n",
      "q1 : -GPi2(1.57)-MS(0, 0)-GPi2(3.14)-GPi2(4.71)-\n",
      "\n",
      "T  : |    0     |   1    |    2     |    3     |\n",
      "Counter({'00': 1000})\n",
      "[[ 7.07106781e-01+7.07106781e-01j -4.32978028e-17-4.32978028e-17j\n",
      "   2.16489014e-17-2.16489014e-17j -5.55111512e-17+0.00000000e+00j]\n",
      " [ 4.32978028e-17+4.32978028e-17j  7.07106781e-01+7.07106781e-01j\n",
      "  -5.55111512e-17-5.55111512e-17j  2.16489014e-17-2.16489014e-17j]\n",
      " [ 5.55111512e-17+5.55111512e-17j  2.16489014e-17-2.16489014e-17j\n",
      "  -4.32978028e-17-4.32978028e-17j  7.07106781e-01+7.07106781e-01j]\n",
      " [ 2.16489014e-17-2.16489014e-17j  0.00000000e+00+5.55111512e-17j\n",
      "   7.07106781e-01+7.07106781e-01j  4.32978028e-17+4.32978028e-17j]]\n"
     ]
    },
    {
     "data": {
      "image/png": "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",
      "text/plain": [
       "<Figure size 640x480 with 1 Axes>"
      ]
     },
     "metadata": {},
     "output_type": "display_data"
    }
   ],
   "source": [
    "\n",
    "from braket.devices import LocalSimulator\n",
    "from braket.aws import AwsDevice\n",
    "from braket.device_schema.device_action_properties import DeviceActionType\n",
    "import numpy as np\n",
    "\n",
    "from matplotlib import pyplot as plt\n",
    "\n",
    "\n",
    "test = Circuit().add(braket_circ)\n",
    "\n",
    "print(test)\n",
    "\n",
    "device = LocalSimulator()\n",
    "\n",
    "res = device.run(test, shots = 1000).result()\n",
    "\n",
    "print(res.measurement_counts)\n",
    "\n",
    "print(test.as_unitary())\n",
    "data = np.asarray( np.abs(test.as_unitary()))\n",
    "plt.imshow(data)\n",
    "plt.show()"
   ]
  },
  {
   "cell_type": "code",
   "execution_count": null,
   "metadata": {},
   "outputs": [],
   "source": []
  },
  {
   "cell_type": "code",
   "execution_count": null,
   "metadata": {},
   "outputs": [],
   "source": []
  }
 ],
 "metadata": {
  "kernelspec": {
   "display_name": "Qbench_kernel",
   "language": "python",
   "name": "qbench_kernel"
  },
  "language_info": {
   "codemirror_mode": {
    "name": "ipython",
    "version": 3
   },
   "file_extension": ".py",
   "mimetype": "text/x-python",
   "name": "python",
   "nbconvert_exporter": "python",
   "pygments_lexer": "ipython3",
   "version": "3.7.12"
  },
  "vscode": {
   "interpreter": {
    "hash": "06a09a513f3adf51d034e4cd7b61d73f339a24b03a0e983ba85455000b9be146"
   }
  }
 },
 "nbformat": 4,
 "nbformat_minor": 2
}
