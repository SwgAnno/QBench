{
 "cells": [
  {
   "cell_type": "code",
   "execution_count": 6,
   "id": "4044b5e1",
   "metadata": {},
   "outputs": [
    {
     "name": "stdout",
     "output_type": "stream",
     "text": [
      "The autoreload extension is already loaded. To reload it, use:\n",
      "  %reload_ext autoreload\n"
     ]
    }
   ],
   "source": [
    "%load_ext autoreload\n",
    "\n",
    "import sys\n",
    "sys.path.append(\"../utils/\")\n",
    "\n",
    "# general imports\n",
    "import matplotlib.pyplot as plt\n",
    "%matplotlib inline\n",
    "\n",
    "# AWS imports: Import Braket SDK modules\n",
    "from braket.circuits import Circuit, Gate, Instruction, circuit, Observable\n",
    "from braket.devices import LocalSimulator\n",
    "from braket.aws import AwsDevice\n",
    "import numpy as np\n",
    "\n",
    "import functools\n",
    "import time\n",
    "\n",
    "from quil_utils import *\n",
    "from pyquil.quil import Pragma, Program\n",
    "from pyquil.api import get_qc,QVM\n",
    "from pyquil.gates import *\n",
    "from quil_utils import Compiled_Circuit\n",
    "from utils import DeviceUtils,DeviceScanner,BraketTaskScanner,Plotter,Gate_number\n",
    "from IonQCompiler import IonQCompiler\n",
    "\n",
    "\n",
    "import json"
   ]
  },
  {
   "cell_type": "code",
   "execution_count": 7,
   "id": "36eb185a",
   "metadata": {},
   "outputs": [],
   "source": [
    "@circuit.subroutine(register=True)\n",
    "def GHZ (n_qubits):\n",
    "    \"\"\"\n",
    "    Creates a GHZ circuit with n_qubits\n",
    "    \n",
    "    Parameters:\n",
    "    ----------------\n",
    "    n_qubits : int #of qubits\n",
    "    \"\"\"\n",
    "    out = Circuit().h([0])\n",
    "    for i in range(n_qubits-1):\n",
    "        out.cnot(0,i+1)\n",
    "\n",
    "    return out\n",
    "        "
   ]
  },
  {
   "cell_type": "code",
   "execution_count": 11,
   "id": "13957dfd",
   "metadata": {},
   "outputs": [
    {
     "data": {
      "text/plain": [
       "False"
      ]
     },
     "execution_count": 11,
     "metadata": {},
     "output_type": "execute_result"
    }
   ],
   "source": [
    "rigetti = DeviceUtils.get_device('rigetti')\n",
    "ion_q = DeviceUtils.get_device('ionq')\n",
    "rigetti.is_available\n",
    "#rigetti = LocalSimulator()\n",
    "# ion_q = LocalSimulator()"
   ]
  },
  {
   "cell_type": "code",
   "execution_count": 12,
   "id": "66e135db",
   "metadata": {
    "scrolled": false
   },
   "outputs": [
    {
     "name": "stdout",
     "output_type": "stream",
     "text": [
      "[2, 4, 6, 8, 10]\n"
     ]
    }
   ],
   "source": [
    "shots = 1000\n",
    "#set_n_qubits = range(3,10)\n",
    "n_qubits_list = [2,4,6,8,10,11]\n",
    "\n",
    "print(n_qubits_list)"
   ]
  },
  {
   "cell_type": "code",
   "execution_count": 14,
   "id": "fa8a8984",
   "metadata": {},
   "outputs": [],
   "source": [
    "id_dict = {}\n",
    "rigetti_tasks = []\n",
    "for n_qubits in n_qubits_list:\n",
    "    id_dict[str(n_qubits)] = {}\n",
    "    \n",
    "    circ = GHZ (n_qubits)\n",
    "    #print(circ)\n",
    "    rigetti_task = rigetti.run(circ,shots=shots)\n",
    "    rigetti_tasks.append(rigetti_task)\n",
    "    \n",
    "    id_dict[str(n_qubits)] = {'rigetti' : {'id' : rigetti_task.id,'BenchType':'GHZ','n_shots':shots,'n_qubits':n_qubits}}"
   ]
  },
  {
   "cell_type": "code",
   "execution_count": 15,
   "id": "449c72b0",
   "metadata": {},
   "outputs": [],
   "source": [
    "with open('GHZ_rigetti.json','w') as f:\n",
    "    json.dump(id_dict,f,indent=3)"
   ]
  },
  {
   "cell_type": "code",
   "execution_count": 16,
   "id": "a16febb9",
   "metadata": {},
   "outputs": [],
   "source": [
    "rigetti_ids = [task.id for task in rigetti_tasks]"
   ]
  },
  {
   "cell_type": "code",
   "execution_count": 17,
   "id": "e2c90e61",
   "metadata": {},
   "outputs": [],
   "source": [
    "rigetti_task_scanners = [BraketTaskScanner(qtask=task) for task in rigetti_tasks]"
   ]
  },
  {
   "cell_type": "code",
   "execution_count": 75,
   "id": "d0690bb7",
   "metadata": {},
   "outputs": [
    {
     "name": "stdout",
     "output_type": "stream",
     "text": [
      "['COMPLETED', 'COMPLETED', 'COMPLETED', 'COMPLETED', 'COMPLETED']\n"
     ]
    }
   ],
   "source": [
    "status_rigetti = [task.get_status() for task in rigetti_task_scanners]\n",
    "print(status_rigetti)"
   ]
  },
  {
   "cell_type": "code",
   "execution_count": 76,
   "id": "52b7ffb9",
   "metadata": {
    "scrolled": true
   },
   "outputs": [],
   "source": [
    "results_rigetti = [qtask.get_results() for qtask in rigetti_task_scanners]"
   ]
  },
  {
   "cell_type": "code",
   "execution_count": 77,
   "id": "37d65a03",
   "metadata": {},
   "outputs": [
    {
     "data": {
      "text/plain": [
       "{'qubit_n': [2, 4, 6, 8, 10],\n",
       " 'all_zeros': array([0.414, 0.255, 0.162, 0.012, 0.003]),\n",
       " 'all_ones': array([0.436, 0.086, 0.025, 0.017, 0.   ]),\n",
       " 'other': array([0.15 , 0.659, 0.813, 0.971, 0.997])}"
      ]
     },
     "execution_count": 77,
     "metadata": {},
     "output_type": "execute_result"
    }
   ],
   "source": [
    "all_ones = np.zeros(len(n_qubits_list))\n",
    "all_zeros =np.zeros(len(n_qubits_list))\n",
    "other = np.zeros(len(n_qubits_list))\n",
    "\n",
    "for i,qubit_number in enumerate(n_qubits_list):\n",
    "    results = results_rigetti[i]\n",
    "    meas_probs =results.measurement_probabilities\n",
    "    all_ones[i] = meas_probs['1'*(qubit_number)] if '1'*(qubit_number) in meas_probs.keys() else 0\n",
    "    all_zeros[i] = meas_probs['0'*(qubit_number)]if '0'*(qubit_number) in meas_probs.keys() else 0\n",
    "    other[i] = 1 - all_ones[i] - all_zeros[i]\n",
    "    \n",
    "    \n",
    "#     measure.append({\n",
    "#             'qubit_n' : qubit_number,\n",
    "#            'value': '0',\n",
    "#             'counts' : zeros})\n",
    "#     measure.append({'H_len' : H_len,\n",
    "#             'qubit_n' : qubit_number,\n",
    "#            'value': '1','counts':ones})\n",
    "measure_rigetti = {\n",
    "    'qubit_n' : n_qubits_list,\n",
    "    'all_zeros':all_zeros,\n",
    "    'all_ones':all_ones,\n",
    "    'other':other\n",
    "}\n",
    "measure_rigetti"
   ]
  },
  {
   "cell_type": "code",
   "execution_count": 78,
   "id": "e0eccbfa",
   "metadata": {
    "scrolled": false
   },
   "outputs": [
    {
     "data": {
      "text/plain": [
       "<matplotlib.legend.Legend at 0x7fd9f18f2290>"
      ]
     },
     "execution_count": 78,
     "metadata": {},
     "output_type": "execute_result"
    },
    {
     "data": {
      "image/png": "[encoded data removed]",
      "text/plain": [
       "<Figure size 800x400 with 1 Axes>"
      ]
     },
     "metadata": {},
     "output_type": "display_data"
    }
   ],
   "source": [
    "fig, ax = plt.subplots(1, 1, figsize=(8,4))\n",
    "\n",
    "\n",
    "bar_width = .2\n",
    "x = np.arange(len(n_qubits_list))\n",
    "\n",
    "ax.bar(x, measure_rigetti['all_ones'],\n",
    "            width=bar_width,\n",
    "           label = 'all_ones')\n",
    "\n",
    "ax.bar(x+bar_width, measure_rigetti['all_zeros'],\n",
    "            width=bar_width,\n",
    "           label = 'all_zeros')\n",
    "\n",
    "ax.bar(x+2*bar_width, measure_rigetti['other'],\n",
    "            width=bar_width,\n",
    "           label = '$P_{err}$')\n",
    "\n",
    "\n",
    "ax.set_xticks(x + bar_width )\n",
    "ax.set_xticklabels(measure_rigetti['qubit_n'])\n",
    "ax.set_title('GHZ benchmarking')\n",
    "ax.set_xlabel('GHZ dimension')\n",
    "ax.set_ylabel('probability')\n",
    "ax.legend()"
   ]
  },
  {
   "cell_type": "markdown",
   "id": "2d79ba26",
   "metadata": {},
   "source": [
    "# IonQ compensated\n",
    "Le simulazioni di Ionq sono anch'esse basate su GHZ ma aggiungendo randomicamente delle porte a singolo/due gates per mettere in luce che il suo vantaggio su Rigetti non dipende solamente da una minor overhead di compilazione"
   ]
  },
  {
   "cell_type": "code",
   "execution_count": 70,
   "id": "acba206a",
   "metadata": {},
   "outputs": [],
   "source": [
    "ion_q_compiler = IonQCompiler()"
   ]
  },
  {
   "cell_type": "code",
   "execution_count": 71,
   "id": "222c51a9",
   "metadata": {},
   "outputs": [],
   "source": [
    "compiled_circuits_ion_q = [ion_q_compiler.compile(GHZ(n_qubits)) for n_qubits in n_qubits_list]\n",
    "N_gates_ion_q = [len(ion_q_compiler.compile(GHZ(n_qubits)).instructions) for n_qubits in n_qubits_list]"
   ]
  },
  {
   "cell_type": "code",
   "execution_count": 101,
   "id": "5bff0734",
   "metadata": {},
   "outputs": [],
   "source": [
    "compiled_circuits_rigetti = [task.get_compiled_circuit() for task in rigetti_task_scanners]\n",
    "\n",
    "braket_circs_rigetti = [transpile_quil_to_braket(quil_circ)[0] for quil_circ in compiled_circuits_rigetti]\n",
    "braket_circs_ion_q = compiled_circuits_ion_q\n",
    "\n",
    "rigetti_gate_number_class = [Gate_number(circ) for circ in braket_circs_rigetti]\n",
    "ionq_gate_number_class = [Gate_number(circ) for circ in braket_circs_ion_q]"
   ]
  },
  {
   "cell_type": "code",
   "execution_count": 115,
   "id": "4a12f6e0",
   "metadata": {},
   "outputs": [],
   "source": [
    "def compensated_ghz_ion_q(n_qubits,rigetti_qubit_number_class):\n",
    "    ion_q_compiler = IonQCompiler()\n",
    "    GHZ_standard = GHZ (n_qubits)\n",
    "    GHZ_std_compiled = ion_q_compiler.compile(GHZ_standard)\n",
    "    rigetti_entangling_gates = rigetti_qubit_number_class.entangling_gates\n",
    "    rigetti_one_qubit_gates = rigetti_qubit_number_class.one_qubit\n",
    "    ion_q_entangling_gates = Gate_number(GHZ_std_compiled).entangling_gates\n",
    "    ion_q_one_qubit_gates = Gate_number(GHZ_std_compiled).one_qubit\n",
    "    \n",
    "    \n",
    "    GHZ_compensated = GHZ_std_compiled\n",
    "    n_entangled_to_compensate = int(np.ceil(.5*(rigetti_entangling_gates-ion_q_entangling_gates)))\n",
    "    n_single_to_compensate = int(np.ceil(.5*(rigetti_one_qubit_gates-ion_q_one_qubit_gates)))\n",
    "    \n",
    "    for _ in range(n_entangled_to_compensate):\n",
    "        theta1,theta2 = np.random.random(2)*2*np.pi\n",
    "        q1= np.random.randint(n_qubits)\n",
    "        q2 = q1\n",
    "        while q2==q1:\n",
    "            q2 = np.random.randint(n_qubits)\n",
    "        GHZ_compensated.ms(q1,q2,theta1,theta2).ms(q1,q2,theta1,theta2+np.pi)\n",
    "        \n",
    "    for _ in range (n_single_to_compensate):\n",
    "        coin = np.random.random()\n",
    "        theta = np.random.random()*2*np.pi\n",
    "        q = np.random.randint(n_qubits)\n",
    "        if coin >.5:     \n",
    "            GHZ_compensated.gpi(q,theta).gpi(q,theta)\n",
    "        else:\n",
    "            GHZ_compensated.gpi2(q,theta).gpi2(q,theta+np.pi)\n",
    "\n",
    "    return Circuit().add_verbatim_box(GHZ_compensated)\n",
    "        "
   ]
  },
  {
   "cell_type": "code",
   "execution_count": 129,
   "id": "9eb0425d",
   "metadata": {
    "scrolled": true
   },
   "outputs": [],
   "source": [
    "id_dict = {}\n",
    "ionq_tasks = []\n",
    "for i,n_qubits in enumerate(n_qubits_list):\n",
    "    id_dict[str(n_qubits)] = {}\n",
    "    \n",
    "    \n",
    "    circ = compensated_ghz_ion_q(n_qubits,rigetti_gate_number_class[i])\n",
    "    #print(circ)\n",
    "\n",
    "    ionq_task = ion_q.run(circ,shots=shots)\n",
    "    ionq_tasks.append(ionq_task)\n",
    "    id_dict[str(n_qubits)] = {'ionq' : {'id' : ionq_task.id,'BenchType':'GHZ','n_shots':shots,'n_qubits':n_qubits}}"
   ]
  },
  {
   "cell_type": "code",
   "execution_count": 130,
   "id": "a6684863",
   "metadata": {},
   "outputs": [],
   "source": [
    "with open('GHZ_ion_q.json','w') as f:\n",
    "    json.dump(id_dict,f,indent=3)"
   ]
  },
  {
   "cell_type": "code",
   "execution_count": 133,
   "id": "bc7c590a",
   "metadata": {},
   "outputs": [],
   "source": [
    "ion_q_ids = [task.id for task in ionq_tasks]"
   ]
  },
  {
   "cell_type": "code",
   "execution_count": 134,
   "id": "83695611",
   "metadata": {},
   "outputs": [],
   "source": [
    "ion_q_task_scanners = [BraketTaskScanner(qtask=task) for task in ionq_tasks]"
   ]
  },
  {
   "cell_type": "code",
   "execution_count": 136,
   "id": "066c996f",
   "metadata": {},
   "outputs": [
    {
     "name": "stdout",
     "output_type": "stream",
     "text": [
      "['QUEUED', 'QUEUED', 'QUEUED', 'QUEUED', 'QUEUED']\n"
     ]
    }
   ],
   "source": [
    "status_ion_q = [task.get_status() for task in ion_q_task_scanners]\n",
    "print(status_ion_q)"
   ]
  },
  {
   "cell_type": "code",
   "execution_count": 76,
   "id": "0a03bd78",
   "metadata": {
    "scrolled": true
   },
   "outputs": [],
   "source": [
    "results_ion_q = [qtask.get_results() for qtask in ion_q_task_scanners]"
   ]
  },
  {
   "cell_type": "code",
   "execution_count": 77,
   "id": "6733e514",
   "metadata": {},
   "outputs": [
    {
     "data": {
      "text/plain": [
       "{'qubit_n': [2, 4, 6, 8, 10],\n",
       " 'all_zeros': array([0.414, 0.255, 0.162, 0.012, 0.003]),\n",
       " 'all_ones': array([0.436, 0.086, 0.025, 0.017, 0.   ]),\n",
       " 'other': array([0.15 , 0.659, 0.813, 0.971, 0.997])}"
      ]
     },
     "execution_count": 77,
     "metadata": {},
     "output_type": "execute_result"
    }
   ],
   "source": [
    "all_ones = np.zeros(len(n_qubits_list))\n",
    "all_zeros =np.zeros(len(n_qubits_list))\n",
    "other = np.zeros(len(n_qubits_list))\n",
    "\n",
    "for i,qubit_number in enumerate(n_qubits_list):\n",
    "    results = results_rigetti[i]\n",
    "    meas_probs =results.measurement_probabilities\n",
    "    all_ones[i] = meas_probs['1'*(qubit_number)] if '1'*(qubit_number) in meas_probs.keys() else 0\n",
    "    all_zeros[i] = meas_probs['0'*(qubit_number)]if '0'*(qubit_number) in meas_probs.keys() else 0\n",
    "    other[i] = 1 - all_ones[i] - all_zeros[i]\n",
    "    \n",
    "measure_rigetti = {\n",
    "    'qubit_n' : n_qubits_list,\n",
    "    'all_zeros':all_zeros,\n",
    "    'all_ones':all_ones,\n",
    "    'other':other\n",
    "}\n",
    "measure_rigetti"
   ]
  },
  {
   "cell_type": "code",
   "execution_count": 78,
   "id": "ecfb48db",
   "metadata": {
    "collapsed": true
   },
   "outputs": [
    {
     "data": {
      "text/plain": [
       "<matplotlib.legend.Legend at 0x7fd9f18f2290>"
      ]
     },
     "execution_count": 78,
     "metadata": {},
     "output_type": "execute_result"
    },
    {
     "data": {
      "image/png": "[encoded data removed]",
      "text/plain": [
       "<Figure size 800x400 with 1 Axes>"
      ]
     },
     "metadata": {},
     "output_type": "display_data"
    }
   ],
   "source": [
    "fig, ax = plt.subplots(1, 1, figsize=(8,4))\n",
    "\n",
    "\n",
    "bar_width = .2\n",
    "x = np.arange(len(n_qubits_list))\n",
    "\n",
    "ax.bar(x, measure_rigetti['all_ones'],\n",
    "            width=bar_width,\n",
    "           label = 'all_ones')\n",
    "\n",
    "ax.bar(x+bar_width, measure_rigetti['all_zeros'],\n",
    "            width=bar_width,\n",
    "           label = 'all_zeros')\n",
    "\n",
    "ax.bar(x+2*bar_width, measure_rigetti['other'],\n",
    "            width=bar_width,\n",
    "           label = '$P_{err}$')\n",
    "\n",
    "\n",
    "ax.set_xticks(x + bar_width )\n",
    "ax.set_xticklabels(measure_rigetti['qubit_n'])\n",
    "ax.set_title('GHZ benchmarking')\n",
    "ax.set_xlabel('GHZ dimension')\n",
    "ax.set_ylabel('probability')\n",
    "ax.legend()"
   ]
  },
  {
   "cell_type": "markdown",
   "id": "e0842cae",
   "metadata": {},
   "source": [
    "### testing that all Ionq physical gates Adjoint matrix"
   ]
  },
  {
   "cell_type": "markdown",
   "id": "ff2e7b6f",
   "metadata": {},
   "source": [
    "1. Gpi(theta)"
   ]
  },
  {
   "cell_type": "code",
   "execution_count": 24,
   "id": "dbe1b41d",
   "metadata": {
    "scrolled": true
   },
   "outputs": [
    {
     "data": {
      "text/plain": [
       "array([[1.+0.j, 0.+0.j],\n",
       "       [0.+0.j, 1.+0.j]])"
      ]
     },
     "execution_count": 24,
     "metadata": {},
     "output_type": "execute_result"
    }
   ],
   "source": [
    "theta = np.random.random()*2*np.pi\n",
    "Circuit().gpi(0,theta).gpi(0,theta).as_unitary()"
   ]
  },
  {
   "cell_type": "markdown",
   "id": "caae3214",
   "metadata": {},
   "source": [
    "2. Gpi2(theta)"
   ]
  },
  {
   "cell_type": "code",
   "execution_count": 62,
   "id": "31ffdc27",
   "metadata": {
    "scrolled": true
   },
   "outputs": [
    {
     "data": {
      "text/plain": [
       "array([[ 1.00000000e+00+3.33066907e-16j,  2.22044605e-16-2.22044605e-16j],\n",
       "       [-2.22044605e-16-2.22044605e-16j,  1.00000000e+00-3.33066907e-16j]])"
      ]
     },
     "execution_count": 62,
     "metadata": {},
     "output_type": "execute_result"
    }
   ],
   "source": [
    "theta = np.random.random()*2*np.pi\n",
    "Circuit().gpi2(0,theta).gpi2(0,np.pi+theta).as_unitary()"
   ]
  },
  {
   "cell_type": "markdown",
   "id": "17c03bd1",
   "metadata": {},
   "source": [
    "3. Ms(t1,t2)"
   ]
  },
  {
   "cell_type": "code",
   "execution_count": 68,
   "id": "622d3656",
   "metadata": {
    "scrolled": true
   },
   "outputs": [
    {
     "data": {
      "text/plain": [
       "array([[ 1.+0.j,  0.+0.j,  0.+0.j,  0.+0.j],\n",
       "       [ 0.+0.j,  1.+0.j,  0.+0.j,  0.+0.j],\n",
       "       [ 0.+0.j,  0.+0.j,  1.-0.j,  0.+0.j],\n",
       "       [-0.+0.j,  0.+0.j,  0.+0.j,  1.-0.j]])"
      ]
     },
     "execution_count": 68,
     "metadata": {},
     "output_type": "execute_result"
    }
   ],
   "source": [
    "theta1,theta2 = np.random.random(2)*2*np.pi\n",
    "Circuit().ms(0,1,theta1,theta2).ms(0,1,theta1,theta2+np.pi).as_unitary().round(3)"
   ]
  },
  {
   "cell_type": "code",
   "execution_count": 67,
   "id": "94149582",
   "metadata": {
    "scrolled": true
   },
   "outputs": [
    {
     "data": {
      "text/plain": [
       "matrix([[ 0.707-0.j   ,  0.   -0.j   ,  0.   -0.j   , -0.652+0.273j],\n",
       "        [ 0.   -0.j   ,  0.707-0.j   ,  0.681-0.19j ,  0.   -0.j   ],\n",
       "        [ 0.   -0.j   , -0.681-0.19j ,  0.707-0.j   ,  0.   -0.j   ],\n",
       "        [ 0.652+0.273j,  0.   -0.j   ,  0.   -0.j   ,  0.707-0.j   ]])"
      ]
     },
     "execution_count": 67,
     "metadata": {},
     "output_type": "execute_result"
    }
   ],
   "source": [
    "np.matrix(Circuit().ms(0,1,theta1,theta2).as_unitary()).H.round(3)"
   ]
  },
  {
   "cell_type": "markdown",
   "id": "141b4e6a",
   "metadata": {},
   "source": []
  }
 ],
 "metadata": {
  "kernelspec": {
   "display_name": "Qbench_kernel",
   "language": "python",
   "name": "qbench_kernel"
  },
  "language_info": {
   "codemirror_mode": {
    "name": "ipython",
    "version": 3
   },
   "file_extension": ".py",
   "mimetype": "text/x-python",
   "name": "python",
   "nbconvert_exporter": "python",
   "pygments_lexer": "ipython3",
   "version": "3.7.12"
  }
 },
 "nbformat": 4,
 "nbformat_minor": 5
}
