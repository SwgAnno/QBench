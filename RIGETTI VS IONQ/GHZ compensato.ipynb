{
 "cells": [
  {
   "cell_type": "code",
   "execution_count": 28,
   "id": "4044b5e1",
   "metadata": {},
   "outputs": [
    {
     "name": "stdout",
     "output_type": "stream",
     "text": [
      "The autoreload extension is already loaded. To reload it, use:\n",
      "  %reload_ext autoreload\n"
     ]
    }
   ],
   "source": [
    "%load_ext autoreload\n",
    "\n",
    "import sys\n",
    "sys.path.append(\"../utils/\")\n",
    "\n",
    "# general imports\n",
    "import matplotlib.pyplot as plt\n",
    "%matplotlib inline\n",
    "\n",
    "# AWS imports: Import Braket SDK modules\n",
    "from braket.circuits import Circuit, Gate, Instruction, circuit, Observable\n",
    "from braket.devices import LocalSimulator\n",
    "from braket.aws import AwsDevice\n",
    "import numpy as np\n",
    "\n",
    "import functools\n",
    "import time\n",
    "\n",
    "from quil_utils import *\n",
    "from pyquil.quil import Pragma, Program\n",
    "from pyquil.api import get_qc,QVM\n",
    "from pyquil.gates import *\n",
    "from quil_utils import Compiled_Circuit\n",
    "from utils import DeviceUtils,DeviceScanner,BraketTaskScanner,Plotter,Gate_number\n",
    "from IonQCompiler import IonQCompiler\n",
    "\n",
    "from Noise_siumulator_Aspen_M2 import simulate_noise_aspen_m_2\n",
    "\n",
    "import json\n",
    "\n",
    "from hadamard_bench import*"
   ]
  },
  {
   "cell_type": "code",
   "execution_count": 2,
   "id": "36eb185a",
   "metadata": {},
   "outputs": [],
   "source": [
    "@circuit.subroutine(register=True)\n",
    "def GHZ (n_qubits):\n",
    "    \"\"\"\n",
    "    Creates a GHZ circuit with n_qubits\n",
    "    \n",
    "    Parameters:\n",
    "    ----------------\n",
    "    n_qubits : int #of qubits\n",
    "    \"\"\"\n",
    "    out = Circuit().h([0])\n",
    "    for i in range(n_qubits-1):\n",
    "        out.cnot(0,i+1)\n",
    "\n",
    "    return out\n",
    "        "
   ]
  },
  {
   "cell_type": "code",
   "execution_count": 3,
   "id": "13957dfd",
   "metadata": {},
   "outputs": [
    {
     "data": {
      "text/plain": [
       "False"
      ]
     },
     "execution_count": 3,
     "metadata": {},
     "output_type": "execute_result"
    }
   ],
   "source": [
    "rigetti = DeviceUtils.get_device('rigetti')\n",
    "ion_q = DeviceUtils.get_device('ionq')\n",
    "rigetti.is_available\n",
    "#rigetti = LocalSimulator()\n",
    "# ion_q = LocalSimulator()"
   ]
  },
  {
   "cell_type": "code",
   "execution_count": 14,
   "id": "66e135db",
   "metadata": {
    "scrolled": false
   },
   "outputs": [
    {
     "name": "stdout",
     "output_type": "stream",
     "text": [
      "[2, 4, 6, 8, 10]\n"
     ]
    }
   ],
   "source": [
    "shots = 1000\n",
    "#set_n_qubits = range(3,10)\n",
    "n_qubits_list = [2,4,6,8,10]\n",
    "\n",
    "print(n_qubits_list)"
   ]
  },
  {
   "cell_type": "code",
   "execution_count": 14,
   "id": "fa8a8984",
   "metadata": {},
   "outputs": [],
   "source": [
    "id_dict = {}\n",
    "rigetti_tasks = []\n",
    "for n_qubits in n_qubits_list:\n",
    "    id_dict[str(n_qubits)] = {}\n",
    "    \n",
    "    circ = GHZ (n_qubits)\n",
    "    #print(circ)\n",
    "    rigetti_task = rigetti.run(circ,shots=shots)\n",
    "    rigetti_tasks.append(rigetti_task)\n",
    "    \n",
    "    id_dict[str(n_qubits)] = {'rigetti' : {'id' : rigetti_task.id,'BenchType':'GHZ','n_shots':shots,'n_qubits':n_qubits}}"
   ]
  },
  {
   "cell_type": "code",
   "execution_count": 15,
   "id": "449c72b0",
   "metadata": {},
   "outputs": [],
   "source": [
    "with open('GHZ_rigetti.json','w') as f:\n",
    "    json.dump(id_dict,f,indent=3)"
   ]
  },
  {
   "cell_type": "code",
   "execution_count": 16,
   "id": "a16febb9",
   "metadata": {},
   "outputs": [],
   "source": [
    "rigetti_ids = [task.id for task in rigetti_tasks]"
   ]
  },
  {
   "cell_type": "code",
   "execution_count": 17,
   "id": "e2c90e61",
   "metadata": {},
   "outputs": [],
   "source": [
    "rigetti_task_scanners = [BraketTaskScanner(qtask=task) for task in rigetti_tasks]"
   ]
  },
  {
   "cell_type": "code",
   "execution_count": 9,
   "id": "d2aae260",
   "metadata": {},
   "outputs": [],
   "source": [
    "def load_ids (filename):\n",
    "    with open(filename,'r') as f:\n",
    "        task_dict = json.load(f)\n",
    "        rigetti_ids = []\n",
    "        for key in task_dict:\n",
    "            #print(task_dict[key])\n",
    "            task = task_dict[key]\n",
    "            rigetti_ids.append(task['rigetti']['id'])\n",
    "    return rigetti_ids\n"
   ]
  },
  {
   "cell_type": "code",
   "execution_count": 10,
   "id": "a7cf04cb",
   "metadata": {},
   "outputs": [],
   "source": [
    "rigetti_ids=load_ids('GHZ_rigetti.json')\n",
    "rigetti_task_scanners = [BraketTaskScanner(task_arn=arn) for arn in rigetti_ids]"
   ]
  },
  {
   "cell_type": "code",
   "execution_count": 11,
   "id": "d0690bb7",
   "metadata": {},
   "outputs": [
    {
     "name": "stdout",
     "output_type": "stream",
     "text": [
      "['COMPLETED', 'COMPLETED', 'COMPLETED', 'COMPLETED', 'COMPLETED']\n"
     ]
    }
   ],
   "source": [
    "status_rigetti = [task.get_status() for task in rigetti_task_scanners]\n",
    "print(status_rigetti)"
   ]
  },
  {
   "cell_type": "code",
   "execution_count": 12,
   "id": "52b7ffb9",
   "metadata": {
    "scrolled": true
   },
   "outputs": [],
   "source": [
    "results_rigetti = [qtask.get_results() for qtask in rigetti_task_scanners]"
   ]
  },
  {
   "cell_type": "code",
   "execution_count": 15,
   "id": "37d65a03",
   "metadata": {},
   "outputs": [
    {
     "data": {
      "text/plain": [
       "{'qubit_n': [2, 4, 6, 8, 10],\n",
       " 'all_zeros': array([0.414, 0.255, 0.162, 0.012, 0.003]),\n",
       " 'all_ones': array([0.436, 0.086, 0.025, 0.017, 0.   ]),\n",
       " 'other': array([0.15 , 0.659, 0.813, 0.971, 0.997])}"
      ]
     },
     "execution_count": 15,
     "metadata": {},
     "output_type": "execute_result"
    }
   ],
   "source": [
    "all_ones = np.zeros(len(n_qubits_list))\n",
    "all_zeros =np.zeros(len(n_qubits_list))\n",
    "other = np.zeros(len(n_qubits_list))\n",
    "\n",
    "for i,qubit_number in enumerate(n_qubits_list):\n",
    "    results = results_rigetti[i]\n",
    "    meas_probs =results.measurement_probabilities\n",
    "    all_ones[i] = meas_probs['1'*(qubit_number)] if '1'*(qubit_number) in meas_probs.keys() else 0\n",
    "    all_zeros[i] = meas_probs['0'*(qubit_number)]if '0'*(qubit_number) in meas_probs.keys() else 0\n",
    "    other[i] = 1 - all_ones[i] - all_zeros[i]\n",
    "\n",
    "measure_rigetti = {\n",
    "    'qubit_n' : n_qubits_list,\n",
    "    'all_zeros':all_zeros,\n",
    "    'all_ones':all_ones,\n",
    "    'other':other\n",
    "}\n",
    "measure_rigetti"
   ]
  },
  {
   "cell_type": "code",
   "execution_count": 16,
   "id": "e0eccbfa",
   "metadata": {
    "scrolled": false
   },
   "outputs": [
    {
     "data": {
      "text/plain": [
       "<matplotlib.legend.Legend at 0x7fc19a123650>"
      ]
     },
     "execution_count": 16,
     "metadata": {},
     "output_type": "execute_result"
    },
    {
     "data": {
      "image/png": "[encoded data removed]",
      "text/plain": [
       "<Figure size 800x400 with 1 Axes>"
      ]
     },
     "metadata": {},
     "output_type": "display_data"
    }
   ],
   "source": [
    "fig, ax = plt.subplots(1, 1, figsize=(8,4))\n",
    "\n",
    "\n",
    "bar_width = .2\n",
    "x = np.arange(len(n_qubits_list))\n",
    "\n",
    "ax.bar(x, measure_rigetti['all_ones'],\n",
    "            width=bar_width,\n",
    "           label = 'all_ones')\n",
    "\n",
    "ax.bar(x+bar_width, measure_rigetti['all_zeros'],\n",
    "            width=bar_width,\n",
    "           label = 'all_zeros')\n",
    "\n",
    "ax.bar(x+2*bar_width, measure_rigetti['other'],\n",
    "            width=bar_width,\n",
    "           label = '$P_{err}$')\n",
    "\n",
    "\n",
    "ax.set_xticks(x + bar_width )\n",
    "ax.set_xticklabels(measure_rigetti['qubit_n'])\n",
    "ax.set_title('GHZ benchmarking')\n",
    "ax.set_xlabel('GHZ dimension')\n",
    "ax.set_ylabel('probability')\n",
    "ax.legend()"
   ]
  },
  {
   "cell_type": "markdown",
   "id": "2d79ba26",
   "metadata": {},
   "source": [
    "# IonQ compensated\n",
    "Le simulazioni di Ionq sono anch'esse basate su GHZ ma aggiungendo randomicamente delle porte a singolo/due gates per mettere in luce che il suo vantaggio su Rigetti non dipende solamente da una minor overhead di compilazione"
   ]
  },
  {
   "cell_type": "code",
   "execution_count": 29,
   "id": "acba206a",
   "metadata": {},
   "outputs": [],
   "source": [
    "ion_q_compiler = IonQCompiler()"
   ]
  },
  {
   "cell_type": "code",
   "execution_count": 30,
   "id": "222c51a9",
   "metadata": {},
   "outputs": [],
   "source": [
    "compiled_circuits_ion_q = [ion_q_compiler.compile(GHZ(n_qubits)) for n_qubits in n_qubits_list]\n",
    "N_gates_ion_q = [len(ion_q_compiler.compile(GHZ(n_qubits)).instructions) for n_qubits in n_qubits_list]"
   ]
  },
  {
   "cell_type": "code",
   "execution_count": 31,
   "id": "1f16e664",
   "metadata": {},
   "outputs": [],
   "source": [
    "compiled_circuits_rigetti = [task.get_compiled_circuit() for task in rigetti_task_scanners]\n",
    "\n",
    "braket_circs_rigetti = [transpile_quil_to_braket(quil_circ)[0] for quil_circ in compiled_circuits_rigetti]\n",
    "braket_circs_ion_q = compiled_circuits_ion_q\n",
    "\n",
    "rigetti_gate_number_class = [Gate_number(circ) for circ in braket_circs_rigetti]\n",
    "ionq_gate_number_class = [Gate_number(circ) for circ in braket_circs_ion_q]"
   ]
  },
  {
   "cell_type": "code",
   "execution_count": 33,
   "id": "4a12f6e0",
   "metadata": {},
   "outputs": [],
   "source": [
    "def compensated_ghz_ion_q(n_qubits,rigetti_qubit_number_class):\n",
    "    ion_q_compiler = IonQCompiler()\n",
    "    GHZ_standard = GHZ (n_qubits)\n",
    "    GHZ_std_compiled = ion_q_compiler.compile(GHZ_standard)\n",
    "    rigetti_entangling_gates = rigetti_qubit_number_class.entangling_gates\n",
    "    rigetti_one_qubit_gates = rigetti_qubit_number_class.one_qubit\n",
    "    ion_q_entangling_gates = Gate_number(GHZ_std_compiled).entangling_gates\n",
    "    ion_q_one_qubit_gates = Gate_number(GHZ_std_compiled).one_qubit\n",
    "    \n",
    "    \n",
    "    GHZ_compensated = GHZ_std_compiled\n",
    "    n_entangled_to_compensate = int(np.ceil(.5*(rigetti_entangling_gates-ion_q_entangling_gates)))\n",
    "    n_single_to_compensate = int(np.ceil(.5*(rigetti_one_qubit_gates-ion_q_one_qubit_gates)))\n",
    "    \n",
    "    for _ in range(n_entangled_to_compensate):\n",
    "        theta1,theta2 = np.random.random(2)*2*np.pi\n",
    "        q1= np.random.randint(n_qubits)\n",
    "        q2 = q1\n",
    "        while q2==q1:\n",
    "            q2 = np.random.randint(n_qubits)\n",
    "        GHZ_compensated.ms(q1,q2,theta1,theta2).ms(q1,q2,theta1,theta2+np.pi)\n",
    "        \n",
    "    for _ in range (n_single_to_compensate):\n",
    "        coin = np.random.random()\n",
    "        theta = np.random.random()*2*np.pi\n",
    "        q = np.random.randint(n_qubits)\n",
    "        if coin >.5:     \n",
    "            GHZ_compensated.gpi(q,theta).gpi(q,theta)\n",
    "        else:\n",
    "            GHZ_compensated.gpi2(q,theta).gpi2(q,theta+np.pi)\n",
    "\n",
    "    return Circuit().add_verbatim_box(GHZ_compensated)\n",
    "        "
   ]
  },
  {
   "cell_type": "code",
   "execution_count": 129,
   "id": "9eb0425d",
   "metadata": {
    "scrolled": true
   },
   "outputs": [],
   "source": [
    "id_dict = {}\n",
    "ionq_tasks = []\n",
    "for i,n_qubits in enumerate(n_qubits_list):\n",
    "    id_dict[str(n_qubits)] = {}\n",
    "    \n",
    "    \n",
    "    circ = compensated_ghz_ion_q(n_qubits,rigetti_gate_number_class[i])\n",
    "    #print(circ)\n",
    "\n",
    "    ionq_task = ion_q.run(circ,shots=shots)\n",
    "    ionq_tasks.append(ionq_task)\n",
    "    id_dict[str(n_qubits)] = {'ionq' : {'id' : ionq_task.id,'BenchType':'GHZ','n_shots':shots,'n_qubits':n_qubits}}"
   ]
  },
  {
   "cell_type": "code",
   "execution_count": 130,
   "id": "a6684863",
   "metadata": {},
   "outputs": [],
   "source": [
    "with open('GHZ_ion_q.json','w') as f:\n",
    "    json.dump(id_dict,f,indent=3)"
   ]
  },
  {
   "cell_type": "code",
   "execution_count": 46,
   "id": "d71e6f74",
   "metadata": {},
   "outputs": [],
   "source": [
    "def load_ionq(filename):\n",
    "    with open(filename,'r') as f:\n",
    "        task_dict = json.load(f)\n",
    "        ionq_ids = []\n",
    "        for key in task_dict:\n",
    "            #print(task_dict[key])\n",
    "            task = task_dict[key]\n",
    "            ionq_ids.append(task['ionq']['id'])\n",
    "    return ionq_ids"
   ]
  },
  {
   "cell_type": "code",
   "execution_count": 52,
   "id": "9c4f7309",
   "metadata": {},
   "outputs": [],
   "source": [
    "ionq_ids=load_ionq('GHZ_ion_q.json')\n",
    "ion_q_task_scanners = [BraketTaskScanner(task_arn=arn) for arn in ionq_ids]"
   ]
  },
  {
   "cell_type": "code",
   "execution_count": 134,
   "id": "83695611",
   "metadata": {},
   "outputs": [],
   "source": [
    "ion_q_task_scanners = [BraketTaskScanner(qtask=task) for task in ionq_tasks]"
   ]
  },
  {
   "cell_type": "code",
   "execution_count": 53,
   "id": "066c996f",
   "metadata": {},
   "outputs": [
    {
     "name": "stdout",
     "output_type": "stream",
     "text": [
      "['COMPLETED', 'COMPLETED', 'COMPLETED', 'COMPLETED', 'COMPLETED']\n"
     ]
    }
   ],
   "source": [
    "status_ion_q = [task.get_status() for task in ion_q_task_scanners]\n",
    "print(status_ion_q)"
   ]
  },
  {
   "cell_type": "code",
   "execution_count": 54,
   "id": "0a03bd78",
   "metadata": {
    "scrolled": true
   },
   "outputs": [],
   "source": [
    "results_ion_q = [qtask.get_results() for qtask in ion_q_task_scanners]"
   ]
  },
  {
   "cell_type": "code",
   "execution_count": 55,
   "id": "6733e514",
   "metadata": {},
   "outputs": [
    {
     "data": {
      "text/plain": [
       "{'qubit_n': [2, 4, 6, 8, 10],\n",
       " 'all_zeros': array([0.47 , 0.439, 0.239, 0.174, 0.058]),\n",
       " 'all_ones': array([0.499, 0.413, 0.181, 0.165, 0.051]),\n",
       " 'other': array([0.031, 0.148, 0.58 , 0.661, 0.891])}"
      ]
     },
     "execution_count": 55,
     "metadata": {},
     "output_type": "execute_result"
    }
   ],
   "source": [
    "all_ones = np.zeros(len(n_qubits_list))\n",
    "all_zeros =np.zeros(len(n_qubits_list))\n",
    "other = np.zeros(len(n_qubits_list))\n",
    "\n",
    "for i,qubit_number in enumerate(n_qubits_list):\n",
    "    results = results_ion_q[i]\n",
    "    meas_probs =results.measurement_probabilities\n",
    "    all_ones[i] = meas_probs['1'*(qubit_number)] if '1'*(qubit_number) in meas_probs.keys() else 0\n",
    "    all_zeros[i] = meas_probs['0'*(qubit_number)]if '0'*(qubit_number) in meas_probs.keys() else 0\n",
    "    other[i] = 1 - all_ones[i] - all_zeros[i]\n",
    "    \n",
    "measure_ion_q = {\n",
    "    'qubit_n' : n_qubits_list,\n",
    "    'all_zeros':all_zeros,\n",
    "    'all_ones':all_ones,\n",
    "    'other':other\n",
    "}\n",
    "measure_ion_q"
   ]
  },
  {
   "cell_type": "code",
   "execution_count": 56,
   "id": "dc9d695a",
   "metadata": {
    "scrolled": false
   },
   "outputs": [
    {
     "data": {
      "text/plain": [
       "<matplotlib.legend.Legend at 0x7fc18d59bf90>"
      ]
     },
     "execution_count": 56,
     "metadata": {},
     "output_type": "execute_result"
    },
    {
     "data": {
      "image/png": "[encoded data removed]",
      "text/plain": [
       "<Figure size 800x400 with 1 Axes>"
      ]
     },
     "metadata": {},
     "output_type": "display_data"
    }
   ],
   "source": [
    "fig, ax = plt.subplots(1, 1, figsize=(8,4))\n",
    "\n",
    "\n",
    "bar_width = .2\n",
    "x = np.arange(len(n_qubits_list))\n",
    "\n",
    "ax.bar(x, measure_ion_q['all_ones'],\n",
    "            width=bar_width,\n",
    "           label = 'all_ones')\n",
    "\n",
    "ax.bar(x+bar_width, measure_ion_q['all_zeros'],\n",
    "            width=bar_width,\n",
    "           label = 'all_zeros')\n",
    "\n",
    "ax.bar(x+2*bar_width, measure_ion_q['other'],\n",
    "            width=bar_width,\n",
    "           label = '$P_{err}$')\n",
    "\n",
    "\n",
    "ax.set_xticks(x + bar_width )\n",
    "ax.set_xticklabels(measure_ion_q['qubit_n'])\n",
    "ax.set_title('GHZ benchmarking')\n",
    "ax.set_xlabel('GHZ dimension')\n",
    "ax.set_ylabel('probability')\n",
    "ax.legend()"
   ]
  },
  {
   "cell_type": "markdown",
   "id": "9a0117e0",
   "metadata": {},
   "source": [
    "# Confronto con le simulazioni"
   ]
  },
  {
   "cell_type": "code",
   "execution_count": 57,
   "id": "32a41a63",
   "metadata": {},
   "outputs": [],
   "source": [
    "local_simulator = DeviceUtils.get_device('dm1')"
   ]
  },
  {
   "cell_type": "code",
   "execution_count": 58,
   "id": "aa57e567",
   "metadata": {},
   "outputs": [],
   "source": [
    "circuits =[Quil_to_Braket_Transpiler(scanner.get_compiled_circuit(),quil_rewiring=True).braket_circ for scanner in rigetti_task_scanners]\n",
    "simulation_tasks = []\n",
    "labels = []\n",
    "qubit_mappings_sim = []\n",
    "for i,n_qubits in enumerate(n_qubits_list):\n",
    "    \n",
    "    circ = circuits[i]\n",
    "    noisy_circ,qubit_mapping = simulate_noise_aspen_m_2(circ)\n",
    "    \n",
    "    simulation_task = local_simulator.run(noisy_circ,shots=shots)\n",
    "    \n",
    "    simulation_tasks.append(simulation_task)\n",
    "    qubit_mappings_sim.append(qubit_mapping)\n",
    "    labels.append( \"ls_rigetti_ghz_s1000_#q_\" + str(n_qubits))"
   ]
  },
  {
   "cell_type": "code",
   "execution_count": 22,
   "id": "f3ef253b",
   "metadata": {},
   "outputs": [],
   "source": [
    "dump_tasks(simulation_tasks, labels, filename = \"GHZ_l_s_.json\")"
   ]
  },
  {
   "cell_type": "code",
   "execution_count": 59,
   "id": "6f3915a6",
   "metadata": {},
   "outputs": [
    {
     "name": "stdout",
     "output_type": "stream",
     "text": [
      "['COMPLETED', 'COMPLETED', 'COMPLETED', 'COMPLETED', 'COMPLETED']\n"
     ]
    }
   ],
   "source": [
    "ls_tasks = load_tasks(\"GHZ_l_s_.json\")\n",
    "ls_scanners = [BraketTaskScanner(qtask = task) for key, task in ls_tasks.items()]\n",
    "\n",
    "status = [task.get_status() for task in ls_scanners]\n",
    "print(status)"
   ]
  },
  {
   "cell_type": "code",
   "execution_count": 62,
   "id": "063591b1",
   "metadata": {},
   "outputs": [
    {
     "data": {
      "text/plain": [
       "{'qubit_n': [2, 4, 6, 8, 10],\n",
       " 'all_zeros': array([0.51 , 0.467, 0.419, 0.389, 0.126]),\n",
       " 'all_ones': array([0.477, 0.455, 0.382, 0.323, 0.146]),\n",
       " 'other': array([0.013, 0.078, 0.199, 0.288, 0.728])}"
      ]
     },
     "execution_count": 62,
     "metadata": {},
     "output_type": "execute_result"
    }
   ],
   "source": [
    "all_ones = np.zeros(len(n_qubits_list))\n",
    "all_zeros =np.zeros(len(n_qubits_list))\n",
    "other = np.zeros(len(n_qubits_list))\n",
    "\n",
    "ls_results = [scanner.get_results() for scanner in ls_scanners]\n",
    "\n",
    "\n",
    "for i,qubit_number in enumerate(n_qubits_list):\n",
    "    results = ls_results[i]\n",
    "    meas_probs =results.measurement_probabilities\n",
    "    all_ones[i] = meas_probs['1'*(qubit_number)] if '1'*(qubit_number) in meas_probs.keys() else 0\n",
    "    all_zeros[i] = meas_probs['0'*(qubit_number)]if '0'*(qubit_number) in meas_probs.keys() else 0\n",
    "    other[i] = 1 - all_ones[i] - all_zeros[i]\n",
    "    \n",
    "measure_ls = {\n",
    "    'qubit_n' : n_qubits_list,\n",
    "    'all_zeros':all_zeros,\n",
    "    'all_ones':all_ones,\n",
    "    'other':other\n",
    "}\n",
    "measure_ls"
   ]
  },
  {
   "cell_type": "code",
   "execution_count": 63,
   "id": "98d8f718",
   "metadata": {
    "scrolled": false
   },
   "outputs": [
    {
     "data": {
      "text/plain": [
       "<matplotlib.legend.Legend at 0x7fc18c0bfbd0>"
      ]
     },
     "execution_count": 63,
     "metadata": {},
     "output_type": "execute_result"
    },
    {
     "data": {
      "image/png": "[encoded data removed]",
      "text/plain": [
       "<Figure size 800x400 with 1 Axes>"
      ]
     },
     "metadata": {},
     "output_type": "display_data"
    }
   ],
   "source": [
    "fig, ax = plt.subplots(1, 1, figsize=(8,4))\n",
    "\n",
    "bar_width = .2\n",
    "x = np.arange(len(n_qubits_list))\n",
    "\n",
    "ax.bar(x, measure_ls['all_ones'],\n",
    "            width=bar_width,\n",
    "           label = 'all_ones')\n",
    "\n",
    "ax.bar(x+bar_width, measure_ls['all_zeros'],\n",
    "            width=bar_width,\n",
    "           label = 'all_zeros')\n",
    "\n",
    "ax.bar(x+2*bar_width, measure_ls['other'],\n",
    "            width=bar_width,\n",
    "           label = '$P_{err}$')\n",
    "\n",
    "\n",
    "ax.set_xticks(x + bar_width )\n",
    "ax.set_xticklabels(measure_rigetti['qubit_n'])\n",
    "ax.set_title('GHZ benchmarking')\n",
    "ax.set_xlabel('GHZ dimension')\n",
    "ax.set_ylabel('probability')\n",
    "ax.legend()"
   ]
  },
  {
   "cell_type": "markdown",
   "id": "8ffab0e2",
   "metadata": {},
   "source": [
    "# Confronto con LS"
   ]
  },
  {
   "cell_type": "code",
   "execution_count": 3,
   "id": "7f96cede",
   "metadata": {},
   "outputs": [],
   "source": [
    "rigetti_tasks = load_tasks(\"H_line_rigetti_grosso\")\n",
    "rigetti_scanners = [BraketTaskScanner(qtask = task) for key, task in rigetti_tasks.items()]\n",
    "ls_tasks = load_tasks(\"H_line_l_s_grosso.json\")\n",
    "ls_scanners = [BraketTaskScanner(qtask = task) for key, task in ls_tasks.items()]\n"
   ]
  },
  {
   "cell_type": "code",
   "execution_count": 64,
   "id": "ecfb48db",
   "metadata": {},
   "outputs": [
    {
     "data": {
      "text/plain": [
       "<matplotlib.legend.Legend at 0x7fc18bf17e90>"
      ]
     },
     "execution_count": 64,
     "metadata": {},
     "output_type": "execute_result"
    },
    {
     "data": {
      "image/png": "[encoded data removed]",
      "text/plain": [
       "<Figure size 800x400 with 1 Axes>"
      ]
     },
     "metadata": {},
     "output_type": "display_data"
    }
   ],
   "source": [
    "fig, ax = plt.subplots(1, 1, figsize=(8,4))\n",
    "\n",
    "\n",
    "bar_width = .2\n",
    "x = np.arange(len(n_qubits_list))\n",
    "\n",
    "ax.bar(x, measure_rigetti['all_ones'],\n",
    "            width=bar_width,\n",
    "           label = 'all_ones')\n",
    "\n",
    "ax.bar(x+bar_width, measure_rigetti['all_zeros'],\n",
    "            width=bar_width,\n",
    "           label = 'all_zeros')\n",
    "\n",
    "ax.bar(x+2*bar_width, measure_rigetti['other'],\n",
    "            width=bar_width,\n",
    "           label = '$P_{err}$')\n",
    "\n",
    "\n",
    "ax.set_xticks(x + bar_width )\n",
    "ax.set_xticklabels(measure_rigetti['qubit_n'])\n",
    "ax.set_title('GHZ benchmarking')\n",
    "ax.set_xlabel('GHZ dimension')\n",
    "ax.set_ylabel('probability')\n",
    "ax.legend()"
   ]
  },
  {
   "cell_type": "markdown",
   "id": "e0842cae",
   "metadata": {},
   "source": [
    "### testing that all Ionq physical gates Adjoint matrix"
   ]
  },
  {
   "cell_type": "markdown",
   "id": "ff2e7b6f",
   "metadata": {},
   "source": [
    "1. Gpi(theta)"
   ]
  },
  {
   "cell_type": "code",
   "execution_count": 24,
   "id": "dbe1b41d",
   "metadata": {
    "scrolled": true
   },
   "outputs": [
    {
     "data": {
      "text/plain": [
       "array([[1.+0.j, 0.+0.j],\n",
       "       [0.+0.j, 1.+0.j]])"
      ]
     },
     "execution_count": 24,
     "metadata": {},
     "output_type": "execute_result"
    }
   ],
   "source": [
    "theta = np.random.random()*2*np.pi\n",
    "Circuit().gpi(0,theta).gpi(0,theta).as_unitary()"
   ]
  },
  {
   "cell_type": "markdown",
   "id": "caae3214",
   "metadata": {},
   "source": [
    "2. Gpi2(theta)"
   ]
  },
  {
   "cell_type": "code",
   "execution_count": 62,
   "id": "31ffdc27",
   "metadata": {
    "scrolled": true
   },
   "outputs": [
    {
     "data": {
      "text/plain": [
       "array([[ 1.00000000e+00+3.33066907e-16j,  2.22044605e-16-2.22044605e-16j],\n",
       "       [-2.22044605e-16-2.22044605e-16j,  1.00000000e+00-3.33066907e-16j]])"
      ]
     },
     "execution_count": 62,
     "metadata": {},
     "output_type": "execute_result"
    }
   ],
   "source": [
    "theta = np.random.random()*2*np.pi\n",
    "Circuit().gpi2(0,theta).gpi2(0,np.pi+theta).as_unitary()"
   ]
  },
  {
   "cell_type": "markdown",
   "id": "17c03bd1",
   "metadata": {},
   "source": [
    "3. Ms(t1,t2)"
   ]
  },
  {
   "cell_type": "code",
   "execution_count": 68,
   "id": "622d3656",
   "metadata": {
    "scrolled": true
   },
   "outputs": [
    {
     "data": {
      "text/plain": [
       "array([[ 1.+0.j,  0.+0.j,  0.+0.j,  0.+0.j],\n",
       "       [ 0.+0.j,  1.+0.j,  0.+0.j,  0.+0.j],\n",
       "       [ 0.+0.j,  0.+0.j,  1.-0.j,  0.+0.j],\n",
       "       [-0.+0.j,  0.+0.j,  0.+0.j,  1.-0.j]])"
      ]
     },
     "execution_count": 68,
     "metadata": {},
     "output_type": "execute_result"
    }
   ],
   "source": [
    "theta1,theta2 = np.random.random(2)*2*np.pi\n",
    "Circuit().ms(0,1,theta1,theta2).ms(0,1,theta1,theta2+np.pi).as_unitary().round(3)"
   ]
  },
  {
   "cell_type": "code",
   "execution_count": 67,
   "id": "94149582",
   "metadata": {
    "scrolled": true
   },
   "outputs": [
    {
     "data": {
      "text/plain": [
       "matrix([[ 0.707-0.j   ,  0.   -0.j   ,  0.   -0.j   , -0.652+0.273j],\n",
       "        [ 0.   -0.j   ,  0.707-0.j   ,  0.681-0.19j ,  0.   -0.j   ],\n",
       "        [ 0.   -0.j   , -0.681-0.19j ,  0.707-0.j   ,  0.   -0.j   ],\n",
       "        [ 0.652+0.273j,  0.   -0.j   ,  0.   -0.j   ,  0.707-0.j   ]])"
      ]
     },
     "execution_count": 67,
     "metadata": {},
     "output_type": "execute_result"
    }
   ],
   "source": [
    "np.matrix(Circuit().ms(0,1,theta1,theta2).as_unitary()).H.round(3)"
   ]
  },
  {
   "cell_type": "markdown",
   "id": "141b4e6a",
   "metadata": {},
   "source": []
  }
 ],
 "metadata": {
  "kernelspec": {
   "display_name": "Qbench_kernel",
   "language": "python",
   "name": "qbench_kernel"
  },
  "language_info": {
   "codemirror_mode": {
    "name": "ipython",
    "version": 3
   },
   "file_extension": ".py",
   "mimetype": "text/x-python",
   "name": "python",
   "nbconvert_exporter": "python",
   "pygments_lexer": "ipython3",
   "version": "3.7.12"
  }
 },
 "nbformat": 4,
 "nbformat_minor": 5
}
